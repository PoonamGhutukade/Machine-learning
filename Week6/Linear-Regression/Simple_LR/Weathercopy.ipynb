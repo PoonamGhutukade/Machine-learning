{
 "cells": [
  {
   "cell_type": "code",
   "execution_count": 1,
   "metadata": {},
   "outputs": [],
   "source": [
    "import os\n",
    "import pandas as pd\n",
    "import numpy as np\n",
    "import seaborn as sb\n",
    "from matplotlib import pyplot as plt\n",
    "import pandas.api.types as ptypes\n",
    "    \n",
    "#Scikit-learn for one hot encoding\n",
    "# from sklearn.preprocessing import LabelEncoder\n",
    "\n",
    "class DataPreprocessing:\n",
    "    \n",
    "    #class constructor\n",
    "    def __init__(self):\n",
    "        # learning_rate is a alpha\n",
    "        self.learning_rate = 0.001\n",
    "        self.epoch = 10000\n",
    "        self.theta_0 = 0\n",
    "        self.theta_1 = 1\n",
    "        \n",
    "    # Display datafile\n",
    "    def display_data(self):\n",
    "        self.file = input(\"Enter the file name:\")\n",
    "\n",
    "        file_exist = os.path.exists(self.file)\n",
    "        # Exception Handling for file\n",
    "        try:\n",
    "            f = open(self.file, 'rb')\n",
    "            # read csv file\n",
    "            self.df = pd.read_csv(self.file)\n",
    "#             print(\"\\n\",self.df)\n",
    "            # Head and tail functions show fist and last 5 rows of dataset \n",
    "            print(\"\\nHead \\n:\", self.df.head())\n",
    "            print(\"\\nTail \\n\", self.df.tail())\n",
    "            print(\"\\nType of DF: \",type(self.df))\n",
    "            # descibe dataframe\n",
    "            print(\"\\nDescribe Data: \\n\",self.df.describe())\n",
    "            print(\"\\nColumns are: \\n\",self.df.columns)\n",
    "            print(\"\\n Shape of dataset(rows and columns): \\n\", self.df.shape)\n",
    "            \n",
    "        except FileNotFoundError as ex:\n",
    "            print(\"\\nInvalid file Name\",ex)\n",
    "        \n",
    "    \"\"\"Handling Missing Data\"\"\"\n",
    "    def missing_data(self):\n",
    "        # drop unrequired ddata columns\n",
    "        #self.df = self.df.drop()\n",
    "        print(\"\\nDrop unwanted columns\")\n",
    "        self.df  = self.df.loc[:,['Apparent Temperature (C)', 'Humidity']]\n",
    "        print(\"\\n\",self.df.head())\n",
    "        print(\"\\nData type of each column:\\n\",self.df.dtypes)\n",
    "        \n",
    "        #check null values in each column\n",
    "        check = self.df.isnull().sum()\n",
    "        print(\"\\nNull values in dataset:\\n\",check)\n",
    "#         if self.df.empty == True:\n",
    "#             print(\"Not a null value\")\n",
    "#         else:\n",
    "#             # replace null values with mean\n",
    "#             self.df.replace(np.NaN, self.df.mean(), inplace = True)\n",
    "#             print(\"\\n\",self.df.head())\n",
    "            \n",
    "        # rename columns \n",
    "        \n",
    "        self.df.rename(columns={'Apparent Temperature (C)':'App_temp','Humidity':'Humi'}, inplace=True)\n",
    "        print(\"\\nRename Columns:\\n\",self.df.head())\n",
    "        \n",
    "#     \"\"\"Handling categorical data\"\"\"\n",
    "#     def categorical_data(self):\n",
    "#         #For Purchased column\n",
    "#         self.df['Purchased_Dummy'] = self.df.Purchased.map({'Yes': 1 , 'No': 0})\n",
    "        \n",
    "#         # For Country Column\n",
    "#           #create a set of dummy veriable       \n",
    "#         dummy = pd.get_dummies(self.df['Country'])\n",
    "# #         print(\"Categorical Data\")\n",
    "#         print(dummy.head())\n",
    "#         # join dummy veriable to Df\n",
    "#         df_new = pd.concat([self.df,dummy], axis = 1)\n",
    "#         # mergw new DF to original one, must pass both left and right index as True\n",
    "#         self.df= self.df.merge(dummy, left_index = True ,right_index= True)        \n",
    "   \n",
    "#         print(\"New Dataset\")\n",
    "#         print(self.df)\n",
    "#         print(\"size of DF\",len(self.df))\n",
    "        \n",
    "        \n",
    "    # check outlieers for columns\n",
    "    def check_outliers(self):\n",
    "#         self.df.boxplot()\n",
    "#         show()     \n",
    "        sb.boxplot(self.df['App_temp'])\n",
    "        plt.title(\"Temprature outliers\")\n",
    "        plt.show()\n",
    "        \n",
    "        sb.boxplot(self.df['Humi'])\n",
    "        plt.title(\"Humidity outliers \")\n",
    "        plt.show()\n",
    "        \n",
    "    # remove outliers\n",
    "    def remove_outlier(self):\n",
    "        low = .05\n",
    "        high = .95\n",
    "        quant_df = self.df.quantile([low, high])\n",
    "        for name in list(self.df.columns):\n",
    "            if ptypes.is_numeric_dtype(self.df[name]):\n",
    "                self.df = self.df[(self.df[name] > quant_df.loc[low, name]) & (self.df[name] < quant_df.loc[high, name])]\n",
    "        sb.boxplot(self.df)  \n",
    "\n",
    "        \n",
    "    def check_skew(self):\n",
    "        \"\"\"If skewness value lies above +1 or below -1, data is highly skewed. \n",
    "        If it lies between +0.5 to -0.5, it is moderately skewed. \n",
    "        If the value is 0, then the data is symmetric\"\"\"\n",
    "        \n",
    "        print(\"\\n Mean: \\n\",self.df.mean(), \"\\n\\nSkew : \\n\",self.df.skew(), \"\\n\\nMedian: \\n\", self.df.median())\n",
    "        sb.distplot(self.df['App_temp'])\n",
    "        plt.show()\n",
    "        \n",
    "        sb.distplot(self.df['Humi'])\n",
    "        plt.show()\n",
    "        mean_col1 = self.df['App_temp'].mean()\n",
    "        medi_col1 = self.df['App_temp'].median()\n",
    "        \n",
    "        mean_col2 = self.df['Humi'].mean()\n",
    "        modi_col2 = self.df['Humi'].median()\n",
    "        \n",
    "        print(\"\\nFor Apparent Temperature (C):\")\n",
    "        if mean_col1 <= medi_col1:\n",
    "            print(\"Left skew\")\n",
    "        elif mean_col1 >= medi_col1: \n",
    "            print(\"Right skew\")\n",
    "        else:\n",
    "            print(\"data is symmetric\")\n",
    "            \n",
    "        print(\"\\nFor Humidity :\")\n",
    "        if mean_col2 <= modi_col2:\n",
    "            print(\"Left skew\")\n",
    "        elif mean_col2 >= modi_col2: \n",
    "            print(\"Right skew\")\n",
    "        else:\n",
    "            print(\"data is symmetric\")\n",
    "            \n",
    "    def remove_skew_sqrt(self):\n",
    "#         print(\"\\nSkewness for Humidity\")\n",
    "#         self.df['Humi'] = (np.square((self.df['Humi'])))\n",
    "#         print('Skewness is :', self.df['Humi'].skew())\n",
    "#         sb.distplot(self.df['Humi'])\n",
    "#         plt.show()\n",
    "#         print(\"Mean: \",self.df['Humi'].mean(),\"Median: \", self.df['Humi'].median())\n",
    "# #         self.df['Humi'] = target\n",
    "#         print(\"Draw histogram\")\n",
    "#         plt.hist(self.df['Humi'])\n",
    "#         plt.show()\n",
    "#         \"\"\"Mean:  0.588020584095261 Median:  0.6241000000000001  Skewness is : -0.3344763228424865\"\"\"\n",
    "        \n",
    "        print(\"\\nSkewness for Temperature\")\n",
    "        self.df['App_temp'] = (np.square((self.df['App_temp'])))\n",
    "        print('Skewness is :', self.df['App_temp'].skew())\n",
    "        sb.distplot(self.df['App_temp'])\n",
    "        plt.show()\n",
    "        print(\"Mean: \",self.df['App_temp'].mean(),\"Median: \", self.df['App_temp'].median())\n",
    "#         self.df['Humi'] = target\n",
    "        print(\"Draw histogram\")\n",
    "        plt.hist(self.df['App_temp'])\n",
    "        plt.show()\n",
    "    \n",
    "    def remove_skew_cbrt(self):\n",
    "        print(\"\\nSkewness for Humidity\")\n",
    "        self.df['Humi'] = (np.cbrt((self.df['Humi'])))\n",
    "        print('Skewness is :', self.df['Humi'].skew())\n",
    "        sb.distplot(self.df['Humi'])\n",
    "        plt.show()\n",
    "        print(\"Mean: \",self.df['Humi'].mean(),\"Median: \", self.df['Humi'].median())\n",
    "#         self.df['Humi'] = target\n",
    "        print(\"Draw histogram\")\n",
    "        plt.hist(self.df['Humi'])\n",
    "        plt.show()\n",
    "        #Mean:  0.588020584095261 Median:  0.6241000000000001  Skewness is : -0.3344763228424865\n",
    "        \n",
    "        print(\"Skewness for Temperature\")\n",
    "        self.df['App_temp'] = (np.cbrt((self.df['App_temp'])))\n",
    "        print('Skewness is :', self.df['App_temp'].skew())\n",
    "        sb.distplot(self.df['App_temp'])\n",
    "        plt.show()\n",
    "        print(\"Mean: \",self.df['App_temp'].mean(),\"Median: \", self.df['App_temp'].median())\n",
    "#         self.df['Humi'] = target\n",
    "        print(\"Draw histogram\")\n",
    "        plt.hist(self.df['App_temp'])\n",
    "        plt.show()\n",
    "\n",
    "    \"\"\"  \n",
    "    def remove_skew_log(self):\n",
    "        print(\"\\nSkewness for Humidity\")\n",
    "        self.df['Humi'] = (np.log((self.df['Humi'])))\n",
    "        print('Skewness is :', self.df['Humi'].skew())\n",
    "        sb.distplot(self.df['Humi'])\n",
    "        plt.show()\n",
    "        print(\"Mean: \",self.df['Humi'].mean(),\"Median: \", self.df['Humi'].median())\n",
    "#         self.df['Humi'] = target\n",
    "        print(\"Draw histogram\")\n",
    "        plt.hist(self.df['Humi'])\n",
    "        plt.show()\n",
    "        #Mean:  0.588020584095261 Median:  0.6241000000000001  Skewness is : -0.3344763228424865\n",
    "        \n",
    "        \"\"\" \n",
    "        \n",
    "#         print(\"Skewness for Temperature\")\n",
    "#         self.df['App_temp'] = (np.log((self.df['App_temp'])))\n",
    "#         print('Skewness is :', self.df['App_temp'].skew())\n",
    "#         sb.distplot(self.df['App_temp'])\n",
    "#         plt.show()\n",
    "#         print(\"Mean: \",self.df['App_temp'].mean(),\"Median: \", self.df['App_temp'].median())\n",
    "# #         self.df['Humi'] = target\n",
    "#         print(\"Draw histogram\")\n",
    "#         plt.hist(self.df['App_temp'])\n",
    "#         plt.show()\n",
    "    \"\"\"Remove the skewness\n",
    "\t1.  Square root method\n",
    "\t2. Cube root method\n",
    "\t3. Log method\n",
    "\t4. Inverse method\n",
    "\t5. The root of square method\n",
    "    \"\"\"\n",
    "    \n",
    "    def feature_scaling(self):       \n",
    "        print(\"\\n By Z score Method(Standerdization)  \")\n",
    "        \n",
    "        self.df = np.divide((self.df - self.df.mean()), self.df.std())\n",
    "#         self.df['App_temp'] = np.divide((self.df['App_temp'] - self.df['App_temp'].mean()), self.df['App_temp'].std())\n",
    "#         self.df['Humi'] =  np.divide((self.df['Humi'] - self.df['Humi'].mean()),self.df['Humi'].std())\n",
    "        print(self.df.head())\n",
    "    \n",
    "    def split(self):\n",
    "        train_per = int(0.70*len(self.df))\n",
    "        test_per = len(self.df)-train_per\n",
    "#         X_train_set = self.df.head(train_per)\n",
    "#         Y_train_set = self.df.tail(test_per)\n",
    "       \n",
    "        # display data\n",
    "        print(\"\\nTraining set\")\n",
    "        print(train_per)\n",
    "        print(\"\\nTest data set\")\n",
    "        print(test_per)\n",
    "       \n",
    "        print(\"Convert pandas dataframe into numpy\")\n",
    "       \n",
    "        x_train_data = np.array(self.df.App_temp[:train_per])   \n",
    "        y_train_data = np.array(self.df.Humi[:train_per])\n",
    "\n",
    "        x_test_data = np.array(self.df.App_temp[:test_per])\n",
    "        y_test_data = np.array(self.df.Humi[:test_per])\n",
    "       \n",
    "        x_tr = x_train_data\n",
    "        y_tr = y_train_data\n",
    "      \n",
    "        return x_train_data,y_train_data,x_test_data,y_test_data,x_tr,y_tr  \n",
    "    \n",
    "    def gradient_descent(self,x_train_data, y_train_data):\n",
    "#         cost = 0\n",
    "            \n",
    "        fig = plt.figure()\n",
    "        fig, (ax1, ax2, ax3,ax4) = plt.subplots(nrows=4, ncols=1, figsize=(5, 20))\n",
    "    \n",
    "        size = len(x_train_data)\n",
    "        vector = np.ones(size)\n",
    "#         hypo_1 = 0.0\n",
    "#         hypo_2 = 0.0\n",
    "#         cost_temp = 0.0\n",
    "        for iteration in range(self.epoch):\n",
    "            hypo_1 = 0.0\n",
    "            hypo_2 = 0.0\n",
    "            cost = 0\n",
    "            cost_temp = 0.0\n",
    "            for row in range(size):\n",
    "                hypo = ((self.theta_0 * vector[row])  + (self.theta_1 * x_train_data[row]))\n",
    "                hypo_1 += hypo - y_train_data[row]\n",
    "                hypo_2 += (hypo - y_train_data[row]) * x_train_data[row]\n",
    "                cost += hypo - y_train_data[row]\n",
    "\n",
    "            cost_temp +=(hypo - y_train_data[row]) ** 2 \n",
    "            cost = (1/2 * size)* cost_temp\n",
    "            self.theta_0 = self.theta_0 -((self.learning_rate/ size) * hypo_1)\n",
    "            self.theta_1 = self.theta_1 -((self.learning_rate/ size)* hypo_2)\n",
    "        \n",
    "#         for counter in range(0, self.epoch):\n",
    "            if(iteration%100 == 0):\n",
    "                # plt.plot(counter,loss_error_sum, marker='x', color='r')\n",
    "                ax1.plot(iteration,self.theta_0,marker='o',color='r')\n",
    "                ax1.set_title('iteration vs theta 0')\n",
    "                ax2.plot(iteration,self.theta_1,marker='8',color='g')\n",
    "                ax2.set_title('iteration vs theta 1')\n",
    "                ax3.plot(iteration,cost,marker='*',color='b')\n",
    "                ax3.set_title('iteration vs cost')\n",
    "                ax4.plot(self.theta_0,self.theta_1,marker = 'x', color='black')\n",
    "                ax4.set_title('theta_0 vs theta_1')\n",
    "            if(cost<=0.00009): \n",
    "                break\n",
    "\n",
    "        plt.subplots_adjust(hspace=1)\n",
    "        plt.show()\n",
    "        print(\"iteration = {} and cost function = {}\".format(iteration, cost))\n",
    "            \n",
    "        return [self.theta_0,self.theta_1], cost\n",
    "        \n",
    "    # y_prediction for test dataset\n",
    "    def predict (self, x_test_data,theta_00):\n",
    "        \n",
    "        n = len(x_test_data)\n",
    "        y_predict = [None]*n\n",
    "        vector = np.ones(n)\n",
    "        for row in range (n):\n",
    "            y_predict[row] = theta_00[0] * vector[row]  + theta_00[1] * x_test_data[row] \n",
    "        # y prediction for test\n",
    "        return y_predict\n",
    "    \n",
    "    # y_prediction for test dataset\n",
    "    def predict_new(self, x_train_data,theta_00):\n",
    "        \n",
    "        n = len(x_train_data)\n",
    "        y_predict_train = [None]*n\n",
    "        vector = np.ones(n)\n",
    "        for row in range (n):\n",
    "            y_predict_train[row] = theta_00[0] * vector[row]  + theta_00[1] * x_train_data[row] \n",
    "            #for train\n",
    "        return y_predict_train\n",
    "   \n",
    "     \n",
    "    def accuracy(self, y_test_data, y_predict):\n",
    "         \n",
    "        print(\"y\", y_test_data.shape)\n",
    "        total_error = 0\n",
    "        for i in range(0, len(y_test_data)):\n",
    "            total_error += abs((y_predict[i] - y_test_data[i]) / y_test_data[i])\n",
    "        total_error = (total_error / len(y_test_data))\n",
    "        accuracy = 1 - total_error\n",
    "        return accuracy * 100\n",
    "\n",
    "    # scatter plot on x_test y_test data vs x_test y_pre      \n",
    "    def graph(self, x_train_data, y_train_data, y_predict): \n",
    "        print(len(x_train_data))\n",
    "        print(len(y_train_data))\n",
    "        print(len(y_predict))\n",
    "        \n",
    "        plt.scatter(x_train_data, y_train_data , color = 'b', label = \"train data set\")\n",
    "        plt.plot(x_train_data, y_predict, color = 'r', label = \"predicted value\")\n",
    "        plt.title(\"Train data\")\n",
    "#         plt.subplot(2,2,1)\n",
    "        \n",
    "        plt.legend()\n",
    "        plt.show()\n",
    "        \n",
    "    # scatter plot on x_test_data, y_test_data data vs x_test y_pre   \n",
    "    def plotgraph(self, x_test_data, y_test_data, y_predict):\n",
    "        print(len(x_test_data))\n",
    "        print(len(y_test_data))\n",
    "        print(len(y_predict))\n",
    "        \n",
    "        plt.scatter(x_test_data, y_test_data , color = 'g', label = \"test data\")\n",
    "        plt.plot(x_test_data, y_predict,color = 'r', label = \"predicted value\")\n",
    "\n",
    "        plt.title(\"Test data\")\n",
    "#         plt.subplot(2,2,1)\n",
    "        plt.legend()\n",
    "        plt.show()\n",
    "\n",
    "    \n",
    "# class Object created to call its method\n",
    "obj = DataPreprocessing()\n",
    "\n"
   ]
  },
  {
   "cell_type": "code",
   "execution_count": 2,
   "metadata": {},
   "outputs": [
    {
     "name": "stdout",
     "output_type": "stream",
     "text": [
      "Enter the file name:weatherHistory.csv\n",
      "\n",
      "Head \n",
      ":                   Formatted Date        Summary Precip Type  Temperature (C)  \\\n",
      "0  2006-04-01 00:00:00.000 +0200  Partly Cloudy        rain         9.472222   \n",
      "1  2006-04-01 01:00:00.000 +0200  Partly Cloudy        rain         9.355556   \n",
      "2  2006-04-01 02:00:00.000 +0200  Mostly Cloudy        rain         9.377778   \n",
      "3  2006-04-01 03:00:00.000 +0200  Partly Cloudy        rain         8.288889   \n",
      "4  2006-04-01 04:00:00.000 +0200  Mostly Cloudy        rain         8.755556   \n",
      "\n",
      "   Apparent Temperature (C)  Humidity  Wind Speed (km/h)  \\\n",
      "0                  7.388889      0.89            14.1197   \n",
      "1                  7.227778      0.86            14.2646   \n",
      "2                  9.377778      0.89             3.9284   \n",
      "3                  5.944444      0.83            14.1036   \n",
      "4                  6.977778      0.83            11.0446   \n",
      "\n",
      "   Wind Bearing (degrees)  Visibility (km)  Loud Cover  Pressure (millibars)  \\\n",
      "0                   251.0          15.8263         0.0               1015.13   \n",
      "1                   259.0          15.8263         0.0               1015.63   \n",
      "2                   204.0          14.9569         0.0               1015.94   \n",
      "3                   269.0          15.8263         0.0               1016.41   \n",
      "4                   259.0          15.8263         0.0               1016.51   \n",
      "\n",
      "                       Daily Summary  \n",
      "0  Partly cloudy throughout the day.  \n",
      "1  Partly cloudy throughout the day.  \n",
      "2  Partly cloudy throughout the day.  \n",
      "3  Partly cloudy throughout the day.  \n",
      "4  Partly cloudy throughout the day.  \n",
      "\n",
      "Tail \n",
      "                       Formatted Date        Summary Precip Type  \\\n",
      "96448  2016-09-09 19:00:00.000 +0200  Partly Cloudy        rain   \n",
      "96449  2016-09-09 20:00:00.000 +0200  Partly Cloudy        rain   \n",
      "96450  2016-09-09 21:00:00.000 +0200  Partly Cloudy        rain   \n",
      "96451  2016-09-09 22:00:00.000 +0200  Partly Cloudy        rain   \n",
      "96452  2016-09-09 23:00:00.000 +0200  Partly Cloudy        rain   \n",
      "\n",
      "       Temperature (C)  Apparent Temperature (C)  Humidity  Wind Speed (km/h)  \\\n",
      "96448        26.016667                 26.016667      0.43            10.9963   \n",
      "96449        24.583333                 24.583333      0.48            10.0947   \n",
      "96450        22.038889                 22.038889      0.56             8.9838   \n",
      "96451        21.522222                 21.522222      0.60            10.5294   \n",
      "96452        20.438889                 20.438889      0.61             5.8765   \n",
      "\n",
      "       Wind Bearing (degrees)  Visibility (km)  Loud Cover  \\\n",
      "96448                    31.0          16.1000         0.0   \n",
      "96449                    20.0          15.5526         0.0   \n",
      "96450                    30.0          16.1000         0.0   \n",
      "96451                    20.0          16.1000         0.0   \n",
      "96452                    39.0          15.5204         0.0   \n",
      "\n",
      "       Pressure (millibars)                           Daily Summary  \n",
      "96448               1014.36  Partly cloudy starting in the morning.  \n",
      "96449               1015.16  Partly cloudy starting in the morning.  \n",
      "96450               1015.66  Partly cloudy starting in the morning.  \n",
      "96451               1015.95  Partly cloudy starting in the morning.  \n",
      "96452               1016.16  Partly cloudy starting in the morning.  \n",
      "\n",
      "Type of DF:  <class 'pandas.core.frame.DataFrame'>\n",
      "\n",
      "Describe Data: \n",
      "        Temperature (C)  Apparent Temperature (C)      Humidity  \\\n",
      "count     96453.000000              96453.000000  96453.000000   \n",
      "mean         11.932678                 10.855029      0.734899   \n",
      "std           9.551546                 10.696847      0.195473   \n",
      "min         -21.822222                -27.716667      0.000000   \n",
      "25%           4.688889                  2.311111      0.600000   \n",
      "50%          12.000000                 12.000000      0.780000   \n",
      "75%          18.838889                 18.838889      0.890000   \n",
      "max          39.905556                 39.344444      1.000000   \n",
      "\n",
      "       Wind Speed (km/h)  Wind Bearing (degrees)  Visibility (km)  Loud Cover  \\\n",
      "count       96453.000000            96453.000000     96453.000000     96453.0   \n",
      "mean           10.810640              187.509232        10.347325         0.0   \n",
      "std             6.913571              107.383428         4.192123         0.0   \n",
      "min             0.000000                0.000000         0.000000         0.0   \n",
      "25%             5.828200              116.000000         8.339800         0.0   \n",
      "50%             9.965900              180.000000        10.046400         0.0   \n",
      "75%            14.135800              290.000000        14.812000         0.0   \n",
      "max            63.852600              359.000000        16.100000         0.0   \n",
      "\n",
      "       Pressure (millibars)  \n",
      "count          96453.000000  \n",
      "mean            1003.235956  \n",
      "std              116.969906  \n",
      "min                0.000000  \n",
      "25%             1011.900000  \n",
      "50%             1016.450000  \n",
      "75%             1021.090000  \n",
      "max             1046.380000  \n",
      "\n",
      "Columns are: \n",
      " Index(['Formatted Date', 'Summary', 'Precip Type', 'Temperature (C)',\n",
      "       'Apparent Temperature (C)', 'Humidity', 'Wind Speed (km/h)',\n",
      "       'Wind Bearing (degrees)', 'Visibility (km)', 'Loud Cover',\n",
      "       'Pressure (millibars)', 'Daily Summary'],\n",
      "      dtype='object')\n",
      "\n",
      " Shape of dataset(rows and columns): \n",
      " (96453, 12)\n"
     ]
    }
   ],
   "source": [
    "obj.display_data()"
   ]
  },
  {
   "cell_type": "code",
   "execution_count": 3,
   "metadata": {},
   "outputs": [
    {
     "name": "stdout",
     "output_type": "stream",
     "text": [
      "\n",
      "Drop unwanted columns\n",
      "\n",
      "    Apparent Temperature (C)  Humidity\n",
      "0                  7.388889      0.89\n",
      "1                  7.227778      0.86\n",
      "2                  9.377778      0.89\n",
      "3                  5.944444      0.83\n",
      "4                  6.977778      0.83\n",
      "\n",
      "Data type of each column:\n",
      " Apparent Temperature (C)    float64\n",
      "Humidity                    float64\n",
      "dtype: object\n",
      "\n",
      "Null values in dataset:\n",
      " Apparent Temperature (C)    0\n",
      "Humidity                    0\n",
      "dtype: int64\n",
      "\n",
      "Rename Columns:\n",
      "    App_temp  Humi\n",
      "0  7.388889  0.89\n",
      "1  7.227778  0.86\n",
      "2  9.377778  0.89\n",
      "3  5.944444  0.83\n",
      "4  6.977778  0.83\n"
     ]
    }
   ],
   "source": [
    "obj.missing_data()"
   ]
  },
  {
   "cell_type": "code",
   "execution_count": 4,
   "metadata": {},
   "outputs": [],
   "source": [
    "# obj.split_data()"
   ]
  },
  {
   "cell_type": "code",
   "execution_count": 5,
   "metadata": {},
   "outputs": [
    {
     "data": {
      "image/png": "[encoded data removed]",
      "text/plain": [
       "<Figure size 432x288 with 1 Axes>"
      ]
     },
     "metadata": {
      "needs_background": "light"
     },
     "output_type": "display_data"
    },
    {
     "data": {
      "image/png": "[encoded data removed]",
      "text/plain": [
       "<Figure size 432x288 with 1 Axes>"
      ]
     },
     "metadata": {
      "needs_background": "light"
     },
     "output_type": "display_data"
    }
   ],
   "source": [
    "obj.check_outliers()"
   ]
  },
  {
   "cell_type": "code",
   "execution_count": 6,
   "metadata": {},
   "outputs": [
    {
     "name": "stdout",
     "output_type": "stream",
     "text": [
      "Outliers are removed\n"
     ]
    },
    {
     "data": {
      "image/png": "[encoded data removed]",
      "text/plain": [
       "<Figure size 432x288 with 1 Axes>"
      ]
     },
     "metadata": {
      "needs_background": "light"
     },
     "output_type": "display_data"
    }
   ],
   "source": [
    "print(\"Outliers are removed\")\n",
    "obj.remove_outlier()"
   ]
  },
  {
   "cell_type": "code",
   "execution_count": 7,
   "metadata": {},
   "outputs": [],
   "source": [
    "# obj.check_outliers()"
   ]
  },
  {
   "cell_type": "code",
   "execution_count": 8,
   "metadata": {
    "scrolled": true
   },
   "outputs": [
    {
     "name": "stdout",
     "output_type": "stream",
     "text": [
      "Check skewness for dataset columns:\n",
      "\n",
      " Mean: \n",
      " App_temp    10.810788\n",
      "Humi         0.749642\n",
      "dtype: float64 \n",
      "\n",
      "Skew : \n",
      " App_temp   -0.073296\n",
      "Humi       -0.655728\n",
      "dtype: float64 \n",
      "\n",
      "Median: \n",
      " App_temp    11.966667\n",
      "Humi         0.790000\n",
      "dtype: float64\n"
     ]
    },
    {
     "data": {
      "image/png": "[encoded data removed]",
      "text/plain": [
       "<Figure size 432x288 with 1 Axes>"
      ]
     },
     "metadata": {
      "needs_background": "light"
     },
     "output_type": "display_data"
    },
    {
     "data": {
      "image/png": "[encoded data removed]",
      "text/plain": [
       "<Figure size 432x288 with 1 Axes>"
      ]
     },
     "metadata": {
      "needs_background": "light"
     },
     "output_type": "display_data"
    },
    {
     "name": "stdout",
     "output_type": "stream",
     "text": [
      "\n",
      "For Apparent Temperature (C):\n",
      "Left skew\n",
      "\n",
      "For Humidity :\n",
      "Left skew\n"
     ]
    }
   ],
   "source": [
    "print(\"Check skewness for dataset columns:\")\n",
    "obj.check_skew()"
   ]
  },
  {
   "cell_type": "code",
   "execution_count": 9,
   "metadata": {},
   "outputs": [
    {
     "name": "stdout",
     "output_type": "stream",
     "text": [
      "\n",
      "Skewness for Temperature\n",
      "Skewness is : 0.9548100214377451\n"
     ]
    },
    {
     "data": {
      "image/png": "[encoded data removed]",
      "text/plain": [
       "<Figure size 432x288 with 1 Axes>"
      ]
     },
     "metadata": {
      "needs_background": "light"
     },
     "output_type": "display_data"
    },
    {
     "name": "stdout",
     "output_type": "stream",
     "text": [
      "Mean:  195.0209091147486 Median:  143.20111111111106\n",
      "Draw histogram\n"
     ]
    },
    {
     "data": {
      "image/png": "[encoded data removed]",
      "text/plain": [
       "<Figure size 432x288 with 1 Axes>"
      ]
     },
     "metadata": {
      "needs_background": "light"
     },
     "output_type": "display_data"
    }
   ],
   "source": [
    "# # print(\"Remove skewness using cuberoot method\")\n",
    "# # obj.remove_skew_cbrt()\n",
    "obj.remove_skew_sqrt()"
   ]
  },
  {
   "cell_type": "code",
   "execution_count": 18,
   "metadata": {
    "scrolled": true
   },
   "outputs": [
    {
     "name": "stdout",
     "output_type": "stream",
     "text": [
      "\n",
      " By Z score Method(Standerdization)  \n",
      "   App_temp      Humi\n",
      "0 -0.702122  0.869488\n",
      "1 -0.713896  0.683645\n",
      "2 -0.535388  0.869488\n",
      "3 -0.798418  0.497802\n",
      "4 -0.731653  0.497802\n"
     ]
    }
   ],
   "source": [
    "obj.feature_scaling()"
   ]
  },
  {
   "cell_type": "code",
   "execution_count": 19,
   "metadata": {},
   "outputs": [
    {
     "name": "stdout",
     "output_type": "stream",
     "text": [
      "\n",
      "Training set\n",
      "55199\n",
      "\n",
      "Test data set\n",
      "23658\n",
      "Convert pandas dataframe into numpy\n"
     ]
    }
   ],
   "source": [
    "x_train_data, y_train_data, x_test_data, y_test_data, x_tr, y_tr = obj.split()\n",
    "# print(x_train_data)"
   ]
  },
  {
   "cell_type": "code",
   "execution_count": 26,
   "metadata": {},
   "outputs": [
    {
     "data": {
      "text/plain": [
       "<Figure size 432x288 with 0 Axes>"
      ]
     },
     "metadata": {},
     "output_type": "display_data"
    },
    {
     "data": {
      "image/png": "[encoded data removed]",
      "text/plain": [
       "<Figure size 360x1440 with 4 Axes>"
      ]
     },
     "metadata": {
      "needs_background": "light"
     },
     "output_type": "display_data"
    },
    {
     "name": "stdout",
     "output_type": "stream",
     "text": [
      "iteration = 9999 and cost function = nan\n"
     ]
    }
   ],
   "source": [
    "theta_0 , cost = obj.gradient_descent(x_train_data, y_train_data)"
   ]
  },
  {
   "cell_type": "code",
   "execution_count": 27,
   "metadata": {},
   "outputs": [],
   "source": [
    "y_predict = obj.predict (x_test_data,theta_0)\n",
    "# print(\"Prediction\", y_predict)"
   ]
  },
  {
   "cell_type": "code",
   "execution_count": 28,
   "metadata": {},
   "outputs": [
    {
     "name": "stdout",
     "output_type": "stream",
     "text": [
      "y (23658,)\n",
      "Accuracy nan\n"
     ]
    }
   ],
   "source": [
    "acc = obj.accuracy(y_test_data, y_predict)\n",
    "print(\"Accuracy\", acc)"
   ]
  },
  {
   "cell_type": "code",
   "execution_count": 29,
   "metadata": {},
   "outputs": [],
   "source": [
    "yy = obj.predict_new(x_train_data,theta_0)"
   ]
  },
  {
   "cell_type": "code",
   "execution_count": 30,
   "metadata": {},
   "outputs": [
    {
     "name": "stdout",
     "output_type": "stream",
     "text": [
      "55199\n",
      "55199\n",
      "55199\n"
     ]
    },
    {
     "data": {
      "image/png": "[encoded data removed]",
      "text/plain": [
       "<Figure size 432x288 with 1 Axes>"
      ]
     },
     "metadata": {
      "needs_background": "light"
     },
     "output_type": "display_data"
    }
   ],
   "source": [
    "#train data set\n",
    "obj.graph( x_tr, y_tr , yy)"
   ]
  },
  {
   "cell_type": "code",
   "execution_count": 31,
   "metadata": {},
   "outputs": [
    {
     "name": "stdout",
     "output_type": "stream",
     "text": [
      "23658\n",
      "23658\n",
      "23658\n"
     ]
    },
    {
     "data": {
      "image/png": "[encoded data removed]",
      "text/plain": [
       "<Figure size 432x288 with 1 Axes>"
      ]
     },
     "metadata": {
      "needs_background": "light"
     },
     "output_type": "display_data"
    }
   ],
   "source": [
    "#test dataset\n",
    "obj.plotgraph( x_test_data, y_test_data, y_predict)"
   ]
  },
  {
   "cell_type": "markdown",
   "metadata": {},
   "source": []
  },
  {
   "cell_type": "code",
   "execution_count": null,
   "metadata": {},
   "outputs": [],
   "source": []
  }
 ],
 "metadata": {
  "kernelspec": {
   "display_name": "Python 3",
   "language": "python",
   "name": "python3"
  },
  "language_info": {
   "codemirror_mode": {
    "name": "ipython",
    "version": 3
   },
   "file_extension": ".py",
   "mimetype": "text/x-python",
   "name": "python",
   "nbconvert_exporter": "python",
   "pygments_lexer": "ipython3",
   "version": "3.7.2"
  }
 },
 "nbformat": 4,
 "nbformat_minor": 2
}
