{
 "cells": [
  {
   "cell_type": "code",
   "execution_count": 49,
   "metadata": {
    "ExecuteTime": {
     "end_time": "2019-05-01T19:13:08.258880Z",
     "start_time": "2019-05-01T19:13:08.255275Z"
    }
   },
   "outputs": [
    {
     "data": {
      "text/plain": [
       "'\\n For a given dataset predict number of bikes getting shared based on temperature of the day\\n'"
      ]
     },
     "execution_count": 49,
     "metadata": {},
     "output_type": "execute_result"
    }
   ],
   "source": [
    "\"\"\"\n",
    " For a given dataset predict number of bikes getting shared based on temperature of the day\n",
    "\"\"\""
   ]
  },
  {
   "cell_type": "code",
   "execution_count": 1,
   "metadata": {
    "ExecuteTime": {
     "end_time": "2019-05-02T04:36:47.171260Z",
     "start_time": "2019-05-02T04:36:46.145758Z"
    }
   },
   "outputs": [],
   "source": [
    "import numpy as np\n",
    "# import matplotlib.plotly as plt\n",
    "import matplotlib.pyplot as plt\n",
    "from matplotlib import pyplot as plt  \n",
    "import pandas as pd\n",
    "#imputer to handle missing data \n",
    "from sklearn.preprocessing import Imputer\n",
    "from sklearn.model_selection import train_test_split\n",
    "\n",
    "# handle categorical data\n",
    "from sklearn.preprocessing import LabelEncoder, OneHotEncoder\n",
    "\n",
    "#regression librarry\n",
    "from sklearn.linear_model import LinearRegression  \n",
    "from sklearn.preprocessing import PolynomialFeatures\n",
    "\n",
    "#o check accuracy\n",
    "from sklearn.metrics import accuracy_score\n",
    "# to check accuracy\n",
    "from sklearn.metrics import *\n",
    "import pickle \n",
    "#visualization in 3D\n",
    "from mpl_toolkits.mplot3d import Axes3D\n",
    "# ignore warnings\n",
    "import warnings\n",
    "warnings.filterwarnings('ignore')\n",
    "\n",
    "import os, sys\n",
    "import csv"
   ]
  },
  {
   "cell_type": "code",
   "execution_count": 3,
   "metadata": {
    "ExecuteTime": {
     "end_time": "2019-05-02T04:37:32.246995Z",
     "start_time": "2019-05-02T04:37:32.200913Z"
    }
   },
   "outputs": [
    {
     "data": {
      "text/html": [
       "<div>\n",
       "<style scoped>\n",
       "    .dataframe tbody tr th:only-of-type {\n",
       "        vertical-align: middle;\n",
       "    }\n",
       "\n",
       "    .dataframe tbody tr th {\n",
       "        vertical-align: top;\n",
       "    }\n",
       "\n",
       "    .dataframe thead th {\n",
       "        text-align: right;\n",
       "    }\n",
       "</style>\n",
       "<table border=\"1\" class=\"dataframe\">\n",
       "  <thead>\n",
       "    <tr style=\"text-align: right;\">\n",
       "      <th></th>\n",
       "      <th>instant</th>\n",
       "      <th>dteday</th>\n",
       "      <th>season</th>\n",
       "      <th>yr</th>\n",
       "      <th>mnth</th>\n",
       "      <th>hr</th>\n",
       "      <th>holiday</th>\n",
       "      <th>weekday</th>\n",
       "      <th>workingday</th>\n",
       "      <th>weathersit</th>\n",
       "      <th>temp</th>\n",
       "      <th>atemp</th>\n",
       "      <th>hum</th>\n",
       "      <th>windspeed</th>\n",
       "      <th>casual</th>\n",
       "      <th>registered</th>\n",
       "      <th>cnt</th>\n",
       "    </tr>\n",
       "  </thead>\n",
       "  <tbody>\n",
       "    <tr>\n",
       "      <th>0</th>\n",
       "      <td>1</td>\n",
       "      <td>2011-01-01</td>\n",
       "      <td>1</td>\n",
       "      <td>0</td>\n",
       "      <td>1</td>\n",
       "      <td>0</td>\n",
       "      <td>0</td>\n",
       "      <td>6</td>\n",
       "      <td>0</td>\n",
       "      <td>1</td>\n",
       "      <td>0.24</td>\n",
       "      <td>0.2879</td>\n",
       "      <td>0.81</td>\n",
       "      <td>0.0</td>\n",
       "      <td>3</td>\n",
       "      <td>13</td>\n",
       "      <td>16</td>\n",
       "    </tr>\n",
       "    <tr>\n",
       "      <th>1</th>\n",
       "      <td>2</td>\n",
       "      <td>2011-01-01</td>\n",
       "      <td>1</td>\n",
       "      <td>0</td>\n",
       "      <td>1</td>\n",
       "      <td>1</td>\n",
       "      <td>0</td>\n",
       "      <td>6</td>\n",
       "      <td>0</td>\n",
       "      <td>1</td>\n",
       "      <td>0.22</td>\n",
       "      <td>0.2727</td>\n",
       "      <td>0.80</td>\n",
       "      <td>0.0</td>\n",
       "      <td>8</td>\n",
       "      <td>32</td>\n",
       "      <td>40</td>\n",
       "    </tr>\n",
       "    <tr>\n",
       "      <th>2</th>\n",
       "      <td>3</td>\n",
       "      <td>2011-01-01</td>\n",
       "      <td>1</td>\n",
       "      <td>0</td>\n",
       "      <td>1</td>\n",
       "      <td>2</td>\n",
       "      <td>0</td>\n",
       "      <td>6</td>\n",
       "      <td>0</td>\n",
       "      <td>1</td>\n",
       "      <td>0.22</td>\n",
       "      <td>0.2727</td>\n",
       "      <td>0.80</td>\n",
       "      <td>0.0</td>\n",
       "      <td>5</td>\n",
       "      <td>27</td>\n",
       "      <td>32</td>\n",
       "    </tr>\n",
       "    <tr>\n",
       "      <th>3</th>\n",
       "      <td>4</td>\n",
       "      <td>2011-01-01</td>\n",
       "      <td>1</td>\n",
       "      <td>0</td>\n",
       "      <td>1</td>\n",
       "      <td>3</td>\n",
       "      <td>0</td>\n",
       "      <td>6</td>\n",
       "      <td>0</td>\n",
       "      <td>1</td>\n",
       "      <td>0.24</td>\n",
       "      <td>0.2879</td>\n",
       "      <td>0.75</td>\n",
       "      <td>0.0</td>\n",
       "      <td>3</td>\n",
       "      <td>10</td>\n",
       "      <td>13</td>\n",
       "    </tr>\n",
       "    <tr>\n",
       "      <th>4</th>\n",
       "      <td>5</td>\n",
       "      <td>2011-01-01</td>\n",
       "      <td>1</td>\n",
       "      <td>0</td>\n",
       "      <td>1</td>\n",
       "      <td>4</td>\n",
       "      <td>0</td>\n",
       "      <td>6</td>\n",
       "      <td>0</td>\n",
       "      <td>1</td>\n",
       "      <td>0.24</td>\n",
       "      <td>0.2879</td>\n",
       "      <td>0.75</td>\n",
       "      <td>0.0</td>\n",
       "      <td>0</td>\n",
       "      <td>1</td>\n",
       "      <td>1</td>\n",
       "    </tr>\n",
       "  </tbody>\n",
       "</table>\n",
       "</div>"
      ],
      "text/plain": [
       "   instant      dteday  season  yr  mnth  hr  holiday  weekday  workingday  \\\n",
       "0        1  2011-01-01       1   0     1   0        0        6           0   \n",
       "1        2  2011-01-01       1   0     1   1        0        6           0   \n",
       "2        3  2011-01-01       1   0     1   2        0        6           0   \n",
       "3        4  2011-01-01       1   0     1   3        0        6           0   \n",
       "4        5  2011-01-01       1   0     1   4        0        6           0   \n",
       "\n",
       "   weathersit  temp   atemp   hum  windspeed  casual  registered  cnt  \n",
       "0           1  0.24  0.2879  0.81        0.0       3          13   16  \n",
       "1           1  0.22  0.2727  0.80        0.0       8          32   40  \n",
       "2           1  0.22  0.2727  0.80        0.0       5          27   32  \n",
       "3           1  0.24  0.2879  0.75        0.0       3          10   13  \n",
       "4           1  0.24  0.2879  0.75        0.0       0           1    1  "
      ]
     },
     "execution_count": 3,
     "metadata": {},
     "output_type": "execute_result"
    }
   ],
   "source": [
    "# load dataset\n",
    "dataset_original = pd.read_csv (\"bike_sharing.csv\")\n",
    "dataset = dataset_original\n",
    "dataset.head()"
   ]
  },
  {
   "cell_type": "code",
   "execution_count": 4,
   "metadata": {
    "ExecuteTime": {
     "end_time": "2019-05-02T04:39:35.716697Z",
     "start_time": "2019-05-02T04:39:35.711913Z"
    }
   },
   "outputs": [],
   "source": [
    "# IN simple LR we want only 1 feature and 1 lable\n",
    "dataset = dataset.loc[:,['temp','cnt']]\n",
    "# dataset.drop(['dteday'], axis = 1, inplace = True)"
   ]
  },
  {
   "cell_type": "code",
   "execution_count": 5,
   "metadata": {
    "ExecuteTime": {
     "end_time": "2019-05-02T04:39:38.189528Z",
     "start_time": "2019-05-02T04:39:38.185838Z"
    }
   },
   "outputs": [
    {
     "name": "stdout",
     "output_type": "stream",
     "text": [
      "Dataset has 17379 rows and 2 Columns\n"
     ]
    }
   ],
   "source": [
    "print(\"Dataset has {} rows and {} Columns\".format(dataset.shape[0],dataset.shape[1])) "
   ]
  },
  {
   "cell_type": "code",
   "execution_count": 6,
   "metadata": {
    "ExecuteTime": {
     "end_time": "2019-05-02T04:39:40.329806Z",
     "start_time": "2019-05-02T04:39:40.317776Z"
    }
   },
   "outputs": [
    {
     "name": "stdout",
     "output_type": "stream",
     "text": [
      "<class 'pandas.core.frame.DataFrame'>\n",
      "RangeIndex: 17379 entries, 0 to 17378\n",
      "Data columns (total 2 columns):\n",
      "temp    17379 non-null float64\n",
      "cnt     17379 non-null int64\n",
      "dtypes: float64(1), int64(1)\n",
      "memory usage: 271.6 KB\n"
     ]
    }
   ],
   "source": [
    "# check dataset information\n",
    "dataset.info()"
   ]
  },
  {
   "cell_type": "code",
   "execution_count": 7,
   "metadata": {
    "ExecuteTime": {
     "end_time": "2019-05-02T04:39:46.099337Z",
     "start_time": "2019-05-02T04:39:46.023913Z"
    }
   },
   "outputs": [
    {
     "data": {
      "text/html": [
       "<div>\n",
       "<style scoped>\n",
       "    .dataframe tbody tr th:only-of-type {\n",
       "        vertical-align: middle;\n",
       "    }\n",
       "\n",
       "    .dataframe tbody tr th {\n",
       "        vertical-align: top;\n",
       "    }\n",
       "\n",
       "    .dataframe thead th {\n",
       "        text-align: right;\n",
       "    }\n",
       "</style>\n",
       "<table border=\"1\" class=\"dataframe\">\n",
       "  <thead>\n",
       "    <tr style=\"text-align: right;\">\n",
       "      <th></th>\n",
       "      <th>count</th>\n",
       "      <th>mean</th>\n",
       "      <th>std</th>\n",
       "      <th>min</th>\n",
       "      <th>25%</th>\n",
       "      <th>50%</th>\n",
       "      <th>75%</th>\n",
       "      <th>max</th>\n",
       "    </tr>\n",
       "  </thead>\n",
       "  <tbody>\n",
       "    <tr>\n",
       "      <th>temp</th>\n",
       "      <td>17379.0</td>\n",
       "      <td>0.496987</td>\n",
       "      <td>0.192556</td>\n",
       "      <td>0.02</td>\n",
       "      <td>0.34</td>\n",
       "      <td>0.5</td>\n",
       "      <td>0.66</td>\n",
       "      <td>1.0</td>\n",
       "    </tr>\n",
       "    <tr>\n",
       "      <th>cnt</th>\n",
       "      <td>17379.0</td>\n",
       "      <td>189.463088</td>\n",
       "      <td>181.387599</td>\n",
       "      <td>1.00</td>\n",
       "      <td>40.00</td>\n",
       "      <td>142.0</td>\n",
       "      <td>281.00</td>\n",
       "      <td>977.0</td>\n",
       "    </tr>\n",
       "  </tbody>\n",
       "</table>\n",
       "</div>"
      ],
      "text/plain": [
       "        count        mean         std   min    25%    50%     75%    max\n",
       "temp  17379.0    0.496987    0.192556  0.02   0.34    0.5    0.66    1.0\n",
       "cnt   17379.0  189.463088  181.387599  1.00  40.00  142.0  281.00  977.0"
      ]
     },
     "execution_count": 7,
     "metadata": {},
     "output_type": "execute_result"
    }
   ],
   "source": [
    "dataset.describe().T"
   ]
  },
  {
   "cell_type": "code",
   "execution_count": 8,
   "metadata": {
    "ExecuteTime": {
     "end_time": "2019-05-02T04:39:49.335697Z",
     "start_time": "2019-05-02T04:39:49.326117Z"
    }
   },
   "outputs": [
    {
     "data": {
      "text/plain": [
       "temp    0\n",
       "cnt     0\n",
       "dtype: int64"
      ]
     },
     "execution_count": 8,
     "metadata": {},
     "output_type": "execute_result"
    }
   ],
   "source": [
    "# handling missing data if nessesary\n",
    "\"\"\"\n",
    "if missing values are present\n",
    "imputer = Imputer(missing_values=0, axis=0)\n",
    "imputer = imputer.fit(x_data[:, 3:16])\n",
    "\"\"\"\n",
    "dataset.isnull().sum()"
   ]
  },
  {
   "cell_type": "code",
   "execution_count": 9,
   "metadata": {
    "ExecuteTime": {
     "end_time": "2019-05-02T04:39:51.853440Z",
     "start_time": "2019-05-02T04:39:51.844042Z"
    }
   },
   "outputs": [
    {
     "data": {
      "text/plain": [
       "temp    0.02\n",
       "cnt     1.00\n",
       "dtype: float64"
      ]
     },
     "execution_count": 9,
     "metadata": {},
     "output_type": "execute_result"
    }
   ],
   "source": [
    "# check for minimum dataset\n",
    "dataset.min()"
   ]
  },
  {
   "cell_type": "code",
   "execution_count": 125,
   "metadata": {
    "ExecuteTime": {
     "end_time": "2019-05-02T04:40:07.232915Z",
     "start_time": "2019-05-02T04:40:07.191396Z"
    }
   },
   "outputs": [],
   "source": [
    "# # Handle Missing data\n",
    "# def handle_min_values(dataset):\n",
    "#     # replace min values by mean\n",
    "#     dataset.replace(0, dataset.mean(), inplace=True)\n",
    "#     return dataset\n",
    "\n",
    "# dataset = handle_min_values(dataset)"
   ]
  },
  {
   "cell_type": "code",
   "execution_count": 126,
   "metadata": {
    "ExecuteTime": {
     "end_time": "2019-05-02T04:40:53.240716Z",
     "start_time": "2019-05-02T04:40:53.233122Z"
    }
   },
   "outputs": [
    {
     "data": {
      "text/plain": [
       "temp    0.02\n",
       "cnt     1.00\n",
       "dtype: float64"
      ]
     },
     "execution_count": 126,
     "metadata": {},
     "output_type": "execute_result"
    }
   ],
   "source": [
    "#check dataset replace with mean or not\n",
    "dataset.min()"
   ]
  },
  {
   "cell_type": "code",
   "execution_count": 86,
   "metadata": {
    "ExecuteTime": {
     "end_time": "2019-05-01T19:17:53.754583Z",
     "start_time": "2019-05-01T19:17:53.736752Z"
    }
   },
   "outputs": [],
   "source": [
    "# # seperate fetures and label\n",
    "# x_data = dataset.iloc[:, :-1].values\n",
    "# y_data = dataset.iloc[:, 1].values"
   ]
  },
  {
   "cell_type": "code",
   "execution_count": 87,
   "metadata": {
    "ExecuteTime": {
     "end_time": "2019-05-01T19:17:54.449807Z",
     "start_time": "2019-05-01T19:17:54.445733Z"
    }
   },
   "outputs": [
    {
     "name": "stdout",
     "output_type": "stream",
     "text": [
      "(17379, 15) (17379,)\n"
     ]
    }
   ],
   "source": [
    "# print(x_data.shape, y_data.shape)"
   ]
  },
  {
   "cell_type": "code",
   "execution_count": 62,
   "metadata": {
    "ExecuteTime": {
     "end_time": "2019-05-01T19:17:55.464594Z",
     "start_time": "2019-05-01T19:17:55.355917Z"
    }
   },
   "outputs": [],
   "source": [
    "# # handle categorical data\n",
    "# def handle_categorical_data(x_data):\n",
    "#     #encode categorical data\n",
    "#     label_encod = LabelEncoder()\n",
    "#     x_data[:, 1] = label_encod.fit_transform(x_data[:, 1])\n",
    "    \n",
    "#     # one hot encoding\n",
    "#     onehotencode = OneHotEncoder(categorical_features= [1])\n",
    "#     x_data = onehotencode.fit_transform(x_data).toarray()\n",
    "    \n",
    "#     return x_data\n",
    "    \n",
    "# x_data = handle_categorical_data(x_data)"
   ]
  },
  {
   "cell_type": "code",
   "execution_count": 65,
   "metadata": {
    "ExecuteTime": {
     "end_time": "2019-05-01T19:19:11.279465Z",
     "start_time": "2019-05-01T19:19:11.275304Z"
    }
   },
   "outputs": [],
   "source": [
    "# #convert numpy.ndarray to DataFrame\n",
    "# x_data = pd.DataFrame(x_data)\n",
    "# x_data.shape"
   ]
  },
  {
   "cell_type": "code",
   "execution_count": 10,
   "metadata": {},
   "outputs": [],
   "source": [
    "# create directory to store csv files\n",
    "os.mkdir(\"CSV_files\")"
   ]
  },
  {
   "cell_type": "code",
   "execution_count": 11,
   "metadata": {
    "ExecuteTime": {
     "end_time": "2019-05-01T19:18:11.195666Z",
     "start_time": "2019-05-01T19:18:04.320494Z"
    }
   },
   "outputs": [
    {
     "name": "stdout",
     "output_type": "stream",
     "text": [
      "train :  (12165, 2)  test :  (5214, 2)\n",
      "train_data :  (9732, 2)  crossV_data :  (2433, 2)\n"
     ]
    }
   ],
   "source": [
    "# split dataset \n",
    "\n",
    "def splitdata(dataset):\n",
    "    # split train and test data\n",
    "    train, test = train_test_split(dataset,test_size = 0.30, random_state=0)\n",
    "    print(\"train : \", train.shape, \" test : \", test.shape)\n",
    "\n",
    "    # saving datasets into csv files\n",
    "    test.to_csv('CSV_files/test_file.csv',index=False,encoding='utf-8')\n",
    "\n",
    "    # divide train data into train and cross validation \n",
    "    train_data, crossV_data = train_test_split(train,test_size = 0.20,random_state=0)\n",
    "    \n",
    "     #load data into csv for train and cross validation\n",
    "    train_data.to_csv('CSV_files/train_file.csv',index=False,encoding='utf-8')\n",
    "    crossV_data.to_csv('CSV_files/CValidation_file.csv',index=False,encoding='utf-8')\n",
    "    \n",
    "    print(\"train_data : \", train_data.shape, \" crossV_data : \", crossV_data.shape)\n",
    "\n",
    "splitdata(dataset)"
   ]
  },
  {
   "cell_type": "code",
   "execution_count": 12,
   "metadata": {
    "ExecuteTime": {
     "end_time": "2019-05-01T19:18:11.206852Z",
     "start_time": "2019-05-01T19:18:11.197751Z"
    }
   },
   "outputs": [
    {
     "name": "stdout",
     "output_type": "stream",
     "text": [
      "Dataset has 9732 rows and 2 Columns\n"
     ]
    }
   ],
   "source": [
    "# load dataset\n",
    "train_dataset = pd.read_csv (\"CSV_files/train_file.csv\")\n",
    "print(\"Dataset has {} rows and {} Columns\".format(train_dataset.shape[0],train_dataset.shape[1])) "
   ]
  },
  {
   "cell_type": "code",
   "execution_count": 13,
   "metadata": {
    "ExecuteTime": {
     "end_time": "2019-05-01T19:18:11.218060Z",
     "start_time": "2019-05-01T19:18:11.209040Z"
    }
   },
   "outputs": [
    {
     "data": {
      "text/html": [
       "<div>\n",
       "<style scoped>\n",
       "    .dataframe tbody tr th:only-of-type {\n",
       "        vertical-align: middle;\n",
       "    }\n",
       "\n",
       "    .dataframe tbody tr th {\n",
       "        vertical-align: top;\n",
       "    }\n",
       "\n",
       "    .dataframe thead th {\n",
       "        text-align: right;\n",
       "    }\n",
       "</style>\n",
       "<table border=\"1\" class=\"dataframe\">\n",
       "  <thead>\n",
       "    <tr style=\"text-align: right;\">\n",
       "      <th></th>\n",
       "      <th>temp</th>\n",
       "      <th>cnt</th>\n",
       "    </tr>\n",
       "  </thead>\n",
       "  <tbody>\n",
       "    <tr>\n",
       "      <th>0</th>\n",
       "      <td>0.20</td>\n",
       "      <td>110</td>\n",
       "    </tr>\n",
       "    <tr>\n",
       "      <th>1</th>\n",
       "      <td>0.24</td>\n",
       "      <td>23</td>\n",
       "    </tr>\n",
       "    <tr>\n",
       "      <th>2</th>\n",
       "      <td>0.70</td>\n",
       "      <td>68</td>\n",
       "    </tr>\n",
       "    <tr>\n",
       "      <th>3</th>\n",
       "      <td>0.42</td>\n",
       "      <td>322</td>\n",
       "    </tr>\n",
       "    <tr>\n",
       "      <th>4</th>\n",
       "      <td>0.72</td>\n",
       "      <td>6</td>\n",
       "    </tr>\n",
       "  </tbody>\n",
       "</table>\n",
       "</div>"
      ],
      "text/plain": [
       "   temp  cnt\n",
       "0  0.20  110\n",
       "1  0.24   23\n",
       "2  0.70   68\n",
       "3  0.42  322\n",
       "4  0.72    6"
      ]
     },
     "execution_count": 13,
     "metadata": {},
     "output_type": "execute_result"
    }
   ],
   "source": [
    "train_dataset.head()"
   ]
  },
  {
   "cell_type": "code",
   "execution_count": 14,
   "metadata": {},
   "outputs": [],
   "source": [
    "  # here we taking only 2 columns level and salary\n",
    "x_train = train_dataset.iloc[:,:-1].values\n",
    "y_train = train_dataset.iloc[:,1].values "
   ]
  },
  {
   "cell_type": "code",
   "execution_count": 39,
   "metadata": {},
   "outputs": [
    {
     "data": {
      "text/plain": [
       "LinearRegression(copy_X=True, fit_intercept=True, n_jobs=None,\n",
       "         normalize=False)"
      ]
     },
     "execution_count": 39,
     "metadata": {},
     "output_type": "execute_result"
    }
   ],
   "source": [
    "# # fitting simple linear regression model to the training dataset\n",
    "lin_reg = LinearRegression(normalize=True)  \n",
    "lin_reg.fit( x_train, y_train)  \n",
    "\n",
    "# fitting polynomial regression model to the training dataset\n",
    "poly_reg = PolynomialFeatures(degree=3)\n",
    "x_poly = poly_reg.fit_transform(x_train)\n",
    "# fit into multiple Linear regression model\n",
    "lin_reg2 = LinearRegression()\n",
    "lin_reg2.fit(x_poly,y_train)"
   ]
  },
  {
   "cell_type": "code",
   "execution_count": 40,
   "metadata": {
    "ExecuteTime": {
     "end_time": "2019-05-01T19:18:11.256290Z",
     "start_time": "2019-05-01T19:18:11.230486Z"
    }
   },
   "outputs": [
    {
     "name": "stdout",
     "output_type": "stream",
     "text": [
      "\n",
      " Accuracy train by acc_r2 83.32228978927353\n",
      "\n",
      " Accuracy train by mean_ab 98.71564636095073\n",
      "\n",
      " Accuracy train by mean_sq 27229.22464832264\n",
      "\n",
      " Accuracy train by mean_sq_log 2.046841014907575\n",
      "\n",
      " Accuracy train by median_ab_error 99.58681073339616\n"
     ]
    },
    {
     "data": {
      "image/png": "[encoded data removed]",
      "text/plain": [
       "<Figure size 432x288 with 1 Axes>"
      ]
     },
     "metadata": {
      "needs_background": "light"
     },
     "output_type": "display_data"
    }
   ],
   "source": [
    "class Polynomial_Reg():\n",
    "    \n",
    "    def reference_module(self,x_train):\n",
    "        # fitting polynomial regression model to the training dataset\n",
    "        poly_reg = PolynomialFeatures(degree=6)\n",
    "        x_poly = poly_reg.fit_transform(x_train)\n",
    "        return poly_reg, x_poly\n",
    "      \n",
    "\n",
    "    def create_module(self,x_train,y_train, x_poly):\n",
    "        # fit into multiple Linear regression model\n",
    "        lin_reg2 = LinearRegression()\n",
    "        lin_reg2.fit(x_poly,y_train)\n",
    "        return lin_reg2\n",
    "    \n",
    "    def create_piklefile(self,poly_reg, lin_reg2):\n",
    "        fileObject = open(\"train_data.pkl\",'wb')       \n",
    "        # dump train model pickle file\n",
    "        file = open('Polynomial_RegModule.pkl', 'wb')\n",
    "        pickle.dump(poly_reg,file)\n",
    "        pickle.dump(lin_reg2,file)\n",
    "        # here we close the fileObject\n",
    "        file.close()          \n",
    "        \n",
    "    \n",
    "    def y_prediction(self,x_train,lin_reg2,poly_reg):\n",
    "        # predicting the train set result\n",
    "        y_pred_train = lin_reg2.predict(poly_reg.fit_transform(x_train))\n",
    "        return y_pred_train\n",
    "    \n",
    "    def accuracy(self,y_predict_train,y_train):\n",
    "        # accuracy using r2 score\n",
    "        error = r2_score(y_train, y_predict_train)\n",
    "        acc_r2 = (1-error)*100\n",
    "  \n",
    "        total_error = mean_absolute_error(y_train, y_predict_train)\n",
    "        mean_ab=( 1- (total_error / len(y_train))) *100\n",
    "        \n",
    "        mean_sq  = mean_squared_error(y_train, y_predict_train) \n",
    "\n",
    "        mean_sq_log = mean_squared_log_error(y_train, y_predict_train)  \n",
    "    \n",
    "        median_ab_error = median_absolute_error(y_train, y_predict_train)\n",
    "        \n",
    "        return acc_r2,mean_ab,mean_sq,mean_sq_log, median_ab_error\n",
    "    \n",
    "\n",
    "    \n",
    "    def visualization(self,x_train,y_train,poly_reg, lin_reg2):\n",
    "        # Visualization the Decision Tree result (for higher resolution & smoother curve)\n",
    "        x_grid=np.arange(min(x_train),max(x_train),0.1)\n",
    "        x_grid=x_grid.reshape((len(x_grid),1))\n",
    "        \n",
    "        plt.scatter(x_train,y_train,color='red')\n",
    "        plt.plot(x_grid,lin_reg2.predict(poly_reg.fit_transform(x_grid)),color='blue')\n",
    "        plt.title('predict salary  based on position (Training Set)')\n",
    "        plt.xlabel('Level')\n",
    "        plt.ylabel('Salary')\n",
    "        plt.show()\n",
    "        \n",
    "\n",
    "def main():\n",
    "    #class obj created\n",
    "    obj  = Polynomial_Reg()\n",
    "    \n",
    "    # seperate fetures and label\n",
    "    # here we taking only 2 columns level and salary\n",
    "    x_train = train_dataset.iloc[:,:-1].values\n",
    "    y_train = train_dataset.iloc[:,1].values  \n",
    "    \n",
    "    poly_reg, x_poly = obj.reference_module(x_train)\n",
    "    \n",
    "    lin_reg2 = obj.create_module(x_train,y_train, x_poly)\n",
    "#     print(\"\\nModule created\")\n",
    "    \n",
    "    obj.create_piklefile(poly_reg, lin_reg2)\n",
    "#     print(\"\\nPikle file created\")\n",
    "  \n",
    "    y_train_pre = obj.y_prediction(x_train,lin_reg2, poly_reg)\n",
    "#     print(\"\\n\\n y_prediction:\",y_train_pre)\n",
    "    \n",
    "    acc_r2,mean_ab,mean_sq,mean_sq_log, median_ab_error = obj.accuracy(y_train_pre,y_train)\n",
    "    print(\"\\n Accuracy train by acc_r2\", acc_r2)\n",
    "    print(\"\\n Accuracy train by mean_ab\", mean_ab)\n",
    "    print(\"\\n Accuracy train by mean_sq\", mean_sq)\n",
    "    print(\"\\n Accuracy train by mean_sq_log\", mean_sq_log)\n",
    "    print(\"\\n Accuracy train by median_ab_error\", median_ab_error)\n",
    "    \n",
    "    \n",
    "    \n",
    "    obj.visualization(x_train,y_train, poly_reg, lin_reg2)\n",
    "\n",
    "if __name__ == '__main__':\n",
    "    main()\n"
   ]
  },
  {
   "cell_type": "code",
   "execution_count": 41,
   "metadata": {},
   "outputs": [
    {
     "name": "stdout",
     "output_type": "stream",
     "text": [
      "Dataset has 2433 rows and 2 Columns\n"
     ]
    }
   ],
   "source": [
    "# Cross Validation\n",
    "\n",
    "# load dataset\n",
    "CV_dataset = pd.read_csv (\"CSV_files/CValidation_file.csv\")\n",
    "print(\"Dataset has {} rows and {} Columns\".format(CV_dataset.shape[0],CV_dataset.shape[1])) "
   ]
  },
  {
   "cell_type": "code",
   "execution_count": 42,
   "metadata": {},
   "outputs": [
    {
     "name": "stdout",
     "output_type": "stream",
     "text": [
      "\n",
      "\n",
      " y_prediction: [122.49982499 262.59057037 262.59057037 ... 164.77366623 207.66371865\n",
      " 164.77366623]\n",
      "\n",
      " Accuracy train by acc_r2 84.32714422490636\n",
      "\n",
      " Accuracy train by median_ab_error 99.63134498095104\n"
     ]
    },
    {
     "data": {
      "image/png": "[encoded data removed]",
      "text/plain": [
       "<Figure size 432x288 with 1 Axes>"
      ]
     },
     "metadata": {
      "needs_background": "light"
     },
     "output_type": "display_data"
    }
   ],
   "source": [
    "class Cross_validation():\n",
    "           \n",
    "    def y_prediction(self,x_train,lin_reg2,poly_reg):\n",
    "        # predicting the train set result\n",
    "        y_pred_train = lin_reg2.predict(poly_reg.fit_transform(x_train))\n",
    "        return y_pred_train\n",
    "        \n",
    "#         # predicting the test set result\n",
    "#         return regression.predict(x_train)\n",
    "    \n",
    "    def accuracy(self,y_predict_train,y_train):\n",
    "        # acc using r2\n",
    "        error = r2_score(y_train, y_predict_train)\n",
    "        acc_r2 = (1-error)*100\n",
    "        \n",
    "        # using median_ab_error\n",
    "        median_ab_error = median_absolute_error(y_train, y_predict_train)\n",
    "        return acc_r2, median_ab_error\n",
    "    \n",
    "    def visualization(self,x_cv,y_cv,poly_reg, lin_reg2):\n",
    "        # visualizing the testing set result\n",
    "        x_grid=np.arange(min(x_cv),max(x_cv),0.1)\n",
    "        x_grid=x_grid.reshape((len(x_grid),1))\n",
    "        plt.scatter(x_cv,y_cv,color='red')\n",
    "        plt.plot(x_grid,lin_reg2.predict(poly_reg.fit_transform(x_grid)),color='blue')\n",
    "        plt.title('predict salary  based on position (Cross Validation Set)')\n",
    "        plt.xlabel('Level')\n",
    "        plt.ylabel('Salary')\n",
    "        plt.show()\n",
    "        \n",
    "\n",
    "def main():\n",
    "    #class obj created\n",
    "    obj  = Cross_validation()\n",
    "    \n",
    "    # seperate fetures and label\n",
    "    x_cv = CV_dataset.iloc[:,:-1].values\n",
    "    y_cv = CV_dataset.iloc[:,1].values\n",
    " \n",
    "    #     print(x_cv.shape,y_cv.shape)\n",
    "    #cross validation\n",
    "    file1 = open('Polynomial_RegModule.pkl', 'rb')\n",
    "    reg1 = pickle.load(file1)\n",
    "    \n",
    "    # y_prediction ( cross validation)   \n",
    "    y_cv_pre = obj.y_prediction(x_cv,lin_reg2,poly_reg)\n",
    "    print(\"\\n\\n y_prediction:\",y_cv_pre)\n",
    "    \n",
    "    acc_r2, median_ab_error= obj.accuracy(y_cv_pre,y_cv)\n",
    "    print(\"\\n Accuracy train by acc_r2\", acc_r2)\n",
    "    print(\"\\n Accuracy train by median_ab_error\", median_ab_error)\n",
    "\n",
    "    obj.visualization(x_cv,y_cv,poly_reg, lin_reg2)\n",
    "\n",
    "if __name__ == '__main__':\n",
    "    main()\n"
   ]
  },
  {
   "cell_type": "code",
   "execution_count": null,
   "metadata": {},
   "outputs": [],
   "source": []
  },
  {
   "cell_type": "code",
   "execution_count": null,
   "metadata": {},
   "outputs": [],
   "source": []
  }
 ],
 "metadata": {
  "kernelspec": {
   "display_name": "Python 3",
   "language": "python",
   "name": "python3"
  },
  "language_info": {
   "codemirror_mode": {
    "name": "ipython",
    "version": 3
   },
   "file_extension": ".py",
   "mimetype": "text/x-python",
   "name": "python",
   "nbconvert_exporter": "python",
   "pygments_lexer": "ipython3",
   "version": "3.7.2"
  }
 },
 "nbformat": 4,
 "nbformat_minor": 2
}
