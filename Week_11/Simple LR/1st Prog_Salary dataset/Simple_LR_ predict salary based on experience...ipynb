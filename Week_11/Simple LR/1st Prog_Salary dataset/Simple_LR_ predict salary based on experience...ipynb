{
 "cells": [
  {
   "cell_type": "code",
   "execution_count": 1,
   "metadata": {},
   "outputs": [
    {
     "data": {
      "text/plain": [
       "'\\nBuild a machine learning model to predict salary based on experience for a given dataset\\n'"
      ]
     },
     "execution_count": 1,
     "metadata": {},
     "output_type": "execute_result"
    }
   ],
   "source": [
    "\"\"\"\n",
    "Build a machine learning model to predict salary based on experience for a given dataset\n",
    "\"\"\""
   ]
  },
  {
   "cell_type": "code",
   "execution_count": 2,
   "metadata": {},
   "outputs": [],
   "source": [
    "import numpy as np\n",
    "# import matplotlib.plotly as plt\n",
    "import matplotlib.pyplot as plt\n",
    "from matplotlib import pyplot as plt  \n",
    "import pandas as pd\n",
    "#imputer to handle missing data \n",
    "from sklearn.preprocessing import Imputer\n",
    "from sklearn.model_selection import train_test_split\n",
    "\n",
    "from sklearn.linear_model import LinearRegression\n",
    "#o check accuracy\n",
    "from sklearn.metrics import accuracy_score\n",
    "# to check accuracy\n",
    "from sklearn.metrics import *\n",
    "import pickle \n",
    "#visualization in 3D\n",
    "from mpl_toolkits.mplot3d import Axes3D\n",
    "# ignore warnings\n",
    "import warnings\n",
    "warnings.filterwarnings('ignore')\n",
    "# from Week3.Utility.Util import UtilClass\n",
    "# from PycharmProjects/Machine-learning/Week9/Util_pk import Load_data\n",
    "import os, sys\n",
    "import csv\n",
    "\n",
    "# imports\n",
    "from sklearn.model_selection import learning_curve, GridSearchCV\n",
    "# from sklearn.learning_curve import learning_curve\n",
    "from sklearn.metrics import explained_variance_score, make_scorer\n",
    "from sklearn.model_selection import KFold"
   ]
  },
  {
   "cell_type": "code",
   "execution_count": 3,
   "metadata": {},
   "outputs": [
    {
     "data": {
      "text/html": [
       "<div>\n",
       "<style scoped>\n",
       "    .dataframe tbody tr th:only-of-type {\n",
       "        vertical-align: middle;\n",
       "    }\n",
       "\n",
       "    .dataframe tbody tr th {\n",
       "        vertical-align: top;\n",
       "    }\n",
       "\n",
       "    .dataframe thead th {\n",
       "        text-align: right;\n",
       "    }\n",
       "</style>\n",
       "<table border=\"1\" class=\"dataframe\">\n",
       "  <thead>\n",
       "    <tr style=\"text-align: right;\">\n",
       "      <th></th>\n",
       "      <th>YearsExperience</th>\n",
       "      <th>Salary</th>\n",
       "    </tr>\n",
       "  </thead>\n",
       "  <tbody>\n",
       "    <tr>\n",
       "      <th>0</th>\n",
       "      <td>1.1</td>\n",
       "      <td>39343.0</td>\n",
       "    </tr>\n",
       "    <tr>\n",
       "      <th>1</th>\n",
       "      <td>1.3</td>\n",
       "      <td>46205.0</td>\n",
       "    </tr>\n",
       "    <tr>\n",
       "      <th>2</th>\n",
       "      <td>1.5</td>\n",
       "      <td>37731.0</td>\n",
       "    </tr>\n",
       "    <tr>\n",
       "      <th>3</th>\n",
       "      <td>2.0</td>\n",
       "      <td>43525.0</td>\n",
       "    </tr>\n",
       "    <tr>\n",
       "      <th>4</th>\n",
       "      <td>2.2</td>\n",
       "      <td>39891.0</td>\n",
       "    </tr>\n",
       "  </tbody>\n",
       "</table>\n",
       "</div>"
      ],
      "text/plain": [
       "   YearsExperience   Salary\n",
       "0              1.1  39343.0\n",
       "1              1.3  46205.0\n",
       "2              1.5  37731.0\n",
       "3              2.0  43525.0\n",
       "4              2.2  39891.0"
      ]
     },
     "execution_count": 3,
     "metadata": {},
     "output_type": "execute_result"
    }
   ],
   "source": [
    "# load dataset\n",
    "dataset_original = pd.read_csv (\"Salary_Data.csv\")\n",
    "dataset = dataset_original\n",
    "dataset.head()"
   ]
  },
  {
   "cell_type": "code",
   "execution_count": 4,
   "metadata": {},
   "outputs": [
    {
     "name": "stdout",
     "output_type": "stream",
     "text": [
      "Dataset has 30 rows and 2 Columns\n"
     ]
    }
   ],
   "source": [
    "print(\"Dataset has {} rows and {} Columns\".format(dataset.shape[0],dataset.shape[1])) "
   ]
  },
  {
   "cell_type": "code",
   "execution_count": 5,
   "metadata": {},
   "outputs": [
    {
     "name": "stdout",
     "output_type": "stream",
     "text": [
      "<class 'pandas.core.frame.DataFrame'>\n",
      "RangeIndex: 30 entries, 0 to 29\n",
      "Data columns (total 2 columns):\n",
      "YearsExperience    30 non-null float64\n",
      "Salary             30 non-null float64\n",
      "dtypes: float64(2)\n",
      "memory usage: 560.0 bytes\n"
     ]
    }
   ],
   "source": [
    "# check dataset information\n",
    "dataset.info()"
   ]
  },
  {
   "cell_type": "code",
   "execution_count": 6,
   "metadata": {},
   "outputs": [
    {
     "data": {
      "text/html": [
       "<div>\n",
       "<style scoped>\n",
       "    .dataframe tbody tr th:only-of-type {\n",
       "        vertical-align: middle;\n",
       "    }\n",
       "\n",
       "    .dataframe tbody tr th {\n",
       "        vertical-align: top;\n",
       "    }\n",
       "\n",
       "    .dataframe thead th {\n",
       "        text-align: right;\n",
       "    }\n",
       "</style>\n",
       "<table border=\"1\" class=\"dataframe\">\n",
       "  <thead>\n",
       "    <tr style=\"text-align: right;\">\n",
       "      <th></th>\n",
       "      <th>count</th>\n",
       "      <th>mean</th>\n",
       "      <th>std</th>\n",
       "      <th>min</th>\n",
       "      <th>25%</th>\n",
       "      <th>50%</th>\n",
       "      <th>75%</th>\n",
       "      <th>max</th>\n",
       "    </tr>\n",
       "  </thead>\n",
       "  <tbody>\n",
       "    <tr>\n",
       "      <th>YearsExperience</th>\n",
       "      <td>30.0</td>\n",
       "      <td>5.313333</td>\n",
       "      <td>2.837888</td>\n",
       "      <td>1.1</td>\n",
       "      <td>3.20</td>\n",
       "      <td>4.7</td>\n",
       "      <td>7.70</td>\n",
       "      <td>10.5</td>\n",
       "    </tr>\n",
       "    <tr>\n",
       "      <th>Salary</th>\n",
       "      <td>30.0</td>\n",
       "      <td>76003.000000</td>\n",
       "      <td>27414.429785</td>\n",
       "      <td>37731.0</td>\n",
       "      <td>56720.75</td>\n",
       "      <td>65237.0</td>\n",
       "      <td>100544.75</td>\n",
       "      <td>122391.0</td>\n",
       "    </tr>\n",
       "  </tbody>\n",
       "</table>\n",
       "</div>"
      ],
      "text/plain": [
       "                 count          mean           std      min       25%  \\\n",
       "YearsExperience   30.0      5.313333      2.837888      1.1      3.20   \n",
       "Salary            30.0  76003.000000  27414.429785  37731.0  56720.75   \n",
       "\n",
       "                     50%        75%       max  \n",
       "YearsExperience      4.7       7.70      10.5  \n",
       "Salary           65237.0  100544.75  122391.0  "
      ]
     },
     "execution_count": 6,
     "metadata": {},
     "output_type": "execute_result"
    }
   ],
   "source": [
    "dataset.describe().T"
   ]
  },
  {
   "cell_type": "code",
   "execution_count": 7,
   "metadata": {},
   "outputs": [
    {
     "data": {
      "text/plain": [
       "YearsExperience    0\n",
       "Salary             0\n",
       "dtype: int64"
      ]
     },
     "execution_count": 7,
     "metadata": {},
     "output_type": "execute_result"
    }
   ],
   "source": [
    "# handling missing data if nessesary\n",
    "dataset.isnull().sum()"
   ]
  },
  {
   "cell_type": "code",
   "execution_count": 8,
   "metadata": {},
   "outputs": [],
   "source": [
    "# seperate fetures and label\n",
    "x_data = dataset.iloc[:, :-1].values\n",
    "y_data = dataset.iloc[:, 1].values"
   ]
  },
  {
   "cell_type": "code",
   "execution_count": 9,
   "metadata": {},
   "outputs": [
    {
     "name": "stdout",
     "output_type": "stream",
     "text": [
      "x_data :  (30, 1)  y_data :  (30,)\n"
     ]
    }
   ],
   "source": [
    "print(\"x_data : \", x_data.shape, \" y_data : \", y_data.shape)\n"
   ]
  },
  {
   "cell_type": "code",
   "execution_count": 10,
   "metadata": {},
   "outputs": [],
   "source": [
    "# os.mkdir(\"CSV_files\")\n",
    "def load_data_tocsv(x_test, y_test,file_name):\n",
    "    #load data to csv file\n",
    "    myData = x_test\n",
    "    \n",
    "    myFile = open('CSV_files/'+file_name, 'w')  \n",
    "    with myFile:\n",
    "        writer = csv.writer(myFile)\n",
    "        writer.writerows(myData)\n",
    "    \n",
    "    colnames=['x'] \n",
    "    df = pd.read_csv('CSV_files/'+file_name, names=colnames, header=None)\n",
    "    # inserting column with static value in data frame \n",
    "    df.insert(1, \"y\", y_test)\n",
    "    \n",
    "    df.to_csv('CSV_files/'+file_name, index =  False)"
   ]
  },
  {
   "cell_type": "code",
   "execution_count": 11,
   "metadata": {},
   "outputs": [
    {
     "name": "stdout",
     "output_type": "stream",
     "text": [
      "x_train :  (20, 1)  x_test :  (10, 1)\n",
      "x_train_data :  (12, 1)  x_test_cv :  (8, 1)\n"
     ]
    }
   ],
   "source": [
    "def splitdata(x_data, y_data):\n",
    "    # split train and test data\n",
    "    x_train, x_test, y_train, y_test = train_test_split(x_data,y_data,test_size = 0.33, random_state=0)\n",
    "    print(\"x_train : \", x_train.shape, \" x_test : \", x_test.shape)\n",
    "    \n",
    "    #load data into csv for test data\n",
    "   \n",
    "    load_data_tocsv(x_test, y_test,'test_file.csv')\n",
    "\n",
    "    # divide train data into train and cross validation \n",
    "    x_train_data, x_cv, y_train_data, y_cv = train_test_split(x_train,y_train,test_size = 0.40,random_state=0)\n",
    "    \n",
    "     #load data into csv for train and cross validation\n",
    "    load_data_tocsv(x_train_data, y_train_data,'train_file.csv')\n",
    "    load_data_tocsv(x_cv, y_cv, 'CValidation_file.csv')\n",
    "    \n",
    "    print(\"x_train_data : \", x_train_data.shape, \" x_test_cv : \", x_cv.shape)\n",
    "    \n",
    "#     return x_train_data, x_cv, y_train_data, y_cv \n",
    "\n",
    "splitdata(x_data, y_data)"
   ]
  },
  {
   "cell_type": "code",
   "execution_count": 12,
   "metadata": {},
   "outputs": [
    {
     "name": "stdout",
     "output_type": "stream",
     "text": [
      "Dataset has 12 rows and 2 Columns\n"
     ]
    }
   ],
   "source": [
    "# load dataset\n",
    "train_dataset = pd.read_csv (\"CSV_files/train_file.csv\")\n",
    "print(\"Dataset has {} rows and {} Columns\".format(train_dataset.shape[0],train_dataset.shape[1])) "
   ]
  },
  {
   "cell_type": "code",
   "execution_count": 13,
   "metadata": {},
   "outputs": [
    {
     "data": {
      "text/html": [
       "<div>\n",
       "<style scoped>\n",
       "    .dataframe tbody tr th:only-of-type {\n",
       "        vertical-align: middle;\n",
       "    }\n",
       "\n",
       "    .dataframe tbody tr th {\n",
       "        vertical-align: top;\n",
       "    }\n",
       "\n",
       "    .dataframe thead th {\n",
       "        text-align: right;\n",
       "    }\n",
       "</style>\n",
       "<table border=\"1\" class=\"dataframe\">\n",
       "  <thead>\n",
       "    <tr style=\"text-align: right;\">\n",
       "      <th></th>\n",
       "      <th>x</th>\n",
       "      <th>y</th>\n",
       "    </tr>\n",
       "  </thead>\n",
       "  <tbody>\n",
       "    <tr>\n",
       "      <th>0</th>\n",
       "      <td>8.2</td>\n",
       "      <td>113812.0</td>\n",
       "    </tr>\n",
       "    <tr>\n",
       "      <th>1</th>\n",
       "      <td>3.2</td>\n",
       "      <td>64445.0</td>\n",
       "    </tr>\n",
       "    <tr>\n",
       "      <th>2</th>\n",
       "      <td>6.8</td>\n",
       "      <td>91738.0</td>\n",
       "    </tr>\n",
       "    <tr>\n",
       "      <th>3</th>\n",
       "      <td>9.0</td>\n",
       "      <td>105582.0</td>\n",
       "    </tr>\n",
       "    <tr>\n",
       "      <th>4</th>\n",
       "      <td>2.2</td>\n",
       "      <td>39891.0</td>\n",
       "    </tr>\n",
       "  </tbody>\n",
       "</table>\n",
       "</div>"
      ],
      "text/plain": [
       "     x         y\n",
       "0  8.2  113812.0\n",
       "1  3.2   64445.0\n",
       "2  6.8   91738.0\n",
       "3  9.0  105582.0\n",
       "4  2.2   39891.0"
      ]
     },
     "execution_count": 13,
     "metadata": {},
     "output_type": "execute_result"
    }
   ],
   "source": [
    "train_dataset.head()"
   ]
  },
  {
   "cell_type": "code",
   "execution_count": 14,
   "metadata": {},
   "outputs": [],
   "source": [
    "size = len(train_dataset)\n",
    "cv = KFold(size, shuffle=True)"
   ]
  },
  {
   "cell_type": "code",
   "execution_count": 19,
   "metadata": {},
   "outputs": [
    {
     "name": "stdout",
     "output_type": "stream",
     "text": [
      "Dataset has 8 rows and 2 Columns\n"
     ]
    }
   ],
   "source": [
    "# Cross Validation\n",
    "\n",
    "# load dataset\n",
    "CV_dataset = pd.read_csv (\"CSV_files/CValidation_file.csv\")\n",
    "print(\"Dataset has {} rows and {} Columns\".format(CV_dataset.shape[0],CV_dataset.shape[1])) \n",
    "# seperate fetures and label\n",
    "x_cv = CV_dataset.iloc[:,:-1].values\n",
    "y_cv = CV_dataset.iloc[:,1].values"
   ]
  },
  {
   "cell_type": "code",
   "execution_count": 22,
   "metadata": {},
   "outputs": [
    {
     "name": "stdout",
     "output_type": "stream",
     "text": [
      "\n",
      "Module created\n",
      "\n",
      "Pickle file created\n",
      "\n",
      "\n",
      " y_prediction: [104424.65958174  56904.30514559  91118.96033962 112027.91629153\n",
      "  47400.23425836 126284.02262237  36945.75628241  83515.70362984\n",
      "  69259.59729899  54053.08387942  45499.42008092  61656.34058921]\n",
      "\n",
      "\n",
      "Accuracy train 94.87233003146088\n"
     ]
    },
    {
     "data": {
      "image/png": "[encoded data removed]",
      "text/plain": [
       "<Figure size 432x288 with 1 Axes>"
      ]
     },
     "metadata": {
      "needs_background": "light"
     },
     "output_type": "display_data"
    },
    {
     "name": "stderr",
     "output_type": "stream",
     "text": [
      "No handles with labels found to put in legend.\n"
     ]
    },
    {
     "name": "stdout",
     "output_type": "stream",
     "text": [
      "(12, 1)\n",
      "(12,)\n"
     ]
    },
    {
     "data": {
      "image/png": "[encoded data removed]",
      "text/plain": [
       "<Figure size 432x288 with 1 Axes>"
      ]
     },
     "metadata": {
      "needs_background": "light"
     },
     "output_type": "display_data"
    }
   ],
   "source": [
    "class simpleLR():\n",
    "    \n",
    "    def create_module(self,x_train,y_train):\n",
    "        \n",
    "        # fitting simple LR to the training set\n",
    "        regression = LinearRegression()\n",
    "    #      regression.fit(x_train_data, y_train_data)\n",
    "        regression.fit(x_train,y_train)\n",
    "        \"\"\"\n",
    "        output-\n",
    "        LinearRegression(copy_X=True, fit_intercept=True, n_jobs=None,\n",
    "             normalize=False)\n",
    "        \"\"\"\n",
    "        return regression\n",
    "    \n",
    "    def create_piklefile(self,regression):\n",
    "        # dump train model pickle file\n",
    "        file = open('SimpleLRModulefile.pkl', 'wb')\n",
    "        pickle.dump(regression,file)\n",
    "        file.close()\n",
    "        \n",
    "    def y_prediction(self,regression, x_train):\n",
    "        # predicting the test set result\n",
    "        return regression.predict(x_train)\n",
    "    \n",
    "    def accuracy(self,y_predict_train,y_train):\n",
    "        # accuracy using r2 score\n",
    "        return r2_score(y_predict_train,y_train)*100\n",
    "    \n",
    "    def visualization(self,x_train,y_train, y_train_pre):\n",
    "        # Visualization the training set result\n",
    "        plt.scatter(x_train,y_train, color = 'red')\n",
    "        plt.plot(x_train,y_train_pre, color = 'blue')\n",
    "        plt.title(\"Salary vr Experience (Training set)\")\n",
    "        plt.xlabel(\"Year of experience\")\n",
    "        plt.ylabel(\"Salary\")\n",
    "        plt.show()\n",
    "        \n",
    "    def visualization1(self,lg, x,y, y_train_pre):\n",
    "#         x = np.reshape(np.random.normal(scale=2,size=size),(-1,1))\n",
    "        print(x.shape)\n",
    "        # np.random.normal(scale=2,size=size) creates a 1000 x 1 matrix\n",
    "        # scale=2 is the standard deviation of the distribution\n",
    "#         np.random.normal(scale=2,size=size).shape\n",
    "#         y = np.array([[1 - 2*x[0] +x[0]**2] for x in X])\n",
    "        print(y.shape)\n",
    "        # Visualization the training set result\n",
    "        train_sizes, train_scores, test_scores = learning_curve(lg, x, y, n_jobs=-1, cv=cv, train_sizes=np.linspace(.1, 1.0, 5), verbose=0)\n",
    "        train_scores_mean = np.mean(train_scores, axis=1)\n",
    "        train_scores_std = np.std(train_scores, axis=1)\n",
    "        test_scores_mean = np.mean(test_scores, axis=1)\n",
    "        test_scores_std = np.std(test_scores, axis=1)\n",
    "\n",
    "        plt.figure()\n",
    "        plt.title(\"SimpleLinearRegression\")\n",
    "        plt.legend(loc=\"best\")\n",
    "        plt.xlabel(\"Training examples\")\n",
    "        plt.ylabel(\"Score\")\n",
    "        plt.gca().invert_yaxis()\n",
    "\n",
    "        # box-like grid\n",
    "        plt.grid()\n",
    "\n",
    "        # plot the std deviation as a transparent range at each training set size\n",
    "        plt.fill_between(train_sizes, train_scores_mean - train_scores_std, train_scores_mean + train_scores_std, alpha=0.1, color=\"r\")\n",
    "        plt.fill_between(train_sizes, test_scores_mean - test_scores_std, test_scores_mean + test_scores_std, alpha=0.1, color=\"g\")\n",
    "\n",
    "        # plot the average training and test score lines at each training set size\n",
    "        plt.plot(train_sizes, train_scores_mean, 'o-', color=\"r\", label=\"Training score\")\n",
    "        plt.plot(train_sizes, test_scores_mean, 'o-', color=\"g\", label=\"Cross-validation score\")\n",
    "\n",
    "        # sizes the window for readability and displays the plot\n",
    "        # shows error from 0 to 1.1\n",
    "        plt.ylim(-.1,1.1)\n",
    "        plt.show()\n",
    "        #--------------------------------------------------------------------------------------------\n",
    "#         plt.scatter(x_train,y_train, color = 'red')\n",
    "#         plt.plot(x_train,y_train_pre, color = 'blue')\n",
    "#         plt.title(\"Salary vr Experience (Training set)\")\n",
    "#         plt.xlabel(\"Year of experience\")\n",
    "#         plt.ylabel(\"Salary\")\n",
    "#         plt.show()\n",
    "        \n",
    "\n",
    "def main():\n",
    "    #class obj created\n",
    "    obj  = simpleLR()\n",
    "    \n",
    "    # seperate fetures and label\n",
    "    x_train = train_dataset.iloc[:,:-1].values\n",
    "    y_train = train_dataset.iloc[:,1].values  \n",
    "    \n",
    "    regression = obj.create_module(x_train,y_train)\n",
    "    print(\"\\nModule created\")\n",
    "    \n",
    "    obj.create_piklefile(regression)\n",
    "    print(\"\\nPickle file created\")\n",
    "    \n",
    "    y_train_pre = obj.y_prediction(regression, x_train)\n",
    "    print(\"\\n\\n y_prediction:\",y_train_pre)\n",
    "    \n",
    "    Accuracy_train = obj.accuracy(y_train_pre,y_train)\n",
    "    print(\"\\n\\nAccuracy train\", Accuracy_train)\n",
    "  \n",
    "    obj.visualization(x_train,y_train,y_train_pre)\n",
    "    %matplotlib inline\n",
    "    obj.visualization1(regression, x_train,y_train, y_train_pre)\n",
    "\n",
    "if __name__ == '__main__':\n",
    "    main()\n"
   ]
  },
  {
   "cell_type": "code",
   "execution_count": 18,
   "metadata": {},
   "outputs": [
    {
     "name": "stdout",
     "output_type": "stream",
     "text": [
      "Dataset has 8 rows and 2 Columns\n"
     ]
    }
   ],
   "source": [
    "# Cross Validation\n",
    "\n",
    "# load dataset\n",
    "CV_dataset = pd.read_csv (\"CSV_files/CValidation_file.csv\")\n",
    "print(\"Dataset has {} rows and {} Columns\".format(CV_dataset.shape[0],CV_dataset.shape[1])) \n"
   ]
  },
  {
   "cell_type": "code",
   "execution_count": null,
   "metadata": {},
   "outputs": [],
   "source": [
    "class Cross_validation():\n",
    "           \n",
    "    def y_prediction(self,regression, x_train):\n",
    "        # predicting the test set result\n",
    "        return regression.predict(x_train)\n",
    "    \n",
    "    def accuracy(self,y_predict_train,y_train):\n",
    "        # accuracy using r2 score\n",
    "        return r2_score(y_predict_train,y_train)*100\n",
    "    \n",
    "    def visualization(self,x_train,y_train, y_cv_pre):\n",
    "        # Visualization the training set result\n",
    "        plt.scatter(x_train,y_train, color = 'red')\n",
    "        plt.plot(x_train,y_cv_pre, color = 'blue')\n",
    "        plt.title(\"Salary vr Experience (Cross Validation set)\")\n",
    "        plt.xlabel(\"Year of experience\")\n",
    "        plt.ylabel(\"Salary\")\n",
    "        plt.show()\n",
    "        \n",
    "\n",
    "def main():\n",
    "    #class obj created\n",
    "    obj  = Cross_validation()\n",
    "    \n",
    "    # seperate fetures and label\n",
    "    x_cv = CV_dataset.iloc[:,:-1].values\n",
    "    y_cv = CV_dataset.iloc[:,1].values\n",
    "\n",
    "    #cross validation\n",
    "    file1 = open('SimpleLRModulefile.pkl', 'rb')\n",
    "    reg1 = pickle.load(file1)\n",
    "  \n",
    "    \n",
    "    # y_prediction ( cross validation)   \n",
    "    y_cv_pre = obj.y_prediction(reg1, x_cv)\n",
    "#     print(\"\\n\\n y_prediction:\",y_cv_pre)\n",
    "    \n",
    "    Accuracy_train = obj.accuracy(y_cv_pre, y_cv)\n",
    "    print(\"\\n\\nAccuracy train\", Accuracy_train)\n",
    "\n",
    "    obj.visualization(x_cv, y_cv, y_cv_pre)\n",
    "\n",
    "if __name__ == '__main__':\n",
    "    main()\n"
   ]
  },
  {
   "cell_type": "code",
   "execution_count": null,
   "metadata": {},
   "outputs": [],
   "source": []
  },
  {
   "cell_type": "code",
   "execution_count": null,
   "metadata": {},
   "outputs": [],
   "source": []
  }
 ],
 "metadata": {
  "kernelspec": {
   "display_name": "Python 3",
   "language": "python",
   "name": "python3"
  },
  "language_info": {
   "codemirror_mode": {
    "name": "ipython",
    "version": 3
   },
   "file_extension": ".py",
   "mimetype": "text/x-python",
   "name": "python",
   "nbconvert_exporter": "python",
   "pygments_lexer": "ipython3",
   "version": "3.7.2"
  }
 },
 "nbformat": 4,
 "nbformat_minor": 2
}
