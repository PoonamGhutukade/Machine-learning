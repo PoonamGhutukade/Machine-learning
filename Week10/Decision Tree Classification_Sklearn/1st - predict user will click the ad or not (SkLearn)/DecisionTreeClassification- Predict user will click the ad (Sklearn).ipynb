{
 "cells": [
  {
   "cell_type": "code",
   "execution_count": 1,
   "metadata": {},
   "outputs": [
    {
     "data": {
      "text/plain": [
       "'\\nDecision Tree Classification\\n\\t1. Build a machine learning model to predict user will click the ad or not based on his experience \\n    and estimated salary for a given dataset.\\n'"
      ]
     },
     "execution_count": 1,
     "metadata": {},
     "output_type": "execute_result"
    }
   ],
   "source": [
    "\"\"\"\n",
    "Decision Tree Classification\n",
    "\t1. Build a machine learning model to predict user will click the ad or not based on his experience \n",
    "    and estimated salary for a given dataset.\n",
    "\"\"\""
   ]
  },
  {
   "cell_type": "code",
   "execution_count": 2,
   "metadata": {},
   "outputs": [],
   "source": [
    "#import libraries\n",
    "import pandas as pd\n",
    "import seaborn as sb\n",
    "\n",
    "#libarry for feature scaling\n",
    "from sklearn.preprocessing import StandardScaler\n",
    "\n",
    "# #Classification library\n",
    "from sklearn.tree import DecisionTreeClassifier\n",
    "\n",
    "import pickle \n",
    "import os, sys\n",
    "import csv\n",
    "\n",
    "# ignore warnings\n",
    "import warnings\n",
    "warnings.filterwarnings('ignore')\n",
    "\n",
    "import importlib.util"
   ]
  },
  {
   "cell_type": "code",
   "execution_count": 3,
   "metadata": {},
   "outputs": [],
   "source": [
    "# importing template file \n",
    "spec = importlib.util.spec_from_file_location(\"Util_class\", \"/home/admin1/PycharmProjects/Machine-Learning/Week10/Util/util.py\")\n",
    "foo = importlib.util.module_from_spec(spec)\n",
    "spec.loader.exec_module(foo)\n",
    "# creating object of Template class\n",
    "obj_util = foo.Util_class()"
   ]
  },
  {
   "cell_type": "code",
   "execution_count": 4,
   "metadata": {},
   "outputs": [
    {
     "data": {
      "text/html": [
       "<div>\n",
       "<style scoped>\n",
       "    .dataframe tbody tr th:only-of-type {\n",
       "        vertical-align: middle;\n",
       "    }\n",
       "\n",
       "    .dataframe tbody tr th {\n",
       "        vertical-align: top;\n",
       "    }\n",
       "\n",
       "    .dataframe thead th {\n",
       "        text-align: right;\n",
       "    }\n",
       "</style>\n",
       "<table border=\"1\" class=\"dataframe\">\n",
       "  <thead>\n",
       "    <tr style=\"text-align: right;\">\n",
       "      <th></th>\n",
       "      <th>User ID</th>\n",
       "      <th>Gender</th>\n",
       "      <th>Age</th>\n",
       "      <th>EstimatedSalary</th>\n",
       "      <th>Purchased</th>\n",
       "    </tr>\n",
       "  </thead>\n",
       "  <tbody>\n",
       "    <tr>\n",
       "      <th>0</th>\n",
       "      <td>15624510</td>\n",
       "      <td>Male</td>\n",
       "      <td>19</td>\n",
       "      <td>19000</td>\n",
       "      <td>0</td>\n",
       "    </tr>\n",
       "    <tr>\n",
       "      <th>1</th>\n",
       "      <td>15810944</td>\n",
       "      <td>Male</td>\n",
       "      <td>35</td>\n",
       "      <td>20000</td>\n",
       "      <td>0</td>\n",
       "    </tr>\n",
       "    <tr>\n",
       "      <th>2</th>\n",
       "      <td>15668575</td>\n",
       "      <td>Female</td>\n",
       "      <td>26</td>\n",
       "      <td>43000</td>\n",
       "      <td>0</td>\n",
       "    </tr>\n",
       "    <tr>\n",
       "      <th>3</th>\n",
       "      <td>15603246</td>\n",
       "      <td>Female</td>\n",
       "      <td>27</td>\n",
       "      <td>57000</td>\n",
       "      <td>0</td>\n",
       "    </tr>\n",
       "    <tr>\n",
       "      <th>4</th>\n",
       "      <td>15804002</td>\n",
       "      <td>Male</td>\n",
       "      <td>19</td>\n",
       "      <td>76000</td>\n",
       "      <td>0</td>\n",
       "    </tr>\n",
       "  </tbody>\n",
       "</table>\n",
       "</div>"
      ],
      "text/plain": [
       "    User ID  Gender  Age  EstimatedSalary  Purchased\n",
       "0  15624510    Male   19            19000          0\n",
       "1  15810944    Male   35            20000          0\n",
       "2  15668575  Female   26            43000          0\n",
       "3  15603246  Female   27            57000          0\n",
       "4  15804002    Male   19            76000          0"
      ]
     },
     "execution_count": 4,
     "metadata": {},
     "output_type": "execute_result"
    }
   ],
   "source": [
    "# load dataset\n",
    "dataset_original = pd.read_csv (\"Social_Network_Ads.csv\")\n",
    "dataset = dataset_original\n",
    "dataset.head()"
   ]
  },
  {
   "cell_type": "code",
   "execution_count": 5,
   "metadata": {},
   "outputs": [
    {
     "name": "stdout",
     "output_type": "stream",
     "text": [
      "Dataset has 400 rows and 5 Columns\n"
     ]
    }
   ],
   "source": [
    "print(\"Dataset has {} rows and {} Columns\".format(dataset.shape[0],dataset.shape[1])) "
   ]
  },
  {
   "cell_type": "code",
   "execution_count": 6,
   "metadata": {},
   "outputs": [
    {
     "name": "stdout",
     "output_type": "stream",
     "text": [
      "<class 'pandas.core.frame.DataFrame'>\n",
      "RangeIndex: 400 entries, 0 to 399\n",
      "Data columns (total 5 columns):\n",
      "User ID            400 non-null int64\n",
      "Gender             400 non-null object\n",
      "Age                400 non-null int64\n",
      "EstimatedSalary    400 non-null int64\n",
      "Purchased          400 non-null int64\n",
      "dtypes: int64(4), object(1)\n",
      "memory usage: 15.7+ KB\n"
     ]
    }
   ],
   "source": [
    "# check dataset information\n",
    "dataset.info()"
   ]
  },
  {
   "cell_type": "code",
   "execution_count": 7,
   "metadata": {},
   "outputs": [
    {
     "data": {
      "text/html": [
       "<div>\n",
       "<style scoped>\n",
       "    .dataframe tbody tr th:only-of-type {\n",
       "        vertical-align: middle;\n",
       "    }\n",
       "\n",
       "    .dataframe tbody tr th {\n",
       "        vertical-align: top;\n",
       "    }\n",
       "\n",
       "    .dataframe thead th {\n",
       "        text-align: right;\n",
       "    }\n",
       "</style>\n",
       "<table border=\"1\" class=\"dataframe\">\n",
       "  <thead>\n",
       "    <tr style=\"text-align: right;\">\n",
       "      <th></th>\n",
       "      <th>count</th>\n",
       "      <th>mean</th>\n",
       "      <th>std</th>\n",
       "      <th>min</th>\n",
       "      <th>25%</th>\n",
       "      <th>50%</th>\n",
       "      <th>75%</th>\n",
       "      <th>max</th>\n",
       "    </tr>\n",
       "  </thead>\n",
       "  <tbody>\n",
       "    <tr>\n",
       "      <th>User ID</th>\n",
       "      <td>400.0</td>\n",
       "      <td>1.569154e+07</td>\n",
       "      <td>71658.321581</td>\n",
       "      <td>15566689.0</td>\n",
       "      <td>15626763.75</td>\n",
       "      <td>15694341.5</td>\n",
       "      <td>15750363.0</td>\n",
       "      <td>15815236.0</td>\n",
       "    </tr>\n",
       "    <tr>\n",
       "      <th>Age</th>\n",
       "      <td>400.0</td>\n",
       "      <td>3.765500e+01</td>\n",
       "      <td>10.482877</td>\n",
       "      <td>18.0</td>\n",
       "      <td>29.75</td>\n",
       "      <td>37.0</td>\n",
       "      <td>46.0</td>\n",
       "      <td>60.0</td>\n",
       "    </tr>\n",
       "    <tr>\n",
       "      <th>EstimatedSalary</th>\n",
       "      <td>400.0</td>\n",
       "      <td>6.974250e+04</td>\n",
       "      <td>34096.960282</td>\n",
       "      <td>15000.0</td>\n",
       "      <td>43000.00</td>\n",
       "      <td>70000.0</td>\n",
       "      <td>88000.0</td>\n",
       "      <td>150000.0</td>\n",
       "    </tr>\n",
       "    <tr>\n",
       "      <th>Purchased</th>\n",
       "      <td>400.0</td>\n",
       "      <td>3.575000e-01</td>\n",
       "      <td>0.479864</td>\n",
       "      <td>0.0</td>\n",
       "      <td>0.00</td>\n",
       "      <td>0.0</td>\n",
       "      <td>1.0</td>\n",
       "      <td>1.0</td>\n",
       "    </tr>\n",
       "  </tbody>\n",
       "</table>\n",
       "</div>"
      ],
      "text/plain": [
       "                 count          mean           std         min          25%  \\\n",
       "User ID          400.0  1.569154e+07  71658.321581  15566689.0  15626763.75   \n",
       "Age              400.0  3.765500e+01     10.482877        18.0        29.75   \n",
       "EstimatedSalary  400.0  6.974250e+04  34096.960282     15000.0     43000.00   \n",
       "Purchased        400.0  3.575000e-01      0.479864         0.0         0.00   \n",
       "\n",
       "                        50%         75%         max  \n",
       "User ID          15694341.5  15750363.0  15815236.0  \n",
       "Age                    37.0        46.0        60.0  \n",
       "EstimatedSalary     70000.0     88000.0    150000.0  \n",
       "Purchased               0.0         1.0         1.0  "
      ]
     },
     "execution_count": 7,
     "metadata": {},
     "output_type": "execute_result"
    }
   ],
   "source": [
    "# descibe the dataset\n",
    "dataset.describe().T"
   ]
  },
  {
   "cell_type": "code",
   "execution_count": 8,
   "metadata": {},
   "outputs": [
    {
     "data": {
      "text/plain": [
       "User ID            0\n",
       "Gender             0\n",
       "Age                0\n",
       "EstimatedSalary    0\n",
       "Purchased          0\n",
       "dtype: int64"
      ]
     },
     "execution_count": 8,
     "metadata": {},
     "output_type": "execute_result"
    }
   ],
   "source": [
    "# handling missing data if nessesary\n",
    "\"\"\"\n",
    "if missing values are present\n",
    "imputer = Imputer(missing_values=0, axis=0)\n",
    "imputer = imputer.fit(x_data[:, 3:16])\n",
    "\"\"\"\n",
    "dataset.isnull().sum()"
   ]
  },
  {
   "cell_type": "code",
   "execution_count": 9,
   "metadata": {},
   "outputs": [
    {
     "data": {
      "text/plain": [
       "0"
      ]
     },
     "execution_count": 9,
     "metadata": {},
     "output_type": "execute_result"
    }
   ],
   "source": [
    "# check for duplicate values\n",
    "dataset.duplicated().sum()"
   ]
  },
  {
   "cell_type": "code",
   "execution_count": 10,
   "metadata": {},
   "outputs": [
    {
     "data": {
      "text/plain": [
       "pandas.core.series.Series"
      ]
     },
     "execution_count": 10,
     "metadata": {},
     "output_type": "execute_result"
    }
   ],
   "source": [
    "#categorical data\n",
    "type(dataset.Gender)"
   ]
  },
  {
   "cell_type": "code",
   "execution_count": 11,
   "metadata": {},
   "outputs": [
    {
     "data": {
      "text/plain": [
       "0      Male\n",
       "1      Male\n",
       "2    Female\n",
       "3    Female\n",
       "4      Male\n",
       "Name: Gender, dtype: object"
      ]
     },
     "execution_count": 11,
     "metadata": {},
     "output_type": "execute_result"
    }
   ],
   "source": [
    "#Check categpries for categorical data\n",
    "dataset.Gender[:5]"
   ]
  },
  {
   "cell_type": "code",
   "execution_count": 12,
   "metadata": {},
   "outputs": [
    {
     "data": {
      "text/plain": [
       "<matplotlib.axes._subplots.AxesSubplot at 0x7f811069f8d0>"
      ]
     },
     "execution_count": 12,
     "metadata": {},
     "output_type": "execute_result"
    },
    {
     "data": {
      "image/png": "[encoded data removed]",
      "text/plain": [
       "<Figure size 432x288 with 2 Axes>"
      ]
     },
     "metadata": {
      "needs_background": "light"
     },
     "output_type": "display_data"
    }
   ],
   "source": [
    "#Display heatmap to show correlation between diff variables\n",
    "corr = dataset.corr()\n",
    "sb.heatmap(corr)"
   ]
  },
  {
   "cell_type": "code",
   "execution_count": 13,
   "metadata": {},
   "outputs": [
    {
     "name": "stdout",
     "output_type": "stream",
     "text": [
      "Skewness of y is 0.596902836080957\n"
     ]
    },
    {
     "data": {
      "image/png": "[encoded data removed]",
      "text/plain": [
       "<Figure size 432x288 with 1 Axes>"
      ]
     },
     "metadata": {
      "needs_background": "light"
     },
     "output_type": "display_data"
    }
   ],
   "source": [
    "# check skewness for target variable\n",
    "sb.distplot(dataset['Purchased'])\n",
    "print (\"Skewness of y is {}\".format(dataset['Purchased'].skew()))"
   ]
  },
  {
   "cell_type": "code",
   "execution_count": 14,
   "metadata": {},
   "outputs": [
    {
     "name": "stdout",
     "output_type": "stream",
     "text": [
      "Purchased          1.000000\n",
      "Age                0.622454\n",
      "EstimatedSalary    0.362083\n",
      "User ID            0.007120\n",
      "Name: Purchased, dtype: float64 \n",
      "\n",
      "----------------------\n",
      "Purchased          1.000000\n",
      "Age                0.622454\n",
      "EstimatedSalary    0.362083\n",
      "User ID            0.007120\n",
      "Name: Purchased, dtype: float64\n"
     ]
    }
   ],
   "source": [
    "print (corr['Purchased'].sort_values(ascending=False)[:10], '\\n') #top 10 values\n",
    "print ('----------------------')\n",
    "print (corr['Purchased'].sort_values(ascending=False)[-5:]) #last 5 values`\n"
   ]
  },
  {
   "cell_type": "code",
   "execution_count": 16,
   "metadata": {},
   "outputs": [],
   "source": [
    "# create directory to store csv files\n",
    "# os.mkdir(\"CSV_files\")"
   ]
  },
  {
   "cell_type": "code",
   "execution_count": 17,
   "metadata": {},
   "outputs": [
    {
     "name": "stdout",
     "output_type": "stream",
     "text": [
      "train :  (280, 5)  test :  (120, 5)\n",
      "train_data :  (168, 5)  crossV_data :  (112, 5)\n"
     ]
    }
   ],
   "source": [
    "#split dataset into train, test and cross validation also save csv files\n",
    "obj_util.splitdata(dataset, 0.30, 0.40,\"CSV_files\" )"
   ]
  },
  {
   "cell_type": "code",
   "execution_count": 18,
   "metadata": {},
   "outputs": [
    {
     "name": "stdout",
     "output_type": "stream",
     "text": [
      "Train Dataset has 168 rows and 5 Columns\n",
      "Cross validation Dataset has 112 rows and 5 Columns\n"
     ]
    }
   ],
   "source": [
    "# load train dataset\n",
    "train_dataset = pd.read_csv (\"CSV_files/train_file.csv\")\n",
    "print(\"Train Dataset has {} rows and {} Columns\".format(train_dataset.shape[0],train_dataset.shape[1])) \n",
    "# load dataset for Cross Validation\n",
    "CV_dataset = pd.read_csv (\"CSV_files/CValidation_file.csv\")\n",
    "print(\"Cross validation Dataset has {} rows and {} Columns\".format(CV_dataset.shape[0],CV_dataset.shape[1])) "
   ]
  },
  {
   "cell_type": "code",
   "execution_count": 19,
   "metadata": {},
   "outputs": [
    {
     "name": "stdout",
     "output_type": "stream",
     "text": [
      "<class 'pandas.core.frame.DataFrame'>\n",
      "RangeIndex: 168 entries, 0 to 167\n",
      "Data columns (total 5 columns):\n",
      "User ID            168 non-null int64\n",
      "Gender             168 non-null object\n",
      "Age                168 non-null int64\n",
      "EstimatedSalary    168 non-null int64\n",
      "Purchased          168 non-null int64\n",
      "dtypes: int64(4), object(1)\n",
      "memory usage: 6.6+ KB\n"
     ]
    }
   ],
   "source": [
    "#data Preprocessing\n",
    "train_dataset.info()"
   ]
  },
  {
   "cell_type": "code",
   "execution_count": 20,
   "metadata": {},
   "outputs": [
    {
     "name": "stdout",
     "output_type": "stream",
     "text": [
      "x_train : (168, 2) & y_train: (168,)\n",
      "x_cv : (112, 2) & y_cv: (112,)\n"
     ]
    }
   ],
   "source": [
    "# seperate fetures and label\n",
    "\n",
    "# features -> age and estimated salary\n",
    "x_train = train_dataset.iloc[:,[2,3]].values\n",
    "# label -> purchased\n",
    "y_train = train_dataset.iloc[:,4].values  \n",
    "\n",
    "# Dont reshape any variable it gives error for visualisation \"IndexError: too many indices for array\"\n",
    "# y_train = y_train.reshape(-1,1)\n",
    "print(\"x_train :\",x_train.shape,\"& y_train:\",y_train.shape)\n",
    "\n",
    "#for cross validation\n",
    "# features -> age and estimated salary\n",
    "x_crossval = CV_dataset.iloc[:,[2,3]].values\n",
    "# label -> purchased\n",
    "y_crossval = CV_dataset.iloc[:,4].values  \n",
    "\n",
    "print(\"x_cv :\",x_crossval.shape,\"& y_cv:\",y_crossval.shape)"
   ]
  },
  {
   "cell_type": "code",
   "execution_count": 21,
   "metadata": {},
   "outputs": [],
   "source": [
    "#feature scalling (here data will be converted into float)\n",
    "def feature_scalling(x_train,x_crossval):\n",
    "    sc_x = StandardScaler()\n",
    "    x_train = sc_x.fit_transform(x_train)\n",
    "    \n",
    "    sc_x_cv = StandardScaler()\n",
    "    x_crossval = sc_x.fit_transform(x_crossval)\n",
    "    return sc_x, x_train,sc_x_cv, x_crossval\n",
    "    \n",
    "sc_x, x_train,sc_x_cv, x_crossval = feature_scalling(x_train,x_crossval)"
   ]
  },
  {
   "cell_type": "code",
   "execution_count": 24,
   "metadata": {},
   "outputs": [
    {
     "name": "stderr",
     "output_type": "stream",
     "text": [
      "'c' argument looks like a single numeric RGB or RGBA sequence, which should be avoided as value-mapping will have precedence in case its length matches with 'x' & 'y'.  Please use a 2-D array with a single row if you really want to specify the same RGB or RGBA value for all points.\n",
      "'c' argument looks like a single numeric RGB or RGBA sequence, which should be avoided as value-mapping will have precedence in case its length matches with 'x' & 'y'.  Please use a 2-D array with a single row if you really want to specify the same RGB or RGBA value for all points.\n"
     ]
    },
    {
     "name": "stdout",
     "output_type": "stream",
     "text": [
      "\n",
      "Module created\n",
      "classifier object DecisionTreeClassifier(class_weight=None, criterion='entropy', max_depth=None,\n",
      "            max_features=None, max_leaf_nodes=None,\n",
      "            min_impurity_decrease=0.0, min_impurity_split=None,\n",
      "            min_samples_leaf=1, min_samples_split=2,\n",
      "            min_weight_fraction_leaf=0.0, presort=False, random_state=0,\n",
      "            splitter='best')\n",
      "\n",
      "\n",
      " y_prediction: [0 0 0 0 1 0 0 0 1 0 0 1 0 1 0 1 0 1 0 0 0 0 0 1 0 0 0 0 1 0 0 0 0 1 0 0 1\n",
      " 0 0 0 0 1 0 1 0 0 1 1 0 1 0 0 0 0 0 1 1 0 0 0 1 1 1 1 0 0 0 0 1 1 0 1 1 0\n",
      " 1 0 0 0 1 0 0 1 0 0 0 1 1 1 1 1 0 0 0 0 0 0 1 1 0 1 0 0 0 0 1 1 1 1 1 0 0\n",
      " 0 1 1 0 0 0 1 0 0 0 1 1 0 0 1 0 1 0 0 0 0 0 0 1 1 0 1 1 0 0 1 1 1 1 0 1 1\n",
      " 1 1 0 1 1 1 1 1 1 0 0 0 0 1 1 0 0 0 1 1]\n",
      "(168,)\n",
      "\n",
      "\n",
      "Average accuracy_score: 100.0\n",
      "Average precision-recall score: 100.00\n",
      "Average Roc-AUC: 100.000\n",
      "\n",
      "\n",
      "Confusion Matrix:\n",
      " [[98  0]\n",
      " [ 0 70]]\n"
     ]
    },
    {
     "data": {
      "image/png": "[encoded data removed]",
      "text/plain": [
       "<Figure size 432x288 with 1 Axes>"
      ]
     },
     "metadata": {
      "needs_background": "light"
     },
     "output_type": "display_data"
    },
    {
     "name": "stdout",
     "output_type": "stream",
     "text": [
      "\n",
      "Pikle file created\n"
     ]
    }
   ],
   "source": [
    "class DecisionTreeClassification():\n",
    "    \n",
    "    def create_module(self,x_train,y_train):\n",
    "        # fitting KNN Classification to the training set\n",
    "        classifier = DecisionTreeClassifier(criterion= 'entropy', random_state=0)\n",
    "        classifier.fit(x_train,y_train)\n",
    "        return classifier\n",
    "    \n",
    "\n",
    "def main():\n",
    "    #class obj created\n",
    "    obj  = DecisionTreeClassification()\n",
    "\n",
    "    classifier = obj.create_module(x_train,y_train)\n",
    "    print(\"\\nModule created\")\n",
    "    print(\"classifier object\",classifier)\n",
    "\n",
    "\n",
    "    y_pre = obj_util.y_prediction(x_train, classifier)\n",
    "    print(\"\\n\\n y_prediction:\",y_pre)\n",
    "    print(y_pre.shape)\n",
    "    \n",
    "    accuracy_score,average_precision,auc=obj_util.accuracy(y_pre,y_train)\n",
    "    \n",
    "    print('\\n\\nAverage accuracy_score:' , accuracy_score)\n",
    "\n",
    "    print('Average precision-recall score: {0:0.2f}'.format(average_precision))\n",
    "\n",
    "    print('Average Roc-AUC: %.3f' % auc)\n",
    "\n",
    "    cm = obj_util.confusion_matrix(y_train,y_pre)\n",
    "    print(\"\\n\\nConfusion Matrix:\\n\",cm)\n",
    "    \n",
    "    obj_util.visualization(x_train,y_train, classifier, \"DecisionTree Classification(Training set)\", \n",
    "                           \"Age\", \"Estimate Salary\")\n",
    "    \n",
    "    obj_util.create_piklefile(classifier,'DecisionTree.pkl' )\n",
    "    print(\"\\nPikle file created\")\n",
    "\n",
    "\n",
    "if __name__ == '__main__':\n",
    "    main()\n"
   ]
  },
  {
   "cell_type": "code",
   "execution_count": 25,
   "metadata": {},
   "outputs": [
    {
     "name": "stderr",
     "output_type": "stream",
     "text": [
      "'c' argument looks like a single numeric RGB or RGBA sequence, which should be avoided as value-mapping will have precedence in case its length matches with 'x' & 'y'.  Please use a 2-D array with a single row if you really want to specify the same RGB or RGBA value for all points.\n",
      "'c' argument looks like a single numeric RGB or RGBA sequence, which should be avoided as value-mapping will have precedence in case its length matches with 'x' & 'y'.  Please use a 2-D array with a single row if you really want to specify the same RGB or RGBA value for all points.\n"
     ]
    },
    {
     "name": "stdout",
     "output_type": "stream",
     "text": [
      "\n",
      "\n",
      " y_prediction: [0 0 1 0 1 0 1 1 0 1 0 1 0 1 0 1 0 0 0 1 0 0 0 0 0 0 1 0 1 1 0 1 0 0 1 0 0\n",
      " 1 0 1 0 1 1 1 1 0 0 0 1 1 0 0 0 0 0 0 1 0 0 0 1 0 0 0 0 1 0 0 1 1 1 1 0 1\n",
      " 0 0 1 0 1 1 0 0 0 0 0 0 1 1 0 0 1 0 0 1 0 0 0 0 0 0 1 1 0 0 0 0 0 0 1 0 0\n",
      " 1]\n",
      "(112,) (112,)\n",
      "\n",
      "\n",
      "Average accuracy_score: 84.82142857142857\n",
      "Average precision-recall score: 63.33\n",
      "Average Roc-AUC: 85.625\n",
      "\n",
      "\n",
      "Confusion Matrix:\n",
      " [[67 13]\n",
      " [ 4 28]]\n"
     ]
    },
    {
     "data": {
      "image/png": "[encoded data removed]",
      "text/plain": [
       "<Figure size 432x288 with 1 Axes>"
      ]
     },
     "metadata": {
      "needs_background": "light"
     },
     "output_type": "display_data"
    }
   ],
   "source": [
    "# cross validation        \n",
    "def Cross_validation():\n",
    "    file1 = open('DecisionTree.pkl', 'rb')\n",
    "    classifier1 = pickle.load(file1)\n",
    "\n",
    "    # y_prediction ( cross validation) \n",
    "    y_predicted1 = obj_util.y_prediction(x_crossval, classifier1)\n",
    "    print(\"\\n\\n y_prediction:\",y_predicted1)\n",
    "    \n",
    "    print(y_crossval.shape, y_predicted1.shape)\n",
    "    accuracy_score,average_precision,auc=obj_util.accuracy(y_predicted1, y_crossval)\n",
    "    \n",
    "    print('\\n\\nAverage accuracy_score:' , accuracy_score)\n",
    "\n",
    "    print('Average precision-recall score: {0:0.2f}'.format(average_precision))\n",
    "\n",
    "    print('Average Roc-AUC: %.3f' % auc)\n",
    "\n",
    "    cm = obj_util.confusion_matrix(y_crossval, y_predicted1)\n",
    "    print(\"\\n\\nConfusion Matrix:\\n\",cm)\n",
    "#     print(\"\\n\\nConfusion Matrix:\\n\",metrics.confusion_matrix(y_crossval, y_predicted1))\n",
    "    \n",
    "    obj_util.visualization(x_crossval, y_crossval, classifier1, \"DecisionTreeCross_validation set)\", \"Age\", \"Estimate Salary\")\n",
    "    \n",
    "    \n",
    "    \n",
    "\n",
    "Cross_validation()\n"
   ]
  },
  {
   "cell_type": "code",
   "execution_count": null,
   "metadata": {},
   "outputs": [],
   "source": []
  },
  {
   "cell_type": "code",
   "execution_count": null,
   "metadata": {},
   "outputs": [],
   "source": []
  }
 ],
 "metadata": {
  "kernelspec": {
   "display_name": "Python 3",
   "language": "python",
   "name": "python3"
  },
  "language_info": {
   "codemirror_mode": {
    "name": "ipython",
    "version": 3
   },
   "file_extension": ".py",
   "mimetype": "text/x-python",
   "name": "python",
   "nbconvert_exporter": "python",
   "pygments_lexer": "ipython3",
   "version": "3.7.2"
  }
 },
 "nbformat": 4,
 "nbformat_minor": 2
}
