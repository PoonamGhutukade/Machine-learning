{
 "cells": [
  {
   "cell_type": "code",
   "execution_count": 1,
   "metadata": {},
   "outputs": [],
   "source": [
    "#import libraries\n",
    "import pandas as pd\n",
    "import matplotlib.pyplot as plt\n",
    "\n",
    "# #confusion matix\n",
    "from sklearn import metrics\n",
    "# Calculate Accuracy\n",
    "from sklearn.metrics import *\n",
    "# to creating and reading pickle file\n",
    "import pickle \n",
    "\n",
    "import nltk\n",
    "# ignore warnings\n",
    "import warnings\n",
    "warnings.filterwarnings('ignore')\n",
    "\n",
    "# from util import Util_class as obj_util\n",
    "import importlib.util"
   ]
  },
  {
   "cell_type": "code",
   "execution_count": 2,
   "metadata": {},
   "outputs": [],
   "source": [
    "# importing template file \n",
    "spec = importlib.util.spec_from_file_location(\"Util_class\", \"/home/admin1/PycharmProjects/Machine-Learning/Week10/Util/util.py\")\n",
    "foo = importlib.util.module_from_spec(spec)\n",
    "spec.loader.exec_module(foo)\n",
    "# creating object of Template class\n",
    "obj_util = foo.Util_class()"
   ]
  },
  {
   "cell_type": "code",
   "execution_count": 3,
   "metadata": {},
   "outputs": [],
   "source": [
    "# load testing dataset\n",
    "test_file = open(\"CSV_files/Testing_file.csv\",\"rb\")\n",
    "x_test = pickle.load(test_file)\n",
    "y_test = pickle.load(test_file) \n",
    "test_file.close()"
   ]
  },
  {
   "cell_type": "code",
   "execution_count": 4,
   "metadata": {},
   "outputs": [
    {
     "data": {
      "text/plain": [
       "(300, (300, 1500))"
      ]
     },
     "execution_count": 4,
     "metadata": {},
     "output_type": "execute_result"
    }
   ],
   "source": [
    "len(x_test), x_test.shape"
   ]
  },
  {
   "cell_type": "code",
   "execution_count": 33,
   "metadata": {},
   "outputs": [],
   "source": [
    "#load model\n",
    "file1 = open('Naive_Bayes.pkl', 'rb')\n",
    "classifier = pickle.load(file1)\n",
    "obj_x = pickle.load(file1)"
   ]
  },
  {
   "cell_type": "code",
   "execution_count": 34,
   "metadata": {},
   "outputs": [],
   "source": [
    "# x tranform only bcoz we already fit this model while training\n",
    "x_test = obj_x.transform(x_test)"
   ]
  },
  {
   "cell_type": "code",
   "execution_count": 35,
   "metadata": {},
   "outputs": [
    {
     "name": "stdout",
     "output_type": "stream",
     "text": [
      "\n",
      "\n",
      "Confusion Matrix:\n",
      " [[ 92  51]\n",
      " [ 22 135]]\n",
      "\n",
      " Accuracy: average_precision_score : 69.74344222998425\n",
      "\n",
      "               precision    recall  f1-score   support\n",
      "\n",
      "           0       0.81      0.64      0.72       143\n",
      "           1       0.73      0.86      0.79       157\n",
      "\n",
      "    accuracy                           0.76       300\n",
      "   macro avg       0.77      0.75      0.75       300\n",
      "weighted avg       0.76      0.76      0.75       300\n",
      "\n",
      "\n",
      " ROC curve \n",
      "\n"
     ]
    },
    {
     "data": {
      "text/plain": [
       "<matplotlib.legend.Legend at 0x7f60187053c8>"
      ]
     },
     "execution_count": 35,
     "metadata": {},
     "output_type": "execute_result"
    },
    {
     "data": {
      "image/png": "[encoded data removed]",
      "text/plain": [
       "<Figure size 432x288 with 1 Axes>"
      ]
     },
     "metadata": {
      "needs_background": "light"
     },
     "output_type": "display_data"
    }
   ],
   "source": [
    "# y prediction\n",
    "y_pre = obj_util.y_prediction(x_test, classifier)\n",
    "\n",
    "# Confusion matrix\n",
    "cm = obj_util.confusion_matrix(y_test, y_pre)\n",
    "print(\"\\n\\nConfusion Matrix:\\n\",cm)\n",
    "\n",
    "# Calculate accuracy\n",
    "accuracy = average_precision_score(y_test, y_pre)* 100\n",
    "print(\"\\n Accuracy: average_precision_score :\", accuracy)\n",
    "\n",
    "print(\"\\n\",classification_report(y_test, y_pre))\n",
    "\n",
    "y_pred_prob = classifier.predict_proba(x_test)[:,1]\n",
    "\n",
    "# Visualisation\n",
    "print(\"\\n ROC curve \\n\")\n",
    "fpr, tpr, thresholds = roc_curve(y_test, y_pred_prob)\n",
    "# create plot\n",
    "plt.plot(fpr, tpr, label='ROC curve')\n",
    "plt.plot([0, 1], [0, 1], 'k--', label='Random guess')\n",
    "plt.xlabel('False Positive Rate')\n",
    "plt.ylabel('True Positive Rate')\n",
    "plt.title('ROC Curve')\n",
    "plt.xlim([-0.02, 1])\n",
    "plt.ylim([0, 1.02])\n",
    "plt.legend(loc=\"lower right\")\n"
   ]
  },
  {
   "cell_type": "code",
   "execution_count": 36,
   "metadata": {},
   "outputs": [
    {
     "name": "stdout",
     "output_type": "stream",
     "text": [
      "\n",
      "\n",
      "Average accuracy_score: 75.66666666666667\n",
      "Average precision-recall score: 69.74\n",
      "Accuracy by F1-score: 78.71720116618076\n"
     ]
    }
   ],
   "source": [
    "# calculate accuracy\n",
    "def accuracy(y_predict,y_actual):\n",
    "    # calculate accuracy \n",
    "    accuracy_score = metrics.accuracy_score(y_actual, y_predict) * 100\n",
    "    average_precision = average_precision_score(y_actual, y_predict) * 100\n",
    "    f1_score_acc = f1_score(y_actual, y_predict)* 100  \n",
    "    \n",
    "    return accuracy_score,average_precision,f1_score_acc\n",
    "\n",
    "accuracy_score,average_precision,f1_score_acc = accuracy(y_pre,y_test)\n",
    "print('\\n\\nAverage accuracy_score:' , accuracy_score)\n",
    "print('Average precision-recall score: {0:0.2f}'.format(average_precision))\n",
    "print('Accuracy by F1-score:',f1_score_acc)"
   ]
  },
  {
   "cell_type": "code",
   "execution_count": null,
   "metadata": {},
   "outputs": [],
   "source": []
  }
 ],
 "metadata": {
  "kernelspec": {
   "display_name": "Python 3",
   "language": "python",
   "name": "python3"
  },
  "language_info": {
   "codemirror_mode": {
    "name": "ipython",
    "version": 3
   },
   "file_extension": ".py",
   "mimetype": "text/x-python",
   "name": "python",
   "nbconvert_exporter": "python",
   "pygments_lexer": "ipython3",
   "version": "3.7.2"
  }
 },
 "nbformat": 4,
 "nbformat_minor": 2
}
