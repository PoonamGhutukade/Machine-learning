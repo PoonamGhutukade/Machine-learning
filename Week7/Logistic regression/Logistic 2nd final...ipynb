{
 "cells": [
  {
   "cell_type": "code",
   "execution_count": 24,
   "metadata": {},
   "outputs": [],
   "source": [
    "import pandas as pd\n",
    "import pandas.api.types as ptypes\n",
    "import numpy as np\n",
    "import seaborn as sb\n",
    "from matplotlib import pyplot as plt  "
   ]
  },
  {
   "cell_type": "code",
   "execution_count": 25,
   "metadata": {},
   "outputs": [],
   "source": [
    "#load dataset\n",
    "df_original= pd.read_csv('classification_2.csv')"
   ]
  },
  {
   "cell_type": "code",
   "execution_count": 26,
   "metadata": {},
   "outputs": [
    {
     "data": {
      "text/html": [
       "<div>\n",
       "<style scoped>\n",
       "    .dataframe tbody tr th:only-of-type {\n",
       "        vertical-align: middle;\n",
       "    }\n",
       "\n",
       "    .dataframe tbody tr th {\n",
       "        vertical-align: top;\n",
       "    }\n",
       "\n",
       "    .dataframe thead th {\n",
       "        text-align: right;\n",
       "    }\n",
       "</style>\n",
       "<table border=\"1\" class=\"dataframe\">\n",
       "  <thead>\n",
       "    <tr style=\"text-align: right;\">\n",
       "      <th></th>\n",
       "      <th>39</th>\n",
       "      <th>State-gov</th>\n",
       "      <th>77516</th>\n",
       "      <th>Bachelors</th>\n",
       "      <th>13</th>\n",
       "      <th>Never-married</th>\n",
       "      <th>Adm-clerical</th>\n",
       "      <th>Not-in-family</th>\n",
       "      <th>White</th>\n",
       "      <th>Male</th>\n",
       "      <th>2174</th>\n",
       "      <th>0</th>\n",
       "      <th>40</th>\n",
       "      <th>United-States</th>\n",
       "      <th>&lt;=50K</th>\n",
       "    </tr>\n",
       "  </thead>\n",
       "  <tbody>\n",
       "    <tr>\n",
       "      <th>0</th>\n",
       "      <td>50</td>\n",
       "      <td>Self-emp-not-inc</td>\n",
       "      <td>83311</td>\n",
       "      <td>Bachelors</td>\n",
       "      <td>13</td>\n",
       "      <td>Married-civ-spouse</td>\n",
       "      <td>Exec-managerial</td>\n",
       "      <td>Husband</td>\n",
       "      <td>White</td>\n",
       "      <td>Male</td>\n",
       "      <td>0</td>\n",
       "      <td>0</td>\n",
       "      <td>13</td>\n",
       "      <td>United-States</td>\n",
       "      <td>&lt;=50K</td>\n",
       "    </tr>\n",
       "    <tr>\n",
       "      <th>1</th>\n",
       "      <td>38</td>\n",
       "      <td>Private</td>\n",
       "      <td>215646</td>\n",
       "      <td>HS-grad</td>\n",
       "      <td>9</td>\n",
       "      <td>Divorced</td>\n",
       "      <td>Handlers-cleaners</td>\n",
       "      <td>Not-in-family</td>\n",
       "      <td>White</td>\n",
       "      <td>Male</td>\n",
       "      <td>0</td>\n",
       "      <td>0</td>\n",
       "      <td>40</td>\n",
       "      <td>United-States</td>\n",
       "      <td>&lt;=50K</td>\n",
       "    </tr>\n",
       "    <tr>\n",
       "      <th>2</th>\n",
       "      <td>53</td>\n",
       "      <td>Private</td>\n",
       "      <td>234721</td>\n",
       "      <td>11th</td>\n",
       "      <td>7</td>\n",
       "      <td>Married-civ-spouse</td>\n",
       "      <td>Handlers-cleaners</td>\n",
       "      <td>Husband</td>\n",
       "      <td>Black</td>\n",
       "      <td>Male</td>\n",
       "      <td>0</td>\n",
       "      <td>0</td>\n",
       "      <td>40</td>\n",
       "      <td>United-States</td>\n",
       "      <td>&lt;=50K</td>\n",
       "    </tr>\n",
       "    <tr>\n",
       "      <th>3</th>\n",
       "      <td>28</td>\n",
       "      <td>Private</td>\n",
       "      <td>338409</td>\n",
       "      <td>Bachelors</td>\n",
       "      <td>13</td>\n",
       "      <td>Married-civ-spouse</td>\n",
       "      <td>Prof-specialty</td>\n",
       "      <td>Wife</td>\n",
       "      <td>Black</td>\n",
       "      <td>Female</td>\n",
       "      <td>0</td>\n",
       "      <td>0</td>\n",
       "      <td>40</td>\n",
       "      <td>Cuba</td>\n",
       "      <td>&lt;=50K</td>\n",
       "    </tr>\n",
       "    <tr>\n",
       "      <th>4</th>\n",
       "      <td>37</td>\n",
       "      <td>Private</td>\n",
       "      <td>284582</td>\n",
       "      <td>Masters</td>\n",
       "      <td>14</td>\n",
       "      <td>Married-civ-spouse</td>\n",
       "      <td>Exec-managerial</td>\n",
       "      <td>Wife</td>\n",
       "      <td>White</td>\n",
       "      <td>Female</td>\n",
       "      <td>0</td>\n",
       "      <td>0</td>\n",
       "      <td>40</td>\n",
       "      <td>United-States</td>\n",
       "      <td>&lt;=50K</td>\n",
       "    </tr>\n",
       "  </tbody>\n",
       "</table>\n",
       "</div>"
      ],
      "text/plain": [
       "   39          State-gov   77516   Bachelors   13        Never-married  \\\n",
       "0  50   Self-emp-not-inc   83311   Bachelors   13   Married-civ-spouse   \n",
       "1  38            Private  215646     HS-grad    9             Divorced   \n",
       "2  53            Private  234721        11th    7   Married-civ-spouse   \n",
       "3  28            Private  338409   Bachelors   13   Married-civ-spouse   \n",
       "4  37            Private  284582     Masters   14   Married-civ-spouse   \n",
       "\n",
       "         Adm-clerical   Not-in-family   White     Male   2174   0   40  \\\n",
       "0     Exec-managerial         Husband   White     Male      0   0   13   \n",
       "1   Handlers-cleaners   Not-in-family   White     Male      0   0   40   \n",
       "2   Handlers-cleaners         Husband   Black     Male      0   0   40   \n",
       "3      Prof-specialty            Wife   Black   Female      0   0   40   \n",
       "4     Exec-managerial            Wife   White   Female      0   0   40   \n",
       "\n",
       "    United-States   <=50K  \n",
       "0   United-States   <=50K  \n",
       "1   United-States   <=50K  \n",
       "2   United-States   <=50K  \n",
       "3            Cuba   <=50K  \n",
       "4   United-States   <=50K  "
      ]
     },
     "execution_count": 26,
     "metadata": {},
     "output_type": "execute_result"
    }
   ],
   "source": [
    "df = df_original\n",
    "# show top 5 rows of dataset\n",
    "df.head()\n"
   ]
  },
  {
   "cell_type": "code",
   "execution_count": 27,
   "metadata": {},
   "outputs": [
    {
     "data": {
      "text/html": [
       "<div>\n",
       "<style scoped>\n",
       "    .dataframe tbody tr th:only-of-type {\n",
       "        vertical-align: middle;\n",
       "    }\n",
       "\n",
       "    .dataframe tbody tr th {\n",
       "        vertical-align: top;\n",
       "    }\n",
       "\n",
       "    .dataframe thead th {\n",
       "        text-align: right;\n",
       "    }\n",
       "</style>\n",
       "<table border=\"1\" class=\"dataframe\">\n",
       "  <thead>\n",
       "    <tr style=\"text-align: right;\">\n",
       "      <th></th>\n",
       "      <th>Age</th>\n",
       "      <th>Workclass</th>\n",
       "      <th>fnlwgt</th>\n",
       "      <th>Education</th>\n",
       "      <th>Education-Num</th>\n",
       "      <th>Martial Status</th>\n",
       "      <th>Occupation</th>\n",
       "      <th>Relationship</th>\n",
       "      <th>Race</th>\n",
       "      <th>Sex</th>\n",
       "      <th>Capital Gain</th>\n",
       "      <th>Capital Loss</th>\n",
       "      <th>Hours per week</th>\n",
       "      <th>Country</th>\n",
       "      <th>Target</th>\n",
       "    </tr>\n",
       "  </thead>\n",
       "  <tbody>\n",
       "    <tr>\n",
       "      <th>0</th>\n",
       "      <td>50</td>\n",
       "      <td>Self-emp-not-inc</td>\n",
       "      <td>83311</td>\n",
       "      <td>Bachelors</td>\n",
       "      <td>13</td>\n",
       "      <td>Married-civ-spouse</td>\n",
       "      <td>Exec-managerial</td>\n",
       "      <td>Husband</td>\n",
       "      <td>White</td>\n",
       "      <td>Male</td>\n",
       "      <td>0</td>\n",
       "      <td>0</td>\n",
       "      <td>13</td>\n",
       "      <td>United-States</td>\n",
       "      <td>&lt;=50K</td>\n",
       "    </tr>\n",
       "    <tr>\n",
       "      <th>1</th>\n",
       "      <td>38</td>\n",
       "      <td>Private</td>\n",
       "      <td>215646</td>\n",
       "      <td>HS-grad</td>\n",
       "      <td>9</td>\n",
       "      <td>Divorced</td>\n",
       "      <td>Handlers-cleaners</td>\n",
       "      <td>Not-in-family</td>\n",
       "      <td>White</td>\n",
       "      <td>Male</td>\n",
       "      <td>0</td>\n",
       "      <td>0</td>\n",
       "      <td>40</td>\n",
       "      <td>United-States</td>\n",
       "      <td>&lt;=50K</td>\n",
       "    </tr>\n",
       "    <tr>\n",
       "      <th>2</th>\n",
       "      <td>53</td>\n",
       "      <td>Private</td>\n",
       "      <td>234721</td>\n",
       "      <td>11th</td>\n",
       "      <td>7</td>\n",
       "      <td>Married-civ-spouse</td>\n",
       "      <td>Handlers-cleaners</td>\n",
       "      <td>Husband</td>\n",
       "      <td>Black</td>\n",
       "      <td>Male</td>\n",
       "      <td>0</td>\n",
       "      <td>0</td>\n",
       "      <td>40</td>\n",
       "      <td>United-States</td>\n",
       "      <td>&lt;=50K</td>\n",
       "    </tr>\n",
       "    <tr>\n",
       "      <th>3</th>\n",
       "      <td>28</td>\n",
       "      <td>Private</td>\n",
       "      <td>338409</td>\n",
       "      <td>Bachelors</td>\n",
       "      <td>13</td>\n",
       "      <td>Married-civ-spouse</td>\n",
       "      <td>Prof-specialty</td>\n",
       "      <td>Wife</td>\n",
       "      <td>Black</td>\n",
       "      <td>Female</td>\n",
       "      <td>0</td>\n",
       "      <td>0</td>\n",
       "      <td>40</td>\n",
       "      <td>Cuba</td>\n",
       "      <td>&lt;=50K</td>\n",
       "    </tr>\n",
       "    <tr>\n",
       "      <th>4</th>\n",
       "      <td>37</td>\n",
       "      <td>Private</td>\n",
       "      <td>284582</td>\n",
       "      <td>Masters</td>\n",
       "      <td>14</td>\n",
       "      <td>Married-civ-spouse</td>\n",
       "      <td>Exec-managerial</td>\n",
       "      <td>Wife</td>\n",
       "      <td>White</td>\n",
       "      <td>Female</td>\n",
       "      <td>0</td>\n",
       "      <td>0</td>\n",
       "      <td>40</td>\n",
       "      <td>United-States</td>\n",
       "      <td>&lt;=50K</td>\n",
       "    </tr>\n",
       "  </tbody>\n",
       "</table>\n",
       "</div>"
      ],
      "text/plain": [
       "   Age          Workclass  fnlwgt   Education  Education-Num  \\\n",
       "0   50   Self-emp-not-inc   83311   Bachelors             13   \n",
       "1   38            Private  215646     HS-grad              9   \n",
       "2   53            Private  234721        11th              7   \n",
       "3   28            Private  338409   Bachelors             13   \n",
       "4   37            Private  284582     Masters             14   \n",
       "\n",
       "        Martial Status          Occupation    Relationship    Race      Sex  \\\n",
       "0   Married-civ-spouse     Exec-managerial         Husband   White     Male   \n",
       "1             Divorced   Handlers-cleaners   Not-in-family   White     Male   \n",
       "2   Married-civ-spouse   Handlers-cleaners         Husband   Black     Male   \n",
       "3   Married-civ-spouse      Prof-specialty            Wife   Black   Female   \n",
       "4   Married-civ-spouse     Exec-managerial            Wife   White   Female   \n",
       "\n",
       "   Capital Gain  Capital Loss  Hours per week         Country  Target  \n",
       "0             0             0              13   United-States   <=50K  \n",
       "1             0             0              40   United-States   <=50K  \n",
       "2             0             0              40   United-States   <=50K  \n",
       "3             0             0              40            Cuba   <=50K  \n",
       "4             0             0              40   United-States   <=50K  "
      ]
     },
     "execution_count": 27,
     "metadata": {},
     "output_type": "execute_result"
    }
   ],
   "source": [
    "df.columns = [\"Age\", \"Workclass\", \"fnlwgt\", \"Education\", \"Education-Num\", \"Martial Status\",\n",
    "        \"Occupation\", \"Relationship\", \"Race\", \"Sex\", \"Capital Gain\", \"Capital Loss\",\n",
    "        \"Hours per week\", \"Country\", \"Target\"]\n",
    "df.head()"
   ]
  },
  {
   "cell_type": "code",
   "execution_count": 28,
   "metadata": {},
   "outputs": [],
   "source": [
    "# df.isnull().sum()"
   ]
  },
  {
   "cell_type": "code",
   "execution_count": 29,
   "metadata": {},
   "outputs": [
    {
     "data": {
      "text/html": [
       "<div>\n",
       "<style scoped>\n",
       "    .dataframe tbody tr th:only-of-type {\n",
       "        vertical-align: middle;\n",
       "    }\n",
       "\n",
       "    .dataframe tbody tr th {\n",
       "        vertical-align: top;\n",
       "    }\n",
       "\n",
       "    .dataframe thead th {\n",
       "        text-align: right;\n",
       "    }\n",
       "</style>\n",
       "<table border=\"1\" class=\"dataframe\">\n",
       "  <thead>\n",
       "    <tr style=\"text-align: right;\">\n",
       "      <th></th>\n",
       "      <th>Age</th>\n",
       "      <th>Workclass</th>\n",
       "      <th>fnlwgt</th>\n",
       "      <th>Education</th>\n",
       "      <th>Education-Num</th>\n",
       "      <th>Martial Status</th>\n",
       "      <th>Occupation</th>\n",
       "      <th>Relationship</th>\n",
       "      <th>Race</th>\n",
       "      <th>Sex</th>\n",
       "      <th>Capital Gain</th>\n",
       "      <th>Capital Loss</th>\n",
       "      <th>Hours per week</th>\n",
       "      <th>Country</th>\n",
       "      <th>Target</th>\n",
       "    </tr>\n",
       "  </thead>\n",
       "  <tbody>\n",
       "    <tr>\n",
       "      <th>0</th>\n",
       "      <td>50</td>\n",
       "      <td>Self-emp-not-inc</td>\n",
       "      <td>83311</td>\n",
       "      <td>Bachelors</td>\n",
       "      <td>13</td>\n",
       "      <td>Married-civ-spouse</td>\n",
       "      <td>Exec-managerial</td>\n",
       "      <td>Husband</td>\n",
       "      <td>White</td>\n",
       "      <td>Male</td>\n",
       "      <td>0</td>\n",
       "      <td>0</td>\n",
       "      <td>13</td>\n",
       "      <td>United-States</td>\n",
       "      <td>&lt;=50K</td>\n",
       "    </tr>\n",
       "  </tbody>\n",
       "</table>\n",
       "</div>"
      ],
      "text/plain": [
       "   Age          Workclass  fnlwgt   Education  Education-Num  \\\n",
       "0   50   Self-emp-not-inc   83311   Bachelors             13   \n",
       "\n",
       "        Martial Status        Occupation Relationship    Race    Sex  \\\n",
       "0   Married-civ-spouse   Exec-managerial      Husband   White   Male   \n",
       "\n",
       "   Capital Gain  Capital Loss  Hours per week         Country  Target  \n",
       "0             0             0              13   United-States   <=50K  "
      ]
     },
     "metadata": {},
     "output_type": "display_data"
    }
   ],
   "source": [
    "# Success - Display the first record\n",
    "display(df.head(n=1))"
   ]
  },
  {
   "cell_type": "code",
   "execution_count": 30,
   "metadata": {},
   "outputs": [
    {
     "name": "stdout",
     "output_type": "stream",
     "text": [
      "<class 'pandas.core.frame.DataFrame'>\n",
      "RangeIndex: 32560 entries, 0 to 32559\n",
      "Data columns (total 15 columns):\n",
      "Age               32560 non-null int64\n",
      "Workclass         32560 non-null object\n",
      "fnlwgt            32560 non-null int64\n",
      "Education         32560 non-null object\n",
      "Education-Num     32560 non-null int64\n",
      "Martial Status    32560 non-null object\n",
      "Occupation        32560 non-null object\n",
      "Relationship      32560 non-null object\n",
      "Race              32560 non-null object\n",
      "Sex               32560 non-null object\n",
      "Capital Gain      32560 non-null int64\n",
      "Capital Loss      32560 non-null int64\n",
      "Hours per week    32560 non-null int64\n",
      "Country           32560 non-null object\n",
      "Target            32560 non-null object\n",
      "dtypes: int64(6), object(9)\n",
      "memory usage: 3.7+ MB\n"
     ]
    }
   ],
   "source": [
    "# check dataset information\n",
    "df.info()"
   ]
  },
  {
   "cell_type": "code",
   "execution_count": 31,
   "metadata": {},
   "outputs": [
    {
     "data": {
      "text/html": [
       "<div>\n",
       "<style scoped>\n",
       "    .dataframe tbody tr th:only-of-type {\n",
       "        vertical-align: middle;\n",
       "    }\n",
       "\n",
       "    .dataframe tbody tr th {\n",
       "        vertical-align: top;\n",
       "    }\n",
       "\n",
       "    .dataframe thead th {\n",
       "        text-align: right;\n",
       "    }\n",
       "</style>\n",
       "<table border=\"1\" class=\"dataframe\">\n",
       "  <thead>\n",
       "    <tr style=\"text-align: right;\">\n",
       "      <th></th>\n",
       "      <th>count</th>\n",
       "      <th>mean</th>\n",
       "      <th>std</th>\n",
       "      <th>min</th>\n",
       "      <th>25%</th>\n",
       "      <th>50%</th>\n",
       "      <th>75%</th>\n",
       "      <th>max</th>\n",
       "    </tr>\n",
       "  </thead>\n",
       "  <tbody>\n",
       "    <tr>\n",
       "      <th>Age</th>\n",
       "      <td>32560.0</td>\n",
       "      <td>38.581634</td>\n",
       "      <td>13.640642</td>\n",
       "      <td>17.0</td>\n",
       "      <td>28.0</td>\n",
       "      <td>37.0</td>\n",
       "      <td>48.0</td>\n",
       "      <td>90.0</td>\n",
       "    </tr>\n",
       "    <tr>\n",
       "      <th>fnlwgt</th>\n",
       "      <td>32560.0</td>\n",
       "      <td>189781.814373</td>\n",
       "      <td>105549.764924</td>\n",
       "      <td>12285.0</td>\n",
       "      <td>117831.5</td>\n",
       "      <td>178363.0</td>\n",
       "      <td>237054.5</td>\n",
       "      <td>1484705.0</td>\n",
       "    </tr>\n",
       "    <tr>\n",
       "      <th>Education-Num</th>\n",
       "      <td>32560.0</td>\n",
       "      <td>10.080590</td>\n",
       "      <td>2.572709</td>\n",
       "      <td>1.0</td>\n",
       "      <td>9.0</td>\n",
       "      <td>10.0</td>\n",
       "      <td>12.0</td>\n",
       "      <td>16.0</td>\n",
       "    </tr>\n",
       "    <tr>\n",
       "      <th>Capital Gain</th>\n",
       "      <td>32560.0</td>\n",
       "      <td>1077.615172</td>\n",
       "      <td>7385.402999</td>\n",
       "      <td>0.0</td>\n",
       "      <td>0.0</td>\n",
       "      <td>0.0</td>\n",
       "      <td>0.0</td>\n",
       "      <td>99999.0</td>\n",
       "    </tr>\n",
       "    <tr>\n",
       "      <th>Capital Loss</th>\n",
       "      <td>32560.0</td>\n",
       "      <td>87.306511</td>\n",
       "      <td>402.966116</td>\n",
       "      <td>0.0</td>\n",
       "      <td>0.0</td>\n",
       "      <td>0.0</td>\n",
       "      <td>0.0</td>\n",
       "      <td>4356.0</td>\n",
       "    </tr>\n",
       "    <tr>\n",
       "      <th>Hours per week</th>\n",
       "      <td>32560.0</td>\n",
       "      <td>40.437469</td>\n",
       "      <td>12.347618</td>\n",
       "      <td>1.0</td>\n",
       "      <td>40.0</td>\n",
       "      <td>40.0</td>\n",
       "      <td>45.0</td>\n",
       "      <td>99.0</td>\n",
       "    </tr>\n",
       "  </tbody>\n",
       "</table>\n",
       "</div>"
      ],
      "text/plain": [
       "                  count           mean            std      min       25%  \\\n",
       "Age             32560.0      38.581634      13.640642     17.0      28.0   \n",
       "fnlwgt          32560.0  189781.814373  105549.764924  12285.0  117831.5   \n",
       "Education-Num   32560.0      10.080590       2.572709      1.0       9.0   \n",
       "Capital Gain    32560.0    1077.615172    7385.402999      0.0       0.0   \n",
       "Capital Loss    32560.0      87.306511     402.966116      0.0       0.0   \n",
       "Hours per week  32560.0      40.437469      12.347618      1.0      40.0   \n",
       "\n",
       "                     50%       75%        max  \n",
       "Age                 37.0      48.0       90.0  \n",
       "fnlwgt          178363.0  237054.5  1484705.0  \n",
       "Education-Num       10.0      12.0       16.0  \n",
       "Capital Gain         0.0       0.0    99999.0  \n",
       "Capital Loss         0.0       0.0     4356.0  \n",
       "Hours per week      40.0      45.0       99.0  "
      ]
     },
     "execution_count": 31,
     "metadata": {},
     "output_type": "execute_result"
    }
   ],
   "source": [
    "df.describe().T"
   ]
  },
  {
   "cell_type": "code",
   "execution_count": 32,
   "metadata": {},
   "outputs": [
    {
     "name": "stdout",
     "output_type": "stream",
     "text": [
      "Dataset has 32560 records & 15 columns\n"
     ]
    }
   ],
   "source": [
    "# Total number of records\n",
    "print(\"Dataset has {0} records & {1} columns\".format(df.shape[0], df.shape[1]))"
   ]
  },
  {
   "cell_type": "code",
   "execution_count": 33,
   "metadata": {},
   "outputs": [
    {
     "name": "stdout",
     "output_type": "stream",
     "text": [
      "Total col 15\n"
     ]
    },
    {
     "data": {
      "text/plain": [
       "Index(['Age', 'Workclass', 'fnlwgt', 'Education', 'Education-Num',\n",
       "       'Martial Status', 'Occupation', 'Relationship', 'Race', 'Sex',\n",
       "       'Capital Gain', 'Capital Loss', 'Hours per week', 'Country', 'Target'],\n",
       "      dtype='object')"
      ]
     },
     "execution_count": 33,
     "metadata": {},
     "output_type": "execute_result"
    }
   ],
   "source": [
    "\n",
    "print(\"Total col\",len(df.columns))\n",
    "df.columns"
   ]
  },
  {
   "cell_type": "code",
   "execution_count": 34,
   "metadata": {},
   "outputs": [
    {
     "data": {
      "text/plain": [
       "Age               0\n",
       "Workclass         0\n",
       "fnlwgt            0\n",
       "Education         0\n",
       "Education-Num     0\n",
       "Martial Status    0\n",
       "Occupation        0\n",
       "Relationship      0\n",
       "Race              0\n",
       "Sex               0\n",
       "Capital Gain      0\n",
       "Capital Loss      0\n",
       "Hours per week    0\n",
       "Country           0\n",
       "Target            0\n",
       "dtype: int64"
      ]
     },
     "execution_count": 34,
     "metadata": {},
     "output_type": "execute_result"
    }
   ],
   "source": [
    "df.isnull().sum()"
   ]
  },
  {
   "cell_type": "code",
   "execution_count": 35,
   "metadata": {},
   "outputs": [],
   "source": [
    "df.replace('Nan', df.mean(), inplace=True)"
   ]
  },
  {
   "cell_type": "code",
   "execution_count": 36,
   "metadata": {},
   "outputs": [
    {
     "data": {
      "text/plain": [
       "Age                                17\n",
       "Workclass                           ?\n",
       "fnlwgt                          12285\n",
       "Education                        10th\n",
       "Education-Num                       1\n",
       "Martial Status               Divorced\n",
       "Occupation                          ?\n",
       "Relationship                  Husband\n",
       "Race               Amer-Indian-Eskimo\n",
       "Sex                            Female\n",
       "Capital Gain                        0\n",
       "Capital Loss                        0\n",
       "Hours per week                      1\n",
       "Country                             ?\n",
       "Target                          <=50K\n",
       "dtype: object"
      ]
     },
     "execution_count": 36,
     "metadata": {},
     "output_type": "execute_result"
    }
   ],
   "source": [
    "df.min()"
   ]
  },
  {
   "cell_type": "code",
   "execution_count": 37,
   "metadata": {},
   "outputs": [
    {
     "name": "stdout",
     "output_type": "stream",
     "text": [
      "Individuals making more than $50,000: 0\n",
      "Individuals making more than $50,000: 0\n",
      "Percentage of individuals making more than $50,000: 0.0%\n"
     ]
    }
   ],
   "source": [
    "# Total number of records\n",
    "n_records = df.shape[0]\n",
    "# Number of records where individual's income is more than $50,000\n",
    "n_greater_50k = df[df['Target'] == '<=50K'].shape[0]\n",
    "print(\"Individuals making more than $50,000: {}\".format(n_greater_50k))\n",
    "\n",
    "# Number of records where individual's income is more than $50,000\n",
    "n_greater_50k = df[df['Target'] == '>50K'].shape[0]\n",
    "print(\"Individuals making more than $50,000: {}\".format(n_greater_50k))\n",
    "\n",
    "# Percentage of individuals whose income is more than $50,000\n",
    "greater_percent = (n_greater_50k / n_records) * 100\n",
    "print(\"Percentage of individuals making more than $50,000: {}%\".format(greater_percent))"
   ]
  },
  {
   "cell_type": "code",
   "execution_count": 38,
   "metadata": {},
   "outputs": [
    {
     "data": {
      "text/plain": [
       " United-States    0.895854\n",
       " Mexico           0.019748\n",
       " ?                0.017905\n",
       " Philippines      0.006081\n",
       " Germany          0.004208\n",
       "Name: Country, dtype: float64"
      ]
     },
     "execution_count": 38,
     "metadata": {},
     "output_type": "execute_result"
    }
   ],
   "source": [
    "temp = df[\"Country\"].value_counts() / df.shape[0]\n",
    "temp.head()\n",
    "#89% of the samples are for people from the US. Mexico comes next with less than 2%."
   ]
  },
  {
   "cell_type": "code",
   "execution_count": 39,
   "metadata": {},
   "outputs": [
    {
     "data": {
      "text/plain": [
       "<matplotlib.axes._subplots.AxesSubplot at 0x7fe6cca2dc18>"
      ]
     },
     "execution_count": 39,
     "metadata": {},
     "output_type": "execute_result"
    },
    {
     "data": {
      "image/png": "[encoded data removed]",
      "text/plain": [
       "<Figure size 432x288 with 2 Axes>"
      ]
     },
     "metadata": {
      "needs_background": "light"
     },
     "output_type": "display_data"
    }
   ],
   "source": [
    "corr = df.corr()\n",
    "sb.heatmap(corr)"
   ]
  },
  {
   "cell_type": "code",
   "execution_count": 40,
   "metadata": {},
   "outputs": [
    {
     "data": {
      "text/html": [
       "<div>\n",
       "<style scoped>\n",
       "    .dataframe tbody tr th:only-of-type {\n",
       "        vertical-align: middle;\n",
       "    }\n",
       "\n",
       "    .dataframe tbody tr th {\n",
       "        vertical-align: top;\n",
       "    }\n",
       "\n",
       "    .dataframe thead th {\n",
       "        text-align: right;\n",
       "    }\n",
       "</style>\n",
       "<table border=\"1\" class=\"dataframe\">\n",
       "  <thead>\n",
       "    <tr style=\"text-align: right;\">\n",
       "      <th></th>\n",
       "      <th>Age</th>\n",
       "      <th>fnlwgt</th>\n",
       "      <th>Education-Num</th>\n",
       "      <th>Capital Gain</th>\n",
       "      <th>Capital Loss</th>\n",
       "      <th>Hours per week</th>\n",
       "    </tr>\n",
       "  </thead>\n",
       "  <tbody>\n",
       "    <tr>\n",
       "      <th>Age</th>\n",
       "      <td>1.000000</td>\n",
       "      <td>-0.076646</td>\n",
       "      <td>0.036527</td>\n",
       "      <td>0.077674</td>\n",
       "      <td>0.057775</td>\n",
       "      <td>0.068756</td>\n",
       "    </tr>\n",
       "    <tr>\n",
       "      <th>fnlwgt</th>\n",
       "      <td>-0.076646</td>\n",
       "      <td>1.000000</td>\n",
       "      <td>-0.043159</td>\n",
       "      <td>0.000437</td>\n",
       "      <td>-0.010259</td>\n",
       "      <td>-0.018770</td>\n",
       "    </tr>\n",
       "    <tr>\n",
       "      <th>Education-Num</th>\n",
       "      <td>0.036527</td>\n",
       "      <td>-0.043159</td>\n",
       "      <td>1.000000</td>\n",
       "      <td>0.122627</td>\n",
       "      <td>0.079932</td>\n",
       "      <td>0.148127</td>\n",
       "    </tr>\n",
       "    <tr>\n",
       "      <th>Capital Gain</th>\n",
       "      <td>0.077674</td>\n",
       "      <td>0.000437</td>\n",
       "      <td>0.122627</td>\n",
       "      <td>1.000000</td>\n",
       "      <td>-0.031614</td>\n",
       "      <td>0.078409</td>\n",
       "    </tr>\n",
       "    <tr>\n",
       "      <th>Capital Loss</th>\n",
       "      <td>0.057775</td>\n",
       "      <td>-0.010259</td>\n",
       "      <td>0.079932</td>\n",
       "      <td>-0.031614</td>\n",
       "      <td>1.000000</td>\n",
       "      <td>0.054256</td>\n",
       "    </tr>\n",
       "    <tr>\n",
       "      <th>Hours per week</th>\n",
       "      <td>0.068756</td>\n",
       "      <td>-0.018770</td>\n",
       "      <td>0.148127</td>\n",
       "      <td>0.078409</td>\n",
       "      <td>0.054256</td>\n",
       "      <td>1.000000</td>\n",
       "    </tr>\n",
       "  </tbody>\n",
       "</table>\n",
       "</div>"
      ],
      "text/plain": [
       "                     Age    fnlwgt  Education-Num  Capital Gain  Capital Loss  \\\n",
       "Age             1.000000 -0.076646       0.036527      0.077674      0.057775   \n",
       "fnlwgt         -0.076646  1.000000      -0.043159      0.000437     -0.010259   \n",
       "Education-Num   0.036527 -0.043159       1.000000      0.122627      0.079932   \n",
       "Capital Gain    0.077674  0.000437       0.122627      1.000000     -0.031614   \n",
       "Capital Loss    0.057775 -0.010259       0.079932     -0.031614      1.000000   \n",
       "Hours per week  0.068756 -0.018770       0.148127      0.078409      0.054256   \n",
       "\n",
       "                Hours per week  \n",
       "Age                   0.068756  \n",
       "fnlwgt               -0.018770  \n",
       "Education-Num         0.148127  \n",
       "Capital Gain          0.078409  \n",
       "Capital Loss          0.054256  \n",
       "Hours per week        1.000000  "
      ]
     },
     "execution_count": 40,
     "metadata": {},
     "output_type": "execute_result"
    }
   ],
   "source": [
    "df.corr()"
   ]
  },
  {
   "cell_type": "code",
   "execution_count": 41,
   "metadata": {},
   "outputs": [],
   "source": [
    "# get dummy variables whose are in categorical type\n",
    "for name in df.columns:\n",
    "    if df[name].dtype != \"int64\":\n",
    "        df[name] = pd.get_dummies(df[name]) "
   ]
  },
  {
   "cell_type": "code",
   "execution_count": 42,
   "metadata": {},
   "outputs": [
    {
     "data": {
      "text/plain": [
       "<matplotlib.axes._subplots.AxesSubplot at 0x7fe6cc23b358>"
      ]
     },
     "execution_count": 42,
     "metadata": {},
     "output_type": "execute_result"
    },
    {
     "data": {
      "image/png": "[encoded data removed]",
      "text/plain": [
       "<Figure size 432x288 with 2 Axes>"
      ]
     },
     "metadata": {
      "needs_background": "light"
     },
     "output_type": "display_data"
    }
   ],
   "source": [
    "# take correlation between diff features\n",
    "corr = df.corr()\n",
    "sb.heatmap(corr)"
   ]
  },
  {
   "cell_type": "code",
   "execution_count": 43,
   "metadata": {},
   "outputs": [
    {
     "name": "stdout",
     "output_type": "stream",
     "text": [
      "Target            1.000000\n",
      "Sex               0.215995\n",
      "Martial Status    0.127003\n",
      "Occupation        0.078587\n",
      "Workclass         0.078203\n",
      "Education         0.070041\n",
      "Race              0.028723\n",
      "fnlwgt            0.009481\n",
      "Country          -0.003035\n",
      "Capital Loss     -0.150523\n",
      "Capital Gain     -0.223333\n",
      "Hours per week   -0.229690\n",
      "Age              -0.234039\n",
      "Education-Num    -0.335182\n",
      "Relationship     -0.401027\n",
      "Name: Target, dtype: float64 \n",
      "\n",
      "----------------------\n",
      "Education         0.070041\n",
      "Race              0.028723\n",
      "fnlwgt            0.009481\n",
      "Country          -0.003035\n",
      "Capital Loss     -0.150523\n",
      "Capital Gain     -0.223333\n",
      "Hours per week   -0.229690\n",
      "Age              -0.234039\n",
      "Education-Num    -0.335182\n",
      "Relationship     -0.401027\n",
      "Name: Target, dtype: float64\n"
     ]
    }
   ],
   "source": [
    "print (corr['Target'].sort_values(ascending=False)[:15], '\\n') #top 15 values\n",
    "print ('----------------------')\n",
    "print (corr['Target'].sort_values(ascending=False)[-10:]) #last 5 values`"
   ]
  },
  {
   "cell_type": "code",
   "execution_count": 44,
   "metadata": {},
   "outputs": [
    {
     "name": "stdout",
     "output_type": "stream",
     "text": [
      "\n",
      "Drop unwanted columns\n"
     ]
    },
    {
     "data": {
      "text/html": [
       "<div>\n",
       "<style scoped>\n",
       "    .dataframe tbody tr th:only-of-type {\n",
       "        vertical-align: middle;\n",
       "    }\n",
       "\n",
       "    .dataframe tbody tr th {\n",
       "        vertical-align: top;\n",
       "    }\n",
       "\n",
       "    .dataframe thead th {\n",
       "        text-align: right;\n",
       "    }\n",
       "</style>\n",
       "<table border=\"1\" class=\"dataframe\">\n",
       "  <thead>\n",
       "    <tr style=\"text-align: right;\">\n",
       "      <th></th>\n",
       "      <th>Age</th>\n",
       "      <th>Workclass</th>\n",
       "      <th>Education</th>\n",
       "      <th>Education-Num</th>\n",
       "      <th>Martial Status</th>\n",
       "      <th>Occupation</th>\n",
       "      <th>Relationship</th>\n",
       "      <th>Sex</th>\n",
       "      <th>Capital Gain</th>\n",
       "      <th>Capital Loss</th>\n",
       "      <th>Hours per week</th>\n",
       "      <th>Country</th>\n",
       "      <th>Target</th>\n",
       "    </tr>\n",
       "  </thead>\n",
       "  <tbody>\n",
       "    <tr>\n",
       "      <th>0</th>\n",
       "      <td>50</td>\n",
       "      <td>0</td>\n",
       "      <td>0</td>\n",
       "      <td>13</td>\n",
       "      <td>0</td>\n",
       "      <td>0</td>\n",
       "      <td>1</td>\n",
       "      <td>0</td>\n",
       "      <td>0</td>\n",
       "      <td>0</td>\n",
       "      <td>13</td>\n",
       "      <td>0</td>\n",
       "      <td>1</td>\n",
       "    </tr>\n",
       "    <tr>\n",
       "      <th>1</th>\n",
       "      <td>38</td>\n",
       "      <td>0</td>\n",
       "      <td>0</td>\n",
       "      <td>9</td>\n",
       "      <td>1</td>\n",
       "      <td>0</td>\n",
       "      <td>0</td>\n",
       "      <td>0</td>\n",
       "      <td>0</td>\n",
       "      <td>0</td>\n",
       "      <td>40</td>\n",
       "      <td>0</td>\n",
       "      <td>1</td>\n",
       "    </tr>\n",
       "    <tr>\n",
       "      <th>2</th>\n",
       "      <td>53</td>\n",
       "      <td>0</td>\n",
       "      <td>0</td>\n",
       "      <td>7</td>\n",
       "      <td>0</td>\n",
       "      <td>0</td>\n",
       "      <td>1</td>\n",
       "      <td>0</td>\n",
       "      <td>0</td>\n",
       "      <td>0</td>\n",
       "      <td>40</td>\n",
       "      <td>0</td>\n",
       "      <td>1</td>\n",
       "    </tr>\n",
       "    <tr>\n",
       "      <th>3</th>\n",
       "      <td>28</td>\n",
       "      <td>0</td>\n",
       "      <td>0</td>\n",
       "      <td>13</td>\n",
       "      <td>0</td>\n",
       "      <td>0</td>\n",
       "      <td>0</td>\n",
       "      <td>1</td>\n",
       "      <td>0</td>\n",
       "      <td>0</td>\n",
       "      <td>40</td>\n",
       "      <td>0</td>\n",
       "      <td>1</td>\n",
       "    </tr>\n",
       "    <tr>\n",
       "      <th>4</th>\n",
       "      <td>37</td>\n",
       "      <td>0</td>\n",
       "      <td>0</td>\n",
       "      <td>14</td>\n",
       "      <td>0</td>\n",
       "      <td>0</td>\n",
       "      <td>0</td>\n",
       "      <td>1</td>\n",
       "      <td>0</td>\n",
       "      <td>0</td>\n",
       "      <td>40</td>\n",
       "      <td>0</td>\n",
       "      <td>1</td>\n",
       "    </tr>\n",
       "  </tbody>\n",
       "</table>\n",
       "</div>"
      ],
      "text/plain": [
       "   Age  Workclass  Education  Education-Num  Martial Status  Occupation  \\\n",
       "0   50          0          0             13               0           0   \n",
       "1   38          0          0              9               1           0   \n",
       "2   53          0          0              7               0           0   \n",
       "3   28          0          0             13               0           0   \n",
       "4   37          0          0             14               0           0   \n",
       "\n",
       "   Relationship  Sex  Capital Gain  Capital Loss  Hours per week  Country  \\\n",
       "0             1    0             0             0              13        0   \n",
       "1             0    0             0             0              40        0   \n",
       "2             1    0             0             0              40        0   \n",
       "3             0    1             0             0              40        0   \n",
       "4             0    1             0             0              40        0   \n",
       "\n",
       "   Target  \n",
       "0       1  \n",
       "1       1  \n",
       "2       1  \n",
       "3       1  \n",
       "4       1  "
      ]
     },
     "execution_count": 44,
     "metadata": {},
     "output_type": "execute_result"
    }
   ],
   "source": [
    "print(\"\\nDrop unwanted columns\")\n",
    "df = df.drop(['fnlwgt','Race'], axis = 1)\n",
    "df.head()"
   ]
  },
  {
   "cell_type": "code",
   "execution_count": 45,
   "metadata": {},
   "outputs": [
    {
     "data": {
      "text/plain": [
       "13"
      ]
     },
     "execution_count": 45,
     "metadata": {},
     "output_type": "execute_result"
    }
   ],
   "source": [
    "len(df.columns)"
   ]
  },
  {
   "cell_type": "code",
   "execution_count": 46,
   "metadata": {},
   "outputs": [],
   "source": [
    "# str(df)\n",
    "# df = pd.get_dummies(df)\n",
    "# df.head()"
   ]
  },
  {
   "cell_type": "code",
   "execution_count": 47,
   "metadata": {},
   "outputs": [
    {
     "data": {
      "image/png": "[encoded data removed]",
      "text/plain": [
       "<Figure size 1440x360 with 1 Axes>"
      ]
     },
     "metadata": {
      "needs_background": "light"
     },
     "output_type": "display_data"
    }
   ],
   "source": [
    "#checck for the outliers\n",
    "df.boxplot(rot=45, figsize=(20,5))\n",
    "# sb.boxplot(data = df)\n",
    "plt.show()"
   ]
  },
  {
   "cell_type": "code",
   "execution_count": 48,
   "metadata": {},
   "outputs": [
    {
     "data": {
      "text/plain": [
       "(32560, 13)"
      ]
     },
     "execution_count": 48,
     "metadata": {},
     "output_type": "execute_result"
    }
   ],
   "source": [
    "df.shape"
   ]
  },
  {
   "cell_type": "code",
   "execution_count": 49,
   "metadata": {},
   "outputs": [],
   "source": [
    "# def remove_outlier(df):\n",
    "       \n",
    "#         low = .05\n",
    "#         high = .60\n",
    "#         quant_df = df.quantile([low, high])\n",
    "#         for name in list(df.columns):\n",
    "#             if ptypes.is_numeric_dtype(df[name]):\n",
    "#                 df = df[(df[name] > quant_df.loc[low, name]) & (df[name] < quant_df.loc[high, name])]\n",
    "#                 sb.boxplot(df)\n",
    "# remove_outlier(df)"
   ]
  },
  {
   "cell_type": "code",
   "execution_count": 50,
   "metadata": {},
   "outputs": [],
   "source": [
    "# df.shape"
   ]
  },
  {
   "cell_type": "code",
   "execution_count": 51,
   "metadata": {},
   "outputs": [
    {
     "data": {
      "image/png": "[encoded data removed]",
      "text/plain": [
       "<Figure size 1440x360 with 1 Axes>"
      ]
     },
     "metadata": {
      "needs_background": "light"
     },
     "output_type": "display_data"
    }
   ],
   "source": [
    "#checck for the outliers\n",
    "df.boxplot(rot=45, figsize=(20,5))\n",
    "# sb.boxplot(data = df)\n",
    "plt.show()"
   ]
  },
  {
   "cell_type": "code",
   "execution_count": 52,
   "metadata": {},
   "outputs": [
    {
     "data": {
      "text/plain": [
       "(32560, 13)"
      ]
     },
     "execution_count": 52,
     "metadata": {},
     "output_type": "execute_result"
    }
   ],
   "source": [
    "df.shape"
   ]
  },
  {
   "cell_type": "code",
   "execution_count": 53,
   "metadata": {},
   "outputs": [
    {
     "name": "stdout",
     "output_type": "stream",
     "text": [
      "For targer - mean 0.7591830466830467 , median 1.0 & Skewness is -1.212382935600169\n"
     ]
    },
    {
     "data": {
      "image/png": "[encoded data removed]",
      "text/plain": [
       "<Figure size 432x288 with 1 Axes>"
      ]
     },
     "metadata": {
      "needs_background": "light"
     },
     "output_type": "display_data"
    }
   ],
   "source": [
    "# check skewness for target variable\n",
    "sb.distplot(df['Target'])\n",
    "print (\"For targer - mean {} , median {} & Skewness is {}\"\n",
    "       .format(df['Target'].mean(), df['Target'].median(),df['Target'].skew()))"
   ]
  },
  {
   "cell_type": "code",
   "execution_count": 54,
   "metadata": {},
   "outputs": [
    {
     "name": "stdout",
     "output_type": "stream",
     "text": [
      "\n",
      "Skewness for Target\n"
     ]
    },
    {
     "data": {
      "image/png": "[encoded data removed]",
      "text/plain": [
       "<Figure size 432x288 with 1 Axes>"
      ]
     },
     "metadata": {
      "needs_background": "light"
     },
     "output_type": "display_data"
    },
    {
     "name": "stdout",
     "output_type": "stream",
     "text": [
      "Mean:  0.7591830466830467 Median:  1.0 Skewness is : -1.212382935600169\n"
     ]
    },
    {
     "data": {
      "image/png": "[encoded data removed]",
      "text/plain": [
       "<Figure size 432x288 with 1 Axes>"
      ]
     },
     "metadata": {
      "needs_background": "light"
     },
     "output_type": "display_data"
    },
    {
     "name": "stdout",
     "output_type": "stream",
     "text": [
      "Mean:  0.7593 Median:  1.0 Skewness is : -1.213\n",
      "Draw histogram\n"
     ]
    },
    {
     "data": {
      "image/png": "[encoded data removed]",
      "text/plain": [
       "<Figure size 432x288 with 1 Axes>"
      ]
     },
     "metadata": {
      "needs_background": "light"
     },
     "output_type": "display_data"
    }
   ],
   "source": [
    "def remove_skew_square():\n",
    "    print(\"\\nSkewness for Target\")\n",
    "#         df['x2'] = (np.square(df['x2']))\n",
    "    df['Target'] = (np.square(df['Target']))\n",
    "    sb.distplot(df['Target'])\n",
    "    plt.show()\n",
    "    print(\"Mean: \",df['Target'].mean(),\"Median: \", df['Target'].median(), 'Skewness is :', df['Target'].skew())\n",
    "\n",
    "    df['Target'] = (np.cbrt(df['Target']))\n",
    "    sb.distplot(df['Target'])\n",
    "    plt.show()\n",
    "    print(\"Mean: \",df['Target'].mean(),\"Median: \", df['Target'].median(), 'Skewness is :', df['Target'].skew())\n",
    "\n",
    "    print(\"Draw histogram\")\n",
    "    plt.hist(df['Target'])\n",
    "    plt.show()\n",
    "    \n",
    "remove_skew_square()"
   ]
  },
  {
   "cell_type": "code",
   "execution_count": 55,
   "metadata": {},
   "outputs": [
    {
     "name": "stdout",
     "output_type": "stream",
     "text": [
      "        Age  Workclass  Education  Education-Num  Martial Status  Occupation  \\\n",
      "0  0.452055        0.0        0.0       0.800000             0.0         0.0   \n",
      "1  0.287671        0.0        0.0       0.533333             1.0         0.0   \n",
      "2  0.493151        0.0        0.0       0.400000             0.0         0.0   \n",
      "3  0.150685        0.0        0.0       0.800000             0.0         0.0   \n",
      "4  0.273973        0.0        0.0       0.866667             0.0         0.0   \n",
      "\n",
      "   Relationship  Sex  Capital Gain  Capital Loss  Hours per week  Country  \\\n",
      "0           1.0  0.0           0.0           0.0        0.122449      0.0   \n",
      "1           0.0  0.0           0.0           0.0        0.397959      0.0   \n",
      "2           1.0  0.0           0.0           0.0        0.397959      0.0   \n",
      "3           0.0  1.0           0.0           0.0        0.397959      0.0   \n",
      "4           0.0  1.0           0.0           0.0        0.397959      0.0   \n",
      "\n",
      "   Target  \n",
      "0     1.0  \n",
      "1     1.0  \n",
      "2     1.0  \n",
      "3     1.0  \n",
      "4     1.0  \n"
     ]
    }
   ],
   "source": [
    "def feature_scaling(df):\n",
    "#     print(\"\\n By Z score Method(Standerdization)  \")\n",
    "#     df = np.divide((df - df.mean()),df.std())\n",
    "    for name in df.columns:\n",
    "        df[name] = (df[name] - df[name].min()) / (df[name].max()-df[name].min())\n",
    "    print(df.head())\n",
    "feature_scaling(df)"
   ]
  },
  {
   "cell_type": "code",
   "execution_count": 56,
   "metadata": {},
   "outputs": [
    {
     "name": "stdout",
     "output_type": "stream",
     "text": [
      "Seperate Target column from dataset\n"
     ]
    }
   ],
   "source": [
    "# seperate data set\n",
    "def features(df):\n",
    "    y_new = df.Target\n",
    "#     y.head()\n",
    "    df = df.drop('Target', axis = 1)\n",
    "    print(\"Seperate Target column from dataset\")\n",
    "    return df, y_new\n",
    "df, y_new = features(df)"
   ]
  },
  {
   "cell_type": "code",
   "execution_count": 57,
   "metadata": {},
   "outputs": [
    {
     "name": "stdout",
     "output_type": "stream",
     "text": [
      "Head for df\n"
     ]
    },
    {
     "data": {
      "text/html": [
       "<div>\n",
       "<style scoped>\n",
       "    .dataframe tbody tr th:only-of-type {\n",
       "        vertical-align: middle;\n",
       "    }\n",
       "\n",
       "    .dataframe tbody tr th {\n",
       "        vertical-align: top;\n",
       "    }\n",
       "\n",
       "    .dataframe thead th {\n",
       "        text-align: right;\n",
       "    }\n",
       "</style>\n",
       "<table border=\"1\" class=\"dataframe\">\n",
       "  <thead>\n",
       "    <tr style=\"text-align: right;\">\n",
       "      <th></th>\n",
       "      <th>Age</th>\n",
       "      <th>Workclass</th>\n",
       "      <th>Education</th>\n",
       "      <th>Education-Num</th>\n",
       "      <th>Martial Status</th>\n",
       "      <th>Occupation</th>\n",
       "      <th>Relationship</th>\n",
       "      <th>Sex</th>\n",
       "      <th>Capital Gain</th>\n",
       "      <th>Capital Loss</th>\n",
       "      <th>Hours per week</th>\n",
       "      <th>Country</th>\n",
       "    </tr>\n",
       "  </thead>\n",
       "  <tbody>\n",
       "    <tr>\n",
       "      <th>0</th>\n",
       "      <td>0.452055</td>\n",
       "      <td>0.0</td>\n",
       "      <td>0.0</td>\n",
       "      <td>0.800000</td>\n",
       "      <td>0.0</td>\n",
       "      <td>0.0</td>\n",
       "      <td>1.0</td>\n",
       "      <td>0.0</td>\n",
       "      <td>0.0</td>\n",
       "      <td>0.0</td>\n",
       "      <td>0.122449</td>\n",
       "      <td>0.0</td>\n",
       "    </tr>\n",
       "    <tr>\n",
       "      <th>1</th>\n",
       "      <td>0.287671</td>\n",
       "      <td>0.0</td>\n",
       "      <td>0.0</td>\n",
       "      <td>0.533333</td>\n",
       "      <td>1.0</td>\n",
       "      <td>0.0</td>\n",
       "      <td>0.0</td>\n",
       "      <td>0.0</td>\n",
       "      <td>0.0</td>\n",
       "      <td>0.0</td>\n",
       "      <td>0.397959</td>\n",
       "      <td>0.0</td>\n",
       "    </tr>\n",
       "    <tr>\n",
       "      <th>2</th>\n",
       "      <td>0.493151</td>\n",
       "      <td>0.0</td>\n",
       "      <td>0.0</td>\n",
       "      <td>0.400000</td>\n",
       "      <td>0.0</td>\n",
       "      <td>0.0</td>\n",
       "      <td>1.0</td>\n",
       "      <td>0.0</td>\n",
       "      <td>0.0</td>\n",
       "      <td>0.0</td>\n",
       "      <td>0.397959</td>\n",
       "      <td>0.0</td>\n",
       "    </tr>\n",
       "    <tr>\n",
       "      <th>3</th>\n",
       "      <td>0.150685</td>\n",
       "      <td>0.0</td>\n",
       "      <td>0.0</td>\n",
       "      <td>0.800000</td>\n",
       "      <td>0.0</td>\n",
       "      <td>0.0</td>\n",
       "      <td>0.0</td>\n",
       "      <td>1.0</td>\n",
       "      <td>0.0</td>\n",
       "      <td>0.0</td>\n",
       "      <td>0.397959</td>\n",
       "      <td>0.0</td>\n",
       "    </tr>\n",
       "  </tbody>\n",
       "</table>\n",
       "</div>"
      ],
      "text/plain": [
       "        Age  Workclass  Education  Education-Num  Martial Status  Occupation  \\\n",
       "0  0.452055        0.0        0.0       0.800000             0.0         0.0   \n",
       "1  0.287671        0.0        0.0       0.533333             1.0         0.0   \n",
       "2  0.493151        0.0        0.0       0.400000             0.0         0.0   \n",
       "3  0.150685        0.0        0.0       0.800000             0.0         0.0   \n",
       "\n",
       "   Relationship  Sex  Capital Gain  Capital Loss  Hours per week  Country  \n",
       "0           1.0  0.0           0.0           0.0        0.122449      0.0  \n",
       "1           0.0  0.0           0.0           0.0        0.397959      0.0  \n",
       "2           1.0  0.0           0.0           0.0        0.397959      0.0  \n",
       "3           0.0  1.0           0.0           0.0        0.397959      0.0  "
      ]
     },
     "execution_count": 57,
     "metadata": {},
     "output_type": "execute_result"
    }
   ],
   "source": [
    "print('Head for df')\n",
    "df.head(4)"
   ]
  },
  {
   "cell_type": "code",
   "execution_count": 58,
   "metadata": {},
   "outputs": [
    {
     "name": "stdout",
     "output_type": "stream",
     "text": [
      "Head for df\n"
     ]
    },
    {
     "data": {
      "text/plain": [
       "0    1.0\n",
       "1    1.0\n",
       "2    1.0\n",
       "3    1.0\n",
       "4    1.0\n",
       "Name: Target, dtype: float16"
      ]
     },
     "execution_count": 58,
     "metadata": {},
     "output_type": "execute_result"
    }
   ],
   "source": [
    "print('Head for df')\n",
    "y_new.head()"
   ]
  },
  {
   "cell_type": "code",
   "execution_count": 59,
   "metadata": {},
   "outputs": [
    {
     "name": "stdout",
     "output_type": "stream",
     "text": [
      "Train dataset: 22792\n",
      "Test dataset: 9768\n",
      "\n",
      "Convert pandas datafrem into numpy\n",
      "\n",
      "X train data shape: (22792, 12)\n",
      "y train data shape: (22792, 1)\n",
      "\n",
      "X test data shape: (9768, 12)\n",
      "y test data shape: (9768, 1)\n"
     ]
    }
   ],
   "source": [
    "def split_data(df):\n",
    "    # 70 % training datset\n",
    "    train_per = int(0.70*len(df))\n",
    "    print(\"Train dataset:\", train_per)\n",
    "    # 30% test dataset\n",
    "    test_per = len(df)-train_per\n",
    "    print(\"Test dataset:\", test_per)\n",
    "    \n",
    "    print(\"\\nConvert pandas datafrem into numpy\")\n",
    "    x_train_data = np.array(df[:train_per])   \n",
    "    x_test_data  = np.array(df[:test_per])\n",
    "    \n",
    "    \n",
    "    train_per_y = int(0.70*len(y_new))\n",
    "    test_per_y = len(y_new)-train_per_y\n",
    "\n",
    "    \n",
    "    y_train_data = np.array(y_new[:train_per_y])\n",
    "    y_test_data = np.array(y_new[:test_per_y])\n",
    "    \n",
    "    #reshpe (1357,) to (1357,1) for train and test dataset\n",
    "    y_test_data = y_test_data.reshape(-1,1)\n",
    "    y_train_data = y_train_data.reshape(-1,1)\n",
    "        \n",
    "    \n",
    "    print(\"\\nX train data shape:\", x_train_data.shape)\n",
    "    print(\"y train data shape:\", y_train_data.shape)\n",
    "    print(\"\\nX test data shape:\", x_test_data.shape)\n",
    "    print(\"y test data shape:\", y_test_data.shape)\n",
    "\n",
    "    return x_train_data, y_train_data, x_test_data, y_test_data\n",
    "\n",
    "x_train_data, y_train_data, x_test_data, y_test_data = split_data(df)        "
   ]
  },
  {
   "cell_type": "code",
   "execution_count": 64,
   "metadata": {},
   "outputs": [
    {
     "name": "stdout",
     "output_type": "stream",
     "text": [
      "X train shape original (22792, 12)\n",
      "x train data ..... (22792, 13)\n",
      "X train & Y train & theta vector (22792, 13) (22792, 1) (13, 1)\n",
      "\n",
      "\n",
      "hypo_multiplication shape (22792, 1)\n",
      "sigmoid shape (22792, 1)\n",
      "error shape (22792, 1)\n",
      "temp (13, 1)\n",
      "theta shape (13, 1)\n",
      "(13, 1)\n",
      "\n",
      " Prediction function\n",
      "x : theta (9768, 13) (13, 1)\n",
      "y_prediction: (9768, 1)\n",
      "\n",
      " Prediction function\n",
      "x : theta (22792, 13) (13, 1)\n",
      "y_prediction: (22792, 1)\n",
      "\n",
      "\n",
      "Accuracy : \n",
      "Train dataset accuracy:  83 Test dataset accuracy: 83\n"
     ]
    }
   ],
   "source": [
    "class Logistic:\n",
    "    def __init__(self):\n",
    "        # Learning Rate\n",
    "        self.l_rate = 0.060\n",
    "\n",
    "        # Total iterations\n",
    "        self.epoch = 60000\n",
    "        \n",
    "    def gradient_descent(self, x_data_train, y_data_train, theta_vector):       \n",
    "        print(\"X train & Y train & theta vector\", x_data_train.shape, y_data_train.shape, theta_vector.shape)\n",
    "        for i in range(self.epoch):\n",
    "            z = np.dot(x_data_train, theta_vector)\n",
    "            sigmoid = (1 / (1 + np.exp(-z)))\n",
    "            a = sigmoid - y_data_train\n",
    "            temp = np.dot( x_data_train.T, a)\n",
    "            temp = np.dot(temp, self.l_rate) / len(x_data_train)\n",
    "            theta_vector = theta_vector - temp\n",
    "            \n",
    "            temp1 = np.dot(y_train_data.T, np.log(sigmoid))  #(1, 3164)\n",
    "            temp2 = np.dot((1 - y_train_data.T),np.log(np.abs(1- sigmoid)))  # (1, 3164)\n",
    "#                         temp2 = np.multiply((1 - y_train_data.T),np.log(np.abs(1- sigmoid)))  # (1, 3164)\n",
    "\n",
    "            cost = temp1 + temp2\n",
    "            \n",
    "        print(\"\\n\\nhypo_multiplication shape\",z.shape)\n",
    "        print(\"sigmoid shape\", sigmoid.shape)\n",
    "        print(\"error shape\", a.shape)\n",
    "        print(\"temp\", temp.shape)\n",
    "        \n",
    "        print(\"theta shape\", theta_vector.shape)\n",
    "        \n",
    "#         print(\"\\nTemp1 shape:\", temp1.shape)\n",
    "#         print(\"Temp2 shape:\", temp2.shape)\n",
    "#         print(\"Cost shape:\", cost.shape)\n",
    "        \n",
    "        return theta_vector\n",
    "\n",
    "    def prediction(self, x_data_test, theta_vector):\n",
    "        print(\"\\n Prediction function\")\n",
    "        print(\"x : theta\",x_data_test.shape, theta_vector.shape )\n",
    "              \n",
    "        y_prediction = np.zeros((x_data_test.shape[0], 1), dtype=float)\n",
    "        print(\"y_prediction:\",y_prediction.shape)\n",
    "#         x_data_test = np.column_stack((np.ones((x_data_test.shape[0], 1)), x_data_test))\n",
    "        z = np.dot(x_data_test, theta_vector)\n",
    "        sigmoid = np.array(1 / (1 + np.exp(-z)))\n",
    "\n",
    "        for i in (range(0, len(sigmoid))):\n",
    "            if round(sigmoid[i][0], 2) <= 0.5:\n",
    "                y_prediction[i][0] = 0\n",
    "            else:\n",
    "                y_prediction[i][0] = 1\n",
    "#         print(\"final shape......\", y_prediction.shape)\n",
    "#         y_prediction = np.reshape(y_prediction, (len(y_prediction), 1))\n",
    "#         print(\"final shape\", y_prediction.shape)\n",
    "        return y_prediction\n",
    "\n",
    "    def theta_0_vs_iterations(self, cost_fun, theta, size):\n",
    "            for j in range(0,size):\n",
    "                print(\"for values from\", j)\n",
    "                x = [theta[i+(self.echops)*j] for i in range(len(cost_fun))]\n",
    "                print(\"c_f\",cost_fun.shape)\n",
    "                print(\"theta\",theta.shape)\n",
    "\n",
    "                y = [cost_fun[i] for i in range(len(cost_fun))]\n",
    "                plt.plot(x,y)\n",
    "                plt.show()\n",
    "                \n",
    "    def test_vs_predict(self, x_test_data, y_test_data, y_predict):\n",
    "        plt.title(\"x_test vs vs y_test vs y_predicted\")\n",
    "        plt.xlabel(\"x_test\")\n",
    "        plt.ylabel(\"y_test\")\n",
    "        x = [x_test_data[0:] for i in range(len(x_test_data))]\n",
    "        y = [y_test_data[i] for i in range(len(x_test_data))]\n",
    "        z = [y_predict[i] for i in range(len(y_predict))]\n",
    "        print(len(x), len(y))\n",
    "        plt.scatter(x, y, alpha=0.5)\n",
    "        plt.plot(x,z, c = \"purple\")\n",
    "        plt.show()\n",
    "\n",
    "#     def accuracy(self, y_data_test, y_pred_test):\n",
    "#         total_error = 0\n",
    "#         error = []\n",
    "#         for i in range(0, len(y_data_test)):\n",
    "#             total_error = total_error + abs((y_pred_test[i] - y_data_test[i]) / y_data_test[i])\n",
    "#         total_error = (total_error / len(y_data_test))\n",
    "#         accuracy = 1 - total_error\n",
    "#         return accuracy * 100\n",
    "    \n",
    "\n",
    "\n",
    "def main(df, x_train_data, y_train_data, x_test_data,y_test_data ):\n",
    "    # class obj created\n",
    "    \n",
    "\n",
    "    obj = Logistic()\n",
    "    \n",
    "    \n",
    "    print(\"X train shape original\", x_train_data.shape)\n",
    "    \n",
    "    x_col = 12\n",
    "    theta_vector = np.full((x_col +1 ,1), 0.05)\n",
    "#     theta_vector = np.zeros(((x_col + 1), 1), dtype='f')\n",
    "   \n",
    "    # append new col bcoz we have 6 features as, x1,x2,....x6 but 7 thetas so add new x(np.opnes)\n",
    "    # unction is used to stack 1-D arrays as columns into a 2-D array\n",
    "    # Stacking the two arrays   \n",
    "    x_train_data = np.column_stack((np.ones((x_train_data.shape[0], 1)), x_train_data))\n",
    "    print(\"x train data .....\", x_train_data.shape)\n",
    "    x_test_data = np.column_stack((np.ones((x_test_data.shape[0], 1)), x_test_data))\n",
    "\n",
    "    theta = obj.gradient_descent(x_train_data, y_train_data, theta_vector)\n",
    "    print(theta.shape)\n",
    "    #y prediction \n",
    "    y_test_prediction = obj.prediction(x_test_data, theta)\n",
    "#     print(\"........x test data\", x_test_data.shape)\n",
    "  \n",
    "    y_train_prediction = obj.prediction(x_train_data, theta)\n",
    "\n",
    "    \n",
    "    print(\"\\n\\nAccuracy : \")\n",
    "    train_acc = round(float(100 - np.mean(np.abs(y_train_prediction - y_train_data)) * 100))\n",
    "    test_acc = round(float(100 - np.mean(np.abs(y_test_prediction - y_test_data)) * 100))\n",
    "    print(\"Train dataset accuracy: \", train_acc, \"Test dataset accuracy:\", test_acc)\n",
    "#self.l_rate = 0.001  .........ad-self.epoch = 60000Train dataset accuracy:  77 Test dataset accuracy: 77\n",
    "#     obj.test_vs_predict(x_test_data, y_test_data, y_test_prediction)\n",
    "    \n",
    "main(df, x_train_data,y_train_data,x_test_data,y_test_data)\n"
   ]
  },
  {
   "cell_type": "code",
   "execution_count": null,
   "metadata": {},
   "outputs": [],
   "source": []
  }
 ],
 "metadata": {
  "kernelspec": {
   "display_name": "Python 3",
   "language": "python",
   "name": "python3"
  },
  "language_info": {
   "codemirror_mode": {
    "name": "ipython",
    "version": 3
   },
   "file_extension": ".py",
   "mimetype": "text/x-python",
   "name": "python",
   "nbconvert_exporter": "python",
   "pygments_lexer": "ipython3",
   "version": "3.7.2"
  }
 },
 "nbformat": 4,
 "nbformat_minor": 2
}
