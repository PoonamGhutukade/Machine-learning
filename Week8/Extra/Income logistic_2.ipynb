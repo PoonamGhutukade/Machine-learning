{
 "cells": [
  {
   "cell_type": "code",
   "execution_count": 1,
   "metadata": {
    "ExecuteTime": {
     "end_time": "2019-04-13T06:15:10.604332Z",
     "start_time": "2019-04-13T06:15:10.598967Z"
    }
   },
   "outputs": [],
   "source": [
    "import pandas.api.types as ptypes\n",
    "import pandas as pd\n",
    "import numpy as np\n",
    "import seaborn as sb\n",
    "from matplotlib import pyplot as plt"
   ]
  },
  {
   "cell_type": "code",
   "execution_count": 2,
   "metadata": {
    "ExecuteTime": {
     "end_time": "2019-04-13T06:15:12.934904Z",
     "start_time": "2019-04-13T06:15:12.757484Z"
    }
   },
   "outputs": [
    {
     "ename": "FileNotFoundError",
     "evalue": "[Errno 2] File b'classification_2.csv' does not exist: b'classification_2.csv'",
     "output_type": "error",
     "traceback": [
      "\u001b[0;31m---------------------------------------------------------------------------\u001b[0m",
      "\u001b[0;31mFileNotFoundError\u001b[0m                         Traceback (most recent call last)",
      "\u001b[0;32m<ipython-input-2-848245cd36d3>\u001b[0m in \u001b[0;36m<module>\u001b[0;34m\u001b[0m\n\u001b[1;32m      1\u001b[0m \u001b[0;31m# load dataset\u001b[0m\u001b[0;34m\u001b[0m\u001b[0;34m\u001b[0m\u001b[0;34m\u001b[0m\u001b[0m\n\u001b[0;32m----> 2\u001b[0;31m \u001b[0mdf\u001b[0m\u001b[0;34m=\u001b[0m\u001b[0mpd\u001b[0m\u001b[0;34m.\u001b[0m\u001b[0mread_csv\u001b[0m\u001b[0;34m(\u001b[0m\u001b[0;34m\"classification_2.csv\"\u001b[0m\u001b[0;34m,\u001b[0m\u001b[0mdelimiter\u001b[0m\u001b[0;34m=\u001b[0m\u001b[0;34m','\u001b[0m\u001b[0;34m)\u001b[0m\u001b[0;34m\u001b[0m\u001b[0;34m\u001b[0m\u001b[0m\n\u001b[0m\u001b[1;32m      3\u001b[0m \u001b[0mdf\u001b[0m\u001b[0;34m.\u001b[0m\u001b[0mhead\u001b[0m\u001b[0;34m(\u001b[0m\u001b[0;34m)\u001b[0m\u001b[0;34m\u001b[0m\u001b[0;34m\u001b[0m\u001b[0m\n",
      "\u001b[0;32m~/anaconda3/envs/my_env/lib/python3.7/site-packages/pandas/io/parsers.py\u001b[0m in \u001b[0;36mparser_f\u001b[0;34m(filepath_or_buffer, sep, delimiter, header, names, index_col, usecols, squeeze, prefix, mangle_dupe_cols, dtype, engine, converters, true_values, false_values, skipinitialspace, skiprows, skipfooter, nrows, na_values, keep_default_na, na_filter, verbose, skip_blank_lines, parse_dates, infer_datetime_format, keep_date_col, date_parser, dayfirst, iterator, chunksize, compression, thousands, decimal, lineterminator, quotechar, quoting, doublequote, escapechar, comment, encoding, dialect, tupleize_cols, error_bad_lines, warn_bad_lines, delim_whitespace, low_memory, memory_map, float_precision)\u001b[0m\n\u001b[1;32m    700\u001b[0m                     skip_blank_lines=skip_blank_lines)\n\u001b[1;32m    701\u001b[0m \u001b[0;34m\u001b[0m\u001b[0m\n\u001b[0;32m--> 702\u001b[0;31m         \u001b[0;32mreturn\u001b[0m \u001b[0m_read\u001b[0m\u001b[0;34m(\u001b[0m\u001b[0mfilepath_or_buffer\u001b[0m\u001b[0;34m,\u001b[0m \u001b[0mkwds\u001b[0m\u001b[0;34m)\u001b[0m\u001b[0;34m\u001b[0m\u001b[0;34m\u001b[0m\u001b[0m\n\u001b[0m\u001b[1;32m    703\u001b[0m \u001b[0;34m\u001b[0m\u001b[0m\n\u001b[1;32m    704\u001b[0m     \u001b[0mparser_f\u001b[0m\u001b[0;34m.\u001b[0m\u001b[0m__name__\u001b[0m \u001b[0;34m=\u001b[0m \u001b[0mname\u001b[0m\u001b[0;34m\u001b[0m\u001b[0;34m\u001b[0m\u001b[0m\n",
      "\u001b[0;32m~/anaconda3/envs/my_env/lib/python3.7/site-packages/pandas/io/parsers.py\u001b[0m in \u001b[0;36m_read\u001b[0;34m(filepath_or_buffer, kwds)\u001b[0m\n\u001b[1;32m    427\u001b[0m \u001b[0;34m\u001b[0m\u001b[0m\n\u001b[1;32m    428\u001b[0m     \u001b[0;31m# Create the parser.\u001b[0m\u001b[0;34m\u001b[0m\u001b[0;34m\u001b[0m\u001b[0;34m\u001b[0m\u001b[0m\n\u001b[0;32m--> 429\u001b[0;31m     \u001b[0mparser\u001b[0m \u001b[0;34m=\u001b[0m \u001b[0mTextFileReader\u001b[0m\u001b[0;34m(\u001b[0m\u001b[0mfilepath_or_buffer\u001b[0m\u001b[0;34m,\u001b[0m \u001b[0;34m**\u001b[0m\u001b[0mkwds\u001b[0m\u001b[0;34m)\u001b[0m\u001b[0;34m\u001b[0m\u001b[0;34m\u001b[0m\u001b[0m\n\u001b[0m\u001b[1;32m    430\u001b[0m \u001b[0;34m\u001b[0m\u001b[0m\n\u001b[1;32m    431\u001b[0m     \u001b[0;32mif\u001b[0m \u001b[0mchunksize\u001b[0m \u001b[0;32mor\u001b[0m \u001b[0miterator\u001b[0m\u001b[0;34m:\u001b[0m\u001b[0;34m\u001b[0m\u001b[0;34m\u001b[0m\u001b[0m\n",
      "\u001b[0;32m~/anaconda3/envs/my_env/lib/python3.7/site-packages/pandas/io/parsers.py\u001b[0m in \u001b[0;36m__init__\u001b[0;34m(self, f, engine, **kwds)\u001b[0m\n\u001b[1;32m    893\u001b[0m             \u001b[0mself\u001b[0m\u001b[0;34m.\u001b[0m\u001b[0moptions\u001b[0m\u001b[0;34m[\u001b[0m\u001b[0;34m'has_index_names'\u001b[0m\u001b[0;34m]\u001b[0m \u001b[0;34m=\u001b[0m \u001b[0mkwds\u001b[0m\u001b[0;34m[\u001b[0m\u001b[0;34m'has_index_names'\u001b[0m\u001b[0;34m]\u001b[0m\u001b[0;34m\u001b[0m\u001b[0;34m\u001b[0m\u001b[0m\n\u001b[1;32m    894\u001b[0m \u001b[0;34m\u001b[0m\u001b[0m\n\u001b[0;32m--> 895\u001b[0;31m         \u001b[0mself\u001b[0m\u001b[0;34m.\u001b[0m\u001b[0m_make_engine\u001b[0m\u001b[0;34m(\u001b[0m\u001b[0mself\u001b[0m\u001b[0;34m.\u001b[0m\u001b[0mengine\u001b[0m\u001b[0;34m)\u001b[0m\u001b[0;34m\u001b[0m\u001b[0;34m\u001b[0m\u001b[0m\n\u001b[0m\u001b[1;32m    896\u001b[0m \u001b[0;34m\u001b[0m\u001b[0m\n\u001b[1;32m    897\u001b[0m     \u001b[0;32mdef\u001b[0m \u001b[0mclose\u001b[0m\u001b[0;34m(\u001b[0m\u001b[0mself\u001b[0m\u001b[0;34m)\u001b[0m\u001b[0;34m:\u001b[0m\u001b[0;34m\u001b[0m\u001b[0;34m\u001b[0m\u001b[0m\n",
      "\u001b[0;32m~/anaconda3/envs/my_env/lib/python3.7/site-packages/pandas/io/parsers.py\u001b[0m in \u001b[0;36m_make_engine\u001b[0;34m(self, engine)\u001b[0m\n\u001b[1;32m   1120\u001b[0m     \u001b[0;32mdef\u001b[0m \u001b[0m_make_engine\u001b[0m\u001b[0;34m(\u001b[0m\u001b[0mself\u001b[0m\u001b[0;34m,\u001b[0m \u001b[0mengine\u001b[0m\u001b[0;34m=\u001b[0m\u001b[0;34m'c'\u001b[0m\u001b[0;34m)\u001b[0m\u001b[0;34m:\u001b[0m\u001b[0;34m\u001b[0m\u001b[0;34m\u001b[0m\u001b[0m\n\u001b[1;32m   1121\u001b[0m         \u001b[0;32mif\u001b[0m \u001b[0mengine\u001b[0m \u001b[0;34m==\u001b[0m \u001b[0;34m'c'\u001b[0m\u001b[0;34m:\u001b[0m\u001b[0;34m\u001b[0m\u001b[0;34m\u001b[0m\u001b[0m\n\u001b[0;32m-> 1122\u001b[0;31m             \u001b[0mself\u001b[0m\u001b[0;34m.\u001b[0m\u001b[0m_engine\u001b[0m \u001b[0;34m=\u001b[0m \u001b[0mCParserWrapper\u001b[0m\u001b[0;34m(\u001b[0m\u001b[0mself\u001b[0m\u001b[0;34m.\u001b[0m\u001b[0mf\u001b[0m\u001b[0;34m,\u001b[0m \u001b[0;34m**\u001b[0m\u001b[0mself\u001b[0m\u001b[0;34m.\u001b[0m\u001b[0moptions\u001b[0m\u001b[0;34m)\u001b[0m\u001b[0;34m\u001b[0m\u001b[0;34m\u001b[0m\u001b[0m\n\u001b[0m\u001b[1;32m   1123\u001b[0m         \u001b[0;32melse\u001b[0m\u001b[0;34m:\u001b[0m\u001b[0;34m\u001b[0m\u001b[0;34m\u001b[0m\u001b[0m\n\u001b[1;32m   1124\u001b[0m             \u001b[0;32mif\u001b[0m \u001b[0mengine\u001b[0m \u001b[0;34m==\u001b[0m \u001b[0;34m'python'\u001b[0m\u001b[0;34m:\u001b[0m\u001b[0;34m\u001b[0m\u001b[0;34m\u001b[0m\u001b[0m\n",
      "\u001b[0;32m~/anaconda3/envs/my_env/lib/python3.7/site-packages/pandas/io/parsers.py\u001b[0m in \u001b[0;36m__init__\u001b[0;34m(self, src, **kwds)\u001b[0m\n\u001b[1;32m   1851\u001b[0m         \u001b[0mkwds\u001b[0m\u001b[0;34m[\u001b[0m\u001b[0;34m'usecols'\u001b[0m\u001b[0;34m]\u001b[0m \u001b[0;34m=\u001b[0m \u001b[0mself\u001b[0m\u001b[0;34m.\u001b[0m\u001b[0musecols\u001b[0m\u001b[0;34m\u001b[0m\u001b[0;34m\u001b[0m\u001b[0m\n\u001b[1;32m   1852\u001b[0m \u001b[0;34m\u001b[0m\u001b[0m\n\u001b[0;32m-> 1853\u001b[0;31m         \u001b[0mself\u001b[0m\u001b[0;34m.\u001b[0m\u001b[0m_reader\u001b[0m \u001b[0;34m=\u001b[0m \u001b[0mparsers\u001b[0m\u001b[0;34m.\u001b[0m\u001b[0mTextReader\u001b[0m\u001b[0;34m(\u001b[0m\u001b[0msrc\u001b[0m\u001b[0;34m,\u001b[0m \u001b[0;34m**\u001b[0m\u001b[0mkwds\u001b[0m\u001b[0;34m)\u001b[0m\u001b[0;34m\u001b[0m\u001b[0;34m\u001b[0m\u001b[0m\n\u001b[0m\u001b[1;32m   1854\u001b[0m         \u001b[0mself\u001b[0m\u001b[0;34m.\u001b[0m\u001b[0munnamed_cols\u001b[0m \u001b[0;34m=\u001b[0m \u001b[0mself\u001b[0m\u001b[0;34m.\u001b[0m\u001b[0m_reader\u001b[0m\u001b[0;34m.\u001b[0m\u001b[0munnamed_cols\u001b[0m\u001b[0;34m\u001b[0m\u001b[0;34m\u001b[0m\u001b[0m\n\u001b[1;32m   1855\u001b[0m \u001b[0;34m\u001b[0m\u001b[0m\n",
      "\u001b[0;32mpandas/_libs/parsers.pyx\u001b[0m in \u001b[0;36mpandas._libs.parsers.TextReader.__cinit__\u001b[0;34m()\u001b[0m\n",
      "\u001b[0;32mpandas/_libs/parsers.pyx\u001b[0m in \u001b[0;36mpandas._libs.parsers.TextReader._setup_parser_source\u001b[0;34m()\u001b[0m\n",
      "\u001b[0;31mFileNotFoundError\u001b[0m: [Errno 2] File b'classification_2.csv' does not exist: b'classification_2.csv'"
     ]
    }
   ],
   "source": [
    "# load dataset\n",
    "df=pd.read_csv(\"classification_2.csv\",delimiter=',')\n",
    "df.head()"
   ]
  },
  {
   "cell_type": "code",
   "execution_count": null,
   "metadata": {
    "ExecuteTime": {
     "end_time": "2019-04-13T06:15:24.179255Z",
     "start_time": "2019-04-13T06:15:24.171772Z"
    }
   },
   "outputs": [],
   "source": [
    "# rename columns\n",
    "df.columns=[\n",
    "        \"Age\", \"Workclass\", \"fnlwgt\", \"Education\", \"Education-Num\", \"Martial_Status\",\n",
    "        \"Occupation\", \"Relationship\", \"Race\", \"Sex\", \"Capital_Gain\", \"Capital_Loss\",\n",
    "        \"Hours_per_week\", \"Country\", \"Target\"]"
   ]
  },
  {
   "cell_type": "code",
   "execution_count": null,
   "metadata": {
    "ExecuteTime": {
     "end_time": "2019-04-13T06:15:26.715063Z",
     "start_time": "2019-04-13T06:15:26.678711Z"
    }
   },
   "outputs": [],
   "source": [
    "df.head()"
   ]
  },
  {
   "cell_type": "code",
   "execution_count": null,
   "metadata": {
    "ExecuteTime": {
     "end_time": "2019-04-13T06:15:28.660994Z",
     "start_time": "2019-04-13T06:15:28.648693Z"
    }
   },
   "outputs": [],
   "source": [
    "df['Education'].unique()"
   ]
  },
  {
   "cell_type": "code",
   "execution_count": null,
   "metadata": {
    "ExecuteTime": {
     "end_time": "2019-04-13T06:15:30.034281Z",
     "start_time": "2019-04-13T06:15:30.019673Z"
    }
   },
   "outputs": [],
   "source": [
    "df['Target'].unique()"
   ]
  },
  {
   "cell_type": "code",
   "execution_count": null,
   "metadata": {},
   "outputs": [],
   "source": [
    "# df.isnull().sum()"
   ]
  },
  {
   "cell_type": "code",
   "execution_count": null,
   "metadata": {
    "ExecuteTime": {
     "end_time": "2019-04-13T06:15:31.504018Z",
     "start_time": "2019-04-13T06:15:31.469738Z"
    }
   },
   "outputs": [],
   "source": [
    "df.isnull().values.any()"
   ]
  },
  {
   "cell_type": "code",
   "execution_count": null,
   "metadata": {
    "ExecuteTime": {
     "end_time": "2019-04-13T06:15:34.991267Z",
     "start_time": "2019-04-13T06:15:34.946871Z"
    }
   },
   "outputs": [],
   "source": [
    "# replace value -1,1 for <=50K/>50K\n",
    "df['Target'].replace(' <=50K',-1,inplace=True)\n",
    "df['Target'].replace(' >50K',1,inplace=True)"
   ]
  },
  {
   "cell_type": "code",
   "execution_count": null,
   "metadata": {
    "ExecuteTime": {
     "end_time": "2019-04-13T06:15:37.798552Z",
     "start_time": "2019-04-13T06:15:37.757776Z"
    }
   },
   "outputs": [],
   "source": [
    "df.head()"
   ]
  },
  {
   "cell_type": "code",
   "execution_count": null,
   "metadata": {
    "ExecuteTime": {
     "end_time": "2019-04-13T06:15:38.980104Z",
     "start_time": "2019-04-13T06:15:38.970935Z"
    }
   },
   "outputs": [],
   "source": [
    "# display columns in dataset\n",
    "df.columns"
   ]
  },
  {
   "cell_type": "code",
   "execution_count": null,
   "metadata": {
    "ExecuteTime": {
     "end_time": "2019-04-13T06:15:41.433136Z",
     "start_time": "2019-04-13T06:15:41.420911Z"
    }
   },
   "outputs": [],
   "source": [
    "df.dtypes"
   ]
  },
  {
   "cell_type": "code",
   "execution_count": null,
   "metadata": {
    "ExecuteTime": {
     "end_time": "2019-04-13T06:15:42.242167Z",
     "start_time": "2019-04-13T06:15:42.236122Z"
    }
   },
   "outputs": [],
   "source": [
    "# display shape of dataset\n",
    "print('dataset has {0} rows and {1} column'.format(df.shape[0],df.shape[1]))"
   ]
  },
  {
   "cell_type": "code",
   "execution_count": null,
   "metadata": {
    "ExecuteTime": {
     "end_time": "2019-04-13T06:15:43.234795Z",
     "start_time": "2019-04-13T06:15:43.180139Z"
    }
   },
   "outputs": [],
   "source": [
    "df.info()"
   ]
  },
  {
   "cell_type": "code",
   "execution_count": null,
   "metadata": {
    "ExecuteTime": {
     "end_time": "2019-04-13T06:15:44.178616Z",
     "start_time": "2019-04-13T06:15:44.132179Z"
    }
   },
   "outputs": [],
   "source": [
    "# checking missing values\n",
    "df.columns[df.isnull().any()]"
   ]
  },
  {
   "cell_type": "code",
   "execution_count": null,
   "metadata": {
    "ExecuteTime": {
     "end_time": "2019-04-13T06:21:10.582606Z",
     "start_time": "2019-04-13T06:21:10.568408Z"
    }
   },
   "outputs": [],
   "source": [
    "# getting target value greater  than 50k and less than 50k\n",
    "df['Target'].value_counts()"
   ]
  },
  {
   "cell_type": "code",
   "execution_count": null,
   "metadata": {
    "ExecuteTime": {
     "end_time": "2019-04-13T06:21:13.780668Z",
     "start_time": "2019-04-13T06:21:13.313343Z"
    }
   },
   "outputs": [],
   "source": [
    "# plot Target of <=50k and >50k\n",
    "sb.countplot(x='Education',  data=df, palette='hls')\n",
    "plt.show()"
   ]
  },
  {
   "cell_type": "code",
   "execution_count": null,
   "metadata": {
    "ExecuteTime": {
     "end_time": "2019-04-13T06:21:15.355625Z",
     "start_time": "2019-04-13T06:21:15.137666Z"
    }
   },
   "outputs": [],
   "source": [
    "sb.countplot(x='Target',  data=df, palette='hls')\n",
    "plt.show()"
   ]
  },
  {
   "cell_type": "code",
   "execution_count": null,
   "metadata": {
    "ExecuteTime": {
     "end_time": "2019-04-13T06:21:18.403244Z",
     "start_time": "2019-04-13T06:21:18.340741Z"
    }
   },
   "outputs": [],
   "source": [
    "df.duplicated().sum()"
   ]
  },
  {
   "cell_type": "code",
   "execution_count": null,
   "metadata": {
    "ExecuteTime": {
     "end_time": "2019-04-13T06:21:21.077072Z",
     "start_time": "2019-04-13T06:21:20.953470Z"
    }
   },
   "outputs": [],
   "source": [
    "# remove duplicated values from dataframe\n",
    "df.drop_duplicates(keep=False, inplace=True)\n",
    "df.duplicated().sum()"
   ]
  },
  {
   "cell_type": "code",
   "execution_count": null,
   "metadata": {
    "ExecuteTime": {
     "end_time": "2019-04-13T06:22:29.287339Z",
     "start_time": "2019-04-13T06:22:29.280446Z"
    }
   },
   "outputs": [],
   "source": [
    "df.shape"
   ]
  },
  {
   "cell_type": "code",
   "execution_count": null,
   "metadata": {
    "ExecuteTime": {
     "end_time": "2019-04-13T06:22:30.894136Z",
     "start_time": "2019-04-13T06:22:30.880389Z"
    }
   },
   "outputs": [],
   "source": [
    "# correlation of multivariate variable\n",
    "# temp=df.corr(method='pearson')\n",
    "# temp.head(11)\n",
    "# corr['Target'].sort_values(ascending=False)[:]"
   ]
  },
  {
   "cell_type": "code",
   "execution_count": null,
   "metadata": {
    "ExecuteTime": {
     "end_time": "2019-04-13T06:22:33.236325Z",
     "start_time": "2019-04-13T06:22:32.770707Z"
    }
   },
   "outputs": [],
   "source": [
    "corr = df.corr()\n",
    "sb.heatmap(corr)"
   ]
  },
  {
   "cell_type": "code",
   "execution_count": null,
   "metadata": {
    "ExecuteTime": {
     "end_time": "2019-04-13T06:22:36.759242Z",
     "start_time": "2019-04-13T06:22:36.751640Z"
    }
   },
   "outputs": [],
   "source": [
    "df.shape"
   ]
  },
  {
   "cell_type": "code",
   "execution_count": null,
   "metadata": {
    "ExecuteTime": {
     "end_time": "2019-04-13T06:22:38.029707Z",
     "start_time": "2019-04-13T06:22:38.016625Z"
    }
   },
   "outputs": [],
   "source": [
    "df.dtypes"
   ]
  },
  {
   "cell_type": "code",
   "execution_count": null,
   "metadata": {
    "ExecuteTime": {
     "end_time": "2019-04-13T06:22:39.027226Z",
     "start_time": "2019-04-13T06:22:38.923822Z"
    }
   },
   "outputs": [],
   "source": [
    "df = pd.get_dummies(df,columns=[\"Workclass\",\"Education\",\"Martial_Status\",\"Occupation\",\"Relationship\", \"Race\", \"Sex\",\"Country\"])\n",
    "df.head()"
   ]
  },
  {
   "cell_type": "code",
   "execution_count": null,
   "metadata": {
    "ExecuteTime": {
     "end_time": "2019-04-13T06:23:05.276171Z",
     "start_time": "2019-04-13T06:23:05.272345Z"
    }
   },
   "outputs": [],
   "source": [
    "def Feature_Scaling(df):\n",
    "        for column in df.columns:\n",
    "            df[column] = ((df[column] - df[column].min()) /\n",
    "                             (df[column].max() - df[column].min()))\n",
    "        return df"
   ]
  },
  {
   "cell_type": "code",
   "execution_count": null,
   "metadata": {
    "ExecuteTime": {
     "end_time": "2019-04-13T06:23:07.154189Z",
     "start_time": "2019-04-13T06:23:06.916387Z"
    }
   },
   "outputs": [],
   "source": [
    "df = Feature_Scaling(df)"
   ]
  },
  {
   "cell_type": "code",
   "execution_count": null,
   "metadata": {
    "ExecuteTime": {
     "end_time": "2019-04-13T06:23:20.713252Z",
     "start_time": "2019-04-13T06:23:20.710714Z"
    }
   },
   "outputs": [],
   "source": [
    "# get dummy variables whose are in categorical data\n",
    "# for name in df.columns:\n",
    "#     if df[name].dtype != \"int64\":\n",
    "#         df[name] = pd.get_dummies(df[name]) \n"
   ]
  },
  {
   "cell_type": "code",
   "execution_count": null,
   "metadata": {
    "ExecuteTime": {
     "end_time": "2019-04-13T06:23:21.643233Z",
     "start_time": "2019-04-13T06:23:21.639464Z"
    }
   },
   "outputs": [],
   "source": [
    "df.shape"
   ]
  },
  {
   "cell_type": "code",
   "execution_count": null,
   "metadata": {
    "ExecuteTime": {
     "end_time": "2019-04-13T06:25:28.338952Z",
     "start_time": "2019-04-13T06:25:28.306959Z"
    }
   },
   "outputs": [],
   "source": [
    "df.head()"
   ]
  },
  {
   "cell_type": "code",
   "execution_count": null,
   "metadata": {
    "ExecuteTime": {
     "end_time": "2019-04-13T06:25:29.901302Z",
     "start_time": "2019-04-13T06:25:29.895263Z"
    }
   },
   "outputs": [],
   "source": [
    "df.shape"
   ]
  },
  {
   "cell_type": "code",
   "execution_count": null,
   "metadata": {
    "ExecuteTime": {
     "end_time": "2019-04-13T06:25:31.210277Z",
     "start_time": "2019-04-13T06:25:31.206650Z"
    }
   },
   "outputs": [],
   "source": [
    "# split data into train and test\n",
    "def Split(data):\n",
    "    train_set=0.70*len(data)\n",
    "    train=int(train_set)\n",
    "#         print(train)\n",
    "    test_set=0.30*len(data)\n",
    "    test=int(test_set)\n",
    "        \n",
    "    return train,test"
   ]
  },
  {
   "cell_type": "code",
   "execution_count": null,
   "metadata": {
    "ExecuteTime": {
     "end_time": "2019-04-13T06:25:33.355814Z",
     "start_time": "2019-04-13T06:25:33.334990Z"
    }
   },
   "outputs": [],
   "source": [
    "train,test = Split(df)\n",
    "train_data=df.head(train)\n",
    "test_data=df.tail(test)"
   ]
  },
  {
   "cell_type": "code",
   "execution_count": null,
   "metadata": {
    "ExecuteTime": {
     "end_time": "2019-04-13T06:26:13.427456Z",
     "start_time": "2019-04-13T06:26:13.386201Z"
    }
   },
   "outputs": [],
   "source": [
    "train_data.head()"
   ]
  },
  {
   "cell_type": "code",
   "execution_count": null,
   "metadata": {
    "ExecuteTime": {
     "end_time": "2019-04-13T06:26:14.440243Z",
     "start_time": "2019-04-13T06:26:14.411261Z"
    }
   },
   "outputs": [],
   "source": []
  },
  {
   "cell_type": "code",
   "execution_count": null,
   "metadata": {
    "ExecuteTime": {
     "end_time": "2019-04-13T06:26:15.292490Z",
     "start_time": "2019-04-13T06:26:15.286358Z"
    }
   },
   "outputs": [],
   "source": [
    "train_data.shape"
   ]
  },
  {
   "cell_type": "code",
   "execution_count": null,
   "metadata": {
    "ExecuteTime": {
     "end_time": "2019-04-13T06:26:16.072887Z",
     "start_time": "2019-04-13T06:26:16.068204Z"
    }
   },
   "outputs": [],
   "source": [
    "test_data.shape"
   ]
  },
  {
   "cell_type": "code",
   "execution_count": null,
   "metadata": {
    "ExecuteTime": {
     "end_time": "2019-04-13T06:26:16.655072Z",
     "start_time": "2019-04-13T06:26:16.651975Z"
    }
   },
   "outputs": [],
   "source": [
    "# Separating the output and the parameters data frame\n",
    "def separate(df):\n",
    "    output = df.Target\n",
    "    return df.drop('Target', axis=1), output"
   ]
  },
  {
   "cell_type": "code",
   "execution_count": null,
   "metadata": {
    "ExecuteTime": {
     "end_time": "2019-04-13T06:26:17.523211Z",
     "start_time": "2019-04-13T06:26:17.502105Z"
    }
   },
   "outputs": [],
   "source": [
    "train_data_x,train_data_y = separate(train_data)\n",
    "test_data_x,test_data_y=separate(test_data)"
   ]
  },
  {
   "cell_type": "code",
   "execution_count": null,
   "metadata": {
    "ExecuteTime": {
     "end_time": "2019-04-13T06:26:17.610973Z",
     "start_time": "2019-04-13T06:26:17.604452Z"
    }
   },
   "outputs": [],
   "source": [
    "train_data_x.shape"
   ]
  },
  {
   "cell_type": "code",
   "execution_count": null,
   "metadata": {
    "ExecuteTime": {
     "end_time": "2019-04-13T06:26:24.914133Z",
     "start_time": "2019-04-13T06:26:24.909131Z"
    }
   },
   "outputs": [],
   "source": [
    "test_data_x.shape"
   ]
  },
  {
   "cell_type": "code",
   "execution_count": null,
   "metadata": {
    "ExecuteTime": {
     "end_time": "2019-04-13T06:36:56.215254Z",
     "start_time": "2019-04-13T06:36:06.193509Z"
    }
   },
   "outputs": [],
   "source": [
    "class Multivariate_Logistic2:\n",
    "    def __init__(self):\n",
    "        # loads csv file\n",
    "        self.alpha = 0.01\n",
    "        self.epoch = 10000\n",
    "        \n",
    "    def Train(self, x_data_train, y_data_train,theta_vector):\n",
    "        for length in range(self.epoch):\n",
    "            z = (np.dot(theta_vector.T,x_data_train.T))\n",
    "#             print(\"z shape,\",z.shape)\n",
    "            sigmoid = (1/(1+np.exp(-z)))\n",
    "#             print(\"sigmoid shape:\",sigmoid.shape)\n",
    "            diff = sigmoid - y_data_train.T\n",
    "#             print(\"difference:\",diff.shape)\n",
    "            temp = np.dot(diff,x_data_train)\n",
    "#             print(\"temp shape:\",temp.shape)\n",
    "            temp = np.divide(np.dot(self.alpha,temp),len(x_data_train))\n",
    "#             print(\"temp diff shape:\",temp.shape)\n",
    "            theta_vector = theta_vector-temp.T\n",
    "        return theta_vector\n",
    "    \n",
    "    def classify(self, x_data_test, theta_vector):\n",
    "        y_prediction = np.zeros((x_data_test.shape[0], 1), dtype=float)\n",
    "#         print(\"X:\",x_data_test.shape)\n",
    "#         print(\"theta:\",theta_vector.shape)\n",
    "        z = np.dot(x_data_test, theta_vector)\n",
    "        sigmoid = np.array(1 / (1 + np.exp(-z)))\n",
    "        for i in (range(0, len(sigmoid))):\n",
    "            if round(sigmoid[i][0],2) <= 0.5:\n",
    "                y_prediction[i][0] = 0\n",
    "            else:\n",
    "                y_prediction[i][0] = 1\n",
    "        return y_prediction\n",
    "    \n",
    "    def accuracy(self, y_data_test, y_pred_test):\n",
    "        count=0\n",
    "        for i in range(0,len(y_data_test)):\n",
    "            if y_pred_test[i]==y_data_test[i]:\n",
    "                count = count + 1\n",
    "        return count/len(y_data_test)*100\n",
    "    \n",
    "def main():\n",
    "    obj = Multivariate_Logistic2()\n",
    "    # calling method by class object\n",
    "    \n",
    "    x_train_data = np.array(train_data_x)\n",
    "#     print(\"x_train_data:\",x_train_data.shape)\n",
    "    y_train_data = np.array(train_data_y)\n",
    "    y_train_data = y_train_data.reshape(len(y_train_data),1)\n",
    "#     print(\"y_train_data:\",y_train_data.shape)\n",
    "\n",
    "    \n",
    "    x_test_data = np.array(test_data_x)\n",
    "#     print(\"x_test_data:\",x_test_data.shape)\n",
    "    y_test_data = np.array(test_data_y)\n",
    "    y_test_data=y_test_data.reshape(len(y_test_data),1)\n",
    "#     print(\"y_test_data:\",y_test_data.shape)\n",
    "    \n",
    "    \n",
    "    x_train_data = np.column_stack((np.ones((x_train_data.shape[0], 1)), x_train_data))\n",
    "    \n",
    "    x_test_data = np.column_stack((np.ones((x_test_data.shape[0], 1)), x_test_data))\n",
    "    \n",
    "    x_size = 108\n",
    "    theta_vector = np.full((x_size+1,1),.1)\n",
    "#     print(\"theta vector:\",theta_vector.shape)\n",
    "    \n",
    "    theta_vector = obj.Train(x_train_data, y_train_data,theta_vector)\n",
    "#     print(\"theta vector:\",theta_vector.shape)\n",
    "\n",
    "    y_predict_test = obj.classify(x_test_data, theta_vector)\n",
    "#     print(\"y_predict test:\",y_predict_test.shape)\n",
    "    \n",
    "    y_predict_train = obj.classify(x_train_data, theta_vector)\n",
    "#     print(\"y_predict train:\",y_predict_train.shape)\n",
    "    \n",
    "    train_accuracy=obj.accuracy(y_train_data, y_predict_train)\n",
    "    test_accuracy=obj.accuracy(y_test_data, y_predict_test)\n",
    "\n",
    "    print(\"accuracy train:\", train_accuracy)\n",
    "    print(\"accuracy test:\",  test_accuracy)\n",
    "    \n",
    "if __name__ == '__main__':\n",
    "    main()"
   ]
  },
  {
   "cell_type": "code",
   "execution_count": null,
   "metadata": {},
   "outputs": [],
   "source": []
  },
  {
   "cell_type": "code",
   "execution_count": null,
   "metadata": {},
   "outputs": [],
   "source": []
  }
 ],
 "metadata": {
  "kernelspec": {
   "display_name": "Python 3",
   "language": "python",
   "name": "python3"
  },
  "language_info": {
   "codemirror_mode": {
    "name": "ipython",
    "version": 3
   },
   "file_extension": ".py",
   "mimetype": "text/x-python",
   "name": "python",
   "nbconvert_exporter": "python",
   "pygments_lexer": "ipython3",
   "version": "3.7.2"
  }
 },
 "nbformat": 4,
 "nbformat_minor": 2
}
