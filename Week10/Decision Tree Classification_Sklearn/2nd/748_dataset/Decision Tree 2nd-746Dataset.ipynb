{
 "cells": [
  {
   "cell_type": "code",
   "execution_count": 1,
   "metadata": {},
   "outputs": [
    {
     "data": {
      "text/plain": [
       "'\\nClassification\\n\\tDecision Tree Classification\\n2. The data contains lists of octamers (8 amino acids) and a flag (-1 or 1) depending on whether HIV-1 \\nprotease will cleave in the central position (between amino acids 4 and 5). Build a machine learning  model \\nfor the dataset, please refer document inside zip file for additional information\\n'"
      ]
     },
     "execution_count": 1,
     "metadata": {},
     "output_type": "execute_result"
    }
   ],
   "source": [
    "\"\"\"\n",
    "Classification\n",
    "\tDecision Tree Classification\n",
    "2. The data contains lists of octamers (8 amino acids) and a flag (-1 or 1) depending on whether HIV-1 \n",
    "protease will cleave in the central position (between amino acids 4 and 5). Build a machine learning  model \n",
    "for the dataset, please refer document inside zip file for additional information\n",
    "\"\"\""
   ]
  },
  {
   "cell_type": "code",
   "execution_count": 2,
   "metadata": {},
   "outputs": [],
   "source": [
    "#import libraries\n",
    "import pandas as pd\n",
    "import seaborn as sb\n",
    "import numpy as np\n",
    "from matplotlib import pyplot as plt  \n",
    "#library for feature scaling\n",
    "from sklearn.preprocessing import StandardScaler\n",
    "# #Classification library\n",
    "from sklearn.tree import DecisionTreeClassifier\n",
    "\n",
    "import pickle \n",
    "import os, sys\n",
    "import csv\n",
    "# ignore warnings\n",
    "import warnings\n",
    "warnings.filterwarnings('ignore')\n",
    "\n",
    "import importlib.util"
   ]
  },
  {
   "cell_type": "code",
   "execution_count": 3,
   "metadata": {},
   "outputs": [],
   "source": [
    "# importing template file \n",
    "spec = importlib.util.spec_from_file_location(\"Util_class\", \"/home/admin1/PycharmProjects/Machine-Learning/Week10/Util/util.py\")\n",
    "foo = importlib.util.module_from_spec(spec)\n",
    "spec.loader.exec_module(foo)\n",
    "# creating object of Template class\n",
    "obj_util = foo.Util_class()"
   ]
  },
  {
   "cell_type": "code",
   "execution_count": 4,
   "metadata": {},
   "outputs": [
    {
     "data": {
      "text/html": [
       "<div>\n",
       "<style scoped>\n",
       "    .dataframe tbody tr th:only-of-type {\n",
       "        vertical-align: middle;\n",
       "    }\n",
       "\n",
       "    .dataframe tbody tr th {\n",
       "        vertical-align: top;\n",
       "    }\n",
       "\n",
       "    .dataframe thead th {\n",
       "        text-align: right;\n",
       "    }\n",
       "</style>\n",
       "<table border=\"1\" class=\"dataframe\">\n",
       "  <thead>\n",
       "    <tr style=\"text-align: right;\">\n",
       "      <th></th>\n",
       "      <th>Peptides</th>\n",
       "      <th>Result</th>\n",
       "    </tr>\n",
       "  </thead>\n",
       "  <tbody>\n",
       "    <tr>\n",
       "      <th>0</th>\n",
       "      <td>AAAKFERQ</td>\n",
       "      <td>-1</td>\n",
       "    </tr>\n",
       "    <tr>\n",
       "      <th>1</th>\n",
       "      <td>AAAMKRHG</td>\n",
       "      <td>-1</td>\n",
       "    </tr>\n",
       "    <tr>\n",
       "      <th>2</th>\n",
       "      <td>AAAMSSAI</td>\n",
       "      <td>-1</td>\n",
       "    </tr>\n",
       "    <tr>\n",
       "      <th>3</th>\n",
       "      <td>AAKFERQH</td>\n",
       "      <td>-1</td>\n",
       "    </tr>\n",
       "    <tr>\n",
       "      <th>4</th>\n",
       "      <td>AAKFESNF</td>\n",
       "      <td>-1</td>\n",
       "    </tr>\n",
       "  </tbody>\n",
       "</table>\n",
       "</div>"
      ],
      "text/plain": [
       "   Peptides  Result\n",
       "0  AAAKFERQ      -1\n",
       "1  AAAMKRHG      -1\n",
       "2  AAAMSSAI      -1\n",
       "3  AAKFERQH      -1\n",
       "4  AAKFESNF      -1"
      ]
     },
     "execution_count": 4,
     "metadata": {},
     "output_type": "execute_result"
    }
   ],
   "source": [
    "# load dataset\n",
    "dataset_original = pd.read_csv (\"746Data.txt\", delimiter = \",\",names=[\"Peptides\", \"Result\"])\n",
    "dataset = dataset_original\n",
    "dataset.head()"
   ]
  },
  {
   "cell_type": "code",
   "execution_count": 5,
   "metadata": {},
   "outputs": [
    {
     "name": "stdout",
     "output_type": "stream",
     "text": [
      "Dataset has 746 rows and 2 Columns\n"
     ]
    }
   ],
   "source": [
    "print(\"Dataset has {} rows and {} Columns\".format(dataset.shape[0],dataset.shape[1])) "
   ]
  },
  {
   "cell_type": "code",
   "execution_count": 6,
   "metadata": {},
   "outputs": [
    {
     "name": "stdout",
     "output_type": "stream",
     "text": [
      "<class 'pandas.core.frame.DataFrame'>\n",
      "RangeIndex: 746 entries, 0 to 745\n",
      "Data columns (total 2 columns):\n",
      "Peptides    746 non-null object\n",
      "Result      746 non-null int64\n",
      "dtypes: int64(1), object(1)\n",
      "memory usage: 11.7+ KB\n"
     ]
    }
   ],
   "source": [
    "# check dataset information\n",
    "dataset.info()"
   ]
  },
  {
   "cell_type": "code",
   "execution_count": 7,
   "metadata": {},
   "outputs": [
    {
     "data": {
      "text/html": [
       "<div>\n",
       "<style scoped>\n",
       "    .dataframe tbody tr th:only-of-type {\n",
       "        vertical-align: middle;\n",
       "    }\n",
       "\n",
       "    .dataframe tbody tr th {\n",
       "        vertical-align: top;\n",
       "    }\n",
       "\n",
       "    .dataframe thead th {\n",
       "        text-align: right;\n",
       "    }\n",
       "</style>\n",
       "<table border=\"1\" class=\"dataframe\">\n",
       "  <thead>\n",
       "    <tr style=\"text-align: right;\">\n",
       "      <th></th>\n",
       "      <th>count</th>\n",
       "      <th>mean</th>\n",
       "      <th>std</th>\n",
       "      <th>min</th>\n",
       "      <th>25%</th>\n",
       "      <th>50%</th>\n",
       "      <th>75%</th>\n",
       "      <th>max</th>\n",
       "    </tr>\n",
       "  </thead>\n",
       "  <tbody>\n",
       "    <tr>\n",
       "      <th>Result</th>\n",
       "      <td>746.0</td>\n",
       "      <td>0.077748</td>\n",
       "      <td>0.997642</td>\n",
       "      <td>-1.0</td>\n",
       "      <td>-1.0</td>\n",
       "      <td>1.0</td>\n",
       "      <td>1.0</td>\n",
       "      <td>1.0</td>\n",
       "    </tr>\n",
       "  </tbody>\n",
       "</table>\n",
       "</div>"
      ],
      "text/plain": [
       "        count      mean       std  min  25%  50%  75%  max\n",
       "Result  746.0  0.077748  0.997642 -1.0 -1.0  1.0  1.0  1.0"
      ]
     },
     "execution_count": 7,
     "metadata": {},
     "output_type": "execute_result"
    }
   ],
   "source": [
    "# descibe the dataset\n",
    "dataset.describe().T"
   ]
  },
  {
   "cell_type": "code",
   "execution_count": 8,
   "metadata": {},
   "outputs": [
    {
     "data": {
      "text/plain": [
       "Peptides    0\n",
       "Result      0\n",
       "dtype: int64"
      ]
     },
     "execution_count": 8,
     "metadata": {},
     "output_type": "execute_result"
    }
   ],
   "source": [
    "# handling missing data if nessesary\n",
    "\"\"\"\n",
    "if missing values are present\n",
    "imputer = Imputer(missing_values=0, axis=0)\n",
    "imputer = imputer.fit(x_data[:, 3:16])\n",
    "\"\"\"\n",
    "dataset.isnull().sum()"
   ]
  },
  {
   "cell_type": "code",
   "execution_count": 9,
   "metadata": {},
   "outputs": [
    {
     "data": {
      "text/plain": [
       "Peptides    0\n",
       "Result      0\n",
       "dtype: int64"
      ]
     },
     "execution_count": 9,
     "metadata": {},
     "output_type": "execute_result"
    }
   ],
   "source": [
    "#check for NAN values\n",
    "dataset.isna().sum()"
   ]
  },
  {
   "cell_type": "code",
   "execution_count": 10,
   "metadata": {},
   "outputs": [
    {
     "data": {
      "text/plain": [
       "0"
      ]
     },
     "execution_count": 10,
     "metadata": {},
     "output_type": "execute_result"
    }
   ],
   "source": [
    "# check for duplicate values\n",
    "dataset.duplicated().sum()"
   ]
  },
  {
   "cell_type": "code",
   "execution_count": 11,
   "metadata": {},
   "outputs": [
    {
     "name": "stdout",
     "output_type": "stream",
     "text": [
      "Skewness of y is -0.15628250375131236\n"
     ]
    },
    {
     "data": {
      "image/png": "[encoded data removed]",
      "text/plain": [
       "<Figure size 432x288 with 1 Axes>"
      ]
     },
     "metadata": {
      "needs_background": "light"
     },
     "output_type": "display_data"
    }
   ],
   "source": [
    "# check skewness for target variable\n",
    "sb.distplot(dataset['Result'])\n",
    "print (\"Skewness of y is {}\".format(dataset['Result'].skew()))"
   ]
  },
  {
   "cell_type": "code",
   "execution_count": 12,
   "metadata": {},
   "outputs": [],
   "source": [
    "def remove_skew_square():\n",
    "    print(\"\\nSkewness for Target\")\n",
    "    dataset['Result'] = (np.sqrt(dataset['Result']))\n",
    "    print(\"Mean: \",dataset['Result'].mean(),\"Median: \", dataset['Result'].median(), 'Skewness is :', dataset['Result'].skew())\n",
    "\n",
    "    print(\"Draw histogram\")\n",
    "    plt.hist(dataset['Result'])\n",
    "    plt.show()\n",
    "    \n",
    "# remove_skew_square()\n",
    "# Here if we remove skewness result gives large amount of NAN values"
   ]
  },
  {
   "cell_type": "code",
   "execution_count": 13,
   "metadata": {},
   "outputs": [
    {
     "data": {
      "text/plain": [
       "Peptides    0\n",
       "Result      0\n",
       "dtype: int64"
      ]
     },
     "execution_count": 13,
     "metadata": {},
     "output_type": "execute_result"
    }
   ],
   "source": [
    "dataset.isna().sum()"
   ]
  },
  {
   "cell_type": "code",
   "execution_count": 14,
   "metadata": {},
   "outputs": [
    {
     "data": {
      "text/plain": [
       "(8, 746)"
      ]
     },
     "execution_count": 14,
     "metadata": {},
     "output_type": "execute_result"
    }
   ],
   "source": [
    "# Seperate all amino acids\n",
    "peptides = np.array([[dataset[\"Peptides\"][i][j] for i in range(dataset.shape[0])] for j in range(8)])\n",
    "peptides.shape"
   ]
  },
  {
   "cell_type": "code",
   "execution_count": 15,
   "metadata": {},
   "outputs": [
    {
     "data": {
      "text/plain": [
       "(746, 8)"
      ]
     },
     "execution_count": 15,
     "metadata": {},
     "output_type": "execute_result"
    }
   ],
   "source": [
    "# Store the seperated amino acids into a dataframe\n",
    "dataset2 = pd.DataFrame(peptides.T, columns=list('ABCDEFGH'))\n",
    "dataset2.shape\n"
   ]
  },
  {
   "cell_type": "code",
   "execution_count": 16,
   "metadata": {},
   "outputs": [
    {
     "data": {
      "text/html": [
       "<div>\n",
       "<style scoped>\n",
       "    .dataframe tbody tr th:only-of-type {\n",
       "        vertical-align: middle;\n",
       "    }\n",
       "\n",
       "    .dataframe tbody tr th {\n",
       "        vertical-align: top;\n",
       "    }\n",
       "\n",
       "    .dataframe thead th {\n",
       "        text-align: right;\n",
       "    }\n",
       "</style>\n",
       "<table border=\"1\" class=\"dataframe\">\n",
       "  <thead>\n",
       "    <tr style=\"text-align: right;\">\n",
       "      <th></th>\n",
       "      <th>A</th>\n",
       "      <th>B</th>\n",
       "      <th>C</th>\n",
       "      <th>D</th>\n",
       "      <th>E</th>\n",
       "      <th>F</th>\n",
       "      <th>G</th>\n",
       "      <th>H</th>\n",
       "    </tr>\n",
       "  </thead>\n",
       "  <tbody>\n",
       "    <tr>\n",
       "      <th>0</th>\n",
       "      <td>A</td>\n",
       "      <td>A</td>\n",
       "      <td>A</td>\n",
       "      <td>K</td>\n",
       "      <td>F</td>\n",
       "      <td>E</td>\n",
       "      <td>R</td>\n",
       "      <td>Q</td>\n",
       "    </tr>\n",
       "    <tr>\n",
       "      <th>1</th>\n",
       "      <td>A</td>\n",
       "      <td>A</td>\n",
       "      <td>A</td>\n",
       "      <td>M</td>\n",
       "      <td>K</td>\n",
       "      <td>R</td>\n",
       "      <td>H</td>\n",
       "      <td>G</td>\n",
       "    </tr>\n",
       "    <tr>\n",
       "      <th>2</th>\n",
       "      <td>A</td>\n",
       "      <td>A</td>\n",
       "      <td>A</td>\n",
       "      <td>M</td>\n",
       "      <td>S</td>\n",
       "      <td>S</td>\n",
       "      <td>A</td>\n",
       "      <td>I</td>\n",
       "    </tr>\n",
       "    <tr>\n",
       "      <th>3</th>\n",
       "      <td>A</td>\n",
       "      <td>A</td>\n",
       "      <td>K</td>\n",
       "      <td>F</td>\n",
       "      <td>E</td>\n",
       "      <td>R</td>\n",
       "      <td>Q</td>\n",
       "      <td>H</td>\n",
       "    </tr>\n",
       "    <tr>\n",
       "      <th>4</th>\n",
       "      <td>A</td>\n",
       "      <td>A</td>\n",
       "      <td>K</td>\n",
       "      <td>F</td>\n",
       "      <td>E</td>\n",
       "      <td>S</td>\n",
       "      <td>N</td>\n",
       "      <td>F</td>\n",
       "    </tr>\n",
       "  </tbody>\n",
       "</table>\n",
       "</div>"
      ],
      "text/plain": [
       "   A  B  C  D  E  F  G  H\n",
       "0  A  A  A  K  F  E  R  Q\n",
       "1  A  A  A  M  K  R  H  G\n",
       "2  A  A  A  M  S  S  A  I\n",
       "3  A  A  K  F  E  R  Q  H\n",
       "4  A  A  K  F  E  S  N  F"
      ]
     },
     "execution_count": 16,
     "metadata": {},
     "output_type": "execute_result"
    }
   ],
   "source": [
    "dataset2.head()"
   ]
  },
  {
   "cell_type": "code",
   "execution_count": 17,
   "metadata": {},
   "outputs": [
    {
     "data": {
      "text/html": [
       "<div>\n",
       "<style scoped>\n",
       "    .dataframe tbody tr th:only-of-type {\n",
       "        vertical-align: middle;\n",
       "    }\n",
       "\n",
       "    .dataframe tbody tr th {\n",
       "        vertical-align: top;\n",
       "    }\n",
       "\n",
       "    .dataframe thead th {\n",
       "        text-align: right;\n",
       "    }\n",
       "</style>\n",
       "<table border=\"1\" class=\"dataframe\">\n",
       "  <thead>\n",
       "    <tr style=\"text-align: right;\">\n",
       "      <th></th>\n",
       "      <th>Peptides</th>\n",
       "      <th>Result</th>\n",
       "      <th>A</th>\n",
       "      <th>B</th>\n",
       "      <th>C</th>\n",
       "      <th>D</th>\n",
       "      <th>E</th>\n",
       "      <th>F</th>\n",
       "      <th>G</th>\n",
       "      <th>H</th>\n",
       "    </tr>\n",
       "  </thead>\n",
       "  <tbody>\n",
       "    <tr>\n",
       "      <th>0</th>\n",
       "      <td>AAAKFERQ</td>\n",
       "      <td>-1</td>\n",
       "      <td>A</td>\n",
       "      <td>A</td>\n",
       "      <td>A</td>\n",
       "      <td>K</td>\n",
       "      <td>F</td>\n",
       "      <td>E</td>\n",
       "      <td>R</td>\n",
       "      <td>Q</td>\n",
       "    </tr>\n",
       "    <tr>\n",
       "      <th>1</th>\n",
       "      <td>AAAMKRHG</td>\n",
       "      <td>-1</td>\n",
       "      <td>A</td>\n",
       "      <td>A</td>\n",
       "      <td>A</td>\n",
       "      <td>M</td>\n",
       "      <td>K</td>\n",
       "      <td>R</td>\n",
       "      <td>H</td>\n",
       "      <td>G</td>\n",
       "    </tr>\n",
       "    <tr>\n",
       "      <th>2</th>\n",
       "      <td>AAAMSSAI</td>\n",
       "      <td>-1</td>\n",
       "      <td>A</td>\n",
       "      <td>A</td>\n",
       "      <td>A</td>\n",
       "      <td>M</td>\n",
       "      <td>S</td>\n",
       "      <td>S</td>\n",
       "      <td>A</td>\n",
       "      <td>I</td>\n",
       "    </tr>\n",
       "    <tr>\n",
       "      <th>3</th>\n",
       "      <td>AAKFERQH</td>\n",
       "      <td>-1</td>\n",
       "      <td>A</td>\n",
       "      <td>A</td>\n",
       "      <td>K</td>\n",
       "      <td>F</td>\n",
       "      <td>E</td>\n",
       "      <td>R</td>\n",
       "      <td>Q</td>\n",
       "      <td>H</td>\n",
       "    </tr>\n",
       "    <tr>\n",
       "      <th>4</th>\n",
       "      <td>AAKFESNF</td>\n",
       "      <td>-1</td>\n",
       "      <td>A</td>\n",
       "      <td>A</td>\n",
       "      <td>K</td>\n",
       "      <td>F</td>\n",
       "      <td>E</td>\n",
       "      <td>S</td>\n",
       "      <td>N</td>\n",
       "      <td>F</td>\n",
       "    </tr>\n",
       "  </tbody>\n",
       "</table>\n",
       "</div>"
      ],
      "text/plain": [
       "   Peptides  Result  A  B  C  D  E  F  G  H\n",
       "0  AAAKFERQ      -1  A  A  A  K  F  E  R  Q\n",
       "1  AAAMKRHG      -1  A  A  A  M  K  R  H  G\n",
       "2  AAAMSSAI      -1  A  A  A  M  S  S  A  I\n",
       "3  AAKFERQH      -1  A  A  K  F  E  R  Q  H\n",
       "4  AAKFESNF      -1  A  A  K  F  E  S  N  F"
      ]
     },
     "execution_count": 17,
     "metadata": {},
     "output_type": "execute_result"
    }
   ],
   "source": [
    "# assign 2nd dataset to 1st one\n",
    "dataset = dataset.assign(**dataset2)\n",
    "#OR\n",
    "# dataset = pd.concat([dataset,dataset2])\n",
    "dataset.head()"
   ]
  },
  {
   "cell_type": "code",
   "execution_count": 18,
   "metadata": {},
   "outputs": [],
   "source": [
    "# drop unwanted column\n",
    "dataset = dataset.drop(['Peptides'], axis=1)"
   ]
  },
  {
   "cell_type": "code",
   "execution_count": 19,
   "metadata": {},
   "outputs": [
    {
     "data": {
      "text/html": [
       "<div>\n",
       "<style scoped>\n",
       "    .dataframe tbody tr th:only-of-type {\n",
       "        vertical-align: middle;\n",
       "    }\n",
       "\n",
       "    .dataframe tbody tr th {\n",
       "        vertical-align: top;\n",
       "    }\n",
       "\n",
       "    .dataframe thead th {\n",
       "        text-align: right;\n",
       "    }\n",
       "</style>\n",
       "<table border=\"1\" class=\"dataframe\">\n",
       "  <thead>\n",
       "    <tr style=\"text-align: right;\">\n",
       "      <th></th>\n",
       "      <th>A</th>\n",
       "      <th>B</th>\n",
       "      <th>C</th>\n",
       "      <th>D</th>\n",
       "      <th>E</th>\n",
       "      <th>F</th>\n",
       "      <th>G</th>\n",
       "      <th>H</th>\n",
       "      <th>Result</th>\n",
       "    </tr>\n",
       "  </thead>\n",
       "  <tbody>\n",
       "    <tr>\n",
       "      <th>0</th>\n",
       "      <td>A</td>\n",
       "      <td>A</td>\n",
       "      <td>A</td>\n",
       "      <td>K</td>\n",
       "      <td>F</td>\n",
       "      <td>E</td>\n",
       "      <td>R</td>\n",
       "      <td>Q</td>\n",
       "      <td>-1</td>\n",
       "    </tr>\n",
       "    <tr>\n",
       "      <th>1</th>\n",
       "      <td>A</td>\n",
       "      <td>A</td>\n",
       "      <td>A</td>\n",
       "      <td>M</td>\n",
       "      <td>K</td>\n",
       "      <td>R</td>\n",
       "      <td>H</td>\n",
       "      <td>G</td>\n",
       "      <td>-1</td>\n",
       "    </tr>\n",
       "    <tr>\n",
       "      <th>2</th>\n",
       "      <td>A</td>\n",
       "      <td>A</td>\n",
       "      <td>A</td>\n",
       "      <td>M</td>\n",
       "      <td>S</td>\n",
       "      <td>S</td>\n",
       "      <td>A</td>\n",
       "      <td>I</td>\n",
       "      <td>-1</td>\n",
       "    </tr>\n",
       "    <tr>\n",
       "      <th>3</th>\n",
       "      <td>A</td>\n",
       "      <td>A</td>\n",
       "      <td>K</td>\n",
       "      <td>F</td>\n",
       "      <td>E</td>\n",
       "      <td>R</td>\n",
       "      <td>Q</td>\n",
       "      <td>H</td>\n",
       "      <td>-1</td>\n",
       "    </tr>\n",
       "    <tr>\n",
       "      <th>4</th>\n",
       "      <td>A</td>\n",
       "      <td>A</td>\n",
       "      <td>K</td>\n",
       "      <td>F</td>\n",
       "      <td>E</td>\n",
       "      <td>S</td>\n",
       "      <td>N</td>\n",
       "      <td>F</td>\n",
       "      <td>-1</td>\n",
       "    </tr>\n",
       "  </tbody>\n",
       "</table>\n",
       "</div>"
      ],
      "text/plain": [
       "   A  B  C  D  E  F  G  H  Result\n",
       "0  A  A  A  K  F  E  R  Q      -1\n",
       "1  A  A  A  M  K  R  H  G      -1\n",
       "2  A  A  A  M  S  S  A  I      -1\n",
       "3  A  A  K  F  E  R  Q  H      -1\n",
       "4  A  A  K  F  E  S  N  F      -1"
      ]
     },
     "execution_count": 19,
     "metadata": {},
     "output_type": "execute_result"
    }
   ],
   "source": [
    "dataset = dataset[['A','B','C','D','E','F','G','H','Result']]\n",
    "dataset.head()"
   ]
  },
  {
   "cell_type": "code",
   "execution_count": 20,
   "metadata": {},
   "outputs": [
    {
     "name": "stdout",
     "output_type": "stream",
     "text": [
      "Dataset shape (746, 9)\n"
     ]
    },
    {
     "data": {
      "text/html": [
       "<div>\n",
       "<style scoped>\n",
       "    .dataframe tbody tr th:only-of-type {\n",
       "        vertical-align: middle;\n",
       "    }\n",
       "\n",
       "    .dataframe tbody tr th {\n",
       "        vertical-align: top;\n",
       "    }\n",
       "\n",
       "    .dataframe thead th {\n",
       "        text-align: right;\n",
       "    }\n",
       "</style>\n",
       "<table border=\"1\" class=\"dataframe\">\n",
       "  <thead>\n",
       "    <tr style=\"text-align: right;\">\n",
       "      <th></th>\n",
       "      <th>A</th>\n",
       "      <th>B</th>\n",
       "      <th>C</th>\n",
       "      <th>D</th>\n",
       "      <th>E</th>\n",
       "      <th>F</th>\n",
       "      <th>G</th>\n",
       "      <th>H</th>\n",
       "      <th>Result</th>\n",
       "    </tr>\n",
       "  </thead>\n",
       "  <tbody>\n",
       "    <tr>\n",
       "      <th>0</th>\n",
       "      <td>A</td>\n",
       "      <td>A</td>\n",
       "      <td>A</td>\n",
       "      <td>K</td>\n",
       "      <td>F</td>\n",
       "      <td>E</td>\n",
       "      <td>R</td>\n",
       "      <td>Q</td>\n",
       "      <td>-1</td>\n",
       "    </tr>\n",
       "    <tr>\n",
       "      <th>1</th>\n",
       "      <td>A</td>\n",
       "      <td>A</td>\n",
       "      <td>A</td>\n",
       "      <td>M</td>\n",
       "      <td>K</td>\n",
       "      <td>R</td>\n",
       "      <td>H</td>\n",
       "      <td>G</td>\n",
       "      <td>-1</td>\n",
       "    </tr>\n",
       "    <tr>\n",
       "      <th>2</th>\n",
       "      <td>A</td>\n",
       "      <td>A</td>\n",
       "      <td>A</td>\n",
       "      <td>M</td>\n",
       "      <td>S</td>\n",
       "      <td>S</td>\n",
       "      <td>A</td>\n",
       "      <td>I</td>\n",
       "      <td>-1</td>\n",
       "    </tr>\n",
       "    <tr>\n",
       "      <th>3</th>\n",
       "      <td>A</td>\n",
       "      <td>A</td>\n",
       "      <td>K</td>\n",
       "      <td>F</td>\n",
       "      <td>E</td>\n",
       "      <td>R</td>\n",
       "      <td>Q</td>\n",
       "      <td>H</td>\n",
       "      <td>-1</td>\n",
       "    </tr>\n",
       "    <tr>\n",
       "      <th>4</th>\n",
       "      <td>A</td>\n",
       "      <td>A</td>\n",
       "      <td>K</td>\n",
       "      <td>F</td>\n",
       "      <td>E</td>\n",
       "      <td>S</td>\n",
       "      <td>N</td>\n",
       "      <td>F</td>\n",
       "      <td>-1</td>\n",
       "    </tr>\n",
       "  </tbody>\n",
       "</table>\n",
       "</div>"
      ],
      "text/plain": [
       "   A  B  C  D  E  F  G  H  Result\n",
       "0  A  A  A  K  F  E  R  Q      -1\n",
       "1  A  A  A  M  K  R  H  G      -1\n",
       "2  A  A  A  M  S  S  A  I      -1\n",
       "3  A  A  K  F  E  R  Q  H      -1\n",
       "4  A  A  K  F  E  S  N  F      -1"
      ]
     },
     "execution_count": 20,
     "metadata": {},
     "output_type": "execute_result"
    }
   ],
   "source": [
    "print(\"Dataset shape\",dataset.shape)\n",
    "dataset.head()"
   ]
  },
  {
   "cell_type": "code",
   "execution_count": 22,
   "metadata": {},
   "outputs": [],
   "source": [
    "# create directory to store csv files\n",
    "# os.mkdir(\"CSV_files\")"
   ]
  },
  {
   "cell_type": "code",
   "execution_count": 235,
   "metadata": {},
   "outputs": [
    {
     "name": "stdout",
     "output_type": "stream",
     "text": [
      "train :  (522, 9)  test :  (224, 9)\n",
      "train_data :  (287, 9)  crossV_data :  (235, 9)\n"
     ]
    }
   ],
   "source": [
    "#split dataset into train, test and cross validation also save csv files\n",
    "obj_util.splitdata(dataset, 0.30, 0.45,\"CSV_files\" )"
   ]
  },
  {
   "cell_type": "code",
   "execution_count": 236,
   "metadata": {},
   "outputs": [
    {
     "name": "stdout",
     "output_type": "stream",
     "text": [
      "Train Dataset has 287 rows and 9 Columns\n",
      "Cross validation Dataset has 235 rows and 9 Columns\n"
     ]
    }
   ],
   "source": [
    "# load train dataset\n",
    "train_dataset = pd.read_csv (\"CSV_files/train_file.csv\")\n",
    "print(\"Train Dataset has {} rows and {} Columns\".format(train_dataset.shape[0],train_dataset.shape[1])) \n",
    "# load dataset for Cross Validation\n",
    "CV_dataset = pd.read_csv (\"CSV_files/CValidation_file.csv\")\n",
    "print(\"Cross validation Dataset has {} rows and {} Columns\".format(CV_dataset.shape[0],CV_dataset.shape[1])) "
   ]
  },
  {
   "cell_type": "code",
   "execution_count": 237,
   "metadata": {},
   "outputs": [
    {
     "name": "stdout",
     "output_type": "stream",
     "text": [
      "<class 'pandas.core.frame.DataFrame'>\n",
      "RangeIndex: 287 entries, 0 to 286\n",
      "Data columns (total 9 columns):\n",
      "A         287 non-null object\n",
      "B         287 non-null object\n",
      "C         287 non-null object\n",
      "D         287 non-null object\n",
      "E         287 non-null object\n",
      "F         287 non-null object\n",
      "G         287 non-null object\n",
      "H         287 non-null object\n",
      "Result    287 non-null int64\n",
      "dtypes: int64(1), object(8)\n",
      "memory usage: 20.3+ KB\n"
     ]
    }
   ],
   "source": [
    "#data Preprocessing\n",
    "train_dataset.info()"
   ]
  },
  {
   "cell_type": "code",
   "execution_count": 238,
   "metadata": {},
   "outputs": [
    {
     "data": {
      "text/html": [
       "<div>\n",
       "<style scoped>\n",
       "    .dataframe tbody tr th:only-of-type {\n",
       "        vertical-align: middle;\n",
       "    }\n",
       "\n",
       "    .dataframe tbody tr th {\n",
       "        vertical-align: top;\n",
       "    }\n",
       "\n",
       "    .dataframe thead th {\n",
       "        text-align: right;\n",
       "    }\n",
       "</style>\n",
       "<table border=\"1\" class=\"dataframe\">\n",
       "  <thead>\n",
       "    <tr style=\"text-align: right;\">\n",
       "      <th></th>\n",
       "      <th>A</th>\n",
       "      <th>B</th>\n",
       "      <th>C</th>\n",
       "      <th>D</th>\n",
       "      <th>E</th>\n",
       "      <th>F</th>\n",
       "      <th>G</th>\n",
       "      <th>H</th>\n",
       "      <th>Result</th>\n",
       "    </tr>\n",
       "  </thead>\n",
       "  <tbody>\n",
       "    <tr>\n",
       "      <th>0</th>\n",
       "      <td>T</td>\n",
       "      <td>N</td>\n",
       "      <td>C</td>\n",
       "      <td>Y</td>\n",
       "      <td>Q</td>\n",
       "      <td>S</td>\n",
       "      <td>Y</td>\n",
       "      <td>S</td>\n",
       "      <td>-1</td>\n",
       "    </tr>\n",
       "    <tr>\n",
       "      <th>1</th>\n",
       "      <td>V</td>\n",
       "      <td>K</td>\n",
       "      <td>V</td>\n",
       "      <td>L</td>\n",
       "      <td>V</td>\n",
       "      <td>V</td>\n",
       "      <td>Q</td>\n",
       "      <td>P</td>\n",
       "      <td>1</td>\n",
       "    </tr>\n",
       "    <tr>\n",
       "      <th>2</th>\n",
       "      <td>Q</td>\n",
       "      <td>I</td>\n",
       "      <td>N</td>\n",
       "      <td>S</td>\n",
       "      <td>R</td>\n",
       "      <td>W</td>\n",
       "      <td>W</td>\n",
       "      <td>C</td>\n",
       "      <td>-1</td>\n",
       "    </tr>\n",
       "    <tr>\n",
       "      <th>3</th>\n",
       "      <td>A</td>\n",
       "      <td>R</td>\n",
       "      <td>V</td>\n",
       "      <td>L</td>\n",
       "      <td>A</td>\n",
       "      <td>N</td>\n",
       "      <td>A</td>\n",
       "      <td>M</td>\n",
       "      <td>-1</td>\n",
       "    </tr>\n",
       "    <tr>\n",
       "      <th>4</th>\n",
       "      <td>T</td>\n",
       "      <td>G</td>\n",
       "      <td>V</td>\n",
       "      <td>L</td>\n",
       "      <td>V</td>\n",
       "      <td>V</td>\n",
       "      <td>Q</td>\n",
       "      <td>P</td>\n",
       "      <td>1</td>\n",
       "    </tr>\n",
       "  </tbody>\n",
       "</table>\n",
       "</div>"
      ],
      "text/plain": [
       "   A  B  C  D  E  F  G  H  Result\n",
       "0  T  N  C  Y  Q  S  Y  S      -1\n",
       "1  V  K  V  L  V  V  Q  P       1\n",
       "2  Q  I  N  S  R  W  W  C      -1\n",
       "3  A  R  V  L  A  N  A  M      -1\n",
       "4  T  G  V  L  V  V  Q  P       1"
      ]
     },
     "execution_count": 238,
     "metadata": {},
     "output_type": "execute_result"
    }
   ],
   "source": [
    "train_dataset.head()"
   ]
  },
  {
   "cell_type": "code",
   "execution_count": 239,
   "metadata": {},
   "outputs": [
    {
     "name": "stdout",
     "output_type": "stream",
     "text": [
      "x_train : (287, 8) & y_train: (287, 1)\n",
      "x_cv : (235, 8) & y_cv: (235, 1)\n"
     ]
    }
   ],
   "source": [
    "# seperate fetures and label\n",
    "\n",
    "x_train = train_dataset.loc[:, train_dataset.columns != 'Result'].values\n",
    "y_train = train_dataset.loc[:,train_dataset.columns == 'Result'].values\n",
    "\n",
    "# convert ndarray to dataframe\n",
    "df1 =  pd.DataFrame(x_train)\n",
    "\n",
    "print(\"x_train :\",x_train.shape,\"& y_train:\",y_train.shape)\n",
    "\n",
    "#for cross validation\n",
    "x_crossval = CV_dataset.loc[:, CV_dataset.columns != 'Result'].values\n",
    "y_crossval = CV_dataset.loc[:,CV_dataset.columns == 'Result'].values\n",
    "\n",
    "# convert ndarray to dataframe\n",
    "df2 =  pd.DataFrame(x_crossval)\n",
    "print(\"x_cv :\",x_crossval.shape,\"& y_cv:\",y_crossval.shape)"
   ]
  },
  {
   "cell_type": "code",
   "execution_count": 240,
   "metadata": {},
   "outputs": [
    {
     "data": {
      "text/plain": [
       "(235, 8)"
      ]
     },
     "execution_count": 240,
     "metadata": {},
     "output_type": "execute_result"
    }
   ],
   "source": [
    "df2.shape"
   ]
  },
  {
   "cell_type": "code",
   "execution_count": 241,
   "metadata": {},
   "outputs": [],
   "source": [
    "# Handle categorical data\n",
    "x_train_dataset = obj_util.Categorical_data(df1)"
   ]
  },
  {
   "cell_type": "code",
   "execution_count": 242,
   "metadata": {},
   "outputs": [],
   "source": [
    "# Handle categorical data for cross validation dataset\n",
    "cv_dataset = obj_util.Categorical_data(df2)"
   ]
  },
  {
   "cell_type": "code",
   "execution_count": 243,
   "metadata": {},
   "outputs": [
    {
     "data": {
      "text/plain": [
       "((287, 159), (235, 159))"
      ]
     },
     "execution_count": 243,
     "metadata": {},
     "output_type": "execute_result"
    }
   ],
   "source": [
    "x_train_dataset.shape, cv_dataset.shape"
   ]
  },
  {
   "cell_type": "code",
   "execution_count": 244,
   "metadata": {},
   "outputs": [],
   "source": [
    "#feature scalling (here data will be converted into float)\n",
    "def feature_scalling(x_train,x_crossval):\n",
    "    sc_x = StandardScaler()\n",
    "    x_train = sc_x.fit_transform(x_train)\n",
    "    \n",
    "    sc_x_cv = StandardScaler()\n",
    "    x_crossval = sc_x.fit_transform(x_crossval)\n",
    "    \n",
    "    return sc_x, x_train,sc_x_cv, x_crossval\n",
    "    \n",
    "sc_x, x_train,sc_x_cv, x_crossval = feature_scalling(x_train_dataset,cv_dataset)\n"
   ]
  },
  {
   "cell_type": "code",
   "execution_count": 245,
   "metadata": {},
   "outputs": [
    {
     "name": "stdout",
     "output_type": "stream",
     "text": [
      "287 235\n"
     ]
    }
   ],
   "source": [
    "print(len(x_train), len(x_crossval))"
   ]
  },
  {
   "cell_type": "code",
   "execution_count": 246,
   "metadata": {},
   "outputs": [
    {
     "name": "stdout",
     "output_type": "stream",
     "text": [
      "\n",
      "Module created\n",
      "\n",
      "\n",
      "Average accuracy_score: 100.0\n",
      "Average precision-recall score: 100.00\n",
      "Average Roc-AUC: 100.000\n",
      "\n",
      "\n",
      "Confusion Matrix:\n",
      " [[131   0]\n",
      " [  0 156]]\n",
      "\n",
      "Pikle file created\n"
     ]
    }
   ],
   "source": [
    "class DecisionTreeClassification():\n",
    "    \n",
    "    def create_module(self,x_train,y_train):\n",
    "        # fitting KNN Classification to the training set\n",
    "        classifier = DecisionTreeClassifier(criterion= 'entropy', random_state=0)\n",
    "        classifier.fit(x_train,y_train)\n",
    "        return classifier\n",
    "    \n",
    "\n",
    "def main():\n",
    "    #class obj created\n",
    "    obj  = DecisionTreeClassification()\n",
    "\n",
    "    classifier = obj.create_module(x_train,y_train)\n",
    "    print(\"\\nModule created\")\n",
    "#     print(\"classifier object\",classifier)\n",
    "\n",
    "    # y prediction\n",
    "    y_pre = obj_util.y_prediction(x_train, classifier)\n",
    "#     print(\"\\n\\n y_prediction:\",y_pre)\n",
    "#     print(y_pre.shape)\n",
    "    \n",
    "    # calculate accuracy\n",
    "    accuracy_score,average_precision,auc=obj_util.accuracy(y_pre,y_train)\n",
    "    print('\\n\\nAverage accuracy_score:' , accuracy_score)\n",
    "    print('Average precision-recall score: {0:0.2f}'.format(average_precision))\n",
    "    print('Average Roc-AUC: %.3f' % auc)\n",
    "\n",
    "    # confusion matrxi\n",
    "    cm = obj_util.confusion_matrix(y_train,y_pre)\n",
    "    print(\"\\n\\nConfusion Matrix:\\n\",cm)\n",
    "    \n",
    "#     obj_util.visualization(x_train,y_train, classifier, \"DecisionTree Classification(Training set)\", \"Age\", \"Estimate Salary\")\n",
    "    \n",
    "    obj_util.create_piklefile(classifier,'DecisionTree2.pkl' )\n",
    "    print(\"\\nPikle file created\")\n",
    "\n",
    "\n",
    "if __name__ == '__main__':\n",
    "    main()\n"
   ]
  },
  {
   "cell_type": "code",
   "execution_count": 247,
   "metadata": {},
   "outputs": [
    {
     "name": "stdout",
     "output_type": "stream",
     "text": [
      "\n",
      "\n",
      "Average accuracy_score: 46.38297872340426\n",
      "Average precision-recall score: 53.67\n",
      "Average Roc-AUC: 49.216\n",
      "\n",
      "\n",
      "Confusion Matrix:\n",
      " [[ 91  17]\n",
      " [109  18]]\n"
     ]
    }
   ],
   "source": [
    "# cross validation        \n",
    "def Cross_validation():\n",
    "    file1 = open('DecisionTree2.pkl', 'rb')\n",
    "    classifier1 = pickle.load(file1)\n",
    "\n",
    "    # y_prediction ( cross validation) \n",
    "    y_predicted1 = obj_util.y_prediction(x_crossval, classifier1)\n",
    "#     print(\"\\n\\n y_prediction:\",y_predicted1)\n",
    "    \n",
    "    # Calculate accuracy\n",
    "    accuracy_score,average_precision,auc=obj_util.accuracy(y_predicted1, y_crossval)\n",
    "    print('\\n\\nAverage accuracy_score:' , accuracy_score)\n",
    "    print('Average precision-recall score: {0:0.2f}'.format(average_precision))\n",
    "    print('Average Roc-AUC: %.3f' % auc)\n",
    "\n",
    "    # show confusion matrix\n",
    "    cm = obj_util.confusion_matrix(y_crossval, y_predicted1)\n",
    "    print(\"\\n\\nConfusion Matrix:\\n\",cm)\n",
    "#     print(\"\\n\\nConfusion Matrix:\\n\",metrics.confusion_matrix(y_crossval, y_predicted1))\n",
    "    \n",
    "#     obj_util.visualization(x_crossval, y_crossval, classifier1, \"DecisionTreeCross_validation set)\", \"Age\", \"Estimate Salary\")\n",
    "    \n",
    "    \n",
    "    \n",
    "\n",
    "Cross_validation()\n"
   ]
  },
  {
   "cell_type": "code",
   "execution_count": null,
   "metadata": {},
   "outputs": [],
   "source": []
  },
  {
   "cell_type": "code",
   "execution_count": null,
   "metadata": {},
   "outputs": [],
   "source": []
  }
 ],
 "metadata": {
  "kernelspec": {
   "display_name": "Python 3",
   "language": "python",
   "name": "python3"
  },
  "language_info": {
   "codemirror_mode": {
    "name": "ipython",
    "version": 3
   },
   "file_extension": ".py",
   "mimetype": "text/x-python",
   "name": "python",
   "nbconvert_exporter": "python",
   "pygments_lexer": "ipython3",
   "version": "3.7.2"
  }
 },
 "nbformat": 4,
 "nbformat_minor": 2
}
