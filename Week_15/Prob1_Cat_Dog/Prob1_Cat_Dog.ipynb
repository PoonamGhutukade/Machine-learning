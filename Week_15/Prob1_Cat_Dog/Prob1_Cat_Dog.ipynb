{
 "cells": [
  {
   "cell_type": "markdown",
   "metadata": {},
   "source": [
    "# Convolutional Neural Network\n",
    "    1.Apply CNN to predict cat and dog from given image dataset\n"
   ]
  },
  {
   "cell_type": "code",
   "execution_count": 1,
   "metadata": {},
   "outputs": [
    {
     "name": "stderr",
     "output_type": "stream",
     "text": [
      "Using TensorFlow backend.\n"
     ]
    }
   ],
   "source": [
    "# Importing the libraries\n",
    "import numpy as np\n",
    "import matplotlib.pyplot as plt\n",
    "import pandas as pd\n",
    "import seaborn as sb\n",
    "\n",
    "from sklearn.preprocessing import LabelEncoder, OneHotEncoder\n",
    "from sklearn.model_selection import train_test_split\n",
    "from sklearn.preprocessing import StandardScaler \n",
    "\n",
    "# Importing the Keras libraries and packages(Using TensorFlow backend.)\n",
    "import keras \n",
    "from keras.models import Sequential\n",
    "from keras.layers import Conv2D\n",
    "from keras.layers import MaxPooling2D\n",
    "from keras.layers import Flatten\n",
    "from keras.layers import Dense\n",
    "from keras.preprocessing.image import ImageDataGenerator\n",
    "from tensorflow.keras.preprocessing import image\n",
    "\n",
    "import pickle\n",
    "# ignore warnings\n",
    "import warnings\n",
    "warnings.filterwarnings('ignore')\n",
    "import importlib.util"
   ]
  },
  {
   "cell_type": "code",
   "execution_count": 46,
   "metadata": {},
   "outputs": [],
   "source": [
    "#Initializing Neural Network, we use the Sequential module for initialization.\n",
    "classifier = Sequential(name=None)"
   ]
  },
  {
   "cell_type": "markdown",
   "metadata": {},
   "source": [
    "### Convolution layer\n",
    "The Conv2D function is taking 4 arguments, the first is the number of filters i.e 32 here, the second argument is the shape each filter is going to be i.e 3x3 here, the third is the input shape and the type of image(RGB or Black and White)of each image i.e the input image our CNN is going to be taking is of a 64x64 resolution and “3” stands for RGB, which is a colour img, the fourth argument is the activation function we want to use, here ‘relu’ stands for a rectifier function."
   ]
  },
  {
   "cell_type": "code",
   "execution_count": 3,
   "metadata": {},
   "outputs": [
    {
     "name": "stdout",
     "output_type": "stream",
     "text": [
      "WARNING:tensorflow:From /home/admin1/anaconda3/envs/my_env/lib/python3.7/site-packages/tensorflow/python/framework/op_def_library.py:263: colocate_with (from tensorflow.python.framework.ops) is deprecated and will be removed in a future version.\n",
      "Instructions for updating:\n",
      "Colocations handled automatically by placer.\n"
     ]
    }
   ],
   "source": [
    "#Convolution step\n",
    "classifier.add(Conv2D(32, (3, 3), input_shape = (64, 64, 3), activation = 'relu'))"
   ]
  },
  {
   "cell_type": "markdown",
   "metadata": {},
   "source": [
    "### Pooling Layer\n",
    "We take a 2x2 matrix we’ll have minimum pixel loss and get a precise region where the feature are located"
   ]
  },
  {
   "cell_type": "code",
   "execution_count": 4,
   "metadata": {},
   "outputs": [],
   "source": [
    "classifier.add(MaxPooling2D(pool_size = (2, 2)))"
   ]
  },
  {
   "cell_type": "markdown",
   "metadata": {},
   "source": [
    "### Flatting\n",
    "    pooled images into a continuous vector through Flattening.\n",
    "    we are basically doing here is taking the 2-D array, i.e pooled image pixels and converting them to a one dimensional single vector."
   ]
  },
  {
   "cell_type": "code",
   "execution_count": 5,
   "metadata": {},
   "outputs": [],
   "source": [
    "classifier.add(Flatten())"
   ]
  },
  {
   "cell_type": "markdown",
   "metadata": {},
   "source": [
    "### fully connected layer\n",
    "    In this layer we are going to connect the set of nodes we got after the flattening step, these nodes will \n",
    "    act as an input layer to these fully-connected layers. \n",
    "    \n",
    "    As this layer will be present between the input layer and output layer, we can refer to it a hidden layer for that we use Dence module"
   ]
  },
  {
   "cell_type": "code",
   "execution_count": 6,
   "metadata": {},
   "outputs": [],
   "source": [
    "classifier.add(Dense(units = 128, activation = 'relu'))"
   ]
  },
  {
   "cell_type": "markdown",
   "metadata": {},
   "source": [
    "Dense is the function to add a fully connected layer, ‘units’ is where we define the number of nodes \n",
    "that should be present in this hidden layer, these units value will be always between the number\n",
    "of input nodes and the output nodes but the art of choosing the most optimal number of nodes can be achieved \n",
    "only through experimental tries. Though it’s a common practice to use a power of 2.\n",
    "And the activation function will be a rectifier function and at last sigmoid function."
   ]
  },
  {
   "cell_type": "code",
   "execution_count": 7,
   "metadata": {},
   "outputs": [],
   "source": [
    "classifier.add(Dense(units = 1, activation = 'sigmoid'))"
   ]
  },
  {
   "cell_type": "markdown",
   "metadata": {},
   "source": [
    "### Complie the CNN Model\n",
    "    Optimizer parameter is to choose the stochastic gradient descent algorithm.\n",
    "    Loss parameter is to choose the loss function.\n",
    "    Finally, the metrics parameter is to choose the performance metric.\n"
   ]
  },
  {
   "cell_type": "code",
   "execution_count": 8,
   "metadata": {},
   "outputs": [],
   "source": [
    "classifier.compile(optimizer = 'adam', loss = 'binary_crossentropy', metrics = ['accuracy'])"
   ]
  },
  {
   "cell_type": "markdown",
   "metadata": {},
   "source": [
    "### Image preprocesasing (Data Augmentation)\n",
    "    we are going to pre-process the images to prevent over-fitting.\n",
    "    Overfitting is when you get a great training accuracy and very poor test accuracy due to overfitting \n",
    "    of nodes from one layer to another.\n",
    "we are creating synthetic data out of the same images by performing different type of operations\n",
    "on these images like flipping, rotating, blurring, etc."
   ]
  },
  {
   "cell_type": "markdown",
   "metadata": {},
   "source": [
    "    shear_range: Float. Shear Intensity (Shear angle in counter-clockwise direction in degrees)\n",
    "    zoom_range: Float or [lower, upper]. Range for random zoom. If a float, [lower, upper] = [1-zoom_range, 1+zoom_range]\n",
    "    rescale: rescaling factor. Defaults to None. If None or 0, no rescaling is applied, otherwise we multiply the data by the value provided (after applying all other transformations).\n",
    "    horizontal_flip: Boolean. Randomly flip inputs horizontally."
   ]
  },
  {
   "cell_type": "code",
   "execution_count": 9,
   "metadata": {},
   "outputs": [
    {
     "name": "stdout",
     "output_type": "stream",
     "text": [
      "Found 8000 images belonging to 2 classes.\n",
      "Found 2000 images belonging to 2 classes.\n"
     ]
    }
   ],
   "source": [
    "#fitting the CNN model\n",
    "train_datagen = ImageDataGenerator(rescale = 1./255,shear_range = 0.2,zoom_range = 0.2,horizontal_flip = True)\n",
    "test_datagen = ImageDataGenerator(rescale = 1./255)\n",
    "\n",
    "training_set = train_datagen.flow_from_directory(\n",
    "    '/home/admin1/PycharmProjects/Machine-Learning/Week_15/Prob1_Cat_Dog/dataset/training_set',\n",
    "    target_size = (64, 64),\n",
    "    batch_size = 32,\n",
    "    class_mode = 'binary')\n",
    "\n",
    "test_set = test_datagen.flow_from_directory(\n",
    "    '/home/admin1/PycharmProjects/Machine-Learning/Week_15/Prob1_Cat_Dog/dataset/test_set',\n",
    "    target_size = (64, 64),\n",
    "    batch_size = 32,\n",
    "    class_mode = 'binary')"
   ]
  },
  {
   "cell_type": "code",
   "execution_count": 10,
   "metadata": {},
   "outputs": [],
   "source": [
    "#Divide train deta into train and cross validation\n",
    "from sklearn.model_selection import train_test_split\n",
    "import pandas as pd"
   ]
  },
  {
   "cell_type": "code",
   "execution_count": 13,
   "metadata": {},
   "outputs": [],
   "source": [
    "\n",
    "# dataset = pd.read_csv(dataset/training_set)"
   ]
  },
  {
   "cell_type": "markdown",
   "metadata": {},
   "source": [
    "### fit the Cnn model"
   ]
  },
  {
   "cell_type": "code",
   "execution_count": null,
   "metadata": {},
   "outputs": [],
   "source": [
    "# TRAINING\n",
    "model.fit_generator(\n",
    "        train_generator,\n",
    "        steps_per_epoch=400 // batch_size,\n",
    "        epochs=50,\n",
    "        validation_data=validation_generator,\n",
    "        validation_steps=160 // batch_size)\n",
    "\n",
    "model.save_weights('50_epochs.h5')  # always save your weights after training or during training"
   ]
  },
  {
   "cell_type": "code",
   "execution_count": 17,
   "metadata": {},
   "outputs": [
    {
     "name": "stdout",
     "output_type": "stream",
     "text": [
      "Epoch 1/10\n",
      "80/80 [==============================] - 39s 482ms/step - loss: 0.6380 - acc: 0.6340 - val_loss: 0.6732 - val_acc: 0.6203\n",
      "Epoch 2/10\n",
      "80/80 [==============================] - 32s 397ms/step - loss: 0.6273 - acc: 0.6590 - val_loss: 0.6188 - val_acc: 0.6378\n",
      "Epoch 3/10\n",
      "80/80 [==============================] - 17s 214ms/step - loss: 0.6012 - acc: 0.6801 - val_loss: 0.5792 - val_acc: 0.7094\n",
      "Epoch 4/10\n",
      "80/80 [==============================] - 16s 204ms/step - loss: 0.5812 - acc: 0.6961 - val_loss: 0.5703 - val_acc: 0.7328\n",
      "Epoch 5/10\n",
      "80/80 [==============================] - 15s 189ms/step - loss: 0.5746 - acc: 0.6980 - val_loss: 0.5562 - val_acc: 0.7109\n",
      "Epoch 6/10\n",
      "80/80 [==============================] - 16s 194ms/step - loss: 0.5754 - acc: 0.7039 - val_loss: 0.5466 - val_acc: 0.7308\n",
      "Epoch 7/10\n",
      "80/80 [==============================] - 14s 178ms/step - loss: 0.5628 - acc: 0.7086 - val_loss: 0.5922 - val_acc: 0.6844\n",
      "Epoch 8/10\n",
      "80/80 [==============================] - 14s 179ms/step - loss: 0.5557 - acc: 0.7137 - val_loss: 0.6074 - val_acc: 0.6516\n",
      "Epoch 9/10\n",
      "80/80 [==============================] - 14s 173ms/step - loss: 0.5374 - acc: 0.7340 - val_loss: 0.5956 - val_acc: 0.7147\n",
      "Epoch 10/10\n",
      "80/80 [==============================] - 14s 171ms/step - loss: 0.5545 - acc: 0.7152 - val_loss: 0.5091 - val_acc: 0.7453\n"
     ]
    },
    {
     "data": {
      "text/plain": [
       "<keras.callbacks.History at 0x7fe84a6b5b38>"
      ]
     },
     "execution_count": 17,
     "metadata": {},
     "output_type": "execute_result"
    }
   ],
   "source": [
    "classifier.fit_generator(training_set,\n",
    "                         steps_per_epoch = 80,  // batch_size \n",
    "                         epochs = 10,\n",
    "                         validation_data = test_set,\n",
    "                         validation_steps = 20 // batch_size)"
   ]
  },
  {
   "cell_type": "code",
   "execution_count": 52,
   "metadata": {},
   "outputs": [],
   "source": [
    "# Save keras model\n",
    "classifier.save_weights('10_epochs.h5')  # always save your weights after training or during training"
   ]
  },
  {
   "cell_type": "code",
   "execution_count": 36,
   "metadata": {},
   "outputs": [],
   "source": [
    "import PIL.Image\n",
    "# from PIL import *\n",
    "from tensorflow.keras.preprocessing import image"
   ]
  },
  {
   "cell_type": "markdown",
   "metadata": {},
   "source": [
    "### Prediction of image"
   ]
  },
  {
   "cell_type": "code",
   "execution_count": 37,
   "metadata": {
    "scrolled": true
   },
   "outputs": [
    {
     "data": {
      "image/png": "[encoded data removed]",
      "text/plain": [
       "<Figure size 432x288 with 1 Axes>"
      ]
     },
     "metadata": {
      "needs_background": "light"
     },
     "output_type": "display_data"
    }
   ],
   "source": [
    "# img12 = image.load_img('dataset/test_set/dogs/dog.4001.jpg', target_size = (64, 64))\n",
    "img1 = image.load_img('dataset/test_set/cats/cat.4052.jpg', target_size = (64, 64))\n",
    "\n",
    "\"\"\"img_to_array-> it would ensure that the returned array is a 3D array (for example, if the given input \n",
    "img is a 2D array which might represent a grayscale image, then it would add another axis with dimension 1 \n",
    "to make it a 3D array).\"\"\"\n",
    "\n",
    "img = image.img_to_array(img1)\n",
    "# scalling\n",
    "img = img/255\n",
    "# create a batch of size 1 [N,H,W,C]\n",
    "img = np.expand_dims(img, axis=0)\n",
    "prediction = classifier.predict(img, batch_size=None,steps=1) #gives all class prob.\n",
    "if(prediction[:,:]>0.5):\n",
    "   value ='Dog :%1.2f'%(prediction[0,0])\n",
    "   plt.text(20, 62,value,color='red',fontsize=18,bbox=dict(facecolor='white',alpha=0.8))\n",
    "else:\n",
    "   value ='Cat :%1.2f'%(1.0-prediction[0,0])\n",
    "   plt.text(20, 62,value,color='red',fontsize=18,bbox=dict(facecolor='white',alpha=0.8))\n",
    "\n",
    "plt.imshow(img1)\n",
    "plt.show()"
   ]
  },
  {
   "cell_type": "code",
   "execution_count": 38,
   "metadata": {},
   "outputs": [
    {
     "data": {
      "image/png": "[encoded data removed]",
      "text/plain": [
       "<Figure size 432x288 with 1 Axes>"
      ]
     },
     "metadata": {
      "needs_background": "light"
     },
     "output_type": "display_data"
    }
   ],
   "source": [
    "\n",
    "img1 = image.load_img('dataset/test_set/dogs/dog.4001.jpg', target_size = (64, 64))\n",
    "img = image.img_to_array(img1)\n",
    "img = img/255\n",
    "# create a batch of size 1 [N,H,W,C]\n",
    "img = np.expand_dims(img, axis=0)\n",
    "prediction = classifier.predict(img, batch_size=None,steps=1) #gives all class prob.\n",
    "if(prediction[:,:]>0.5):\n",
    "   value ='Dog :%1.2f'%(prediction[0,0])\n",
    "   plt.text(20, 62,value,color='red',fontsize=18,bbox=dict(facecolor='white',alpha=0.8))\n",
    "else:\n",
    "   value ='Cat :%1.2f'%(1.0-prediction[0,0])\n",
    "   plt.text(20, 62,value,color='red',fontsize=18,bbox=dict(facecolor='white',alpha=0.8))\n",
    "\n",
    "plt.imshow(img1)\n",
    "plt.show()"
   ]
  },
  {
   "cell_type": "code",
   "execution_count": 39,
   "metadata": {},
   "outputs": [
    {
     "data": {
      "text/plain": [
       "array([[0.58819145]], dtype=float32)"
      ]
     },
     "execution_count": 39,
     "metadata": {},
     "output_type": "execute_result"
    }
   ],
   "source": [
    "prediction"
   ]
  },
  {
   "cell_type": "code",
   "execution_count": null,
   "metadata": {},
   "outputs": [],
   "source": [
    "#load the pickle file\n",
    "file = open ('CNN.pickle','wb')\n",
    "pickle.load(classifier,file)\n",
    "\n"
   ]
  }
 ],
 "metadata": {
  "kernelspec": {
   "display_name": "Python 3",
   "language": "python",
   "name": "python3"
  },
  "language_info": {
   "codemirror_mode": {
    "name": "ipython",
    "version": 3
   },
   "file_extension": ".py",
   "mimetype": "text/x-python",
   "name": "python",
   "nbconvert_exporter": "python",
   "pygments_lexer": "ipython3",
   "version": "3.7.2"
  }
 },
 "nbformat": 4,
 "nbformat_minor": 2
}
