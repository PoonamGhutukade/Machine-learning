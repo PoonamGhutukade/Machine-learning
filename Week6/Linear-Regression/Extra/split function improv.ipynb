{
 "cells": [
  {
   "cell_type": "code",
   "execution_count": null,
   "metadata": {},
   "outputs": [],
   "source": [
    " def split_data(self):\n",
    "\n",
    "        # 70 % training datset\n",
    "        self.train_per = 0.70*len(self.df)\n",
    "        # 30% test dataset\n",
    "        self.test_per = len(self.df)-self.train_per\n",
    "        \n",
    "#         X_train_set = self.df.head(train_per)\n",
    "#         Y_train_set = self.df.tail(test_per)\n",
    "#         X_train_set = np.array(train_per)\n",
    "#         Y_train_set = np.array(test_per)\n",
    "        \n",
    "        print(\"\\nTraining data set\\n\",self.train_per)\n",
    "        print(\"\\nTest data set\\n\",self.test_per)\n",
    "#         return train_per, test_per\n",
    "        \n",
    "    def split_11(self):\n",
    "        print(\"Convert pandas datafrem into numpy\")\n",
    "        x_train_data = np.array(self.df.App_temp[:self.train_per])   \n",
    "        y_train_data = np.array(self.df.Humi[:self.train_per])\n",
    "#         print(\"x test\",x_train_data)\n",
    "#         print(\"Y test\",y_train_data)\n",
    "        x_test_data = np.array(self.df_1.App_temp[:self.test_per])\n",
    "        y_test_data = np.array(self.df_1.Humi[:self.test_per])\n",
    "       \n",
    "        return x_train_data, y_train_data, x_test_data, y_test_data\n",
    "    "
   ]
  }
 ],
 "metadata": {
  "kernelspec": {
   "display_name": "Python 3",
   "language": "python",
   "name": "python3"
  },
  "language_info": {
   "codemirror_mode": {
    "name": "ipython",
    "version": 3
   },
   "file_extension": ".py",
   "mimetype": "text/x-python",
   "name": "python",
   "nbconvert_exporter": "python",
   "pygments_lexer": "ipython3",
   "version": "3.7.2"
  }
 },
 "nbformat": 4,
 "nbformat_minor": 2
}
