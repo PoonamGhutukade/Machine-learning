{
 "cells": [
  {
   "cell_type": "markdown",
   "metadata": {},
   "source": [
    "# Natural Language Processing\t\n",
    "1. Using NLP predict whether the review is positive or negative for a given dataset \n"
   ]
  },
  {
   "cell_type": "code",
   "execution_count": 1,
   "metadata": {},
   "outputs": [],
   "source": [
    "#import libraries\n",
    "import pandas as pd\n",
    "import matplotlib.pyplot as plt\n",
    "import seaborn as sb\n",
    "# Feature Scaling\n",
    "from sklearn.preprocessing import StandardScaler\n",
    "# NLTK libraries\n",
    "import nltk\n",
    "# cleaning the text\n",
    "import re\n",
    "from nltk.corpus import stopwords\n",
    "from nltk.stem.porter import PorterStemmer\n",
    "#Creating the Bag of words model\n",
    "from sklearn.feature_extraction.text import CountVectorizer\n",
    "# Fitting Naive Bayes to the Training set\n",
    "from sklearn.naive_bayes import GaussianNB\n",
    "\n",
    "from sklearn.metrics import roc_auc_score\n",
    "from sklearn.metrics import average_precision_score\n",
    "from sklearn.metrics import classification_report\n",
    "from sklearn import metrics\n",
    "\n",
    "#Classification library\n",
    "from sklearn.tree import DecisionTreeClassifier\n",
    "\n",
    "#Classification library\n",
    "from sklearn.ensemble import RandomForestClassifier\n",
    "\n",
    "# precision recall\n",
    "from sklearn.metrics import precision_recall_curve\n",
    "import matplotlib.pyplot as plt\n",
    "from inspect import signature\n",
    "from sklearn.metrics import roc_curve\n",
    "import matplotlib.pyplot as plt\n",
    "%matplotlib inline\n",
    "\n",
    "# ignore warnings\n",
    "import warnings\n",
    "warnings.filterwarnings('ignore')\n",
    "import importlib.util"
   ]
  },
  {
   "cell_type": "code",
   "execution_count": 2,
   "metadata": {},
   "outputs": [],
   "source": [
    "# importing template file \n",
    "spec = importlib.util.spec_from_file_location(\"Util_class\", \"/home/admin1/PycharmProjects/Machine-Learning/Week 13/Util/util.py\")\n",
    "foo = importlib.util.module_from_spec(spec)\n",
    "spec.loader.exec_module(foo)\n",
    "# creating object of Template class\n",
    "obj_util = foo.Util_class()"
   ]
  },
  {
   "cell_type": "code",
   "execution_count": 3,
   "metadata": {},
   "outputs": [
    {
     "data": {
      "text/html": [
       "<div>\n",
       "<style scoped>\n",
       "    .dataframe tbody tr th:only-of-type {\n",
       "        vertical-align: middle;\n",
       "    }\n",
       "\n",
       "    .dataframe tbody tr th {\n",
       "        vertical-align: top;\n",
       "    }\n",
       "\n",
       "    .dataframe thead th {\n",
       "        text-align: right;\n",
       "    }\n",
       "</style>\n",
       "<table border=\"1\" class=\"dataframe\">\n",
       "  <thead>\n",
       "    <tr style=\"text-align: right;\">\n",
       "      <th></th>\n",
       "      <th>Review</th>\n",
       "      <th>Liked</th>\n",
       "    </tr>\n",
       "  </thead>\n",
       "  <tbody>\n",
       "    <tr>\n",
       "      <th>0</th>\n",
       "      <td>Wow... Loved this place.</td>\n",
       "      <td>1</td>\n",
       "    </tr>\n",
       "    <tr>\n",
       "      <th>1</th>\n",
       "      <td>Crust is not good.</td>\n",
       "      <td>0</td>\n",
       "    </tr>\n",
       "    <tr>\n",
       "      <th>2</th>\n",
       "      <td>Not tasty and the texture was just nasty.</td>\n",
       "      <td>0</td>\n",
       "    </tr>\n",
       "    <tr>\n",
       "      <th>3</th>\n",
       "      <td>Stopped by during the late May bank holiday of...</td>\n",
       "      <td>1</td>\n",
       "    </tr>\n",
       "    <tr>\n",
       "      <th>4</th>\n",
       "      <td>The selection on the menu was great and so wer...</td>\n",
       "      <td>1</td>\n",
       "    </tr>\n",
       "  </tbody>\n",
       "</table>\n",
       "</div>"
      ],
      "text/plain": [
       "                                              Review  Liked\n",
       "0                           Wow... Loved this place.      1\n",
       "1                                 Crust is not good.      0\n",
       "2          Not tasty and the texture was just nasty.      0\n",
       "3  Stopped by during the late May bank holiday of...      1\n",
       "4  The selection on the menu was great and so wer...      1"
      ]
     },
     "execution_count": 3,
     "metadata": {},
     "output_type": "execute_result"
    }
   ],
   "source": [
    "#Load dataset\n",
    "# tsv = tab seperated value, to read this file use delimiter, and to remove double quotes use quoting = 3\n",
    "dataset_original = pd.read_csv (\"Restaurant_Reviews.tsv\", delimiter = '\\t', quoting = 3)\n",
    "dataset = dataset_original\n",
    "dataset.head()"
   ]
  },
  {
   "cell_type": "code",
   "execution_count": 4,
   "metadata": {},
   "outputs": [
    {
     "name": "stdout",
     "output_type": "stream",
     "text": [
      "Dataset has 1000 rows and 2 Columns\n"
     ]
    }
   ],
   "source": [
    "print(\"Dataset has {} rows and {} Columns\".format(dataset.shape[0],dataset.shape[1])) "
   ]
  },
  {
   "cell_type": "code",
   "execution_count": 5,
   "metadata": {},
   "outputs": [
    {
     "name": "stdout",
     "output_type": "stream",
     "text": [
      "<class 'pandas.core.frame.DataFrame'>\n",
      "RangeIndex: 1000 entries, 0 to 999\n",
      "Data columns (total 2 columns):\n",
      "Review    1000 non-null object\n",
      "Liked     1000 non-null int64\n",
      "dtypes: int64(1), object(1)\n",
      "memory usage: 15.7+ KB\n"
     ]
    }
   ],
   "source": [
    "# check dataset information\n",
    "dataset.info()"
   ]
  },
  {
   "cell_type": "code",
   "execution_count": 6,
   "metadata": {},
   "outputs": [
    {
     "data": {
      "text/html": [
       "<div>\n",
       "<style scoped>\n",
       "    .dataframe tbody tr th:only-of-type {\n",
       "        vertical-align: middle;\n",
       "    }\n",
       "\n",
       "    .dataframe tbody tr th {\n",
       "        vertical-align: top;\n",
       "    }\n",
       "\n",
       "    .dataframe thead th {\n",
       "        text-align: right;\n",
       "    }\n",
       "</style>\n",
       "<table border=\"1\" class=\"dataframe\">\n",
       "  <thead>\n",
       "    <tr style=\"text-align: right;\">\n",
       "      <th></th>\n",
       "      <th>count</th>\n",
       "      <th>mean</th>\n",
       "      <th>std</th>\n",
       "      <th>min</th>\n",
       "      <th>25%</th>\n",
       "      <th>50%</th>\n",
       "      <th>75%</th>\n",
       "      <th>max</th>\n",
       "    </tr>\n",
       "  </thead>\n",
       "  <tbody>\n",
       "    <tr>\n",
       "      <th>Liked</th>\n",
       "      <td>1000.0</td>\n",
       "      <td>0.5</td>\n",
       "      <td>0.50025</td>\n",
       "      <td>0.0</td>\n",
       "      <td>0.0</td>\n",
       "      <td>0.5</td>\n",
       "      <td>1.0</td>\n",
       "      <td>1.0</td>\n",
       "    </tr>\n",
       "  </tbody>\n",
       "</table>\n",
       "</div>"
      ],
      "text/plain": [
       "        count  mean      std  min  25%  50%  75%  max\n",
       "Liked  1000.0   0.5  0.50025  0.0  0.0  0.5  1.0  1.0"
      ]
     },
     "execution_count": 6,
     "metadata": {},
     "output_type": "execute_result"
    }
   ],
   "source": [
    "# descibe the dataset\n",
    "dataset.describe().T"
   ]
  },
  {
   "cell_type": "code",
   "execution_count": 7,
   "metadata": {},
   "outputs": [
    {
     "data": {
      "text/plain": [
       "Review    0\n",
       "Liked     0\n",
       "dtype: int64"
      ]
     },
     "execution_count": 7,
     "metadata": {},
     "output_type": "execute_result"
    }
   ],
   "source": [
    "# handling missing data if nessesary\n",
    "dataset.isnull().sum()"
   ]
  },
  {
   "cell_type": "code",
   "execution_count": 8,
   "metadata": {},
   "outputs": [
    {
     "data": {
      "text/plain": [
       "4"
      ]
     },
     "execution_count": 8,
     "metadata": {},
     "output_type": "execute_result"
    }
   ],
   "source": [
    "# check for duplicate values\n",
    "dataset.duplicated().sum()"
   ]
  },
  {
   "cell_type": "code",
   "execution_count": 9,
   "metadata": {},
   "outputs": [],
   "source": [
    "# dataset = dataset.drop_duplicates()"
   ]
  },
  {
   "cell_type": "code",
   "execution_count": 10,
   "metadata": {},
   "outputs": [
    {
     "name": "stderr",
     "output_type": "stream",
     "text": [
      "[nltk_data] Downloading package stopwords to /home/admin1/nltk_data...\n",
      "[nltk_data]   Package stopwords is already up-to-date!\n"
     ]
    },
    {
     "data": {
      "text/plain": [
       "True"
      ]
     },
     "execution_count": 10,
     "metadata": {},
     "output_type": "execute_result"
    }
   ],
   "source": [
    "# Download nltk stopwords\n",
    "nltk.download(\"stopwords\")"
   ]
  },
  {
   "cell_type": "code",
   "execution_count": 11,
   "metadata": {},
   "outputs": [
    {
     "data": {
      "text/plain": [
       "Index(['Review', 'Liked'], dtype='object')"
      ]
     },
     "execution_count": 11,
     "metadata": {},
     "output_type": "execute_result"
    }
   ],
   "source": [
    "dataset.columns"
   ]
  },
  {
   "cell_type": "code",
   "execution_count": 12,
   "metadata": {},
   "outputs": [],
   "source": [
    "# cleaning the text\n",
    "corpus = []\n",
    "for i in range(dataset.shape[0]):\n",
    "    # step1 -> Only taking letters\n",
    "    # Here we only taking latter, others are removed\n",
    "    review = re.sub('[^a-zA-Z]', ' ', dataset['Review'][i])\n",
    "#     print(review)\n",
    "\n",
    "    # step2 -> Convert all words into lower case\n",
    "    review = review.lower()\n",
    "#     print(review)\n",
    "    # split to array(default delimiter is \" \") \n",
    "    # Step3 -> take sentence into words\n",
    "    #  Tokenization, involves splitting sentences and words from the body of the text.\n",
    "    review = review.split()\n",
    "#     print(review)\n",
    "\n",
    "    # Step4 -> Remove Unnecessary words using stopwords \n",
    "    # Step5 -> Take rootwords using stem() func by importing PorterStemmer\n",
    "\n",
    "    ps = PorterStemmer()\n",
    "    # here we take set() function bcoz it goes through all the word faster to all words in list\n",
    "    review = [ps.stem(word) for word in review if not word in set(stopwords.words('english'))]\n",
    "#     print(review)\n",
    "\n",
    "    # Step6 -> join all words\n",
    "    review = ' '.join(review)\n",
    "    \n",
    "    # Step7 -> Append whole list\n",
    "    corpus.append(review)\n",
    "    \n"
   ]
  },
  {
   "cell_type": "code",
   "execution_count": 13,
   "metadata": {},
   "outputs": [
    {
     "data": {
      "text/plain": [
       "'wast enough life pour salt wound draw time took bring check'"
      ]
     },
     "execution_count": 13,
     "metadata": {},
     "output_type": "execute_result"
    }
   ],
   "source": [
    "review"
   ]
  },
  {
   "cell_type": "code",
   "execution_count": 14,
   "metadata": {},
   "outputs": [],
   "source": [
    "# Step8 -> Creating the Bag of words model\n",
    "# taking unique words and take one column fr one word then add all cols into table. When cols created for \n",
    "#each word it is each one is independent variable, & it allow us for classification model through the process \n",
    "#of tokenizer\n",
    "\n",
    "cv = CountVectorizer(max_features=1500)\n",
    "x = cv.fit_transform(corpus).toarray()\n",
    "y = dataset.iloc[:, 1].values"
   ]
  },
  {
   "cell_type": "code",
   "execution_count": 15,
   "metadata": {},
   "outputs": [
    {
     "data": {
      "text/plain": [
       "((1000, 1500), (1000,))"
      ]
     },
     "execution_count": 15,
     "metadata": {},
     "output_type": "execute_result"
    }
   ],
   "source": [
    "x.shape, y.shape"
   ]
  },
  {
   "cell_type": "code",
   "execution_count": 16,
   "metadata": {},
   "outputs": [],
   "source": [
    "# import os\n",
    "# create directory to store csv files\n",
    "# os.mkdir(\"CSV_files\")"
   ]
  },
  {
   "cell_type": "markdown",
   "metadata": {},
   "source": [
    "### NLP by using - Naive_Bayes"
   ]
  },
  {
   "cell_type": "code",
   "execution_count": 23,
   "metadata": {},
   "outputs": [
    {
     "name": "stdout",
     "output_type": "stream",
     "text": [
      "x_train :  (800, 1500)  x_test :  (200, 1500)\n",
      "x_train_data :  (640, 1500)  x_crossV_data :  (160, 1500)\n",
      "\n",
      "\n",
      "Confusion Matrix:\n",
      " [[42 43]\n",
      " [ 8 67]]\n",
      "\n",
      "\n",
      "Average accuracy_score: 68.125\n",
      "Average precision-recall score: 59.41\n",
      "Average Roc-AUC: 69.373\n",
      "Accuracy by F1-score: 72.43243243243244\n",
      "\n",
      "Model created with pickle file\n",
      "-------------------------CROSS Validation-------------------------------------\n",
      "\n",
      " Accuracy: average_precision_score : 59.412121212121214\n",
      "\n",
      "               precision    recall  f1-score   support\n",
      "\n",
      "           0       0.84      0.49      0.62        85\n",
      "           1       0.61      0.89      0.72        75\n",
      "\n",
      "    accuracy                           0.68       160\n",
      "   macro avg       0.72      0.69      0.67       160\n",
      "weighted avg       0.73      0.68      0.67       160\n",
      "\n",
      "\n",
      " ROC curve \n",
      "\n"
     ]
    },
    {
     "data": {
      "image/png": "[encoded data removed]",
      "text/plain": [
       "<Figure size 432x288 with 1 Axes>"
      ]
     },
     "metadata": {
      "needs_background": "light"
     },
     "output_type": "display_data"
    }
   ],
   "source": [
    "class Naive_Bayes():\n",
    "    \n",
    "    def create_module(self,x_train,y_train):\n",
    "        # Fitting Naive Bayes to the Training set\n",
    "        classifier = GaussianNB()\n",
    "        classifier.fit(x_train, y_train)\n",
    "        return classifier\n",
    "        \n",
    "def main():\n",
    "    #class obj created\n",
    "    obj  = Naive_Bayes()\n",
    "    \n",
    "    #split dataset into train, test and cross validation also save csv files\n",
    "    x_train, x_cv,  y_train, y_cv = obj_util.splitdata(x, y, \"CSV_files/Naive_Bayes_test.csv\", 0.20,0.20)\n",
    "\n",
    "#     # Feature Scalling for train and test data \n",
    "#     x_train = obj_util.feature_Scaling(x_train)\n",
    "#     x_test = obj_util.feature_Scaling(x_test)\n",
    "    \n",
    "#     sc = StandardScaler()\n",
    "#     x_train = sc.fit_transform(x_train)\n",
    "#     x_cv = sc.transform(x_cv)\n",
    "\n",
    "    classifier = obj.create_module(x_train,y_train)\n",
    "#     cl = nltk.NaiveBayesClassifier.train(x_train)\n",
    "#     print(cl.show_most_informative_features(10))\n",
    "#     print(\"\\nModule created\")\n",
    "#     print(\"classifier object\",classifier)\n",
    "\n",
    "    y_pre = obj_util.y_prediction(x_cv, classifier)\n",
    "#     print(\"\\n\\n y_prediction:\",y_pre)\n",
    "#     print(y_pre.shape)\n",
    "    \n",
    "    cm = obj_util.confusion_matrix(y_cv,y_pre)\n",
    "    print(\"\\n\\nConfusion Matrix:\\n\",cm)\n",
    "    \n",
    "    accuracy_score,average_precision,auc, f1_score_acc = obj_util.accuracy(y_pre,y_cv)\n",
    "    print('\\n\\nAverage accuracy_score:' , accuracy_score)\n",
    "    print('Average precision-recall score: {0:0.2f}'.format(average_precision))\n",
    "    print('Average Roc-AUC: %.3f' % auc)\n",
    "    print('Accuracy by F1-score:',f1_score_acc)\n",
    "\n",
    "#     obj_util.create_piklefile(classifier, sc, \"Naive_Bayes.pkl\")\n",
    "    print(\"\\nModel created with pickle file\")\n",
    "    \n",
    "    print(\"-------------------------CROSS Validation-------------------------------------\")\n",
    "     # predict y\n",
    "    y_pre = obj_util.y_prediction(x_cv, classifier)\n",
    "    # Calculate accuracy\n",
    "    accuracy = average_precision_score(y_cv, y_pre)* 100\n",
    "    print(\"\\n Accuracy: average_precision_score :\", accuracy)\n",
    "\n",
    "    print(\"\\n\",classification_report(y_cv, y_pre))\n",
    "\n",
    "    y_pred_prob = classifier.predict_proba(x_cv)[:,1]\n",
    "\n",
    "    print(\"\\n ROC curve \\n\")\n",
    "    fpr, tpr, thresholds =  metrics.roc_curve(y_cv, y_pred_prob)\n",
    "    # create plot\n",
    "    plt.plot(fpr, tpr, label='ROC curve')\n",
    "    plt.plot([0, 1], [0, 1], 'k--', label='Random guess')\n",
    "    plt.xlabel('False Positive Rate')\n",
    "    plt.ylabel('True Positive Rate')\n",
    "    plt.title('ROC Curve')\n",
    "    plt.xlim([-0.02, 1])\n",
    "    plt.ylim([0, 1.02])\n",
    "    plt.legend(loc=\"lower right\")\n",
    "\n",
    "if __name__ == '__main__':\n",
    "    main()\n"
   ]
  },
  {
   "cell_type": "markdown",
   "metadata": {},
   "source": [
    "### NLP by using - Decision Tree Classification "
   ]
  },
  {
   "cell_type": "code",
   "execution_count": 30,
   "metadata": {},
   "outputs": [
    {
     "name": "stdout",
     "output_type": "stream",
     "text": [
      "x_train :  (700, 1500)  x_test :  (300, 1500)\n",
      "x_train_data :  (560, 1500)  x_crossV_data :  (140, 1500)\n",
      "\n",
      "\n",
      "Confusion Matrix:\n",
      " [[281   0]\n",
      " [  2 277]]\n",
      "\n",
      "\n",
      "Average accuracy_score: 99.64285714285714\n",
      "Average precision-recall score: 99.64\n",
      "Average Roc-AUC: 99.642\n",
      "Accuracy by F1-score: 99.64028776978417\n",
      "\n",
      "Model created with pickle file\n",
      "-------------------------CROSS Validation-------------------------------------\n",
      "\n",
      " Accuracy: average_precision_score : 63.79464285714286\n",
      "\n",
      "               precision    recall  f1-score   support\n",
      "\n",
      "           0       0.75      0.76      0.76        76\n",
      "           1       0.71      0.70      0.71        64\n",
      "\n",
      "    accuracy                           0.74       140\n",
      "   macro avg       0.73      0.73      0.73       140\n",
      "weighted avg       0.74      0.74      0.74       140\n",
      "\n",
      "\n",
      " ROC curve \n",
      "\n"
     ]
    },
    {
     "data": {
      "image/png": "[encoded data removed]",
      "text/plain": [
       "<Figure size 432x288 with 1 Axes>"
      ]
     },
     "metadata": {
      "needs_background": "light"
     },
     "output_type": "display_data"
    }
   ],
   "source": [
    "class DecisionTreeClassification():\n",
    "    \n",
    "    def create_module(self,x_train,y_train):\n",
    "        # Fitting Decision Tree Classification to the Training set\n",
    "        classifier = DecisionTreeClassifier(criterion= 'entropy', random_state=0)\n",
    "        classifier.fit(x_train,y_train)\n",
    "        return classifier\n",
    "        \n",
    "def main():\n",
    "    #class obj created\n",
    "    obj  = DecisionTreeClassification()\n",
    "    \n",
    "    #split dataset into train, test and cross validation also save csv files\n",
    "    x_train, x_cv,  y_train, y_cv = obj_util.splitdata(x, y, \"CSV_files/DecisionTree_Test.csv\", 0.30,0.20)\n",
    "    \n",
    "    # feature Scaling\n",
    "    sc = StandardScaler()\n",
    "    x_train = sc.fit_transform(x_train)\n",
    "    x_cv = sc.transform(x_cv)\n",
    "\n",
    "    # fit model \n",
    "    classifier = obj.create_module(x_train,y_train)\n",
    "\n",
    "    # predict y\n",
    "    y_pre = obj_util.y_prediction(x_train, classifier)\n",
    "    \n",
    "    cm = obj_util.confusion_matrix(y_train,y_pre)\n",
    "    print(\"\\n\\nConfusion Matrix:\\n\",cm)\n",
    "    \n",
    "    accuracy_score,average_precision,auc, f1_score_acc = obj_util.accuracy(y_pre,y_train)\n",
    "    \n",
    "    print('\\n\\nAverage accuracy_score:' , accuracy_score)\n",
    "    print('Average precision-recall score: {0:0.2f}'.format(average_precision))\n",
    "    print('Average Roc-AUC: %.3f' % auc)\n",
    "    print('Accuracy by F1-score:',f1_score_acc)\n",
    "\n",
    "    obj_util.create_piklefile(classifier, sc, \"DecisionTreeClassification.pkl\")\n",
    "    print(\"\\nModel created with pickle file\")\n",
    "    \n",
    "    print(\"-------------------------CROSS Validation-------------------------------------\")\n",
    "     # predict y\n",
    "    y_pre = obj_util.y_prediction(x_cv, classifier)\n",
    "    \n",
    "    accuracy = average_precision_score(y_cv, y_pre)* 100\n",
    "    print(\"\\n Accuracy: average_precision_score :\", accuracy)\n",
    "\n",
    "\n",
    "    print(\"\\n\",classification_report(y_cv, y_pre))\n",
    "\n",
    "    y_pred_prob = classifier.predict_proba(x_cv)[:,1]\n",
    "\n",
    "    print(\"\\n ROC curve \\n\")\n",
    "    fpr, tpr, thresholds = roc_curve(y_cv, y_pred_prob)\n",
    "    # create plot\n",
    "    plt.plot(fpr, tpr, label='ROC curve')\n",
    "    plt.plot([0, 1], [0, 1], 'k--', label='Random guess')\n",
    "    plt.xlabel('False Positive Rate')\n",
    "    plt.ylabel('True Positive Rate')\n",
    "    plt.title('ROC Curve')\n",
    "    plt.xlim([-0.02, 1])\n",
    "    plt.ylim([0, 1.02])\n",
    "    plt.legend(loc=\"lower right\")\n",
    "    \n",
    "if __name__ == '__main__':\n",
    "    main()\n"
   ]
  },
  {
   "cell_type": "markdown",
   "metadata": {},
   "source": [
    "### NLP by using - Random_forest Classification "
   ]
  },
  {
   "cell_type": "code",
   "execution_count": null,
   "metadata": {},
   "outputs": [],
   "source": []
  },
  {
   "cell_type": "code",
   "execution_count": 31,
   "metadata": {},
   "outputs": [
    {
     "name": "stdout",
     "output_type": "stream",
     "text": [
      "x_train :  (700, 1500)  x_test :  (300, 1500)\n",
      "x_train_data :  (560, 1500)  x_crossV_data :  (140, 1500)\n",
      "\n",
      "\n",
      "Confusion Matrix:\n",
      " [[65 11]\n",
      " [25 39]]\n",
      "\n",
      "\n",
      "Average accuracy_score: 74.28571428571429\n",
      "Average precision-recall score: 65.39\n",
      "Average Roc-AUC: 73.232\n",
      "Accuracy by F1-score: 68.42105263157895\n",
      "\n",
      "Model created with pickle file\n",
      "-------------------------CROSS Validation-------------------------------------\n",
      "\n",
      " Accuracy: average_precision_score : 65.38839285714286\n",
      "\n",
      "               precision    recall  f1-score   support\n",
      "\n",
      "           0       0.72      0.86      0.78        76\n",
      "           1       0.78      0.61      0.68        64\n",
      "\n",
      "    accuracy                           0.74       140\n",
      "   macro avg       0.75      0.73      0.73       140\n",
      "weighted avg       0.75      0.74      0.74       140\n",
      "\n",
      "\n",
      " ROC curve \n",
      "\n"
     ]
    },
    {
     "data": {
      "image/png": "[encoded data removed]",
      "text/plain": [
       "<Figure size 432x288 with 1 Axes>"
      ]
     },
     "metadata": {
      "needs_background": "light"
     },
     "output_type": "display_data"
    }
   ],
   "source": [
    "class Random_forest():\n",
    "    \n",
    "    def create_module(self,x_train,y_train):\n",
    "        # Fitting Random_forest Classification to the Training set\n",
    "        classifier = RandomForestClassifier(n_estimators=10, criterion='entropy', random_state=0)\n",
    "        classifier.fit(x_train,y_train)\n",
    "        return classifier\n",
    "        \n",
    "def main():\n",
    "    #class obj created\n",
    "    obj  = Random_forest()\n",
    "    \n",
    " #split dataset into train, test and cross validation also save csv files\n",
    "    x_train, x_cv,  y_train, y_cv = obj_util.splitdata(x, y, \"CSV_files/Random_forest_Test.csv\", 0.30,0.20)\n",
    "    \n",
    "    # feature Scaling\n",
    "    sc = StandardScaler()\n",
    "    x_train = sc.fit_transform(x_train)\n",
    "    x_cv = sc.transform(x_cv)\n",
    "\n",
    "    # fit model \n",
    "    classifier = obj.create_module(x_train,y_train)\n",
    "\n",
    "    # predict y\n",
    "    y_pre = obj_util.y_prediction(x_cv, classifier)\n",
    "    \n",
    "    cm = obj_util.confusion_matrix(y_cv,y_pre)\n",
    "    print(\"\\n\\nConfusion Matrix:\\n\",cm)\n",
    "    \n",
    "    accuracy_score,average_precision,auc, f1_score_acc = obj_util.accuracy(y_pre,y_cv)\n",
    "    \n",
    "    print('\\n\\nAverage accuracy_score:' , accuracy_score)\n",
    "    print('Average precision-recall score: {0:0.2f}'.format(average_precision))\n",
    "    print('Average Roc-AUC: %.3f' % auc)\n",
    "    print('Accuracy by F1-score:',f1_score_acc)\n",
    "\n",
    "    obj_util.create_piklefile(classifier,sc, \"Random_forest.pkl\")\n",
    "    print(\"\\nModel created with pickle file\")\n",
    "    \n",
    "    print(\"-------------------------CROSS Validation-------------------------------------\")\n",
    "     # predict y\n",
    "    y_pre = obj_util.y_prediction(x_cv, classifier)\n",
    "    \n",
    "    accuracy = average_precision_score(y_cv, y_pre)* 100\n",
    "    print(\"\\n Accuracy: average_precision_score :\", accuracy)\n",
    "\n",
    "\n",
    "    print(\"\\n\",classification_report(y_cv, y_pre))\n",
    "\n",
    "    y_pred_prob = classifier.predict_proba(x_cv)[:,1]\n",
    "\n",
    "    print(\"\\n ROC curve \\n\")\n",
    "    fpr, tpr, thresholds = roc_curve(y_cv, y_pred_prob)\n",
    "    # create plot\n",
    "    plt.plot(fpr, tpr, label='ROC curve')\n",
    "    plt.plot([0, 1], [0, 1], 'k--', label='Random guess')\n",
    "    plt.xlabel('False Positive Rate')\n",
    "    plt.ylabel('True Positive Rate')\n",
    "    plt.title('ROC Curve')\n",
    "    plt.xlim([-0.02, 1])\n",
    "    plt.ylim([0, 1.02])\n",
    "    plt.legend(loc=\"lower right\")\n",
    "\n",
    "if __name__ == '__main__':\n",
    "    main()\n"
   ]
  },
  {
   "cell_type": "code",
   "execution_count": null,
   "metadata": {},
   "outputs": [],
   "source": []
  }
 ],
 "metadata": {
  "kernelspec": {
   "display_name": "Python 3",
   "language": "python",
   "name": "python3"
  },
  "language_info": {
   "codemirror_mode": {
    "name": "ipython",
    "version": 3
   },
   "file_extension": ".py",
   "mimetype": "text/x-python",
   "name": "python",
   "nbconvert_exporter": "python",
   "pygments_lexer": "ipython3",
   "version": "3.7.2"
  }
 },
 "nbformat": 4,
 "nbformat_minor": 2
}
