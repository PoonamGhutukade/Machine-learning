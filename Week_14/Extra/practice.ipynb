{
 "cells": [
  {
   "cell_type": "code",
   "execution_count": 2,
   "metadata": {},
   "outputs": [],
   "source": [
    "import numpy as np\n",
    "import tensorflow as tf"
   ]
  },
  {
   "cell_type": "code",
   "execution_count": 7,
   "metadata": {},
   "outputs": [
    {
     "name": "stdout",
     "output_type": "stream",
     "text": [
      "1.13.1\n"
     ]
    }
   ],
   "source": [
    "print(tf.__version__)"
   ]
  },
  {
   "cell_type": "code",
   "execution_count": 3,
   "metadata": {},
   "outputs": [
    {
     "name": "stdout",
     "output_type": "stream",
     "text": [
      "[3.5 5.5 6.5]\n",
      "[3.5 5.5 6.5]\n"
     ]
    }
   ],
   "source": [
    "# The functionality of numpy.mean and tensorflow.reduce_mean are the same. They do the same thing.\n",
    "c = np.array([[3.,4], [5.,6], [6.,7]])\n",
    "print(np.mean(c,1))\n",
    "\n",
    "Mean = tf.reduce_mean(c,1)\n",
    "with tf.Session() as sess:\n",
    "    result = sess.run(Mean)\n",
    "    print(result)\n"
   ]
  },
  {
   "cell_type": "markdown",
   "metadata": {},
   "source": [
    "    Here you can see that when axis(numpy) or reduction_indices(tensorflow) is 1, \n",
    "    it computes mean across (3,4) and (5,6) and (6,7), so 1 defines across which axis the mean is computed.\n",
    "    When it is 0, the mean is computed across(3,5,6) and (4,6,7), and so on."
   ]
  },
  {
   "cell_type": "code",
   "execution_count": 4,
   "metadata": {},
   "outputs": [
    {
     "name": "stdout",
     "output_type": "stream",
     "text": [
      "[4.66666667 5.66666667]\n",
      "[4.66666667 5.66666667]\n"
     ]
    }
   ],
   "source": [
    "c = np.array([[3.,4], [5.,6], [6.,7]])\n",
    "print(np.mean(c,0))\n",
    "\n",
    "#the mean is computed across(3,5,6) and (4,6,7) when we take c,0 to calculate mean\n",
    "\n",
    "Mean = tf.reduce_mean(c,0)\n",
    "with tf.Session() as sess:\n",
    "    result = sess.run(Mean)\n",
    "    print(result)"
   ]
  },
  {
   "cell_type": "code",
   "execution_count": null,
   "metadata": {},
   "outputs": [],
   "source": []
  },
  {
   "cell_type": "code",
   "execution_count": 5,
   "metadata": {},
   "outputs": [
    {
     "name": "stdout",
     "output_type": "stream",
     "text": [
      "6.166666666666667\n",
      "6.166666666666667\n"
     ]
    }
   ],
   "source": [
    "npMean = np.mean(c)\n",
    "print(npMean+1)\n",
    "\n",
    "tfMean = tf.reduce_mean(c)\n",
    "Add = tfMean + 1\n",
    "with tf.Session() as sess:\n",
    "    result = sess.run(Add)\n",
    "    print(result)"
   ]
  },
  {
   "cell_type": "code",
   "execution_count": null,
   "metadata": {},
   "outputs": [],
   "source": []
  }
 ],
 "metadata": {
  "kernelspec": {
   "display_name": "Python 3",
   "language": "python",
   "name": "python3"
  },
  "language_info": {
   "codemirror_mode": {
    "name": "ipython",
    "version": 3
   },
   "file_extension": ".py",
   "mimetype": "text/x-python",
   "name": "python",
   "nbconvert_exporter": "python",
   "pygments_lexer": "ipython3",
   "version": "3.7.2"
  }
 },
 "nbformat": 4,
 "nbformat_minor": 2
}
