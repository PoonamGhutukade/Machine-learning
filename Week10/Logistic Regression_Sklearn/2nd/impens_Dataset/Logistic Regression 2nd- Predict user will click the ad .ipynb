{
 "cells": [
  {
   "cell_type": "code",
   "execution_count": 1,
   "metadata": {},
   "outputs": [
    {
     "data": {
      "text/plain": [
       "'\\nClassification\\n\\tLogistic Regression\\n2. The data contains lists of octamers (8 amino acids) and a flag (-1 or 1) depending on whether HIV-1 \\nprotease will cleave in the central position (between amino acids 4 and 5). Build a machine learning  model \\nfor the dataset, please refer document inside zip file for additional information\\n'"
      ]
     },
     "execution_count": 1,
     "metadata": {},
     "output_type": "execute_result"
    }
   ],
   "source": [
    "\"\"\"\n",
    "Classification\n",
    "\tLogistic Regression\n",
    "2. The data contains lists of octamers (8 amino acids) and a flag (-1 or 1) depending on whether HIV-1 \n",
    "protease will cleave in the central position (between amino acids 4 and 5). Build a machine learning  model \n",
    "for the dataset, please refer document inside zip file for additional information\n",
    "\"\"\""
   ]
  },
  {
   "cell_type": "code",
   "execution_count": 2,
   "metadata": {},
   "outputs": [],
   "source": [
    "#import libraries\n",
    "import pandas as pd\n",
    "import seaborn as sb\n",
    "import numpy as np\n",
    "from matplotlib import pyplot as plt  \n",
    "#library for feature scaling\n",
    "from sklearn.preprocessing import StandardScaler\n",
    "# #Classification library\n",
    "from sklearn.linear_model import LogisticRegression\n",
    "\n",
    "import pickle \n",
    "import os, sys\n",
    "import csv\n",
    "# ignore warnings\n",
    "import warnings\n",
    "warnings.filterwarnings('ignore')\n",
    "\n",
    "import importlib.util"
   ]
  },
  {
   "cell_type": "code",
   "execution_count": 3,
   "metadata": {},
   "outputs": [],
   "source": [
    "# importing template file \n",
    "spec = importlib.util.spec_from_file_location(\"Util_class\", \"/home/admin1/PycharmProjects/Machine-Learning/Week10/Util/util.py\")\n",
    "foo = importlib.util.module_from_spec(spec)\n",
    "spec.loader.exec_module(foo)\n",
    "# creating object of Template class\n",
    "obj_util = foo.Util_class()"
   ]
  },
  {
   "cell_type": "code",
   "execution_count": 4,
   "metadata": {},
   "outputs": [
    {
     "data": {
      "text/html": [
       "<div>\n",
       "<style scoped>\n",
       "    .dataframe tbody tr th:only-of-type {\n",
       "        vertical-align: middle;\n",
       "    }\n",
       "\n",
       "    .dataframe tbody tr th {\n",
       "        vertical-align: top;\n",
       "    }\n",
       "\n",
       "    .dataframe thead th {\n",
       "        text-align: right;\n",
       "    }\n",
       "</style>\n",
       "<table border=\"1\" class=\"dataframe\">\n",
       "  <thead>\n",
       "    <tr style=\"text-align: right;\">\n",
       "      <th></th>\n",
       "      <th>Peptides</th>\n",
       "      <th>Result</th>\n",
       "    </tr>\n",
       "  </thead>\n",
       "  <tbody>\n",
       "    <tr>\n",
       "      <th>0</th>\n",
       "      <td>AAAGKSGG</td>\n",
       "      <td>-1</td>\n",
       "    </tr>\n",
       "    <tr>\n",
       "      <th>1</th>\n",
       "      <td>AAAVDAGM</td>\n",
       "      <td>-1</td>\n",
       "    </tr>\n",
       "    <tr>\n",
       "      <th>2</th>\n",
       "      <td>AAGKSGGG</td>\n",
       "      <td>-1</td>\n",
       "    </tr>\n",
       "    <tr>\n",
       "      <th>3</th>\n",
       "      <td>AALALEYG</td>\n",
       "      <td>1</td>\n",
       "    </tr>\n",
       "    <tr>\n",
       "      <th>4</th>\n",
       "      <td>AANDGPMP</td>\n",
       "      <td>-1</td>\n",
       "    </tr>\n",
       "  </tbody>\n",
       "</table>\n",
       "</div>"
      ],
      "text/plain": [
       "   Peptides  Result\n",
       "0  AAAGKSGG      -1\n",
       "1  AAAVDAGM      -1\n",
       "2  AAGKSGGG      -1\n",
       "3  AALALEYG       1\n",
       "4  AANDGPMP      -1"
      ]
     },
     "execution_count": 4,
     "metadata": {},
     "output_type": "execute_result"
    }
   ],
   "source": [
    "# load dataset\n",
    "dataset_original = pd.read_csv (\"impensData.txt\", delimiter = \",\",names=[\"Peptides\", \"Result\"])\n",
    "dataset = dataset_original\n",
    "dataset.head()"
   ]
  },
  {
   "cell_type": "code",
   "execution_count": 5,
   "metadata": {},
   "outputs": [
    {
     "name": "stdout",
     "output_type": "stream",
     "text": [
      "Dataset has 947 rows and 2 Columns\n"
     ]
    }
   ],
   "source": [
    "print(\"Dataset has {} rows and {} Columns\".format(dataset.shape[0],dataset.shape[1])) "
   ]
  },
  {
   "cell_type": "code",
   "execution_count": 6,
   "metadata": {},
   "outputs": [
    {
     "name": "stdout",
     "output_type": "stream",
     "text": [
      "<class 'pandas.core.frame.DataFrame'>\n",
      "RangeIndex: 947 entries, 0 to 946\n",
      "Data columns (total 2 columns):\n",
      "Peptides    947 non-null object\n",
      "Result      947 non-null int64\n",
      "dtypes: int64(1), object(1)\n",
      "memory usage: 14.9+ KB\n"
     ]
    }
   ],
   "source": [
    "# check dataset information\n",
    "dataset.info()"
   ]
  },
  {
   "cell_type": "code",
   "execution_count": 7,
   "metadata": {},
   "outputs": [
    {
     "data": {
      "text/html": [
       "<div>\n",
       "<style scoped>\n",
       "    .dataframe tbody tr th:only-of-type {\n",
       "        vertical-align: middle;\n",
       "    }\n",
       "\n",
       "    .dataframe tbody tr th {\n",
       "        vertical-align: top;\n",
       "    }\n",
       "\n",
       "    .dataframe thead th {\n",
       "        text-align: right;\n",
       "    }\n",
       "</style>\n",
       "<table border=\"1\" class=\"dataframe\">\n",
       "  <thead>\n",
       "    <tr style=\"text-align: right;\">\n",
       "      <th></th>\n",
       "      <th>count</th>\n",
       "      <th>mean</th>\n",
       "      <th>std</th>\n",
       "      <th>min</th>\n",
       "      <th>25%</th>\n",
       "      <th>50%</th>\n",
       "      <th>75%</th>\n",
       "      <th>max</th>\n",
       "    </tr>\n",
       "  </thead>\n",
       "  <tbody>\n",
       "    <tr>\n",
       "      <th>Result</th>\n",
       "      <td>947.0</td>\n",
       "      <td>-0.685322</td>\n",
       "      <td>0.728625</td>\n",
       "      <td>-1.0</td>\n",
       "      <td>-1.0</td>\n",
       "      <td>-1.0</td>\n",
       "      <td>-1.0</td>\n",
       "      <td>1.0</td>\n",
       "    </tr>\n",
       "  </tbody>\n",
       "</table>\n",
       "</div>"
      ],
      "text/plain": [
       "        count      mean       std  min  25%  50%  75%  max\n",
       "Result  947.0 -0.685322  0.728625 -1.0 -1.0 -1.0 -1.0  1.0"
      ]
     },
     "execution_count": 7,
     "metadata": {},
     "output_type": "execute_result"
    }
   ],
   "source": [
    "# descibe the dataset\n",
    "dataset.describe().T"
   ]
  },
  {
   "cell_type": "code",
   "execution_count": 8,
   "metadata": {},
   "outputs": [
    {
     "data": {
      "text/plain": [
       "Peptides    0\n",
       "Result      0\n",
       "dtype: int64"
      ]
     },
     "execution_count": 8,
     "metadata": {},
     "output_type": "execute_result"
    }
   ],
   "source": [
    "# handling missing data if nessesary\n",
    "\"\"\"\n",
    "if missing values are present\n",
    "imputer = Imputer(missing_values=0, axis=0)\n",
    "imputer = imputer.fit(x_data[:, 3:16])\n",
    "\"\"\"\n",
    "dataset.isnull().sum()"
   ]
  },
  {
   "cell_type": "code",
   "execution_count": 9,
   "metadata": {},
   "outputs": [
    {
     "data": {
      "text/plain": [
       "Peptides    0\n",
       "Result      0\n",
       "dtype: int64"
      ]
     },
     "execution_count": 9,
     "metadata": {},
     "output_type": "execute_result"
    }
   ],
   "source": [
    "#check for NAN values\n",
    "dataset.isna().sum()"
   ]
  },
  {
   "cell_type": "code",
   "execution_count": 10,
   "metadata": {},
   "outputs": [
    {
     "data": {
      "text/plain": [
       "0"
      ]
     },
     "execution_count": 10,
     "metadata": {},
     "output_type": "execute_result"
    }
   ],
   "source": [
    "# check for duplicate values\n",
    "dataset.duplicated().sum()"
   ]
  },
  {
   "cell_type": "code",
   "execution_count": 11,
   "metadata": {},
   "outputs": [
    {
     "name": "stdout",
     "output_type": "stream",
     "text": [
      "Skewness of y is 1.885119414256559\n"
     ]
    },
    {
     "data": {
      "image/png": "[encoded data removed]",
      "text/plain": [
       "<Figure size 432x288 with 1 Axes>"
      ]
     },
     "metadata": {
      "needs_background": "light"
     },
     "output_type": "display_data"
    }
   ],
   "source": [
    "# check skewness for target variable\n",
    "sb.distplot(dataset['Result'])\n",
    "print (\"Skewness of y is {}\".format(dataset['Result'].skew()))"
   ]
  },
  {
   "cell_type": "code",
   "execution_count": 12,
   "metadata": {},
   "outputs": [],
   "source": [
    "def remove_skew_square():\n",
    "    print(\"\\nSkewness for Target\")\n",
    "    dataset['Result'] = (np.sqrt(dataset['Result']))\n",
    "    print(\"Mean: \",dataset['Result'].mean(),\"Median: \", dataset['Result'].median(), 'Skewness is :', dataset['Result'].skew())\n",
    "\n",
    "    print(\"Draw histogram\")\n",
    "    plt.hist(dataset['Result'])\n",
    "    plt.show()\n",
    "    \n",
    "# remove_skew_square()\n",
    "# Here if we remove skewness result gives large amount of NAN values"
   ]
  },
  {
   "cell_type": "code",
   "execution_count": 13,
   "metadata": {},
   "outputs": [
    {
     "data": {
      "text/plain": [
       "Peptides    0\n",
       "Result      0\n",
       "dtype: int64"
      ]
     },
     "execution_count": 13,
     "metadata": {},
     "output_type": "execute_result"
    }
   ],
   "source": [
    "dataset.isna().sum()"
   ]
  },
  {
   "cell_type": "code",
   "execution_count": 14,
   "metadata": {},
   "outputs": [
    {
     "data": {
      "text/plain": [
       "(8, 947)"
      ]
     },
     "execution_count": 14,
     "metadata": {},
     "output_type": "execute_result"
    }
   ],
   "source": [
    "# Seperate all amino acids\n",
    "peptides = np.array([[dataset[\"Peptides\"][i][j] for i in range(dataset.shape[0])] for j in range(8)])\n",
    "peptides.shape"
   ]
  },
  {
   "cell_type": "code",
   "execution_count": 15,
   "metadata": {},
   "outputs": [
    {
     "data": {
      "text/plain": [
       "(947, 8)"
      ]
     },
     "execution_count": 15,
     "metadata": {},
     "output_type": "execute_result"
    }
   ],
   "source": [
    "# Store the seperated amino acids into a dataframe\n",
    "dataset2 = pd.DataFrame(peptides.T, columns=list('ABCDEFGH'))\n",
    "dataset2.shape\n"
   ]
  },
  {
   "cell_type": "code",
   "execution_count": 16,
   "metadata": {},
   "outputs": [
    {
     "data": {
      "text/html": [
       "<div>\n",
       "<style scoped>\n",
       "    .dataframe tbody tr th:only-of-type {\n",
       "        vertical-align: middle;\n",
       "    }\n",
       "\n",
       "    .dataframe tbody tr th {\n",
       "        vertical-align: top;\n",
       "    }\n",
       "\n",
       "    .dataframe thead th {\n",
       "        text-align: right;\n",
       "    }\n",
       "</style>\n",
       "<table border=\"1\" class=\"dataframe\">\n",
       "  <thead>\n",
       "    <tr style=\"text-align: right;\">\n",
       "      <th></th>\n",
       "      <th>A</th>\n",
       "      <th>B</th>\n",
       "      <th>C</th>\n",
       "      <th>D</th>\n",
       "      <th>E</th>\n",
       "      <th>F</th>\n",
       "      <th>G</th>\n",
       "      <th>H</th>\n",
       "    </tr>\n",
       "  </thead>\n",
       "  <tbody>\n",
       "    <tr>\n",
       "      <th>0</th>\n",
       "      <td>A</td>\n",
       "      <td>A</td>\n",
       "      <td>A</td>\n",
       "      <td>G</td>\n",
       "      <td>K</td>\n",
       "      <td>S</td>\n",
       "      <td>G</td>\n",
       "      <td>G</td>\n",
       "    </tr>\n",
       "    <tr>\n",
       "      <th>1</th>\n",
       "      <td>A</td>\n",
       "      <td>A</td>\n",
       "      <td>A</td>\n",
       "      <td>V</td>\n",
       "      <td>D</td>\n",
       "      <td>A</td>\n",
       "      <td>G</td>\n",
       "      <td>M</td>\n",
       "    </tr>\n",
       "    <tr>\n",
       "      <th>2</th>\n",
       "      <td>A</td>\n",
       "      <td>A</td>\n",
       "      <td>G</td>\n",
       "      <td>K</td>\n",
       "      <td>S</td>\n",
       "      <td>G</td>\n",
       "      <td>G</td>\n",
       "      <td>G</td>\n",
       "    </tr>\n",
       "    <tr>\n",
       "      <th>3</th>\n",
       "      <td>A</td>\n",
       "      <td>A</td>\n",
       "      <td>L</td>\n",
       "      <td>A</td>\n",
       "      <td>L</td>\n",
       "      <td>E</td>\n",
       "      <td>Y</td>\n",
       "      <td>G</td>\n",
       "    </tr>\n",
       "    <tr>\n",
       "      <th>4</th>\n",
       "      <td>A</td>\n",
       "      <td>A</td>\n",
       "      <td>N</td>\n",
       "      <td>D</td>\n",
       "      <td>G</td>\n",
       "      <td>P</td>\n",
       "      <td>M</td>\n",
       "      <td>P</td>\n",
       "    </tr>\n",
       "  </tbody>\n",
       "</table>\n",
       "</div>"
      ],
      "text/plain": [
       "   A  B  C  D  E  F  G  H\n",
       "0  A  A  A  G  K  S  G  G\n",
       "1  A  A  A  V  D  A  G  M\n",
       "2  A  A  G  K  S  G  G  G\n",
       "3  A  A  L  A  L  E  Y  G\n",
       "4  A  A  N  D  G  P  M  P"
      ]
     },
     "execution_count": 16,
     "metadata": {},
     "output_type": "execute_result"
    }
   ],
   "source": [
    "dataset2.head()"
   ]
  },
  {
   "cell_type": "code",
   "execution_count": 17,
   "metadata": {},
   "outputs": [
    {
     "data": {
      "text/html": [
       "<div>\n",
       "<style scoped>\n",
       "    .dataframe tbody tr th:only-of-type {\n",
       "        vertical-align: middle;\n",
       "    }\n",
       "\n",
       "    .dataframe tbody tr th {\n",
       "        vertical-align: top;\n",
       "    }\n",
       "\n",
       "    .dataframe thead th {\n",
       "        text-align: right;\n",
       "    }\n",
       "</style>\n",
       "<table border=\"1\" class=\"dataframe\">\n",
       "  <thead>\n",
       "    <tr style=\"text-align: right;\">\n",
       "      <th></th>\n",
       "      <th>Peptides</th>\n",
       "      <th>Result</th>\n",
       "      <th>A</th>\n",
       "      <th>B</th>\n",
       "      <th>C</th>\n",
       "      <th>D</th>\n",
       "      <th>E</th>\n",
       "      <th>F</th>\n",
       "      <th>G</th>\n",
       "      <th>H</th>\n",
       "    </tr>\n",
       "  </thead>\n",
       "  <tbody>\n",
       "    <tr>\n",
       "      <th>0</th>\n",
       "      <td>AAAGKSGG</td>\n",
       "      <td>-1</td>\n",
       "      <td>A</td>\n",
       "      <td>A</td>\n",
       "      <td>A</td>\n",
       "      <td>G</td>\n",
       "      <td>K</td>\n",
       "      <td>S</td>\n",
       "      <td>G</td>\n",
       "      <td>G</td>\n",
       "    </tr>\n",
       "    <tr>\n",
       "      <th>1</th>\n",
       "      <td>AAAVDAGM</td>\n",
       "      <td>-1</td>\n",
       "      <td>A</td>\n",
       "      <td>A</td>\n",
       "      <td>A</td>\n",
       "      <td>V</td>\n",
       "      <td>D</td>\n",
       "      <td>A</td>\n",
       "      <td>G</td>\n",
       "      <td>M</td>\n",
       "    </tr>\n",
       "    <tr>\n",
       "      <th>2</th>\n",
       "      <td>AAGKSGGG</td>\n",
       "      <td>-1</td>\n",
       "      <td>A</td>\n",
       "      <td>A</td>\n",
       "      <td>G</td>\n",
       "      <td>K</td>\n",
       "      <td>S</td>\n",
       "      <td>G</td>\n",
       "      <td>G</td>\n",
       "      <td>G</td>\n",
       "    </tr>\n",
       "    <tr>\n",
       "      <th>3</th>\n",
       "      <td>AALALEYG</td>\n",
       "      <td>1</td>\n",
       "      <td>A</td>\n",
       "      <td>A</td>\n",
       "      <td>L</td>\n",
       "      <td>A</td>\n",
       "      <td>L</td>\n",
       "      <td>E</td>\n",
       "      <td>Y</td>\n",
       "      <td>G</td>\n",
       "    </tr>\n",
       "    <tr>\n",
       "      <th>4</th>\n",
       "      <td>AANDGPMP</td>\n",
       "      <td>-1</td>\n",
       "      <td>A</td>\n",
       "      <td>A</td>\n",
       "      <td>N</td>\n",
       "      <td>D</td>\n",
       "      <td>G</td>\n",
       "      <td>P</td>\n",
       "      <td>M</td>\n",
       "      <td>P</td>\n",
       "    </tr>\n",
       "  </tbody>\n",
       "</table>\n",
       "</div>"
      ],
      "text/plain": [
       "   Peptides  Result  A  B  C  D  E  F  G  H\n",
       "0  AAAGKSGG      -1  A  A  A  G  K  S  G  G\n",
       "1  AAAVDAGM      -1  A  A  A  V  D  A  G  M\n",
       "2  AAGKSGGG      -1  A  A  G  K  S  G  G  G\n",
       "3  AALALEYG       1  A  A  L  A  L  E  Y  G\n",
       "4  AANDGPMP      -1  A  A  N  D  G  P  M  P"
      ]
     },
     "execution_count": 17,
     "metadata": {},
     "output_type": "execute_result"
    }
   ],
   "source": [
    "# assign 2nd dataset to 1st one\n",
    "dataset = dataset.assign(**dataset2)\n",
    "#OR\n",
    "# dataset = pd.concat([dataset,dataset2])\n",
    "dataset.head()"
   ]
  },
  {
   "cell_type": "code",
   "execution_count": 18,
   "metadata": {},
   "outputs": [],
   "source": [
    "# drop unwanted column\n",
    "dataset = dataset.drop(['Peptides'], axis=1)"
   ]
  },
  {
   "cell_type": "code",
   "execution_count": 19,
   "metadata": {},
   "outputs": [
    {
     "data": {
      "text/html": [
       "<div>\n",
       "<style scoped>\n",
       "    .dataframe tbody tr th:only-of-type {\n",
       "        vertical-align: middle;\n",
       "    }\n",
       "\n",
       "    .dataframe tbody tr th {\n",
       "        vertical-align: top;\n",
       "    }\n",
       "\n",
       "    .dataframe thead th {\n",
       "        text-align: right;\n",
       "    }\n",
       "</style>\n",
       "<table border=\"1\" class=\"dataframe\">\n",
       "  <thead>\n",
       "    <tr style=\"text-align: right;\">\n",
       "      <th></th>\n",
       "      <th>A</th>\n",
       "      <th>B</th>\n",
       "      <th>C</th>\n",
       "      <th>D</th>\n",
       "      <th>E</th>\n",
       "      <th>F</th>\n",
       "      <th>G</th>\n",
       "      <th>H</th>\n",
       "      <th>Result</th>\n",
       "    </tr>\n",
       "  </thead>\n",
       "  <tbody>\n",
       "    <tr>\n",
       "      <th>0</th>\n",
       "      <td>A</td>\n",
       "      <td>A</td>\n",
       "      <td>A</td>\n",
       "      <td>G</td>\n",
       "      <td>K</td>\n",
       "      <td>S</td>\n",
       "      <td>G</td>\n",
       "      <td>G</td>\n",
       "      <td>-1</td>\n",
       "    </tr>\n",
       "    <tr>\n",
       "      <th>1</th>\n",
       "      <td>A</td>\n",
       "      <td>A</td>\n",
       "      <td>A</td>\n",
       "      <td>V</td>\n",
       "      <td>D</td>\n",
       "      <td>A</td>\n",
       "      <td>G</td>\n",
       "      <td>M</td>\n",
       "      <td>-1</td>\n",
       "    </tr>\n",
       "    <tr>\n",
       "      <th>2</th>\n",
       "      <td>A</td>\n",
       "      <td>A</td>\n",
       "      <td>G</td>\n",
       "      <td>K</td>\n",
       "      <td>S</td>\n",
       "      <td>G</td>\n",
       "      <td>G</td>\n",
       "      <td>G</td>\n",
       "      <td>-1</td>\n",
       "    </tr>\n",
       "    <tr>\n",
       "      <th>3</th>\n",
       "      <td>A</td>\n",
       "      <td>A</td>\n",
       "      <td>L</td>\n",
       "      <td>A</td>\n",
       "      <td>L</td>\n",
       "      <td>E</td>\n",
       "      <td>Y</td>\n",
       "      <td>G</td>\n",
       "      <td>1</td>\n",
       "    </tr>\n",
       "    <tr>\n",
       "      <th>4</th>\n",
       "      <td>A</td>\n",
       "      <td>A</td>\n",
       "      <td>N</td>\n",
       "      <td>D</td>\n",
       "      <td>G</td>\n",
       "      <td>P</td>\n",
       "      <td>M</td>\n",
       "      <td>P</td>\n",
       "      <td>-1</td>\n",
       "    </tr>\n",
       "  </tbody>\n",
       "</table>\n",
       "</div>"
      ],
      "text/plain": [
       "   A  B  C  D  E  F  G  H  Result\n",
       "0  A  A  A  G  K  S  G  G      -1\n",
       "1  A  A  A  V  D  A  G  M      -1\n",
       "2  A  A  G  K  S  G  G  G      -1\n",
       "3  A  A  L  A  L  E  Y  G       1\n",
       "4  A  A  N  D  G  P  M  P      -1"
      ]
     },
     "execution_count": 19,
     "metadata": {},
     "output_type": "execute_result"
    }
   ],
   "source": [
    "dataset = dataset[['A','B','C','D','E','F','G','H','Result']]\n",
    "dataset.head()"
   ]
  },
  {
   "cell_type": "code",
   "execution_count": 20,
   "metadata": {},
   "outputs": [
    {
     "name": "stdout",
     "output_type": "stream",
     "text": [
      "Dataset shape (947, 9)\n"
     ]
    },
    {
     "data": {
      "text/html": [
       "<div>\n",
       "<style scoped>\n",
       "    .dataframe tbody tr th:only-of-type {\n",
       "        vertical-align: middle;\n",
       "    }\n",
       "\n",
       "    .dataframe tbody tr th {\n",
       "        vertical-align: top;\n",
       "    }\n",
       "\n",
       "    .dataframe thead th {\n",
       "        text-align: right;\n",
       "    }\n",
       "</style>\n",
       "<table border=\"1\" class=\"dataframe\">\n",
       "  <thead>\n",
       "    <tr style=\"text-align: right;\">\n",
       "      <th></th>\n",
       "      <th>A</th>\n",
       "      <th>B</th>\n",
       "      <th>C</th>\n",
       "      <th>D</th>\n",
       "      <th>E</th>\n",
       "      <th>F</th>\n",
       "      <th>G</th>\n",
       "      <th>H</th>\n",
       "      <th>Result</th>\n",
       "    </tr>\n",
       "  </thead>\n",
       "  <tbody>\n",
       "    <tr>\n",
       "      <th>0</th>\n",
       "      <td>A</td>\n",
       "      <td>A</td>\n",
       "      <td>A</td>\n",
       "      <td>G</td>\n",
       "      <td>K</td>\n",
       "      <td>S</td>\n",
       "      <td>G</td>\n",
       "      <td>G</td>\n",
       "      <td>-1</td>\n",
       "    </tr>\n",
       "    <tr>\n",
       "      <th>1</th>\n",
       "      <td>A</td>\n",
       "      <td>A</td>\n",
       "      <td>A</td>\n",
       "      <td>V</td>\n",
       "      <td>D</td>\n",
       "      <td>A</td>\n",
       "      <td>G</td>\n",
       "      <td>M</td>\n",
       "      <td>-1</td>\n",
       "    </tr>\n",
       "    <tr>\n",
       "      <th>2</th>\n",
       "      <td>A</td>\n",
       "      <td>A</td>\n",
       "      <td>G</td>\n",
       "      <td>K</td>\n",
       "      <td>S</td>\n",
       "      <td>G</td>\n",
       "      <td>G</td>\n",
       "      <td>G</td>\n",
       "      <td>-1</td>\n",
       "    </tr>\n",
       "    <tr>\n",
       "      <th>3</th>\n",
       "      <td>A</td>\n",
       "      <td>A</td>\n",
       "      <td>L</td>\n",
       "      <td>A</td>\n",
       "      <td>L</td>\n",
       "      <td>E</td>\n",
       "      <td>Y</td>\n",
       "      <td>G</td>\n",
       "      <td>1</td>\n",
       "    </tr>\n",
       "    <tr>\n",
       "      <th>4</th>\n",
       "      <td>A</td>\n",
       "      <td>A</td>\n",
       "      <td>N</td>\n",
       "      <td>D</td>\n",
       "      <td>G</td>\n",
       "      <td>P</td>\n",
       "      <td>M</td>\n",
       "      <td>P</td>\n",
       "      <td>-1</td>\n",
       "    </tr>\n",
       "  </tbody>\n",
       "</table>\n",
       "</div>"
      ],
      "text/plain": [
       "   A  B  C  D  E  F  G  H  Result\n",
       "0  A  A  A  G  K  S  G  G      -1\n",
       "1  A  A  A  V  D  A  G  M      -1\n",
       "2  A  A  G  K  S  G  G  G      -1\n",
       "3  A  A  L  A  L  E  Y  G       1\n",
       "4  A  A  N  D  G  P  M  P      -1"
      ]
     },
     "execution_count": 20,
     "metadata": {},
     "output_type": "execute_result"
    }
   ],
   "source": [
    "print(\"Dataset shape\",dataset.shape)\n",
    "dataset.head()"
   ]
  },
  {
   "cell_type": "code",
   "execution_count": 22,
   "metadata": {},
   "outputs": [],
   "source": [
    "# create directory to store csv files\n",
    "# os.mkdir(\"CSV_files\")"
   ]
  },
  {
   "cell_type": "code",
   "execution_count": 89,
   "metadata": {},
   "outputs": [
    {
     "name": "stdout",
     "output_type": "stream",
     "text": [
      "train :  (662, 9)  test :  (285, 9)\n",
      "train_data :  (397, 9)  crossV_data :  (265, 9)\n"
     ]
    }
   ],
   "source": [
    "#split dataset into train, test and cross validation also save csv files\n",
    "obj_util.splitdata(dataset, 0.30, 0.40,\"CSV_files\" )"
   ]
  },
  {
   "cell_type": "code",
   "execution_count": 90,
   "metadata": {},
   "outputs": [
    {
     "name": "stdout",
     "output_type": "stream",
     "text": [
      "Train Dataset has 397 rows and 9 Columns\n",
      "Cross validation Dataset has 265 rows and 9 Columns\n"
     ]
    }
   ],
   "source": [
    "# load train dataset\n",
    "train_dataset = pd.read_csv (\"CSV_files/train_file.csv\")\n",
    "print(\"Train Dataset has {} rows and {} Columns\".format(train_dataset.shape[0],train_dataset.shape[1])) \n",
    "# load dataset for Cross Validation\n",
    "CV_dataset = pd.read_csv (\"CSV_files/CValidation_file.csv\")\n",
    "print(\"Cross validation Dataset has {} rows and {} Columns\".format(CV_dataset.shape[0],CV_dataset.shape[1])) "
   ]
  },
  {
   "cell_type": "code",
   "execution_count": 91,
   "metadata": {},
   "outputs": [
    {
     "name": "stdout",
     "output_type": "stream",
     "text": [
      "<class 'pandas.core.frame.DataFrame'>\n",
      "RangeIndex: 397 entries, 0 to 396\n",
      "Data columns (total 9 columns):\n",
      "A         397 non-null object\n",
      "B         397 non-null object\n",
      "C         397 non-null object\n",
      "D         397 non-null object\n",
      "E         397 non-null object\n",
      "F         397 non-null object\n",
      "G         397 non-null object\n",
      "H         397 non-null object\n",
      "Result    397 non-null int64\n",
      "dtypes: int64(1), object(8)\n",
      "memory usage: 28.0+ KB\n"
     ]
    }
   ],
   "source": [
    "#data Preprocessing\n",
    "train_dataset.info()"
   ]
  },
  {
   "cell_type": "code",
   "execution_count": 92,
   "metadata": {},
   "outputs": [
    {
     "data": {
      "text/html": [
       "<div>\n",
       "<style scoped>\n",
       "    .dataframe tbody tr th:only-of-type {\n",
       "        vertical-align: middle;\n",
       "    }\n",
       "\n",
       "    .dataframe tbody tr th {\n",
       "        vertical-align: top;\n",
       "    }\n",
       "\n",
       "    .dataframe thead th {\n",
       "        text-align: right;\n",
       "    }\n",
       "</style>\n",
       "<table border=\"1\" class=\"dataframe\">\n",
       "  <thead>\n",
       "    <tr style=\"text-align: right;\">\n",
       "      <th></th>\n",
       "      <th>A</th>\n",
       "      <th>B</th>\n",
       "      <th>C</th>\n",
       "      <th>D</th>\n",
       "      <th>E</th>\n",
       "      <th>F</th>\n",
       "      <th>G</th>\n",
       "      <th>H</th>\n",
       "      <th>Result</th>\n",
       "    </tr>\n",
       "  </thead>\n",
       "  <tbody>\n",
       "    <tr>\n",
       "      <th>0</th>\n",
       "      <td>L</td>\n",
       "      <td>F</td>\n",
       "      <td>A</td>\n",
       "      <td>D</td>\n",
       "      <td>V</td>\n",
       "      <td>V</td>\n",
       "      <td>P</td>\n",
       "      <td>K</td>\n",
       "      <td>1</td>\n",
       "    </tr>\n",
       "    <tr>\n",
       "      <th>1</th>\n",
       "      <td>N</td>\n",
       "      <td>Q</td>\n",
       "      <td>N</td>\n",
       "      <td>P</td>\n",
       "      <td>I</td>\n",
       "      <td>A</td>\n",
       "      <td>Q</td>\n",
       "      <td>P</td>\n",
       "      <td>-1</td>\n",
       "    </tr>\n",
       "    <tr>\n",
       "      <th>2</th>\n",
       "      <td>E</td>\n",
       "      <td>V</td>\n",
       "      <td>E</td>\n",
       "      <td>Q</td>\n",
       "      <td>V</td>\n",
       "      <td>E</td>\n",
       "      <td>L</td>\n",
       "      <td>P</td>\n",
       "      <td>-1</td>\n",
       "    </tr>\n",
       "    <tr>\n",
       "      <th>3</th>\n",
       "      <td>E</td>\n",
       "      <td>N</td>\n",
       "      <td>V</td>\n",
       "      <td>V</td>\n",
       "      <td>I</td>\n",
       "      <td>V</td>\n",
       "      <td>A</td>\n",
       "      <td>S</td>\n",
       "      <td>-1</td>\n",
       "    </tr>\n",
       "    <tr>\n",
       "      <th>4</th>\n",
       "      <td>F</td>\n",
       "      <td>E</td>\n",
       "      <td>Y</td>\n",
       "      <td>I</td>\n",
       "      <td>E</td>\n",
       "      <td>E</td>\n",
       "      <td>N</td>\n",
       "      <td>K</td>\n",
       "      <td>-1</td>\n",
       "    </tr>\n",
       "  </tbody>\n",
       "</table>\n",
       "</div>"
      ],
      "text/plain": [
       "   A  B  C  D  E  F  G  H  Result\n",
       "0  L  F  A  D  V  V  P  K       1\n",
       "1  N  Q  N  P  I  A  Q  P      -1\n",
       "2  E  V  E  Q  V  E  L  P      -1\n",
       "3  E  N  V  V  I  V  A  S      -1\n",
       "4  F  E  Y  I  E  E  N  K      -1"
      ]
     },
     "execution_count": 92,
     "metadata": {},
     "output_type": "execute_result"
    }
   ],
   "source": [
    "train_dataset.head()"
   ]
  },
  {
   "cell_type": "code",
   "execution_count": 93,
   "metadata": {},
   "outputs": [
    {
     "name": "stdout",
     "output_type": "stream",
     "text": [
      "x_train : (397, 8) & y_train: (397, 1)\n",
      "x_cv : (265, 8) & y_cv: (265, 1)\n"
     ]
    }
   ],
   "source": [
    "# seperate fetures and label\n",
    "\n",
    "x_train = train_dataset.loc[:, train_dataset.columns != 'Result'].values\n",
    "y_train = train_dataset.loc[:,train_dataset.columns == 'Result'].values\n",
    "\n",
    "# convert ndarray to dataframe\n",
    "df1 =  pd.DataFrame(x_train)\n",
    "\n",
    "print(\"x_train :\",x_train.shape,\"& y_train:\",y_train.shape)\n",
    "\n",
    "#for cross validation\n",
    "x_crossval = CV_dataset.loc[:, CV_dataset.columns != 'Result'].values\n",
    "y_crossval = CV_dataset.loc[:,CV_dataset.columns == 'Result'].values\n",
    "\n",
    "# convert ndarray to dataframe\n",
    "df2 =  pd.DataFrame(x_crossval)\n",
    "print(\"x_cv :\",x_crossval.shape,\"& y_cv:\",y_crossval.shape)"
   ]
  },
  {
   "cell_type": "code",
   "execution_count": 94,
   "metadata": {},
   "outputs": [
    {
     "data": {
      "text/plain": [
       "(265, 8)"
      ]
     },
     "execution_count": 94,
     "metadata": {},
     "output_type": "execute_result"
    }
   ],
   "source": [
    "df2.shape"
   ]
  },
  {
   "cell_type": "code",
   "execution_count": 95,
   "metadata": {},
   "outputs": [],
   "source": [
    "# Handle categorical data\n",
    "x_train_dataset = obj_util.Categorical_data(df1)"
   ]
  },
  {
   "cell_type": "code",
   "execution_count": 96,
   "metadata": {},
   "outputs": [],
   "source": [
    "# Handle categorical data for cross validation dataset\n",
    "cv_dataset = obj_util.Categorical_data(df2)"
   ]
  },
  {
   "cell_type": "code",
   "execution_count": 97,
   "metadata": {},
   "outputs": [
    {
     "data": {
      "text/plain": [
       "((397, 150), (265, 143))"
      ]
     },
     "execution_count": 97,
     "metadata": {},
     "output_type": "execute_result"
    }
   ],
   "source": [
    "x_train_dataset.shape, cv_dataset.shape"
   ]
  },
  {
   "cell_type": "code",
   "execution_count": 85,
   "metadata": {},
   "outputs": [],
   "source": [
    "#feature scalling (here data will be converted into float)\n",
    "def feature_scalling(x_train,x_crossval):\n",
    "    sc_x = StandardScaler()\n",
    "    x_train = sc_x.fit_transform(x_train)\n",
    "    \n",
    "    sc_x_cv = StandardScaler()\n",
    "    x_crossval = sc_x.fit_transform(x_crossval)\n",
    "    \n",
    "    return sc_x, x_train,sc_x_cv, x_crossval\n",
    "    \n",
    "sc_x, x_train,sc_x_cv, x_crossval = feature_scalling(x_train_dataset,cv_dataset)\n"
   ]
  },
  {
   "cell_type": "code",
   "execution_count": 86,
   "metadata": {},
   "outputs": [
    {
     "name": "stdout",
     "output_type": "stream",
     "text": [
      "340 228\n"
     ]
    }
   ],
   "source": [
    "print(len(x_train), len(x_crossval))"
   ]
  },
  {
   "cell_type": "code",
   "execution_count": 87,
   "metadata": {},
   "outputs": [
    {
     "name": "stdout",
     "output_type": "stream",
     "text": [
      "\n",
      "Module created\n",
      "regression object <class 'sklearn.linear_model.logistic.LogisticRegression'>\n",
      "\n",
      "\n",
      "Average accuracy_score: 100.0\n",
      "Average precision-recall score: 100.00\n",
      "Average Roc-AUC: 100.000\n",
      "\n",
      "\n",
      "Confusion Matrix:\n",
      " [[286   0]\n",
      " [  0  54]]\n",
      "\n",
      "Pikle file created\n"
     ]
    }
   ],
   "source": [
    "class LogisticReg():\n",
    "    \n",
    "    def create_module(self,x_train,y_train):\n",
    "        # fitting LogisticRegression to the training set\n",
    "        classifier = LogisticRegression()\n",
    "        classifier.fit(x_train,y_train)\n",
    "        return classifier    \n",
    "    \n",
    "\n",
    "def main():\n",
    "    #class obj created\n",
    "    obj  = LogisticReg()\n",
    "\n",
    "    # create Logistic reg module on train dataset\n",
    "    classifier = obj.create_module(x_train,y_train)\n",
    "    print(\"\\nModule created\")\n",
    "    print(\"regression object\",type(classifier))\n",
    "\n",
    "    # y prediction\n",
    "    y_pre = obj_util.y_prediction(x_train, classifier)\n",
    "    \n",
    "    # calculate accuracy\n",
    "    accuracy_score,average_precision,auc=obj_util.accuracy(y_pre,y_train)\n",
    "    print('\\n\\nAverage accuracy_score:' , accuracy_score)\n",
    "    print('Average precision-recall score: {0:0.2f}'.format(average_precision))\n",
    "    print('Average Roc-AUC: %.3f' % auc)\n",
    "\n",
    "    # show confusion matrix\n",
    "    cm = obj_util.confusion_matrix(y_train,y_pre)\n",
    "    print(\"\\n\\nConfusion Matrix:\\n\",cm)\n",
    "#     print(\"\\n\\nConfusion Matrix:\\n\",metrics.confusion_matrix(y_train, y_pre))\n",
    "#     obj_util.visualization(x_train,y_train, classifier, \"Logistic Regression(Training set)\", \"Peptides\", \"Result Salary\")\n",
    "    \n",
    "    # create pickle file for training model\n",
    "    obj_util.create_piklefile(classifier,'LogisticRegression.pkl' )\n",
    "    print(\"\\nPikle file created\")\n",
    "\n",
    "\n",
    "if __name__ == '__main__':\n",
    "    main()\n"
   ]
  },
  {
   "cell_type": "code",
   "execution_count": null,
   "metadata": {},
   "outputs": [],
   "source": []
  },
  {
   "cell_type": "code",
   "execution_count": 88,
   "metadata": {},
   "outputs": [
    {
     "name": "stdout",
     "output_type": "stream",
     "text": [
      "228 228\n",
      "\n",
      "\n",
      "Average accuracy_score: 74.12280701754386\n",
      "Average precision-recall score: 16.91\n",
      "Average Roc-AUC: 50.789\n",
      "\n",
      "\n",
      "Confusion Matrix:\n",
      " [[163  27]\n",
      " [ 32   6]]\n"
     ]
    }
   ],
   "source": [
    "# cross validation        \n",
    "def Cross_validation():\n",
    "    file1 = open('LogisticRegression.pkl', 'rb')\n",
    "    classifier1 = pickle.load(file1)\n",
    " \n",
    "    # y_prediction ( cross validation) \n",
    "    y_predicted1 = obj_util.y_prediction(x_crossval, classifier1)\n",
    "    print(len(y_predicted1),len(y_crossval))\n",
    "    # calculate accuracy\n",
    "    accuracy_score,average_precision,auc=obj_util.accuracy(y_predicted1, y_crossval)\n",
    "    print('\\n\\nAverage accuracy_score:' , accuracy_score)\n",
    "    print('Average precision-recall score: {0:0.2f}'.format(average_precision))\n",
    "    print('Average Roc-AUC: %.3f' % auc)\n",
    "\n",
    "    # show confusion matrix\n",
    "    cm = obj_util.confusion_matrix(y_crossval,y_predicted1)\n",
    "    print(\"\\n\\nConfusion Matrix:\\n\",cm)\n",
    "#     print(\"\\n\\nConfusion Matrix:\\n\",metrics.confusion_matrix(y_crossval, y_predicted1))\n",
    "    \n",
    "#     obj_util.visualization(x_crossval, y_crossval, classifier1, \"Logistic Regression(Training set)\", \"Age\", \"Estimate Salary\")\n",
    "    \n",
    "    \n",
    "Cross_validation()\n"
   ]
  },
  {
   "cell_type": "code",
   "execution_count": null,
   "metadata": {},
   "outputs": [],
   "source": []
  },
  {
   "cell_type": "code",
   "execution_count": null,
   "metadata": {},
   "outputs": [],
   "source": []
  }
 ],
 "metadata": {
  "kernelspec": {
   "display_name": "Python 3",
   "language": "python",
   "name": "python3"
  },
  "language_info": {
   "codemirror_mode": {
    "name": "ipython",
    "version": 3
   },
   "file_extension": ".py",
   "mimetype": "text/x-python",
   "name": "python",
   "nbconvert_exporter": "python",
   "pygments_lexer": "ipython3",
   "version": "3.7.2"
  }
 },
 "nbformat": 4,
 "nbformat_minor": 2
}
