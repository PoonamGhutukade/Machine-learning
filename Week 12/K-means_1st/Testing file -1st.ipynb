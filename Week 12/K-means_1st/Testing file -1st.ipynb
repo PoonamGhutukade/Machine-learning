{
 "cells": [
  {
   "cell_type": "code",
   "execution_count": 4,
   "metadata": {},
   "outputs": [],
   "source": [
    "#import libraries\n",
    "import pandas as pd\n",
    "\n",
    "#libarry for feature scaling\n",
    "from sklearn.preprocessing import StandardScaler\n",
    "\n",
    "# #confusion matix\n",
    "from sklearn import metrics\n",
    "# to creating and reading pickle file\n",
    "import pickle \n",
    "import os, sys\n",
    "import csv\n",
    "\n",
    "# ignore warnings\n",
    "import warnings\n",
    "warnings.filterwarnings('ignore')\n",
    "\n",
    "# from util import Util_class as obj_util\n",
    "import importlib.util"
   ]
  },
  {
   "cell_type": "code",
   "execution_count": 5,
   "metadata": {},
   "outputs": [],
   "source": [
    "# importing template file \n",
    "spec = importlib.util.spec_from_file_location(\"Util_class\", \"/home/admin1/PycharmProjects/Machine-Learning/Week10/Util/util.py\")\n",
    "foo = importlib.util.module_from_spec(spec)\n",
    "spec.loader.exec_module(foo)\n",
    "# creating object of Template class\n",
    "obj_util = foo.Util_class()"
   ]
  },
  {
   "cell_type": "code",
   "execution_count": 6,
   "metadata": {},
   "outputs": [
    {
     "name": "stdout",
     "output_type": "stream",
     "text": [
      "Dataset has 120 rows and 5 Columns\n"
     ]
    }
   ],
   "source": [
    "# load dataset\n",
    "test_dataset = pd.read_csv (\"CSV_files/test_file.csv\")\n",
    "print(\"Dataset has {} rows and {} Columns\".format(test_dataset.shape[0],test_dataset.shape[1])) "
   ]
  },
  {
   "cell_type": "code",
   "execution_count": 7,
   "metadata": {},
   "outputs": [
    {
     "name": "stdout",
     "output_type": "stream",
     "text": [
      "x_test : (120, 2) & y_test: (120,)\n"
     ]
    }
   ],
   "source": [
    "#spliting data \n",
    "x_test = test_dataset.iloc[:,[2,3]].values\n",
    "y_test = test_dataset.iloc[:,4].values  \n",
    "\n",
    "print(\"x_test :\",x_test.shape,\"& y_test:\",y_test.shape)"
   ]
  },
  {
   "cell_type": "code",
   "execution_count": 8,
   "metadata": {},
   "outputs": [],
   "source": [
    "#feature scalling (here data will be converted into float)\n",
    "def feature_scalling(x_test,y_test):\n",
    "    sc_x = StandardScaler()\n",
    "    x_test = sc_x.fit_transform(x_test)\n",
    "    return sc_x, x_test\n",
    "    \n",
    "sc_x, x_test = feature_scalling(x_test,y_test)"
   ]
  },
  {
   "cell_type": "code",
   "execution_count": 11,
   "metadata": {},
   "outputs": [],
   "source": [
    "#load model\n",
    "file1 = open('KNN.pkl', 'rb')\n",
    "classifier = pickle.load(file1)"
   ]
  },
  {
   "cell_type": "code",
   "execution_count": 16,
   "metadata": {},
   "outputs": [
    {
     "name": "stdout",
     "output_type": "stream",
     "text": [
      "\n",
      "\n",
      "Average accuracy_score: 89.16666666666667\n",
      "Average precision-recall score: 75.87\n",
      "Average Roc-AUC: 90.012\n",
      "\n",
      "\n",
      "Confusion Matrix:\n",
      " [[69 10]\n",
      " [ 3 38]]\n"
     ]
    },
    {
     "name": "stderr",
     "output_type": "stream",
     "text": [
      "'c' argument looks like a single numeric RGB or RGBA sequence, which should be avoided as value-mapping will have precedence in case its length matches with 'x' & 'y'.  Please use a 2-D array with a single row if you really want to specify the same RGB or RGBA value for all points.\n",
      "'c' argument looks like a single numeric RGB or RGBA sequence, which should be avoided as value-mapping will have precedence in case its length matches with 'x' & 'y'.  Please use a 2-D array with a single row if you really want to specify the same RGB or RGBA value for all points.\n"
     ]
    },
    {
     "data": {
      "image/png": "[encoded data removed]",
      "text/plain": [
       "<Figure size 432x288 with 1 Axes>"
      ]
     },
     "metadata": {
      "needs_background": "light"
     },
     "output_type": "display_data"
    }
   ],
   "source": [
    "def final_tetsing():\n",
    "    # y prediction for test data\n",
    "    y_pre = obj_util.y_prediction(x_test, classifier)\n",
    "#     print(\"\\n\\n y_prediction:\",y_pre)\n",
    "    \n",
    "    # calculate accuracy\n",
    "    accuracy_score,average_precision,auc=obj_util.accuracy(y_pre,y_test)\n",
    "    print('\\n\\nAverage accuracy_score:' , accuracy_score)\n",
    "    print('Average precision-recall score: {0:0.2f}'.format(average_precision))\n",
    "    print('Average Roc-AUC: %.3f' % auc)\n",
    "\n",
    "    # show confusion matrix\n",
    "    cm = obj_util.confusion_matrix(y_test, y_pre)\n",
    "    print(\"\\n\\nConfusion Matrix:\\n\",cm)\n",
    "    \n",
    "#     print(\"\\n\\nConfusion Matrix:\\n\",metrics.confusion_matrix(y_test, y_pre))\n",
    "    obj_util.visualization(x_test,y_test, classifier, \"KNN Classification(Testing set)\", \n",
    "                           \"Age\", \"Estimate Salary\")\n",
    "    \n",
    "# call function\n",
    "final_tetsing()"
   ]
  },
  {
   "cell_type": "code",
   "execution_count": null,
   "metadata": {},
   "outputs": [],
   "source": []
  }
 ],
 "metadata": {
  "kernelspec": {
   "display_name": "Python 3",
   "language": "python",
   "name": "python3"
  },
  "language_info": {
   "codemirror_mode": {
    "name": "ipython",
    "version": 3
   },
   "file_extension": ".py",
   "mimetype": "text/x-python",
   "name": "python",
   "nbconvert_exporter": "python",
   "pygments_lexer": "ipython3",
   "version": "3.7.2"
  }
 },
 "nbformat": 4,
 "nbformat_minor": 2
}
