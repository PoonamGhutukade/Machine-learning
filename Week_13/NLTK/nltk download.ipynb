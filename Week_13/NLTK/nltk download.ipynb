{
 "cells": [
  {
   "cell_type": "code",
   "execution_count": 1,
   "metadata": {},
   "outputs": [
    {
     "name": "stdout",
     "output_type": "stream",
     "text": [
      "showing info https://raw.githubusercontent.com/nltk/nltk_data/gh-pages/index.xml\n"
     ]
    },
    {
     "data": {
      "text/plain": [
       "True"
      ]
     },
     "execution_count": 1,
     "metadata": {},
     "output_type": "execute_result"
    }
   ],
   "source": [
    "import nltk\n",
    "nltk.download()"
   ]
  },
  {
   "cell_type": "code",
   "execution_count": 2,
   "metadata": {},
   "outputs": [
    {
     "name": "stderr",
     "output_type": "stream",
     "text": [
      "[nltk_data] Downloading package stopwords to /home/admin1/nltk_data...\n",
      "[nltk_data]   Package stopwords is already up-to-date!\n"
     ]
    },
    {
     "data": {
      "text/plain": [
       "True"
      ]
     },
     "execution_count": 2,
     "metadata": {},
     "output_type": "execute_result"
    }
   ],
   "source": [
    "import nltk\n",
    "nltk.download(\"stopwords\")"
   ]
  },
  {
   "cell_type": "markdown",
   "metadata": {},
   "source": [
    "Tokenizers - means grouping the things\n",
    "types are -> Word Tokenizers (Seperates by words)\n",
    "          -> Sentence tokenizers (Seperates By sentences)\n",
    "    \n",
    "Lexicon AND Corpora \n",
    "Corpus - Body of text, singular. Corpora is the plural of this. \n",
    "Example: A collection of medical journals., presidential speeches, anything in english lauage\n",
    "\n",
    "Lexicon - Words and their meanings. Example: English dictionary. \n",
    "        Consider, however, that various fields will have different lexicons. \n",
    "        For example: To a financial investor, the first meaning for the word \"Bull\" is someone who is \n",
    "        confident about the market, as compared to the common English lexicon, where the first meaning for \n",
    "        the word \"Bull\" is an animal. As such, there is a special lexicon for financial investors, doctors, \n",
    "        children, mechanics, and so on.\n",
    "        \n",
    "Token - Each \"entity\" that is a part of whatever was split up based on rules. \n",
    "    For examples, each word is a token when a sentence is \"tokenized\" into words. \n",
    "    Each sentence can also be a token, if you tokenized the sentences out of a paragraph."
   ]
  },
  {
   "cell_type": "raw",
   "metadata": {},
   "source": [
    "# One of the largest elements to any data analysis, natural language processing included, is pre-processing.\n",
    "This is the methodology used to \"clean up\" and prepare your data for analysis. \n",
    "\n",
    "One of the first steps to pre-processing is to utilize stop-words.\n",
    "Stop words are words that you want to filter out of any analysis.\n",
    "These are words that carry no meaning,or carry conflicting meanings that you simply do not want to deal with. \n"
   ]
  },
  {
   "cell_type": "code",
   "execution_count": null,
   "metadata": {},
   "outputs": [],
   "source": []
  }
 ],
 "metadata": {
  "kernelspec": {
   "display_name": "Python 3",
   "language": "python",
   "name": "python3"
  },
  "language_info": {
   "codemirror_mode": {
    "name": "ipython",
    "version": 3
   },
   "file_extension": ".py",
   "mimetype": "text/x-python",
   "name": "python",
   "nbconvert_exporter": "python",
   "pygments_lexer": "ipython3",
   "version": "3.7.2"
  }
 },
 "nbformat": 4,
 "nbformat_minor": 2
}
