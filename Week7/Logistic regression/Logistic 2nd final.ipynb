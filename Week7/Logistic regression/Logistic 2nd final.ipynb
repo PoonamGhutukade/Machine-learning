{
 "cells": [
  {
   "cell_type": "code",
   "execution_count": 157,
   "metadata": {},
   "outputs": [],
   "source": [
    "import pandas as pd\n",
    "import pandas.api.types as ptypes\n",
    "import numpy as np\n",
    "import seaborn as sb\n",
    "from matplotlib import pyplot as plt  "
   ]
  },
  {
   "cell_type": "code",
   "execution_count": 158,
   "metadata": {},
   "outputs": [],
   "source": [
    "#load dataset\n",
    "df_original= pd.read_csv('classification_2.csv', names=[\n",
    "        \"Age\", \"Workclass\", \"fnlwgt\", \"Education\", \"Education-Num\", \"Martial Status\",\n",
    "        \"Occupation\", \"Relationship\", \"Race\", \"Sex\", \"Capital Gain\", \"Capital Loss\",\n",
    "        \"Hours per week\", \"Country\", \"Target\"],\n",
    "        sep=r'\\s*,\\s*',\n",
    "        engine='python',\n",
    "        na_values=\"?\")"
   ]
  },
  {
   "cell_type": "code",
   "execution_count": 159,
   "metadata": {},
   "outputs": [
    {
     "data": {
      "text/html": [
       "<div>\n",
       "<style scoped>\n",
       "    .dataframe tbody tr th:only-of-type {\n",
       "        vertical-align: middle;\n",
       "    }\n",
       "\n",
       "    .dataframe tbody tr th {\n",
       "        vertical-align: top;\n",
       "    }\n",
       "\n",
       "    .dataframe thead th {\n",
       "        text-align: right;\n",
       "    }\n",
       "</style>\n",
       "<table border=\"1\" class=\"dataframe\">\n",
       "  <thead>\n",
       "    <tr style=\"text-align: right;\">\n",
       "      <th></th>\n",
       "      <th>Age</th>\n",
       "      <th>Workclass</th>\n",
       "      <th>fnlwgt</th>\n",
       "      <th>Education</th>\n",
       "      <th>Education-Num</th>\n",
       "      <th>Martial Status</th>\n",
       "      <th>Occupation</th>\n",
       "      <th>Relationship</th>\n",
       "      <th>Race</th>\n",
       "      <th>Sex</th>\n",
       "      <th>Capital Gain</th>\n",
       "      <th>Capital Loss</th>\n",
       "      <th>Hours per week</th>\n",
       "      <th>Country</th>\n",
       "      <th>Target</th>\n",
       "    </tr>\n",
       "  </thead>\n",
       "  <tbody>\n",
       "    <tr>\n",
       "      <th>0</th>\n",
       "      <td>39</td>\n",
       "      <td>State-gov</td>\n",
       "      <td>77516</td>\n",
       "      <td>Bachelors</td>\n",
       "      <td>13</td>\n",
       "      <td>Never-married</td>\n",
       "      <td>Adm-clerical</td>\n",
       "      <td>Not-in-family</td>\n",
       "      <td>White</td>\n",
       "      <td>Male</td>\n",
       "      <td>2174</td>\n",
       "      <td>0</td>\n",
       "      <td>40</td>\n",
       "      <td>United-States</td>\n",
       "      <td>&lt;=50K</td>\n",
       "    </tr>\n",
       "    <tr>\n",
       "      <th>1</th>\n",
       "      <td>50</td>\n",
       "      <td>Self-emp-not-inc</td>\n",
       "      <td>83311</td>\n",
       "      <td>Bachelors</td>\n",
       "      <td>13</td>\n",
       "      <td>Married-civ-spouse</td>\n",
       "      <td>Exec-managerial</td>\n",
       "      <td>Husband</td>\n",
       "      <td>White</td>\n",
       "      <td>Male</td>\n",
       "      <td>0</td>\n",
       "      <td>0</td>\n",
       "      <td>13</td>\n",
       "      <td>United-States</td>\n",
       "      <td>&lt;=50K</td>\n",
       "    </tr>\n",
       "    <tr>\n",
       "      <th>2</th>\n",
       "      <td>38</td>\n",
       "      <td>Private</td>\n",
       "      <td>215646</td>\n",
       "      <td>HS-grad</td>\n",
       "      <td>9</td>\n",
       "      <td>Divorced</td>\n",
       "      <td>Handlers-cleaners</td>\n",
       "      <td>Not-in-family</td>\n",
       "      <td>White</td>\n",
       "      <td>Male</td>\n",
       "      <td>0</td>\n",
       "      <td>0</td>\n",
       "      <td>40</td>\n",
       "      <td>United-States</td>\n",
       "      <td>&lt;=50K</td>\n",
       "    </tr>\n",
       "    <tr>\n",
       "      <th>3</th>\n",
       "      <td>53</td>\n",
       "      <td>Private</td>\n",
       "      <td>234721</td>\n",
       "      <td>11th</td>\n",
       "      <td>7</td>\n",
       "      <td>Married-civ-spouse</td>\n",
       "      <td>Handlers-cleaners</td>\n",
       "      <td>Husband</td>\n",
       "      <td>Black</td>\n",
       "      <td>Male</td>\n",
       "      <td>0</td>\n",
       "      <td>0</td>\n",
       "      <td>40</td>\n",
       "      <td>United-States</td>\n",
       "      <td>&lt;=50K</td>\n",
       "    </tr>\n",
       "    <tr>\n",
       "      <th>4</th>\n",
       "      <td>28</td>\n",
       "      <td>Private</td>\n",
       "      <td>338409</td>\n",
       "      <td>Bachelors</td>\n",
       "      <td>13</td>\n",
       "      <td>Married-civ-spouse</td>\n",
       "      <td>Prof-specialty</td>\n",
       "      <td>Wife</td>\n",
       "      <td>Black</td>\n",
       "      <td>Female</td>\n",
       "      <td>0</td>\n",
       "      <td>0</td>\n",
       "      <td>40</td>\n",
       "      <td>Cuba</td>\n",
       "      <td>&lt;=50K</td>\n",
       "    </tr>\n",
       "  </tbody>\n",
       "</table>\n",
       "</div>"
      ],
      "text/plain": [
       "   Age         Workclass  fnlwgt  Education  Education-Num  \\\n",
       "0   39         State-gov   77516  Bachelors             13   \n",
       "1   50  Self-emp-not-inc   83311  Bachelors             13   \n",
       "2   38           Private  215646    HS-grad              9   \n",
       "3   53           Private  234721       11th              7   \n",
       "4   28           Private  338409  Bachelors             13   \n",
       "\n",
       "       Martial Status         Occupation   Relationship   Race     Sex  \\\n",
       "0       Never-married       Adm-clerical  Not-in-family  White    Male   \n",
       "1  Married-civ-spouse    Exec-managerial        Husband  White    Male   \n",
       "2            Divorced  Handlers-cleaners  Not-in-family  White    Male   \n",
       "3  Married-civ-spouse  Handlers-cleaners        Husband  Black    Male   \n",
       "4  Married-civ-spouse     Prof-specialty           Wife  Black  Female   \n",
       "\n",
       "   Capital Gain  Capital Loss  Hours per week        Country Target  \n",
       "0          2174             0              40  United-States  <=50K  \n",
       "1             0             0              13  United-States  <=50K  \n",
       "2             0             0              40  United-States  <=50K  \n",
       "3             0             0              40  United-States  <=50K  \n",
       "4             0             0              40           Cuba  <=50K  "
      ]
     },
     "execution_count": 159,
     "metadata": {},
     "output_type": "execute_result"
    }
   ],
   "source": [
    "df = df_original\n",
    "# show top 5 rows of dataset\n",
    "df.head()\n"
   ]
  },
  {
   "cell_type": "code",
   "execution_count": 160,
   "metadata": {},
   "outputs": [
    {
     "data": {
      "text/html": [
       "<div>\n",
       "<style scoped>\n",
       "    .dataframe tbody tr th:only-of-type {\n",
       "        vertical-align: middle;\n",
       "    }\n",
       "\n",
       "    .dataframe tbody tr th {\n",
       "        vertical-align: top;\n",
       "    }\n",
       "\n",
       "    .dataframe thead th {\n",
       "        text-align: right;\n",
       "    }\n",
       "</style>\n",
       "<table border=\"1\" class=\"dataframe\">\n",
       "  <thead>\n",
       "    <tr style=\"text-align: right;\">\n",
       "      <th></th>\n",
       "      <th>Age</th>\n",
       "      <th>Workclass</th>\n",
       "      <th>fnlwgt</th>\n",
       "      <th>Education</th>\n",
       "      <th>Education-Num</th>\n",
       "      <th>Martial Status</th>\n",
       "      <th>Occupation</th>\n",
       "      <th>Relationship</th>\n",
       "      <th>Race</th>\n",
       "      <th>Sex</th>\n",
       "      <th>Capital Gain</th>\n",
       "      <th>Capital Loss</th>\n",
       "      <th>Hours per week</th>\n",
       "      <th>Country</th>\n",
       "      <th>Target</th>\n",
       "    </tr>\n",
       "  </thead>\n",
       "  <tbody>\n",
       "    <tr>\n",
       "      <th>0</th>\n",
       "      <td>39</td>\n",
       "      <td>State-gov</td>\n",
       "      <td>77516</td>\n",
       "      <td>Bachelors</td>\n",
       "      <td>13</td>\n",
       "      <td>Never-married</td>\n",
       "      <td>Adm-clerical</td>\n",
       "      <td>Not-in-family</td>\n",
       "      <td>White</td>\n",
       "      <td>Male</td>\n",
       "      <td>2174</td>\n",
       "      <td>0</td>\n",
       "      <td>40</td>\n",
       "      <td>United-States</td>\n",
       "      <td>&lt;=50K</td>\n",
       "    </tr>\n",
       "  </tbody>\n",
       "</table>\n",
       "</div>"
      ],
      "text/plain": [
       "   Age  Workclass  fnlwgt  Education  Education-Num Martial Status  \\\n",
       "0   39  State-gov   77516  Bachelors             13  Never-married   \n",
       "\n",
       "     Occupation   Relationship   Race   Sex  Capital Gain  Capital Loss  \\\n",
       "0  Adm-clerical  Not-in-family  White  Male          2174             0   \n",
       "\n",
       "   Hours per week        Country Target  \n",
       "0              40  United-States  <=50K  "
      ]
     },
     "metadata": {},
     "output_type": "display_data"
    }
   ],
   "source": [
    "# Success - Display the first record\n",
    "display(df.head(n=1))"
   ]
  },
  {
   "cell_type": "code",
   "execution_count": 161,
   "metadata": {},
   "outputs": [
    {
     "name": "stdout",
     "output_type": "stream",
     "text": [
      "<class 'pandas.core.frame.DataFrame'>\n",
      "RangeIndex: 32561 entries, 0 to 32560\n",
      "Data columns (total 15 columns):\n",
      "Age               32561 non-null int64\n",
      "Workclass         30725 non-null object\n",
      "fnlwgt            32561 non-null int64\n",
      "Education         32561 non-null object\n",
      "Education-Num     32561 non-null int64\n",
      "Martial Status    32561 non-null object\n",
      "Occupation        30718 non-null object\n",
      "Relationship      32561 non-null object\n",
      "Race              32561 non-null object\n",
      "Sex               32561 non-null object\n",
      "Capital Gain      32561 non-null int64\n",
      "Capital Loss      32561 non-null int64\n",
      "Hours per week    32561 non-null int64\n",
      "Country           31978 non-null object\n",
      "Target            32561 non-null object\n",
      "dtypes: int64(6), object(9)\n",
      "memory usage: 3.7+ MB\n"
     ]
    }
   ],
   "source": [
    "# check dataset information\n",
    "df.info()"
   ]
  },
  {
   "cell_type": "code",
   "execution_count": 162,
   "metadata": {},
   "outputs": [
    {
     "data": {
      "text/html": [
       "<div>\n",
       "<style scoped>\n",
       "    .dataframe tbody tr th:only-of-type {\n",
       "        vertical-align: middle;\n",
       "    }\n",
       "\n",
       "    .dataframe tbody tr th {\n",
       "        vertical-align: top;\n",
       "    }\n",
       "\n",
       "    .dataframe thead th {\n",
       "        text-align: right;\n",
       "    }\n",
       "</style>\n",
       "<table border=\"1\" class=\"dataframe\">\n",
       "  <thead>\n",
       "    <tr style=\"text-align: right;\">\n",
       "      <th></th>\n",
       "      <th>count</th>\n",
       "      <th>mean</th>\n",
       "      <th>std</th>\n",
       "      <th>min</th>\n",
       "      <th>25%</th>\n",
       "      <th>50%</th>\n",
       "      <th>75%</th>\n",
       "      <th>max</th>\n",
       "    </tr>\n",
       "  </thead>\n",
       "  <tbody>\n",
       "    <tr>\n",
       "      <th>Age</th>\n",
       "      <td>32561.0</td>\n",
       "      <td>38.581647</td>\n",
       "      <td>13.640433</td>\n",
       "      <td>17.0</td>\n",
       "      <td>28.0</td>\n",
       "      <td>37.0</td>\n",
       "      <td>48.0</td>\n",
       "      <td>90.0</td>\n",
       "    </tr>\n",
       "    <tr>\n",
       "      <th>fnlwgt</th>\n",
       "      <td>32561.0</td>\n",
       "      <td>189778.366512</td>\n",
       "      <td>105549.977697</td>\n",
       "      <td>12285.0</td>\n",
       "      <td>117827.0</td>\n",
       "      <td>178356.0</td>\n",
       "      <td>237051.0</td>\n",
       "      <td>1484705.0</td>\n",
       "    </tr>\n",
       "    <tr>\n",
       "      <th>Education-Num</th>\n",
       "      <td>32561.0</td>\n",
       "      <td>10.080679</td>\n",
       "      <td>2.572720</td>\n",
       "      <td>1.0</td>\n",
       "      <td>9.0</td>\n",
       "      <td>10.0</td>\n",
       "      <td>12.0</td>\n",
       "      <td>16.0</td>\n",
       "    </tr>\n",
       "    <tr>\n",
       "      <th>Capital Gain</th>\n",
       "      <td>32561.0</td>\n",
       "      <td>1077.648844</td>\n",
       "      <td>7385.292085</td>\n",
       "      <td>0.0</td>\n",
       "      <td>0.0</td>\n",
       "      <td>0.0</td>\n",
       "      <td>0.0</td>\n",
       "      <td>99999.0</td>\n",
       "    </tr>\n",
       "    <tr>\n",
       "      <th>Capital Loss</th>\n",
       "      <td>32561.0</td>\n",
       "      <td>87.303830</td>\n",
       "      <td>402.960219</td>\n",
       "      <td>0.0</td>\n",
       "      <td>0.0</td>\n",
       "      <td>0.0</td>\n",
       "      <td>0.0</td>\n",
       "      <td>4356.0</td>\n",
       "    </tr>\n",
       "    <tr>\n",
       "      <th>Hours per week</th>\n",
       "      <td>32561.0</td>\n",
       "      <td>40.437456</td>\n",
       "      <td>12.347429</td>\n",
       "      <td>1.0</td>\n",
       "      <td>40.0</td>\n",
       "      <td>40.0</td>\n",
       "      <td>45.0</td>\n",
       "      <td>99.0</td>\n",
       "    </tr>\n",
       "  </tbody>\n",
       "</table>\n",
       "</div>"
      ],
      "text/plain": [
       "                  count           mean            std      min       25%  \\\n",
       "Age             32561.0      38.581647      13.640433     17.0      28.0   \n",
       "fnlwgt          32561.0  189778.366512  105549.977697  12285.0  117827.0   \n",
       "Education-Num   32561.0      10.080679       2.572720      1.0       9.0   \n",
       "Capital Gain    32561.0    1077.648844    7385.292085      0.0       0.0   \n",
       "Capital Loss    32561.0      87.303830     402.960219      0.0       0.0   \n",
       "Hours per week  32561.0      40.437456      12.347429      1.0      40.0   \n",
       "\n",
       "                     50%       75%        max  \n",
       "Age                 37.0      48.0       90.0  \n",
       "fnlwgt          178356.0  237051.0  1484705.0  \n",
       "Education-Num       10.0      12.0       16.0  \n",
       "Capital Gain         0.0       0.0    99999.0  \n",
       "Capital Loss         0.0       0.0     4356.0  \n",
       "Hours per week      40.0      45.0       99.0  "
      ]
     },
     "execution_count": 162,
     "metadata": {},
     "output_type": "execute_result"
    }
   ],
   "source": [
    "df.describe().T"
   ]
  },
  {
   "cell_type": "code",
   "execution_count": 163,
   "metadata": {},
   "outputs": [
    {
     "name": "stdout",
     "output_type": "stream",
     "text": [
      "Dataset has 32561 records & 15 columns\n"
     ]
    }
   ],
   "source": [
    "# Total number of records\n",
    "print(\"Dataset has {0} records & {1} columns\".format(df.shape[0], df.shape[1]))"
   ]
  },
  {
   "cell_type": "code",
   "execution_count": 164,
   "metadata": {},
   "outputs": [
    {
     "name": "stdout",
     "output_type": "stream",
     "text": [
      "Total col 15\n"
     ]
    },
    {
     "data": {
      "text/plain": [
       "Index(['Age', 'Workclass', 'fnlwgt', 'Education', 'Education-Num',\n",
       "       'Martial Status', 'Occupation', 'Relationship', 'Race', 'Sex',\n",
       "       'Capital Gain', 'Capital Loss', 'Hours per week', 'Country', 'Target'],\n",
       "      dtype='object')"
      ]
     },
     "execution_count": 164,
     "metadata": {},
     "output_type": "execute_result"
    }
   ],
   "source": [
    "\n",
    "print(\"Total col\",len(df.columns))\n",
    "df.columns"
   ]
  },
  {
   "cell_type": "code",
   "execution_count": 165,
   "metadata": {},
   "outputs": [
    {
     "data": {
      "text/plain": [
       "Age                  0\n",
       "Workclass         1836\n",
       "fnlwgt               0\n",
       "Education            0\n",
       "Education-Num        0\n",
       "Martial Status       0\n",
       "Occupation        1843\n",
       "Relationship         0\n",
       "Race                 0\n",
       "Sex                  0\n",
       "Capital Gain         0\n",
       "Capital Loss         0\n",
       "Hours per week       0\n",
       "Country            583\n",
       "Target               0\n",
       "dtype: int64"
      ]
     },
     "execution_count": 165,
     "metadata": {},
     "output_type": "execute_result"
    }
   ],
   "source": [
    "df.isnull().sum()"
   ]
  },
  {
   "cell_type": "code",
   "execution_count": 166,
   "metadata": {},
   "outputs": [],
   "source": [
    "df.replace('Nan', df.mean(), inplace=True)"
   ]
  },
  {
   "cell_type": "code",
   "execution_count": 167,
   "metadata": {},
   "outputs": [
    {
     "data": {
      "text/plain": [
       "Age                               17\n",
       "fnlwgt                         12285\n",
       "Education                       10th\n",
       "Education-Num                      1\n",
       "Martial Status              Divorced\n",
       "Relationship                 Husband\n",
       "Race              Amer-Indian-Eskimo\n",
       "Sex                           Female\n",
       "Capital Gain                       0\n",
       "Capital Loss                       0\n",
       "Hours per week                     1\n",
       "Target                         <=50K\n",
       "dtype: object"
      ]
     },
     "execution_count": 167,
     "metadata": {},
     "output_type": "execute_result"
    }
   ],
   "source": [
    "df.min()"
   ]
  },
  {
   "cell_type": "code",
   "execution_count": 168,
   "metadata": {},
   "outputs": [
    {
     "name": "stdout",
     "output_type": "stream",
     "text": [
      "Individuals making more than $50,000: 24720\n",
      "Individuals making more than $50,000: 7841\n",
      "Percentage of individuals making more than $50,000: 24.080955744602438%\n"
     ]
    }
   ],
   "source": [
    "# Total number of records\n",
    "n_records = df.shape[0]\n",
    "# Number of records where individual's income is more than $50,000\n",
    "n_greater_50k = df[df['Target'] == '<=50K'].shape[0]\n",
    "print(\"Individuals making more than $50,000: {}\".format(n_greater_50k))\n",
    "\n",
    "# Number of records where individual's income is more than $50,000\n",
    "n_greater_50k = df[df['Target'] == '>50K'].shape[0]\n",
    "print(\"Individuals making more than $50,000: {}\".format(n_greater_50k))\n",
    "\n",
    "# Percentage of individuals whose income is more than $50,000\n",
    "greater_percent = (n_greater_50k / n_records) * 100\n",
    "print(\"Percentage of individuals making more than $50,000: {}%\".format(greater_percent))"
   ]
  },
  {
   "cell_type": "code",
   "execution_count": 169,
   "metadata": {},
   "outputs": [
    {
     "data": {
      "text/plain": [
       "United-States    0.895857\n",
       "Mexico           0.019748\n",
       "Philippines      0.006081\n",
       "Germany          0.004207\n",
       "Canada           0.003716\n",
       "Name: Country, dtype: float64"
      ]
     },
     "execution_count": 169,
     "metadata": {},
     "output_type": "execute_result"
    }
   ],
   "source": [
    "temp = df[\"Country\"].value_counts() / df.shape[0]\n",
    "temp.head()\n",
    "#89% of the samples are for people from the US. Mexico comes next with less than 2%."
   ]
  },
  {
   "cell_type": "code",
   "execution_count": 170,
   "metadata": {},
   "outputs": [
    {
     "data": {
      "text/plain": [
       "<matplotlib.axes._subplots.AxesSubplot at 0x7f9e17da4f60>"
      ]
     },
     "execution_count": 170,
     "metadata": {},
     "output_type": "execute_result"
    },
    {
     "data": {
      "image/png": "[encoded data removed]",
      "text/plain": [
       "<Figure size 432x288 with 2 Axes>"
      ]
     },
     "metadata": {
      "needs_background": "light"
     },
     "output_type": "display_data"
    }
   ],
   "source": [
    "corr = df.corr()\n",
    "sb.heatmap(corr)"
   ]
  },
  {
   "cell_type": "code",
   "execution_count": 171,
   "metadata": {},
   "outputs": [
    {
     "data": {
      "text/html": [
       "<div>\n",
       "<style scoped>\n",
       "    .dataframe tbody tr th:only-of-type {\n",
       "        vertical-align: middle;\n",
       "    }\n",
       "\n",
       "    .dataframe tbody tr th {\n",
       "        vertical-align: top;\n",
       "    }\n",
       "\n",
       "    .dataframe thead th {\n",
       "        text-align: right;\n",
       "    }\n",
       "</style>\n",
       "<table border=\"1\" class=\"dataframe\">\n",
       "  <thead>\n",
       "    <tr style=\"text-align: right;\">\n",
       "      <th></th>\n",
       "      <th>Age</th>\n",
       "      <th>fnlwgt</th>\n",
       "      <th>Education-Num</th>\n",
       "      <th>Capital Gain</th>\n",
       "      <th>Capital Loss</th>\n",
       "      <th>Hours per week</th>\n",
       "    </tr>\n",
       "  </thead>\n",
       "  <tbody>\n",
       "    <tr>\n",
       "      <th>Age</th>\n",
       "      <td>1.000000</td>\n",
       "      <td>-0.076646</td>\n",
       "      <td>0.036527</td>\n",
       "      <td>0.077674</td>\n",
       "      <td>0.057775</td>\n",
       "      <td>0.068756</td>\n",
       "    </tr>\n",
       "    <tr>\n",
       "      <th>fnlwgt</th>\n",
       "      <td>-0.076646</td>\n",
       "      <td>1.000000</td>\n",
       "      <td>-0.043195</td>\n",
       "      <td>0.000432</td>\n",
       "      <td>-0.010252</td>\n",
       "      <td>-0.018768</td>\n",
       "    </tr>\n",
       "    <tr>\n",
       "      <th>Education-Num</th>\n",
       "      <td>0.036527</td>\n",
       "      <td>-0.043195</td>\n",
       "      <td>1.000000</td>\n",
       "      <td>0.122630</td>\n",
       "      <td>0.079923</td>\n",
       "      <td>0.148123</td>\n",
       "    </tr>\n",
       "    <tr>\n",
       "      <th>Capital Gain</th>\n",
       "      <td>0.077674</td>\n",
       "      <td>0.000432</td>\n",
       "      <td>0.122630</td>\n",
       "      <td>1.000000</td>\n",
       "      <td>-0.031615</td>\n",
       "      <td>0.078409</td>\n",
       "    </tr>\n",
       "    <tr>\n",
       "      <th>Capital Loss</th>\n",
       "      <td>0.057775</td>\n",
       "      <td>-0.010252</td>\n",
       "      <td>0.079923</td>\n",
       "      <td>-0.031615</td>\n",
       "      <td>1.000000</td>\n",
       "      <td>0.054256</td>\n",
       "    </tr>\n",
       "    <tr>\n",
       "      <th>Hours per week</th>\n",
       "      <td>0.068756</td>\n",
       "      <td>-0.018768</td>\n",
       "      <td>0.148123</td>\n",
       "      <td>0.078409</td>\n",
       "      <td>0.054256</td>\n",
       "      <td>1.000000</td>\n",
       "    </tr>\n",
       "  </tbody>\n",
       "</table>\n",
       "</div>"
      ],
      "text/plain": [
       "                     Age    fnlwgt  Education-Num  Capital Gain  Capital Loss  \\\n",
       "Age             1.000000 -0.076646       0.036527      0.077674      0.057775   \n",
       "fnlwgt         -0.076646  1.000000      -0.043195      0.000432     -0.010252   \n",
       "Education-Num   0.036527 -0.043195       1.000000      0.122630      0.079923   \n",
       "Capital Gain    0.077674  0.000432       0.122630      1.000000     -0.031615   \n",
       "Capital Loss    0.057775 -0.010252       0.079923     -0.031615      1.000000   \n",
       "Hours per week  0.068756 -0.018768       0.148123      0.078409      0.054256   \n",
       "\n",
       "                Hours per week  \n",
       "Age                   0.068756  \n",
       "fnlwgt               -0.018768  \n",
       "Education-Num         0.148123  \n",
       "Capital Gain          0.078409  \n",
       "Capital Loss          0.054256  \n",
       "Hours per week        1.000000  "
      ]
     },
     "execution_count": 171,
     "metadata": {},
     "output_type": "execute_result"
    }
   ],
   "source": [
    "df.corr()"
   ]
  },
  {
   "cell_type": "code",
   "execution_count": 172,
   "metadata": {},
   "outputs": [],
   "source": [
    "# get dummy variables whose are in categorical type\n",
    "for name in df.columns:\n",
    "    if df[name].dtype != \"int64\":\n",
    "        df[name] = pd.get_dummies(df[name]) "
   ]
  },
  {
   "cell_type": "code",
   "execution_count": 173,
   "metadata": {},
   "outputs": [
    {
     "data": {
      "text/plain": [
       "<matplotlib.axes._subplots.AxesSubplot at 0x7f9e1861b940>"
      ]
     },
     "execution_count": 173,
     "metadata": {},
     "output_type": "execute_result"
    },
    {
     "data": {
      "image/png": "[encoded data removed]",
      "text/plain": [
       "<Figure size 432x288 with 2 Axes>"
      ]
     },
     "metadata": {
      "needs_background": "light"
     },
     "output_type": "display_data"
    }
   ],
   "source": [
    "# take correlation between diff features\n",
    "corr = df.corr()\n",
    "sb.heatmap(corr)"
   ]
  },
  {
   "cell_type": "code",
   "execution_count": 174,
   "metadata": {},
   "outputs": [
    {
     "name": "stdout",
     "output_type": "stream",
     "text": [
      "Target            1.000000\n",
      "Sex               0.215980\n",
      "Martial Status    0.126995\n",
      "Occupation        0.089986\n",
      "Education         0.070038\n",
      "Race              0.028721\n",
      "fnlwgt            0.009463\n",
      "Country          -0.007212\n",
      "Workclass        -0.059372\n",
      "Capital Loss     -0.150526\n",
      "Capital Gain     -0.223329\n",
      "Hours per week   -0.229689\n",
      "Age              -0.234037\n",
      "Education-Num    -0.335154\n",
      "Relationship     -0.401035\n",
      "Name: Target, dtype: float64 \n",
      "\n",
      "----------------------\n",
      "Race              0.028721\n",
      "fnlwgt            0.009463\n",
      "Country          -0.007212\n",
      "Workclass        -0.059372\n",
      "Capital Loss     -0.150526\n",
      "Capital Gain     -0.223329\n",
      "Hours per week   -0.229689\n",
      "Age              -0.234037\n",
      "Education-Num    -0.335154\n",
      "Relationship     -0.401035\n",
      "Name: Target, dtype: float64\n"
     ]
    }
   ],
   "source": [
    "print (corr['Target'].sort_values(ascending=False)[:15], '\\n') #top 15 values\n",
    "print ('----------------------')\n",
    "print (corr['Target'].sort_values(ascending=False)[-10:]) #last 5 values`"
   ]
  },
  {
   "cell_type": "code",
   "execution_count": 175,
   "metadata": {},
   "outputs": [
    {
     "name": "stdout",
     "output_type": "stream",
     "text": [
      "\n",
      "Drop unwanted columns\n"
     ]
    },
    {
     "data": {
      "text/html": [
       "<div>\n",
       "<style scoped>\n",
       "    .dataframe tbody tr th:only-of-type {\n",
       "        vertical-align: middle;\n",
       "    }\n",
       "\n",
       "    .dataframe tbody tr th {\n",
       "        vertical-align: top;\n",
       "    }\n",
       "\n",
       "    .dataframe thead th {\n",
       "        text-align: right;\n",
       "    }\n",
       "</style>\n",
       "<table border=\"1\" class=\"dataframe\">\n",
       "  <thead>\n",
       "    <tr style=\"text-align: right;\">\n",
       "      <th></th>\n",
       "      <th>Age</th>\n",
       "      <th>Workclass</th>\n",
       "      <th>Education</th>\n",
       "      <th>Education-Num</th>\n",
       "      <th>Martial Status</th>\n",
       "      <th>Occupation</th>\n",
       "      <th>Relationship</th>\n",
       "      <th>Sex</th>\n",
       "      <th>Capital Gain</th>\n",
       "      <th>Capital Loss</th>\n",
       "      <th>Hours per week</th>\n",
       "      <th>Country</th>\n",
       "      <th>Target</th>\n",
       "    </tr>\n",
       "  </thead>\n",
       "  <tbody>\n",
       "    <tr>\n",
       "      <th>0</th>\n",
       "      <td>39</td>\n",
       "      <td>0</td>\n",
       "      <td>0</td>\n",
       "      <td>13</td>\n",
       "      <td>0</td>\n",
       "      <td>1</td>\n",
       "      <td>0</td>\n",
       "      <td>0</td>\n",
       "      <td>2174</td>\n",
       "      <td>0</td>\n",
       "      <td>40</td>\n",
       "      <td>0</td>\n",
       "      <td>1</td>\n",
       "    </tr>\n",
       "    <tr>\n",
       "      <th>1</th>\n",
       "      <td>50</td>\n",
       "      <td>0</td>\n",
       "      <td>0</td>\n",
       "      <td>13</td>\n",
       "      <td>0</td>\n",
       "      <td>0</td>\n",
       "      <td>1</td>\n",
       "      <td>0</td>\n",
       "      <td>0</td>\n",
       "      <td>0</td>\n",
       "      <td>13</td>\n",
       "      <td>0</td>\n",
       "      <td>1</td>\n",
       "    </tr>\n",
       "    <tr>\n",
       "      <th>2</th>\n",
       "      <td>38</td>\n",
       "      <td>0</td>\n",
       "      <td>0</td>\n",
       "      <td>9</td>\n",
       "      <td>1</td>\n",
       "      <td>0</td>\n",
       "      <td>0</td>\n",
       "      <td>0</td>\n",
       "      <td>0</td>\n",
       "      <td>0</td>\n",
       "      <td>40</td>\n",
       "      <td>0</td>\n",
       "      <td>1</td>\n",
       "    </tr>\n",
       "    <tr>\n",
       "      <th>3</th>\n",
       "      <td>53</td>\n",
       "      <td>0</td>\n",
       "      <td>0</td>\n",
       "      <td>7</td>\n",
       "      <td>0</td>\n",
       "      <td>0</td>\n",
       "      <td>1</td>\n",
       "      <td>0</td>\n",
       "      <td>0</td>\n",
       "      <td>0</td>\n",
       "      <td>40</td>\n",
       "      <td>0</td>\n",
       "      <td>1</td>\n",
       "    </tr>\n",
       "    <tr>\n",
       "      <th>4</th>\n",
       "      <td>28</td>\n",
       "      <td>0</td>\n",
       "      <td>0</td>\n",
       "      <td>13</td>\n",
       "      <td>0</td>\n",
       "      <td>0</td>\n",
       "      <td>0</td>\n",
       "      <td>1</td>\n",
       "      <td>0</td>\n",
       "      <td>0</td>\n",
       "      <td>40</td>\n",
       "      <td>0</td>\n",
       "      <td>1</td>\n",
       "    </tr>\n",
       "  </tbody>\n",
       "</table>\n",
       "</div>"
      ],
      "text/plain": [
       "   Age  Workclass  Education  Education-Num  Martial Status  Occupation  \\\n",
       "0   39          0          0             13               0           1   \n",
       "1   50          0          0             13               0           0   \n",
       "2   38          0          0              9               1           0   \n",
       "3   53          0          0              7               0           0   \n",
       "4   28          0          0             13               0           0   \n",
       "\n",
       "   Relationship  Sex  Capital Gain  Capital Loss  Hours per week  Country  \\\n",
       "0             0    0          2174             0              40        0   \n",
       "1             1    0             0             0              13        0   \n",
       "2             0    0             0             0              40        0   \n",
       "3             1    0             0             0              40        0   \n",
       "4             0    1             0             0              40        0   \n",
       "\n",
       "   Target  \n",
       "0       1  \n",
       "1       1  \n",
       "2       1  \n",
       "3       1  \n",
       "4       1  "
      ]
     },
     "execution_count": 175,
     "metadata": {},
     "output_type": "execute_result"
    }
   ],
   "source": [
    "print(\"\\nDrop unwanted columns\")\n",
    "df = df.drop(['fnlwgt','Race'], axis = 1)\n",
    "df.head()"
   ]
  },
  {
   "cell_type": "code",
   "execution_count": 176,
   "metadata": {},
   "outputs": [
    {
     "data": {
      "text/plain": [
       "13"
      ]
     },
     "execution_count": 176,
     "metadata": {},
     "output_type": "execute_result"
    }
   ],
   "source": [
    "len(df.columns)"
   ]
  },
  {
   "cell_type": "code",
   "execution_count": 177,
   "metadata": {},
   "outputs": [],
   "source": [
    "# str(df)\n",
    "# df = pd.get_dummies(df)\n",
    "# df.head()"
   ]
  },
  {
   "cell_type": "code",
   "execution_count": 178,
   "metadata": {},
   "outputs": [
    {
     "data": {
      "image/png": "[encoded data removed]",
      "text/plain": [
       "<Figure size 1440x360 with 1 Axes>"
      ]
     },
     "metadata": {
      "needs_background": "light"
     },
     "output_type": "display_data"
    }
   ],
   "source": [
    "#checck for the outliers\n",
    "df.boxplot(rot=45, figsize=(20,5))\n",
    "# sb.boxplot(data = df)\n",
    "plt.show()"
   ]
  },
  {
   "cell_type": "code",
   "execution_count": 179,
   "metadata": {},
   "outputs": [
    {
     "data": {
      "text/plain": [
       "(32561, 13)"
      ]
     },
     "execution_count": 179,
     "metadata": {},
     "output_type": "execute_result"
    }
   ],
   "source": [
    "df.shape"
   ]
  },
  {
   "cell_type": "code",
   "execution_count": 180,
   "metadata": {},
   "outputs": [],
   "source": [
    "# def remove_outlier(df):\n",
    "       \n",
    "#         low = .05\n",
    "#         high = .60\n",
    "#         quant_df = df.quantile([low, high])\n",
    "#         for name in list(df.columns):\n",
    "#             if ptypes.is_numeric_dtype(df[name]):\n",
    "#                 df = df[(df[name] > quant_df.loc[low, name]) & (df[name] < quant_df.loc[high, name])]\n",
    "#                 sb.boxplot(df)\n",
    "# remove_outlier(df)"
   ]
  },
  {
   "cell_type": "code",
   "execution_count": 181,
   "metadata": {},
   "outputs": [],
   "source": [
    "# df.shape"
   ]
  },
  {
   "cell_type": "code",
   "execution_count": 182,
   "metadata": {},
   "outputs": [
    {
     "data": {
      "image/png": "[encoded data removed]",
      "text/plain": [
       "<Figure size 1440x360 with 1 Axes>"
      ]
     },
     "metadata": {
      "needs_background": "light"
     },
     "output_type": "display_data"
    }
   ],
   "source": [
    "#checck for the outliers\n",
    "df.boxplot(rot=45, figsize=(20,5))\n",
    "# sb.boxplot(data = df)\n",
    "plt.show()"
   ]
  },
  {
   "cell_type": "code",
   "execution_count": 183,
   "metadata": {},
   "outputs": [
    {
     "data": {
      "text/plain": [
       "(32561, 13)"
      ]
     },
     "execution_count": 183,
     "metadata": {},
     "output_type": "execute_result"
    }
   ],
   "source": [
    "df.shape"
   ]
  },
  {
   "cell_type": "code",
   "execution_count": 184,
   "metadata": {},
   "outputs": [
    {
     "name": "stdout",
     "output_type": "stream",
     "text": [
      "For targer - mean 0.7591904425539756 , median 1.0 & Skewness is -1.212430242019683\n"
     ]
    },
    {
     "data": {
      "image/png": "[encoded data removed]",
      "text/plain": [
       "<Figure size 432x288 with 1 Axes>"
      ]
     },
     "metadata": {
      "needs_background": "light"
     },
     "output_type": "display_data"
    }
   ],
   "source": [
    "# check skewness for target variable\n",
    "sb.distplot(df['Target'])\n",
    "print (\"For targer - mean {} , median {} & Skewness is {}\"\n",
    "       .format(df['Target'].mean(), df['Target'].median(),df['Target'].skew()))"
   ]
  },
  {
   "cell_type": "code",
   "execution_count": 185,
   "metadata": {},
   "outputs": [
    {
     "name": "stdout",
     "output_type": "stream",
     "text": [
      "\n",
      "Skewness for Target\n"
     ]
    },
    {
     "data": {
      "image/png": "[encoded data removed]",
      "text/plain": [
       "<Figure size 432x288 with 1 Axes>"
      ]
     },
     "metadata": {
      "needs_background": "light"
     },
     "output_type": "display_data"
    },
    {
     "name": "stdout",
     "output_type": "stream",
     "text": [
      "Mean:  0.7591904425539756 Median:  1.0 Skewness is : -1.212430242019683\n"
     ]
    },
    {
     "data": {
      "image/png": "[encoded data removed]",
      "text/plain": [
       "<Figure size 432x288 with 1 Axes>"
      ]
     },
     "metadata": {
      "needs_background": "light"
     },
     "output_type": "display_data"
    },
    {
     "name": "stdout",
     "output_type": "stream",
     "text": [
      "Mean:  0.7593 Median:  1.0 Skewness is : -1.213\n",
      "Draw histogram\n"
     ]
    },
    {
     "data": {
      "image/png": "[encoded data removed]",
      "text/plain": [
       "<Figure size 432x288 with 1 Axes>"
      ]
     },
     "metadata": {
      "needs_background": "light"
     },
     "output_type": "display_data"
    }
   ],
   "source": [
    "def remove_skew_square():\n",
    "    print(\"\\nSkewness for Target\")\n",
    "#         df['x2'] = (np.square(df['x2']))\n",
    "    df['Target'] = (np.square(df['Target']))\n",
    "    sb.distplot(df['Target'])\n",
    "    plt.show()\n",
    "    print(\"Mean: \",df['Target'].mean(),\"Median: \", df['Target'].median(), 'Skewness is :', df['Target'].skew())\n",
    "\n",
    "    df['Target'] = (np.cbrt(df['Target']))\n",
    "    sb.distplot(df['Target'])\n",
    "    plt.show()\n",
    "    print(\"Mean: \",df['Target'].mean(),\"Median: \", df['Target'].median(), 'Skewness is :', df['Target'].skew())\n",
    "\n",
    "    print(\"Draw histogram\")\n",
    "    plt.hist(df['Target'])\n",
    "    plt.show()\n",
    "    \n",
    "remove_skew_square()"
   ]
  },
  {
   "cell_type": "code",
   "execution_count": 186,
   "metadata": {},
   "outputs": [
    {
     "name": "stdout",
     "output_type": "stream",
     "text": [
      "        Age  Workclass  Education  Education-Num  Martial Status  Occupation  \\\n",
      "0  0.301370        0.0        0.0       0.800000             0.0         1.0   \n",
      "1  0.452055        0.0        0.0       0.800000             0.0         0.0   \n",
      "2  0.287671        0.0        0.0       0.533333             1.0         0.0   \n",
      "3  0.493151        0.0        0.0       0.400000             0.0         0.0   \n",
      "4  0.150685        0.0        0.0       0.800000             0.0         0.0   \n",
      "\n",
      "   Relationship  Sex  Capital Gain  Capital Loss  Hours per week  Country  \\\n",
      "0           0.0  0.0       0.02174           0.0        0.397959      0.0   \n",
      "1           1.0  0.0       0.00000           0.0        0.122449      0.0   \n",
      "2           0.0  0.0       0.00000           0.0        0.397959      0.0   \n",
      "3           1.0  0.0       0.00000           0.0        0.397959      0.0   \n",
      "4           0.0  1.0       0.00000           0.0        0.397959      0.0   \n",
      "\n",
      "   Target  \n",
      "0     1.0  \n",
      "1     1.0  \n",
      "2     1.0  \n",
      "3     1.0  \n",
      "4     1.0  \n"
     ]
    }
   ],
   "source": [
    "def feature_scaling(df):\n",
    "#     print(\"\\n By Z score Method(Standerdization)  \")\n",
    "#     df = np.divide((df - df.mean()),df.std())\n",
    "    for name in df.columns:\n",
    "        df[name] = (df[name] - df[name].min()) / (df[name].max()-df[name].min())\n",
    "    print(df.head())\n",
    "feature_scaling(df)"
   ]
  },
  {
   "cell_type": "code",
   "execution_count": 187,
   "metadata": {},
   "outputs": [
    {
     "name": "stdout",
     "output_type": "stream",
     "text": [
      "Seperate Target column from dataset\n"
     ]
    }
   ],
   "source": [
    "# seperate data set\n",
    "def features(df):\n",
    "    y_new = df.Target\n",
    "#     y.head()\n",
    "    df = df.drop('Target', axis = 1)\n",
    "    print(\"Seperate Target column from dataset\")\n",
    "    return df, y_new\n",
    "df, y_new = features(df)"
   ]
  },
  {
   "cell_type": "code",
   "execution_count": 188,
   "metadata": {},
   "outputs": [
    {
     "name": "stdout",
     "output_type": "stream",
     "text": [
      "Head for df\n"
     ]
    },
    {
     "data": {
      "text/html": [
       "<div>\n",
       "<style scoped>\n",
       "    .dataframe tbody tr th:only-of-type {\n",
       "        vertical-align: middle;\n",
       "    }\n",
       "\n",
       "    .dataframe tbody tr th {\n",
       "        vertical-align: top;\n",
       "    }\n",
       "\n",
       "    .dataframe thead th {\n",
       "        text-align: right;\n",
       "    }\n",
       "</style>\n",
       "<table border=\"1\" class=\"dataframe\">\n",
       "  <thead>\n",
       "    <tr style=\"text-align: right;\">\n",
       "      <th></th>\n",
       "      <th>Age</th>\n",
       "      <th>Workclass</th>\n",
       "      <th>Education</th>\n",
       "      <th>Education-Num</th>\n",
       "      <th>Martial Status</th>\n",
       "      <th>Occupation</th>\n",
       "      <th>Relationship</th>\n",
       "      <th>Sex</th>\n",
       "      <th>Capital Gain</th>\n",
       "      <th>Capital Loss</th>\n",
       "      <th>Hours per week</th>\n",
       "      <th>Country</th>\n",
       "    </tr>\n",
       "  </thead>\n",
       "  <tbody>\n",
       "    <tr>\n",
       "      <th>0</th>\n",
       "      <td>0.301370</td>\n",
       "      <td>0.0</td>\n",
       "      <td>0.0</td>\n",
       "      <td>0.800000</td>\n",
       "      <td>0.0</td>\n",
       "      <td>1.0</td>\n",
       "      <td>0.0</td>\n",
       "      <td>0.0</td>\n",
       "      <td>0.02174</td>\n",
       "      <td>0.0</td>\n",
       "      <td>0.397959</td>\n",
       "      <td>0.0</td>\n",
       "    </tr>\n",
       "    <tr>\n",
       "      <th>1</th>\n",
       "      <td>0.452055</td>\n",
       "      <td>0.0</td>\n",
       "      <td>0.0</td>\n",
       "      <td>0.800000</td>\n",
       "      <td>0.0</td>\n",
       "      <td>0.0</td>\n",
       "      <td>1.0</td>\n",
       "      <td>0.0</td>\n",
       "      <td>0.00000</td>\n",
       "      <td>0.0</td>\n",
       "      <td>0.122449</td>\n",
       "      <td>0.0</td>\n",
       "    </tr>\n",
       "    <tr>\n",
       "      <th>2</th>\n",
       "      <td>0.287671</td>\n",
       "      <td>0.0</td>\n",
       "      <td>0.0</td>\n",
       "      <td>0.533333</td>\n",
       "      <td>1.0</td>\n",
       "      <td>0.0</td>\n",
       "      <td>0.0</td>\n",
       "      <td>0.0</td>\n",
       "      <td>0.00000</td>\n",
       "      <td>0.0</td>\n",
       "      <td>0.397959</td>\n",
       "      <td>0.0</td>\n",
       "    </tr>\n",
       "    <tr>\n",
       "      <th>3</th>\n",
       "      <td>0.493151</td>\n",
       "      <td>0.0</td>\n",
       "      <td>0.0</td>\n",
       "      <td>0.400000</td>\n",
       "      <td>0.0</td>\n",
       "      <td>0.0</td>\n",
       "      <td>1.0</td>\n",
       "      <td>0.0</td>\n",
       "      <td>0.00000</td>\n",
       "      <td>0.0</td>\n",
       "      <td>0.397959</td>\n",
       "      <td>0.0</td>\n",
       "    </tr>\n",
       "  </tbody>\n",
       "</table>\n",
       "</div>"
      ],
      "text/plain": [
       "        Age  Workclass  Education  Education-Num  Martial Status  Occupation  \\\n",
       "0  0.301370        0.0        0.0       0.800000             0.0         1.0   \n",
       "1  0.452055        0.0        0.0       0.800000             0.0         0.0   \n",
       "2  0.287671        0.0        0.0       0.533333             1.0         0.0   \n",
       "3  0.493151        0.0        0.0       0.400000             0.0         0.0   \n",
       "\n",
       "   Relationship  Sex  Capital Gain  Capital Loss  Hours per week  Country  \n",
       "0           0.0  0.0       0.02174           0.0        0.397959      0.0  \n",
       "1           1.0  0.0       0.00000           0.0        0.122449      0.0  \n",
       "2           0.0  0.0       0.00000           0.0        0.397959      0.0  \n",
       "3           1.0  0.0       0.00000           0.0        0.397959      0.0  "
      ]
     },
     "execution_count": 188,
     "metadata": {},
     "output_type": "execute_result"
    }
   ],
   "source": [
    "print('Head for df')\n",
    "df.head(4)"
   ]
  },
  {
   "cell_type": "code",
   "execution_count": 189,
   "metadata": {},
   "outputs": [
    {
     "name": "stdout",
     "output_type": "stream",
     "text": [
      "Head for df\n"
     ]
    },
    {
     "data": {
      "text/plain": [
       "0    1.0\n",
       "1    1.0\n",
       "2    1.0\n",
       "3    1.0\n",
       "4    1.0\n",
       "Name: Target, dtype: float16"
      ]
     },
     "execution_count": 189,
     "metadata": {},
     "output_type": "execute_result"
    }
   ],
   "source": [
    "print('Head for df')\n",
    "y_new.head()"
   ]
  },
  {
   "cell_type": "code",
   "execution_count": 190,
   "metadata": {},
   "outputs": [
    {
     "name": "stdout",
     "output_type": "stream",
     "text": [
      "Train dataset: 22792\n",
      "Test dataset: 9769\n",
      "\n",
      "Convert pandas datafrem into numpy\n",
      "\n",
      "X train data shape: (22792, 12)\n",
      "y train data shape: (22792, 1)\n",
      "\n",
      "X test data shape: (9769, 12)\n",
      "y test data shape: (9769, 1)\n"
     ]
    }
   ],
   "source": [
    "def split_data(df):\n",
    "    # 70 % training datset\n",
    "    train_per = int(0.70*len(df))\n",
    "    print(\"Train dataset:\", train_per)\n",
    "    # 30% test dataset\n",
    "    test_per = len(df)-train_per\n",
    "    print(\"Test dataset:\", test_per)\n",
    "    \n",
    "    print(\"\\nConvert pandas datafrem into numpy\")\n",
    "    x_train_data = np.array(df[:train_per])   \n",
    "    x_test_data  = np.array(df[:test_per])\n",
    "    \n",
    "    \n",
    "    train_per_y = int(0.70*len(y_new))\n",
    "    test_per_y = len(y_new)-train_per_y\n",
    "\n",
    "    \n",
    "    y_train_data = np.array(y_new[:train_per_y])\n",
    "    y_test_data = np.array(y_new[:test_per_y])\n",
    "    \n",
    "    #reshpe (1357,) to (1357,1) for train and test dataset\n",
    "    y_test_data = y_test_data.reshape(-1,1)\n",
    "    y_train_data = y_train_data.reshape(-1,1)\n",
    "        \n",
    "    \n",
    "    print(\"\\nX train data shape:\", x_train_data.shape)\n",
    "    print(\"y train data shape:\", y_train_data.shape)\n",
    "    print(\"\\nX test data shape:\", x_test_data.shape)\n",
    "    print(\"y test data shape:\", y_test_data.shape)\n",
    "\n",
    "    return x_train_data, y_train_data, x_test_data, y_test_data\n",
    "\n",
    "x_train_data, y_train_data, x_test_data, y_test_data = split_data(df)        "
   ]
  },
  {
   "cell_type": "code",
   "execution_count": 194,
   "metadata": {},
   "outputs": [
    {
     "name": "stdout",
     "output_type": "stream",
     "text": [
      "X train shape original (22792, 12)\n",
      "x train data ..... (22792, 13)\n",
      "X train & Y train & theta vector (22792, 13) (22792, 1) (13, 1)\n",
      "\n",
      "\n",
      "hypo_multiplication shape (22792, 1)\n",
      "sigmoid shape (22792, 1)\n",
      "error shape (22792, 1)\n",
      "temp (13, 1)\n",
      "theta shape (13, 1)\n",
      "(13, 1)\n",
      "\n",
      " Prediction function\n",
      "x : theta (9769, 13) (13, 1)\n",
      "y_prediction: (9769, 1)\n",
      "\n",
      " Prediction function\n",
      "x : theta (22792, 13) (13, 1)\n",
      "y_prediction: (22792, 1)\n",
      "\n",
      "\n",
      "Accuracy : \n",
      "Train dataset accuracy:  83 Test dataset accuracy: 83\n"
     ]
    }
   ],
   "source": [
    "class Logistic:\n",
    "    def __init__(self):\n",
    "        # Learning Rate\n",
    "        self.l_rate = 0.060\n",
    "\n",
    "        # Total iterations\n",
    "        self.epoch = 60000\n",
    "        \n",
    "    def gradient_descent(self, x_data_train, y_data_train, theta_vector):       \n",
    "        print(\"X train & Y train & theta vector\", x_data_train.shape, y_data_train.shape, theta_vector.shape)\n",
    "        for i in range(self.epoch):\n",
    "            z = np.dot(x_data_train, theta_vector)\n",
    "            sigmoid = (1 / (1 + np.exp(-z)))\n",
    "            a = sigmoid - y_data_train\n",
    "            temp = np.dot( x_data_train.T, a)\n",
    "            temp = np.dot(temp, self.l_rate) / len(x_data_train)\n",
    "            theta_vector = theta_vector - temp\n",
    "            \n",
    "#             temp1 = np.multiply(y_train_data.T, np.log(sigmoid))  #(1, 3164)\n",
    "#             temp2 = np.multiply((1 - y_train_data.T),np.log(np.abs(1- sigmoid)))  # (1, 3164)\n",
    "#             cost = temp1 + temp2\n",
    "            \n",
    "        print(\"\\n\\nhypo_multiplication shape\",z.shape)\n",
    "        print(\"sigmoid shape\", sigmoid.shape)\n",
    "        print(\"error shape\", a.shape)\n",
    "        print(\"temp\", temp.shape)\n",
    "        \n",
    "        print(\"theta shape\", theta_vector.shape)\n",
    "        \n",
    "#         print(\"\\nTemp1 shape:\", temp1.shape)\n",
    "#         print(\"Temp2 shape:\", temp2.shape)\n",
    "#         print(\"Cost shape:\", cost.shape)\n",
    "        \n",
    "        return theta_vector\n",
    "\n",
    "    def prediction(self, x_data_test, theta_vector):\n",
    "        print(\"\\n Prediction function\")\n",
    "        print(\"x : theta\",x_data_test.shape, theta_vector.shape )\n",
    "              \n",
    "        y_prediction = np.zeros((x_data_test.shape[0], 1), dtype=float)\n",
    "        print(\"y_prediction:\",y_prediction.shape)\n",
    "#         x_data_test = np.column_stack((np.ones((x_data_test.shape[0], 1)), x_data_test))\n",
    "        z = np.dot(x_data_test, theta_vector)\n",
    "        sigmoid = np.array(1 / (1 + np.exp(-z)))\n",
    "\n",
    "        for i in (range(0, len(sigmoid))):\n",
    "            if round(sigmoid[i][0], 2) <= 0.5:\n",
    "                y_prediction[i][0] = 0\n",
    "            else:\n",
    "                y_prediction[i][0] = 1\n",
    "#         print(\"final shape......\", y_prediction.shape)\n",
    "#         y_prediction = np.reshape(y_prediction, (len(y_prediction), 1))\n",
    "#         print(\"final shape\", y_prediction.shape)\n",
    "        return y_prediction\n",
    "\n",
    "#     def accuracy(self, y_data_test, y_pred_test):\n",
    "#         total_error = 0\n",
    "#         error = []\n",
    "#         for i in range(0, len(y_data_test)):\n",
    "#             total_error = total_error + abs((y_pred_test[i] - y_data_test[i]) / y_data_test[i])\n",
    "#         total_error = (total_error / len(y_data_test))\n",
    "#         accuracy = 1 - total_error\n",
    "#         return accuracy * 100\n",
    "    \n",
    "\n",
    "\n",
    "def main(df, x_train_data, y_train_data, x_test_data,y_test_data ):\n",
    "    # class obj created\n",
    "    \n",
    "\n",
    "    obj = Logistic()\n",
    "    \n",
    "    \n",
    "    print(\"X train shape original\", x_train_data.shape)\n",
    "    \n",
    "    x_col = 12\n",
    "    theta_vector = np.full((x_col +1 ,1), 0.05)\n",
    "#     theta_vector = np.zeros(((x_col + 1), 1), dtype='f')\n",
    "   \n",
    "    # append new col bcoz we have 6 features as, x1,x2,....x6 but 7 thetas so add new x(np.opnes)\n",
    "    # unction is used to stack 1-D arrays as columns into a 2-D array\n",
    "    # Stacking the two arrays   \n",
    "    x_train_data = np.column_stack((np.ones((x_train_data.shape[0], 1)), x_train_data))\n",
    "    print(\"x train data .....\", x_train_data.shape)\n",
    "    x_test_data = np.column_stack((np.ones((x_test_data.shape[0], 1)), x_test_data))\n",
    "\n",
    "    theta = obj.gradient_descent(x_train_data, y_train_data, theta_vector)\n",
    "    print(theta.shape)\n",
    "    #y prediction \n",
    "    y_test_prediction = obj.prediction(x_test_data, theta)\n",
    "#     print(\"........x test data\", x_test_data.shape)\n",
    "  \n",
    "    y_train_prediction = obj.prediction(x_train_data, theta)\n",
    "\n",
    "    \n",
    "    print(\"\\n\\nAccuracy : \")\n",
    "    train_acc = round(float(100 - np.mean(np.abs(y_train_prediction - y_train_data)) * 100))\n",
    "    test_acc = round(float(100 - np.mean(np.abs(y_test_prediction - y_test_data)) * 100))\n",
    "    print(\"Train dataset accuracy: \", train_acc, \"Test dataset accuracy:\", test_acc)\n",
    "\n",
    "main(df, x_train_data,y_train_data,x_test_data,y_test_data)\n"
   ]
  },
  {
   "cell_type": "code",
   "execution_count": null,
   "metadata": {},
   "outputs": [],
   "source": []
  }
 ],
 "metadata": {
  "kernelspec": {
   "display_name": "Python 3",
   "language": "python",
   "name": "python3"
  },
  "language_info": {
   "codemirror_mode": {
    "name": "ipython",
    "version": 3
   },
   "file_extension": ".py",
   "mimetype": "text/x-python",
   "name": "python",
   "nbconvert_exporter": "python",
   "pygments_lexer": "ipython3",
   "version": "3.7.2"
  }
 },
 "nbformat": 4,
 "nbformat_minor": 2
}
