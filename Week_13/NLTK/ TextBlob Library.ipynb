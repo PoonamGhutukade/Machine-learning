{
 "cells": [
  {
   "cell_type": "markdown",
   "metadata": {},
   "source": [
    "## Spelling Correction - With TextBlob Library"
   ]
  },
  {
   "cell_type": "code",
   "execution_count": 1,
   "metadata": {},
   "outputs": [],
   "source": [
    "from textblob import TextBlob"
   ]
  },
  {
   "cell_type": "code",
   "execution_count": 2,
   "metadata": {},
   "outputs": [
    {
     "name": "stdout",
     "output_type": "stream",
     "text": [
      "Why are you sitting on this bench??\n"
     ]
    }
   ],
   "source": [
    "# Spelling correction is a cool feature which TextBlob offers, we can be accessed using the correct function \n",
    "#as shown below.\n",
    "blob = TextBlob(\"Why are you stting on this bech??\") # Scentence with two errors\n",
    "\n",
    "print(blob.correct()) # Correct function give us the best possible word simmilar to \"gret\""
   ]
  },
  {
   "cell_type": "code",
   "execution_count": 3,
   "metadata": {},
   "outputs": [
    {
     "data": {
      "text/plain": [
       "[('sitting', 0.8078078078078078),\n",
       " ('setting', 0.11411411411411411),\n",
       " ('string', 0.036036036036036036),\n",
       " ('sting', 0.02702702702702703),\n",
       " ('stating', 0.015015015015015015)]"
      ]
     },
     "execution_count": 3,
     "metadata": {},
     "output_type": "execute_result"
    }
   ],
   "source": [
    "# we can see all the similar matches our first error along with the probability score.\n",
    "blob.words[3].spellcheck()"
   ]
  },
  {
   "cell_type": "code",
   "execution_count": null,
   "metadata": {},
   "outputs": [],
   "source": []
  }
 ],
 "metadata": {
  "kernelspec": {
   "display_name": "Python 3",
   "language": "python",
   "name": "python3"
  },
  "language_info": {
   "codemirror_mode": {
    "name": "ipython",
    "version": 3
   },
   "file_extension": ".py",
   "mimetype": "text/x-python",
   "name": "python",
   "nbconvert_exporter": "python",
   "pygments_lexer": "ipython3",
   "version": "3.7.2"
  }
 },
 "nbformat": 4,
 "nbformat_minor": 2
}
