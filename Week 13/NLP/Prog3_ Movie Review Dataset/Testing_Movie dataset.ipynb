{
 "cells": [
  {
   "cell_type": "code",
   "execution_count": 22,
   "metadata": {},
   "outputs": [],
   "source": [
    "import nltk\n",
    "import random\n",
    "from nltk.corpus import movie_reviews\n",
    "import pickle\n",
    "import pandas as pd\n"
   ]
  },
  {
   "cell_type": "markdown",
   "metadata": {},
   "source": [
    "### Final Tasting on Dataset"
   ]
  },
  {
   "cell_type": "code",
   "execution_count": 18,
   "metadata": {},
   "outputs": [],
   "source": [
    "# Load testing file \n",
    "test_file = open(\"CSV_files/Testing_file.csv\",\"rb\")\n",
    "testing_set = pickle.load(test_file)\n",
    "test_file.close()"
   ]
  },
  {
   "cell_type": "code",
   "execution_count": 19,
   "metadata": {},
   "outputs": [],
   "source": [
    "# Load naivebayes classification object\n",
    "classifier_f = open(\"naivebayes.pickle\", \"rb\")\n",
    "classifier1 = pickle.load(classifier_f)\n",
    "classifier_f.close()"
   ]
  },
  {
   "cell_type": "code",
   "execution_count": 21,
   "metadata": {},
   "outputs": [
    {
     "name": "stdout",
     "output_type": "stream",
     "text": [
      "Classifier accuracy percent: 77.5\n"
     ]
    }
   ],
   "source": [
    "# calculate the accuracy\n",
    "print(\"Classifier accuracy percent:\",(nltk.classify.accuracy(classifier1, testing_set))*100)"
   ]
  },
  {
   "cell_type": "code",
   "execution_count": null,
   "metadata": {},
   "outputs": [],
   "source": []
  },
  {
   "cell_type": "code",
   "execution_count": null,
   "metadata": {},
   "outputs": [],
   "source": []
  },
  {
   "cell_type": "code",
   "execution_count": null,
   "metadata": {},
   "outputs": [],
   "source": [
    "\n",
    "# If I tryied to load test dataset from csv file it gives value error to unpack the values\n",
    "\n",
    "\n",
    "\"\"\"ValueError                                Traceback (most recent call last)\n",
    "<ipython-input-14-c7ab7b5551ac> in <module>\n",
    "----> 1 print(\"Classifier accuracy percent:\",(nltk.classify.accuracy(classifier1, testing_set))*100)\n",
    "\n",
    "~/anaconda3/envs/my_env/lib/python3.7/site-packages/nltk/classify/util.py in accuracy(classifier, gold)\n",
    "     90 \n",
    "     91 def accuracy(classifier, gold):\n",
    "---> 92     results = classifier.classify_many([fs for (fs, l) in gold])\n",
    "     93     correct = [l == r for ((fs, l), r) in zip(gold, results)]\n",
    "     94     if correct:\n",
    "\n",
    "~/anaconda3/envs/my_env/lib/python3.7/site-packages/nltk/classify/util.py in <listcomp>(.0)\n",
    "     90 \n",
    "     91 def accuracy(classifier, gold):\n",
    "---> 92     results = classifier.classify_many([fs for (fs, l) in gold])\n",
    "     93     correct = [l == r for ((fs, l), r) in zip(gold, results)]\n",
    "     94     if correct:\n",
    "\n",
    "ValueError: too many values to unpack (expected 2)\"\"\""
   ]
  }
 ],
 "metadata": {
  "kernelspec": {
   "display_name": "Python 3",
   "language": "python",
   "name": "python3"
  },
  "language_info": {
   "codemirror_mode": {
    "name": "ipython",
    "version": 3
   },
   "file_extension": ".py",
   "mimetype": "text/x-python",
   "name": "python",
   "nbconvert_exporter": "python",
   "pygments_lexer": "ipython3",
   "version": "3.7.2"
  }
 },
 "nbformat": 4,
 "nbformat_minor": 2
}
