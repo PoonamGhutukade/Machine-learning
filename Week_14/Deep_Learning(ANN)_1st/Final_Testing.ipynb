{
 "cells": [
  {
   "cell_type": "markdown",
   "metadata": {},
   "source": [
    "### Final Testing"
   ]
  },
  {
   "cell_type": "code",
   "execution_count": 3,
   "metadata": {},
   "outputs": [],
   "source": [
    "# Importing the libraries\n",
    "import numpy as np\n",
    "import matplotlib.pyplot as plt\n",
    "import pandas as pd\n",
    "import seaborn as sb\n",
    "\n",
    "import tensorflow as tf\n",
    "\n",
    "import pickle"
   ]
  },
  {
   "cell_type": "code",
   "execution_count": 4,
   "metadata": {},
   "outputs": [
    {
     "name": "stdout",
     "output_type": "stream",
     "text": [
      "x_test: (2000, 11) y_test (2000,)\n"
     ]
    }
   ],
   "source": [
    "# Import test datset\n",
    "# Loading testing file from pickle file\n",
    "test_file = open(\"CSV_files/Testing_file.pickle\",\"rb\")\n",
    "x_test = pickle.load(test_file)\n",
    "y_test = pickle.load(test_file) \n",
    "print(\"x_test:\",x_test.shape,\"y_test\", y_test.shape)"
   ]
  },
  {
   "cell_type": "markdown",
   "metadata": {},
   "source": [
    "## Importing a pre-trained model:"
   ]
  },
  {
   "cell_type": "markdown",
   "metadata": {},
   "source": [
    "### a) Create the network:\n",
    "You can create the network by writing python code to create each and every layer manually as the original model. However, if you think about it, we had saved the network in .meta file which we can use to recreate the network using tf.train.import() function like this:"
   ]
  },
  {
   "cell_type": "code",
   "execution_count": 7,
   "metadata": {},
   "outputs": [
    {
     "data": {
      "text/plain": [
       "tensorflow.python.training.saver.Saver"
      ]
     },
     "execution_count": 7,
     "metadata": {},
     "output_type": "execute_result"
    }
   ],
   "source": [
    "saver = tf.train.import_meta_graph('ANN_model_files/my_test_model.meta')\n",
    "type(saver)"
   ]
  },
  {
   "cell_type": "markdown",
   "metadata": {},
   "source": [
    " import_meta_graph appends the network defined in .meta file to the current graph. So, this will create the graph/network for you but we still need to load the value of the parameters that we had trained on this graph."
   ]
  },
  {
   "cell_type": "markdown",
   "metadata": {},
   "source": [
    "### b) Load the parameters:\n",
    "We can restore the parameters of the network by calling restore on this saver which is an instance of tf.train.Saver() class."
   ]
  },
  {
   "cell_type": "code",
   "execution_count": 9,
   "metadata": {},
   "outputs": [
    {
     "name": "stdout",
     "output_type": "stream",
     "text": [
      "WARNING:tensorflow:From /home/admin1/anaconda3/envs/my_env/lib/python3.7/site-packages/tensorflow/python/training/saver.py:1266: checkpoint_exists (from tensorflow.python.training.checkpoint_management) is deprecated and will be removed in a future version.\n",
      "Instructions for updating:\n",
      "Use standard file APIs to check for files with this prefix.\n",
      "INFO:tensorflow:Restoring parameters from ANN_model_files/my_test_model\n"
     ]
    }
   ],
   "source": [
    "sess=tf.Session()    \n",
    "#First let's load meta graph and restore weights\n",
    "saver = tf.train.import_meta_graph('ANN_model_files/my_test_model.meta')\n",
    "saver.restore(sess,tf.train.latest_checkpoint('ANN_model_files/'))"
   ]
  },
  {
   "cell_type": "code",
   "execution_count": 10,
   "metadata": {},
   "outputs": [
    {
     "name": "stdout",
     "output_type": "stream",
     "text": [
      "INFO:tensorflow:Restoring parameters from ANN_model_files/my_test_model\n"
     ]
    }
   ],
   "source": [
    "# restore our model\n",
    "with tf.Session() as sess:    \n",
    "    #First let's load meta graph and restore weights\n",
    "    saver = tf.train.import_meta_graph('ANN_model_files/my_test_model.meta')\n",
    "    saver.restore(sess,tf.train.latest_checkpoint('ANN_model_files/'))\n",
    "    "
   ]
  },
  {
   "cell_type": "code",
   "execution_count": 1,
   "metadata": {},
   "outputs": [],
   "source": [
    "from sklearn.metrics import classification_report"
   ]
  },
  {
   "cell_type": "code",
   "execution_count": 12,
   "metadata": {},
   "outputs": [],
   "source": [
    "x = tf.placeholder('float', [None, x_test.shape[1]])\n",
    "y = tf.placeholder('float')\n",
    "\n",
    "def test_neural_network(x):\n",
    "    # Here we call neural_network_model() function & passing variable x\n",
    "    prediction = saver\n",
    "    cost = tf.reduce_mean( tf.nn.softmax_cross_entropy_with_logits(logits=prediction,labels = y) )\n",
    "    # Add the optimizer\n",
    "    optimizer = tf.train.AdamOptimizer().minimize(cost)\n",
    "    hm_epochs = 10\n",
    "    # launch the graph in a session\n",
    "    with tf.Session() as sess:\n",
    "        #These variables must be initialized before you can train a model.\n",
    "        # it only add ops(AdamOptimizer) that will initialize the variables when run.\n",
    "        sess.run(tf.initialize_all_variables())\n",
    "\n",
    "        for epoch in range(hm_epochs):\n",
    "            epoch_loss = 0\n",
    "            for _ in range(10):\n",
    "                # Actually intialize the variables\n",
    "                _, c = sess.run([optimizer, cost], feed_dict={x:x_test, y:y_test})\n",
    "                epoch_loss += c\n",
    "\n",
    "            print('Epoch', epoch, 'completed out of',hm_epochs,'loss:',epoch_loss)\n",
    "\n",
    "        correct = tf.equal(tf.argmax(prediction, 1), tf.argmax(y, 1))\n",
    "\n",
    "        accuracy = tf.reduce_mean(tf.cast(correct, 'float')) *100\n",
    "        print('Accuracy:',accuracy.eval({x:x_test, y:y_test}))\n",
    "        return correct\n",
    "\n",
    "# correct = test_neural_network(x)"
   ]
  },
  {
   "cell_type": "code",
   "execution_count": null,
   "metadata": {},
   "outputs": [],
   "source": []
  }
 ],
 "metadata": {
  "kernelspec": {
   "display_name": "Python 3",
   "language": "python",
   "name": "python3"
  },
  "language_info": {
   "codemirror_mode": {
    "name": "ipython",
    "version": 3
   },
   "file_extension": ".py",
   "mimetype": "text/x-python",
   "name": "python",
   "nbconvert_exporter": "python",
   "pygments_lexer": "ipython3",
   "version": "3.7.2"
  }
 },
 "nbformat": 4,
 "nbformat_minor": 2
}
