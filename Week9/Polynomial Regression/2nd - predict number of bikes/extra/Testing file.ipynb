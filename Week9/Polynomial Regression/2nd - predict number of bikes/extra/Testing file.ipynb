{
 "cells": [
  {
   "cell_type": "code",
   "execution_count": 4,
   "metadata": {},
   "outputs": [],
   "source": [
    "import numpy as np\n",
    "# import matplotlib.plotly as plt\n",
    "import matplotlib.pyplot as plt\n",
    "from matplotlib import pyplot as plt  \n",
    "import pandas as pd\n",
    "#imputer to handle missing data \n",
    "from sklearn.preprocessing import Imputer\n",
    "from sklearn.model_selection import train_test_split\n",
    "\n",
    "from sklearn.linear_model import LinearRegression\n",
    "#o check accuracy\n",
    "from sklearn.metrics import accuracy_score\n",
    "# to check accuracy\n",
    "from sklearn.metrics import *\n",
    "import pickle \n",
    "#visualization in 3D\n",
    "from mpl_toolkits.mplot3d import Axes3D\n",
    "# ignore warnings\n",
    "import warnings\n",
    "warnings.filterwarnings('ignore')\n",
    "\n",
    "import csv"
   ]
  },
  {
   "cell_type": "code",
   "execution_count": 6,
   "metadata": {},
   "outputs": [
    {
     "name": "stdout",
     "output_type": "stream",
     "text": [
      "Dataset has 5214 rows and 2 Columns\n"
     ]
    }
   ],
   "source": [
    "# load dataset\n",
    "test_dataset = pd.read_csv (\"CSV_files/test_file.csv\")\n",
    "print(\"Dataset has {} rows and {} Columns\".format(test_dataset.shape[0],test_dataset.shape[1])) "
   ]
  },
  {
   "cell_type": "code",
   "execution_count": 13,
   "metadata": {},
   "outputs": [
    {
     "name": "stdout",
     "output_type": "stream",
     "text": [
      "(5214, 1) (5214,)\n",
      "\n",
      "\n",
      " y_prediction: [211.34679992 165.97414657 165.97414657 ... 286.96788883 218.90890881\n",
      " 196.22258213]\n",
      "\n",
      "Accuracy train by acc_r2 82.96947666763158\n",
      "\n",
      "Accuracy train by mean_sq_log 95.40163564854858\n"
     ]
    },
    {
     "data": {
      "image/png": "[encoded data removed]",
      "text/plain": [
       "<Figure size 432x288 with 1 Axes>"
      ]
     },
     "metadata": {
      "needs_background": "light"
     },
     "output_type": "display_data"
    }
   ],
   "source": [
    "class Testing():\n",
    "           \n",
    "    def y_prediction(self,regression, x_train):\n",
    "        # predicting the test set result\n",
    "        return regression.predict(x_train)\n",
    "    \n",
    "    def accuracy(self,y_predict_train,y_train):\n",
    "        # acc using r2\n",
    "        error = r2_score(y_train, y_predict_train)      \n",
    "        acc_r2 = (1-error)*100\n",
    "        \n",
    "        # using median_ab_error\n",
    "        median_ab_error = median_absolute_error(y_train, y_predict_train)\n",
    "        return acc_r2, median_ab_error\n",
    "    \n",
    "    def visualization(self,x_train,y_train, reg1):\n",
    "        # Visualization the training set result\n",
    "        plt.scatter(x_train,y_train, color = 'red')\n",
    "        plt.plot(x_train,reg1.predict(x_train), color = 'blue')\n",
    "        plt.title(\"Salary vr Experience (Training set)\")\n",
    "        plt.xlabel(\"Year of experience\")\n",
    "        plt.ylabel(\"Salary\")\n",
    "        plt.show()\n",
    "        \n",
    "\n",
    "def main():\n",
    "    #class obj created\n",
    "    obj  = Testing()\n",
    "    \n",
    "    # seperate fetures and label\n",
    "    x_test = test_dataset.iloc[:,:-1].values\n",
    "    y_test = test_dataset.iloc[:,1].values\n",
    " \n",
    "    print(x_test.shape,y_test.shape)\n",
    "    #cross validation\n",
    "    file1 = open('SimpleLRModulefile.pkl', 'rb')\n",
    "    reg1 = pickle.load(file1)\n",
    "    \n",
    "    # y_prediction ( cross validation)   \n",
    "    y_test_pre = obj.y_prediction(reg1, x_test)\n",
    "    print(\"\\n\\n y_prediction:\",y_test_pre)\n",
    "    \n",
    "    acc_r2, median_ab_error = obj.accuracy(y_test_pre,y_test)\n",
    "    print(\"\\nAccuracy train by acc_r2\", acc_r2)\n",
    "    print(\"\\nAccuracy train by mean_sq_log\", median_ab_error)\n",
    "\n",
    "    obj.visualization(x_test,y_test,reg1)\n",
    "\n",
    "if __name__ == '__main__':\n",
    "    main()\n"
   ]
  },
  {
   "cell_type": "code",
   "execution_count": null,
   "metadata": {},
   "outputs": [],
   "source": []
  }
 ],
 "metadata": {
  "kernelspec": {
   "display_name": "Python 3",
   "language": "python",
   "name": "python3"
  },
  "language_info": {
   "codemirror_mode": {
    "name": "ipython",
    "version": 3
   },
   "file_extension": ".py",
   "mimetype": "text/x-python",
   "name": "python",
   "nbconvert_exporter": "python",
   "pygments_lexer": "ipython3",
   "version": "3.7.2"
  }
 },
 "nbformat": 4,
 "nbformat_minor": 2
}
