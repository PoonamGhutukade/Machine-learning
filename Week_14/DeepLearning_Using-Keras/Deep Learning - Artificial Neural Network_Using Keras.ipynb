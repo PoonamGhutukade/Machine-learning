{
 "cells": [
  {
   "cell_type": "markdown",
   "metadata": {},
   "source": [
    "# Deep Learning\n",
    "    Artificial Neural Network\n",
    "    \n",
    "For a given dataset predict whether customer will exit (Output variable “Exited”) the bank or not using artificial neural network\n"
   ]
  },
  {
   "cell_type": "code",
   "execution_count": 1,
   "metadata": {},
   "outputs": [
    {
     "name": "stderr",
     "output_type": "stream",
     "text": [
      "Using TensorFlow backend.\n"
     ]
    }
   ],
   "source": [
    "# Importing the libraries\n",
    "import numpy as np\n",
    "import matplotlib.pyplot as plt\n",
    "import pandas as pd\n",
    "import seaborn as sb\n",
    "\n",
    "from sklearn.preprocessing import LabelEncoder, OneHotEncoder\n",
    "from sklearn.model_selection import train_test_split\n",
    "from sklearn.preprocessing import StandardScaler \n",
    "\n",
    "# Importing the Keras libraries and packages (Using TensorFlow backend.)\n",
    "import keras \n",
    "from keras.models import Sequential \n",
    "from keras.layers import Dense\n",
    "\n",
    "import pickle\n",
    "# ignore warnings\n",
    "import warnings\n",
    "warnings.filterwarnings('ignore')\n",
    "import importlib.util"
   ]
  },
  {
   "cell_type": "code",
   "execution_count": 2,
   "metadata": {},
   "outputs": [],
   "source": [
    "# Importing the database\n",
    "dataset = pd.read_csv('Churn_Modelling.csv')"
   ]
  },
  {
   "cell_type": "markdown",
   "metadata": {},
   "source": [
    "### Data preprocessing"
   ]
  },
  {
   "cell_type": "code",
   "execution_count": 3,
   "metadata": {},
   "outputs": [
    {
     "data": {
      "text/html": [
       "<div>\n",
       "<style scoped>\n",
       "    .dataframe tbody tr th:only-of-type {\n",
       "        vertical-align: middle;\n",
       "    }\n",
       "\n",
       "    .dataframe tbody tr th {\n",
       "        vertical-align: top;\n",
       "    }\n",
       "\n",
       "    .dataframe thead th {\n",
       "        text-align: right;\n",
       "    }\n",
       "</style>\n",
       "<table border=\"1\" class=\"dataframe\">\n",
       "  <thead>\n",
       "    <tr style=\"text-align: right;\">\n",
       "      <th></th>\n",
       "      <th>RowNumber</th>\n",
       "      <th>CustomerId</th>\n",
       "      <th>Surname</th>\n",
       "      <th>CreditScore</th>\n",
       "      <th>Geography</th>\n",
       "      <th>Gender</th>\n",
       "      <th>Age</th>\n",
       "      <th>Tenure</th>\n",
       "      <th>Balance</th>\n",
       "      <th>NumOfProducts</th>\n",
       "      <th>HasCrCard</th>\n",
       "      <th>IsActiveMember</th>\n",
       "      <th>EstimatedSalary</th>\n",
       "      <th>Exited</th>\n",
       "    </tr>\n",
       "  </thead>\n",
       "  <tbody>\n",
       "    <tr>\n",
       "      <th>0</th>\n",
       "      <td>1</td>\n",
       "      <td>15634602</td>\n",
       "      <td>Hargrave</td>\n",
       "      <td>619</td>\n",
       "      <td>France</td>\n",
       "      <td>Female</td>\n",
       "      <td>42</td>\n",
       "      <td>2</td>\n",
       "      <td>0.00</td>\n",
       "      <td>1</td>\n",
       "      <td>1</td>\n",
       "      <td>1</td>\n",
       "      <td>101348.88</td>\n",
       "      <td>1</td>\n",
       "    </tr>\n",
       "    <tr>\n",
       "      <th>1</th>\n",
       "      <td>2</td>\n",
       "      <td>15647311</td>\n",
       "      <td>Hill</td>\n",
       "      <td>608</td>\n",
       "      <td>Spain</td>\n",
       "      <td>Female</td>\n",
       "      <td>41</td>\n",
       "      <td>1</td>\n",
       "      <td>83807.86</td>\n",
       "      <td>1</td>\n",
       "      <td>0</td>\n",
       "      <td>1</td>\n",
       "      <td>112542.58</td>\n",
       "      <td>0</td>\n",
       "    </tr>\n",
       "    <tr>\n",
       "      <th>2</th>\n",
       "      <td>3</td>\n",
       "      <td>15619304</td>\n",
       "      <td>Onio</td>\n",
       "      <td>502</td>\n",
       "      <td>France</td>\n",
       "      <td>Female</td>\n",
       "      <td>42</td>\n",
       "      <td>8</td>\n",
       "      <td>159660.80</td>\n",
       "      <td>3</td>\n",
       "      <td>1</td>\n",
       "      <td>0</td>\n",
       "      <td>113931.57</td>\n",
       "      <td>1</td>\n",
       "    </tr>\n",
       "    <tr>\n",
       "      <th>3</th>\n",
       "      <td>4</td>\n",
       "      <td>15701354</td>\n",
       "      <td>Boni</td>\n",
       "      <td>699</td>\n",
       "      <td>France</td>\n",
       "      <td>Female</td>\n",
       "      <td>39</td>\n",
       "      <td>1</td>\n",
       "      <td>0.00</td>\n",
       "      <td>2</td>\n",
       "      <td>0</td>\n",
       "      <td>0</td>\n",
       "      <td>93826.63</td>\n",
       "      <td>0</td>\n",
       "    </tr>\n",
       "    <tr>\n",
       "      <th>4</th>\n",
       "      <td>5</td>\n",
       "      <td>15737888</td>\n",
       "      <td>Mitchell</td>\n",
       "      <td>850</td>\n",
       "      <td>Spain</td>\n",
       "      <td>Female</td>\n",
       "      <td>43</td>\n",
       "      <td>2</td>\n",
       "      <td>125510.82</td>\n",
       "      <td>1</td>\n",
       "      <td>1</td>\n",
       "      <td>1</td>\n",
       "      <td>79084.10</td>\n",
       "      <td>0</td>\n",
       "    </tr>\n",
       "  </tbody>\n",
       "</table>\n",
       "</div>"
      ],
      "text/plain": [
       "   RowNumber  CustomerId   Surname  CreditScore Geography  Gender  Age  \\\n",
       "0          1    15634602  Hargrave          619    France  Female   42   \n",
       "1          2    15647311      Hill          608     Spain  Female   41   \n",
       "2          3    15619304      Onio          502    France  Female   42   \n",
       "3          4    15701354      Boni          699    France  Female   39   \n",
       "4          5    15737888  Mitchell          850     Spain  Female   43   \n",
       "\n",
       "   Tenure    Balance  NumOfProducts  HasCrCard  IsActiveMember  \\\n",
       "0       2       0.00              1          1               1   \n",
       "1       1   83807.86              1          0               1   \n",
       "2       8  159660.80              3          1               0   \n",
       "3       1       0.00              2          0               0   \n",
       "4       2  125510.82              1          1               1   \n",
       "\n",
       "   EstimatedSalary  Exited  \n",
       "0        101348.88       1  \n",
       "1        112542.58       0  \n",
       "2        113931.57       1  \n",
       "3         93826.63       0  \n",
       "4         79084.10       0  "
      ]
     },
     "execution_count": 3,
     "metadata": {},
     "output_type": "execute_result"
    }
   ],
   "source": [
    "dataset.head()"
   ]
  },
  {
   "cell_type": "code",
   "execution_count": 4,
   "metadata": {},
   "outputs": [
    {
     "name": "stdout",
     "output_type": "stream",
     "text": [
      "<class 'pandas.core.frame.DataFrame'>\n",
      "RangeIndex: 10000 entries, 0 to 9999\n",
      "Data columns (total 14 columns):\n",
      "RowNumber          10000 non-null int64\n",
      "CustomerId         10000 non-null int64\n",
      "Surname            10000 non-null object\n",
      "CreditScore        10000 non-null int64\n",
      "Geography          10000 non-null object\n",
      "Gender             10000 non-null object\n",
      "Age                10000 non-null int64\n",
      "Tenure             10000 non-null int64\n",
      "Balance            10000 non-null float64\n",
      "NumOfProducts      10000 non-null int64\n",
      "HasCrCard          10000 non-null int64\n",
      "IsActiveMember     10000 non-null int64\n",
      "EstimatedSalary    10000 non-null float64\n",
      "Exited             10000 non-null int64\n",
      "dtypes: float64(2), int64(9), object(3)\n",
      "memory usage: 1.1+ MB\n"
     ]
    }
   ],
   "source": [
    "# look dataset information\n",
    "dataset.info()"
   ]
  },
  {
   "cell_type": "code",
   "execution_count": 5,
   "metadata": {},
   "outputs": [
    {
     "data": {
      "text/html": [
       "<div>\n",
       "<style scoped>\n",
       "    .dataframe tbody tr th:only-of-type {\n",
       "        vertical-align: middle;\n",
       "    }\n",
       "\n",
       "    .dataframe tbody tr th {\n",
       "        vertical-align: top;\n",
       "    }\n",
       "\n",
       "    .dataframe thead th {\n",
       "        text-align: right;\n",
       "    }\n",
       "</style>\n",
       "<table border=\"1\" class=\"dataframe\">\n",
       "  <thead>\n",
       "    <tr style=\"text-align: right;\">\n",
       "      <th></th>\n",
       "      <th>count</th>\n",
       "      <th>mean</th>\n",
       "      <th>std</th>\n",
       "      <th>min</th>\n",
       "      <th>25%</th>\n",
       "      <th>50%</th>\n",
       "      <th>75%</th>\n",
       "      <th>max</th>\n",
       "    </tr>\n",
       "  </thead>\n",
       "  <tbody>\n",
       "    <tr>\n",
       "      <th>RowNumber</th>\n",
       "      <td>10000.0</td>\n",
       "      <td>5.000500e+03</td>\n",
       "      <td>2886.895680</td>\n",
       "      <td>1.00</td>\n",
       "      <td>2500.75</td>\n",
       "      <td>5.000500e+03</td>\n",
       "      <td>7.500250e+03</td>\n",
       "      <td>10000.00</td>\n",
       "    </tr>\n",
       "    <tr>\n",
       "      <th>CustomerId</th>\n",
       "      <td>10000.0</td>\n",
       "      <td>1.569094e+07</td>\n",
       "      <td>71936.186123</td>\n",
       "      <td>15565701.00</td>\n",
       "      <td>15628528.25</td>\n",
       "      <td>1.569074e+07</td>\n",
       "      <td>1.575323e+07</td>\n",
       "      <td>15815690.00</td>\n",
       "    </tr>\n",
       "    <tr>\n",
       "      <th>CreditScore</th>\n",
       "      <td>10000.0</td>\n",
       "      <td>6.505288e+02</td>\n",
       "      <td>96.653299</td>\n",
       "      <td>350.00</td>\n",
       "      <td>584.00</td>\n",
       "      <td>6.520000e+02</td>\n",
       "      <td>7.180000e+02</td>\n",
       "      <td>850.00</td>\n",
       "    </tr>\n",
       "    <tr>\n",
       "      <th>Age</th>\n",
       "      <td>10000.0</td>\n",
       "      <td>3.892180e+01</td>\n",
       "      <td>10.487806</td>\n",
       "      <td>18.00</td>\n",
       "      <td>32.00</td>\n",
       "      <td>3.700000e+01</td>\n",
       "      <td>4.400000e+01</td>\n",
       "      <td>92.00</td>\n",
       "    </tr>\n",
       "    <tr>\n",
       "      <th>Tenure</th>\n",
       "      <td>10000.0</td>\n",
       "      <td>5.012800e+00</td>\n",
       "      <td>2.892174</td>\n",
       "      <td>0.00</td>\n",
       "      <td>3.00</td>\n",
       "      <td>5.000000e+00</td>\n",
       "      <td>7.000000e+00</td>\n",
       "      <td>10.00</td>\n",
       "    </tr>\n",
       "    <tr>\n",
       "      <th>Balance</th>\n",
       "      <td>10000.0</td>\n",
       "      <td>7.648589e+04</td>\n",
       "      <td>62397.405202</td>\n",
       "      <td>0.00</td>\n",
       "      <td>0.00</td>\n",
       "      <td>9.719854e+04</td>\n",
       "      <td>1.276442e+05</td>\n",
       "      <td>250898.09</td>\n",
       "    </tr>\n",
       "    <tr>\n",
       "      <th>NumOfProducts</th>\n",
       "      <td>10000.0</td>\n",
       "      <td>1.530200e+00</td>\n",
       "      <td>0.581654</td>\n",
       "      <td>1.00</td>\n",
       "      <td>1.00</td>\n",
       "      <td>1.000000e+00</td>\n",
       "      <td>2.000000e+00</td>\n",
       "      <td>4.00</td>\n",
       "    </tr>\n",
       "    <tr>\n",
       "      <th>HasCrCard</th>\n",
       "      <td>10000.0</td>\n",
       "      <td>7.055000e-01</td>\n",
       "      <td>0.455840</td>\n",
       "      <td>0.00</td>\n",
       "      <td>0.00</td>\n",
       "      <td>1.000000e+00</td>\n",
       "      <td>1.000000e+00</td>\n",
       "      <td>1.00</td>\n",
       "    </tr>\n",
       "    <tr>\n",
       "      <th>IsActiveMember</th>\n",
       "      <td>10000.0</td>\n",
       "      <td>5.151000e-01</td>\n",
       "      <td>0.499797</td>\n",
       "      <td>0.00</td>\n",
       "      <td>0.00</td>\n",
       "      <td>1.000000e+00</td>\n",
       "      <td>1.000000e+00</td>\n",
       "      <td>1.00</td>\n",
       "    </tr>\n",
       "    <tr>\n",
       "      <th>EstimatedSalary</th>\n",
       "      <td>10000.0</td>\n",
       "      <td>1.000902e+05</td>\n",
       "      <td>57510.492818</td>\n",
       "      <td>11.58</td>\n",
       "      <td>51002.11</td>\n",
       "      <td>1.001939e+05</td>\n",
       "      <td>1.493882e+05</td>\n",
       "      <td>199992.48</td>\n",
       "    </tr>\n",
       "    <tr>\n",
       "      <th>Exited</th>\n",
       "      <td>10000.0</td>\n",
       "      <td>2.037000e-01</td>\n",
       "      <td>0.402769</td>\n",
       "      <td>0.00</td>\n",
       "      <td>0.00</td>\n",
       "      <td>0.000000e+00</td>\n",
       "      <td>0.000000e+00</td>\n",
       "      <td>1.00</td>\n",
       "    </tr>\n",
       "  </tbody>\n",
       "</table>\n",
       "</div>"
      ],
      "text/plain": [
       "                   count          mean           std          min  \\\n",
       "RowNumber        10000.0  5.000500e+03   2886.895680         1.00   \n",
       "CustomerId       10000.0  1.569094e+07  71936.186123  15565701.00   \n",
       "CreditScore      10000.0  6.505288e+02     96.653299       350.00   \n",
       "Age              10000.0  3.892180e+01     10.487806        18.00   \n",
       "Tenure           10000.0  5.012800e+00      2.892174         0.00   \n",
       "Balance          10000.0  7.648589e+04  62397.405202         0.00   \n",
       "NumOfProducts    10000.0  1.530200e+00      0.581654         1.00   \n",
       "HasCrCard        10000.0  7.055000e-01      0.455840         0.00   \n",
       "IsActiveMember   10000.0  5.151000e-01      0.499797         0.00   \n",
       "EstimatedSalary  10000.0  1.000902e+05  57510.492818        11.58   \n",
       "Exited           10000.0  2.037000e-01      0.402769         0.00   \n",
       "\n",
       "                         25%           50%           75%          max  \n",
       "RowNumber            2500.75  5.000500e+03  7.500250e+03     10000.00  \n",
       "CustomerId       15628528.25  1.569074e+07  1.575323e+07  15815690.00  \n",
       "CreditScore           584.00  6.520000e+02  7.180000e+02       850.00  \n",
       "Age                    32.00  3.700000e+01  4.400000e+01        92.00  \n",
       "Tenure                  3.00  5.000000e+00  7.000000e+00        10.00  \n",
       "Balance                 0.00  9.719854e+04  1.276442e+05    250898.09  \n",
       "NumOfProducts           1.00  1.000000e+00  2.000000e+00         4.00  \n",
       "HasCrCard               0.00  1.000000e+00  1.000000e+00         1.00  \n",
       "IsActiveMember          0.00  1.000000e+00  1.000000e+00         1.00  \n",
       "EstimatedSalary     51002.11  1.001939e+05  1.493882e+05    199992.48  \n",
       "Exited                  0.00  0.000000e+00  0.000000e+00         1.00  "
      ]
     },
     "execution_count": 5,
     "metadata": {},
     "output_type": "execute_result"
    }
   ],
   "source": [
    "# Check for minimum and maximum values for column in dataset\n",
    "dataset.describe().T"
   ]
  },
  {
   "cell_type": "code",
   "execution_count": 6,
   "metadata": {},
   "outputs": [
    {
     "data": {
      "text/plain": [
       "RowNumber          0\n",
       "CustomerId         0\n",
       "Surname            0\n",
       "CreditScore        0\n",
       "Geography          0\n",
       "Gender             0\n",
       "Age                0\n",
       "Tenure             0\n",
       "Balance            0\n",
       "NumOfProducts      0\n",
       "HasCrCard          0\n",
       "IsActiveMember     0\n",
       "EstimatedSalary    0\n",
       "Exited             0\n",
       "dtype: int64"
      ]
     },
     "execution_count": 6,
     "metadata": {},
     "output_type": "execute_result"
    }
   ],
   "source": [
    "# Checking for null values\n",
    "dataset.isnull().sum()"
   ]
  },
  {
   "cell_type": "code",
   "execution_count": 7,
   "metadata": {},
   "outputs": [
    {
     "data": {
      "text/plain": [
       "0"
      ]
     },
     "execution_count": 7,
     "metadata": {},
     "output_type": "execute_result"
    }
   ],
   "source": [
    "# Checking for duplicate values\n",
    "dataset.duplicated().sum()"
   ]
  },
  {
   "cell_type": "code",
   "execution_count": 8,
   "metadata": {},
   "outputs": [
    {
     "data": {
      "text/plain": [
       "<matplotlib.axes._subplots.AxesSubplot at 0x7fd5ec857128>"
      ]
     },
     "execution_count": 8,
     "metadata": {},
     "output_type": "execute_result"
    },
    {
     "data": {
      "image/png": "[encoded data removed]",
      "text/plain": [
       "<Figure size 432x288 with 1 Axes>"
      ]
     },
     "metadata": {
      "needs_background": "light"
     },
     "output_type": "display_data"
    }
   ],
   "source": [
    "# boxplot to  find outliers of datatset\n",
    "sb.boxplot(data = dataset)"
   ]
  },
  {
   "cell_type": "code",
   "execution_count": 9,
   "metadata": {},
   "outputs": [
    {
     "data": {
      "text/plain": [
       "<matplotlib.axes._subplots.AxesSubplot at 0x7fd5ec6c6a90>"
      ]
     },
     "execution_count": 9,
     "metadata": {},
     "output_type": "execute_result"
    },
    {
     "data": {
      "image/png": "[encoded data removed]",
      "text/plain": [
       "<Figure size 432x288 with 2 Axes>"
      ]
     },
     "metadata": {
      "needs_background": "light"
     },
     "output_type": "display_data"
    }
   ],
   "source": [
    "#chekc correlation of target \"y\" with each other data\n",
    "corr = dataset.corr()\n",
    "sb.heatmap(corr)"
   ]
  },
  {
   "cell_type": "code",
   "execution_count": 10,
   "metadata": {},
   "outputs": [
    {
     "name": "stdout",
     "output_type": "stream",
     "text": [
      "Exited             1.000000\n",
      "Age                0.285323\n",
      "Balance            0.118533\n",
      "EstimatedSalary    0.012097\n",
      "CustomerId        -0.006248\n",
      "HasCrCard         -0.007138\n",
      "Tenure            -0.014001\n",
      "RowNumber         -0.016571\n",
      "CreditScore       -0.027094\n",
      "NumOfProducts     -0.047820\n",
      "IsActiveMember    -0.156128\n",
      "Name: Exited, dtype: float64 \n",
      "\n",
      "----------------------\n",
      "Age                0.285323\n",
      "Balance            0.118533\n",
      "EstimatedSalary    0.012097\n",
      "CustomerId        -0.006248\n",
      "HasCrCard         -0.007138\n",
      "Tenure            -0.014001\n",
      "RowNumber         -0.016571\n",
      "CreditScore       -0.027094\n",
      "NumOfProducts     -0.047820\n",
      "IsActiveMember    -0.156128\n",
      "Name: Exited, dtype: float64\n"
     ]
    }
   ],
   "source": [
    "# easy way to check correlation of target variable to all oather features after getdummies\n",
    "print (corr['Exited'].sort_values(ascending=False)[:15], '\\n') #top 15 values\n",
    "print ('----------------------')\n",
    "print (corr['Exited'].sort_values(ascending=False)[-10:]) #last 5 values`"
   ]
  },
  {
   "cell_type": "code",
   "execution_count": 11,
   "metadata": {},
   "outputs": [
    {
     "data": {
      "text/plain": [
       "array([[619, 'France', 'Female', ..., 1, 1, 101348.88],\n",
       "       [608, 'Spain', 'Female', ..., 0, 1, 112542.58],\n",
       "       [502, 'France', 'Female', ..., 1, 0, 113931.57],\n",
       "       ...,\n",
       "       [709, 'France', 'Female', ..., 0, 1, 42085.58],\n",
       "       [772, 'Germany', 'Male', ..., 1, 0, 92888.52],\n",
       "       [792, 'France', 'Female', ..., 1, 0, 38190.78]], dtype=object)"
      ]
     },
     "execution_count": 11,
     "metadata": {},
     "output_type": "execute_result"
    }
   ],
   "source": [
    "# We create matrices of the features of dataset and the target variable,\n",
    "# split datasetb into x(features) and y(label\n",
    "x_data = dataset.iloc[:, 3:13].values\n",
    "y_data = dataset.iloc[:, 13].values\n",
    "x_data"
   ]
  },
  {
   "cell_type": "code",
   "execution_count": 12,
   "metadata": {},
   "outputs": [
    {
     "data": {
      "text/plain": [
       "array([1, 0, 1, ..., 1, 1, 0])"
      ]
     },
     "execution_count": 12,
     "metadata": {},
     "output_type": "execute_result"
    }
   ],
   "source": [
    "y_data"
   ]
  },
  {
   "cell_type": "code",
   "execution_count": 13,
   "metadata": {},
   "outputs": [
    {
     "name": "stdout",
     "output_type": "stream",
     "text": [
      "['Female' 'Female' 'Female' 'Female' 'Female' 'Male'] ... will now become: \n"
     ]
    }
   ],
   "source": [
    "# We will do the same thing for gender. this will be binary in this dataset\n",
    "print(x_data[:6,2], '... will now become: ')"
   ]
  },
  {
   "cell_type": "code",
   "execution_count": 14,
   "metadata": {},
   "outputs": [
    {
     "data": {
      "text/plain": [
       "array([[619, 0, 0, ..., 1, 1, 101348.88],\n",
       "       [608, 2, 0, ..., 0, 1, 112542.58],\n",
       "       [502, 0, 0, ..., 1, 0, 113931.57],\n",
       "       ...,\n",
       "       [709, 0, 0, ..., 0, 1, 42085.58],\n",
       "       [772, 1, 1, ..., 1, 0, 92888.52],\n",
       "       [792, 0, 0, ..., 1, 0, 38190.78]], dtype=object)"
      ]
     },
     "execution_count": 14,
     "metadata": {},
     "output_type": "execute_result"
    }
   ],
   "source": [
    "\"\"\"\n",
    "#Geography and Gender has a object datatype(string variables) we have to encode it\n",
    "We make the analysis simpler by encoding string variables.\n",
    "We are using the ScikitLearn function ‘LabelEncoder’ to automatically encode the different labels\n",
    "in the columns with values between 0 to n_classes-1.\n",
    "\"\"\"\n",
    "\n",
    "labelencoder_X_1 = LabelEncoder() \n",
    "x_data[:,1] = labelencoder_X_1.fit_transform(x_data[:,1])\n",
    "\n",
    "labelencoder_X_2 = LabelEncoder() \n",
    "x_data[:, 2] = labelencoder_X_2.fit_transform(x_data[:, 2])\n",
    "x_data"
   ]
  },
  {
   "cell_type": "code",
   "execution_count": 15,
   "metadata": {},
   "outputs": [
    {
     "data": {
      "text/plain": [
       "array([[0.0000000e+00, 0.0000000e+00, 6.1900000e+02, ..., 1.0000000e+00,\n",
       "        1.0000000e+00, 1.0134888e+05],\n",
       "       [0.0000000e+00, 1.0000000e+00, 6.0800000e+02, ..., 0.0000000e+00,\n",
       "        1.0000000e+00, 1.1254258e+05],\n",
       "       [0.0000000e+00, 0.0000000e+00, 5.0200000e+02, ..., 1.0000000e+00,\n",
       "        0.0000000e+00, 1.1393157e+05],\n",
       "       ...,\n",
       "       [0.0000000e+00, 0.0000000e+00, 7.0900000e+02, ..., 0.0000000e+00,\n",
       "        1.0000000e+00, 4.2085580e+04],\n",
       "       [1.0000000e+00, 0.0000000e+00, 7.7200000e+02, ..., 1.0000000e+00,\n",
       "        0.0000000e+00, 9.2888520e+04],\n",
       "       [0.0000000e+00, 0.0000000e+00, 7.9200000e+02, ..., 1.0000000e+00,\n",
       "        0.0000000e+00, 3.8190780e+04]])"
      ]
     },
     "execution_count": 15,
     "metadata": {},
     "output_type": "execute_result"
    }
   ],
   "source": [
    "\"\"\"We use the same ScikitLearn library and another function called the OneHotEncoder to just pass the column\n",
    "number creating a dummy variable.\"\"\"\n",
    "onehotencoder = OneHotEncoder(categorical_features = [1])\n",
    "x_data = onehotencoder.fit_transform(x_data).toarray()\n",
    "x_data = x_data[:, 1:]\n",
    "x_data"
   ]
  },
  {
   "cell_type": "code",
   "execution_count": 16,
   "metadata": {},
   "outputs": [
    {
     "name": "stdout",
     "output_type": "stream",
     "text": [
      "x_train :  (8000, 11)  x_test :  (2000, 11)\n",
      "x_train_data :  (6400, 11)  x_crossV_data :  (1600, 11)\n"
     ]
    }
   ],
   "source": [
    "#Splitting the dataset into the Training set and the Test Set\n",
    "X_train, X_test, Y_train, Y_test = train_test_split(x_data, y_data, test_size = 0.2)\n",
    "print(\"x_train : \", X_train.shape, \" x_test : \", X_test.shape)\n",
    "\n",
    "# Saving testing file into pickle file\n",
    "test_file = open(\"CSV_files/Testing_file.csv\",\"wb\")\n",
    "pickle.dump(X_test, test_file)\n",
    "pickle.dump(Y_test, test_file) \n",
    "test_file.close()\n",
    "\n",
    "# split dataset into training and crossvalidation set\n",
    "x_train, x_cv, y_train, y_cv = train_test_split(X_train, Y_train, test_size = 0.20)\n",
    "print(\"x_train_data : \", x_train.shape, \" x_crossV_data : \", x_cv.shape)"
   ]
  },
  {
   "cell_type": "code",
   "execution_count": 17,
   "metadata": {},
   "outputs": [],
   "source": [
    "# Feature Scaling\n",
    "\"\"\"\n",
    "we are fitting and transforming the training data using the StandardScaler function.\n",
    "We standardize our scaling so that we use the same fitted method to transform/scale test data. \n",
    "\"\"\"\n",
    "sc = StandardScaler() \n",
    "x_train = sc.fit_transform(x_train) \n",
    "# Data scaled properly. And done with preprocessing \n",
    "# If we fit_tranform on train data then no need to fit it again\n",
    "\n",
    "# X_test = sc.transform(X_test)"
   ]
  },
  {
   "cell_type": "markdown",
   "metadata": {},
   "source": [
    "### Build Artificial Neural Network Model "
   ]
  },
  {
   "cell_type": "code",
   "execution_count": 18,
   "metadata": {},
   "outputs": [],
   "source": [
    "\"\"\"We import the required Modules here.We need the Sequential module for initializing the neural network\n",
    "and the dense module to add the hidden layers.\"\"\"\n",
    "\n",
    "\"\"\"We will name the model as Classifier as our aim is to classify customer churn. \n",
    "Then we use the Sequential module for initialization.\"\"\"\n",
    "#Initializing Neural Network \n",
    "classifier = Sequential()"
   ]
  },
  {
   "cell_type": "code",
   "execution_count": 19,
   "metadata": {},
   "outputs": [
    {
     "data": {
      "text/plain": [
       "((6400, 11), 11)"
      ]
     },
     "execution_count": 19,
     "metadata": {},
     "output_type": "execute_result"
    }
   ],
   "source": [
    "x_train.shape, x_train.shape[1]"
   ]
  },
  {
   "cell_type": "markdown",
   "metadata": {},
   "source": [
    "A hurestic tip is that the amount of nodes (dimensions) in your hidden layer should be the average of your \n",
    "input and output layers, which means that since we have 11 dimensions (representing Independent variables \n",
    "Note: Countries still compose only one dimension) and we are looking for a binary output, we calculate \n",
    "this to be  (11+1)÷2=6 .\n",
    "\n",
    "    activiation: relu becasue we are in an input layer. uses the ReLu activation function for  ϕ\n",
    "\n",
    "    nput_dim: 11 because we span 11 dimensions in our input layer. This is needed for the first added layer.\n",
    "\n",
    "    units: 6 nodes (number of nodes in hidden layer). Can think of this as number of nodes are in the next layer.\n",
    "\n",
    "    kernel_initializer: uniform the distribution with which we randomly initialize weights for the nodes in this layer.\n",
    "    \n",
    "    "
   ]
  },
  {
   "cell_type": "code",
   "execution_count": 20,
   "metadata": {},
   "outputs": [
    {
     "name": "stdout",
     "output_type": "stream",
     "text": [
      "WARNING:tensorflow:From /home/admin1/anaconda3/envs/my_env/lib/python3.7/site-packages/tensorflow/python/framework/op_def_library.py:263: colocate_with (from tensorflow.python.framework.ops) is deprecated and will be removed in a future version.\n",
      "Instructions for updating:\n",
      "Colocations handled automatically by placer.\n"
     ]
    }
   ],
   "source": [
    "# 1st layer (addthe input layer and the first hidden layer −)\n",
    "# Use dense module to add the hidden layers.\n",
    "classifier.add(Dense(units = 6, kernel_initializer = 'uniform', activation = 'relu', input_dim = x_train.shape[1]))\n",
    "\n",
    "# 2nd layer (bcoz we want to implement Deep Learning,which is an ANN with many layers)\n",
    "# we do not need to specify input dim. \n",
    "classifier.add(Dense(units = 6, kernel_initializer = 'uniform', activation = 'relu'))\n",
    "\n",
    "# output layer\n",
    "# sigmoid used instead of the ReLu function becasue it generates probabilities for the outcome. \n",
    "# We want the probability that each customer leaves the bank.\n",
    "classifier.add(Dense(units = 1, kernel_initializer = 'uniform', activation = 'sigmoid'))"
   ]
  },
  {
   "cell_type": "markdown",
   "metadata": {},
   "source": [
    "###### If we want more than two categories, then we will need to change\n",
    "1) the units parameter to match the desired category count\n",
    "\n",
    "2) the activation field to softmax. Basically a sigmoid function but applied to a dependent variable that has more than 2 categories."
   ]
  },
  {
   "cell_type": "markdown",
   "metadata": {},
   "source": [
    "#### Compiling the Neural network\n",
    "    \n",
    "    optimizer: adam The algorithm we want to use to find the optimal set of weights in the neural networks. \n",
    "Adam is a very efficeint variation of Stochastic Gradient Descent.\n",
    "    \n",
    "    loss: binary_crossentropy This is the loss function used within adam. This should be the logarthmic loss.\n",
    "If our dependent (output variable) is Binary, it is binary_crossentropy. If Categorical, then it is called categorical_crossentropy"
   ]
  },
  {
   "cell_type": "code",
   "execution_count": 21,
   "metadata": {},
   "outputs": [],
   "source": [
    "# Compiling Neural Network \n",
    "classifier.compile(optimizer = 'adam', loss = 'binary_crossentropy', metrics = ['accuracy'])"
   ]
  },
  {
   "cell_type": "markdown",
   "metadata": {},
   "source": [
    "#### Fitting the Neural Network\n",
    "\n",
    "    batch_size: How often we want to back-propogate the error values so that individual node weights can be adjusted.\n",
    "\n",
    "    nb_epochs: The number of times we want to run the entire test data over again to tune the weights. This is like the fuel of the algorithm."
   ]
  },
  {
   "cell_type": "code",
   "execution_count": 22,
   "metadata": {},
   "outputs": [
    {
     "name": "stdout",
     "output_type": "stream",
     "text": [
      "WARNING:tensorflow:From /home/admin1/anaconda3/envs/my_env/lib/python3.7/site-packages/tensorflow/python/ops/math_ops.py:3066: to_int32 (from tensorflow.python.ops.math_ops) is deprecated and will be removed in a future version.\n",
      "Instructions for updating:\n",
      "Use tf.cast instead.\n",
      "Epoch 1/60\n",
      "6400/6400 [==============================] - 1s 103us/step - loss: 0.5383 - acc: 0.7920\n",
      "Epoch 2/60\n",
      "6400/6400 [==============================] - 0s 48us/step - loss: 0.4338 - acc: 0.7942\n",
      "Epoch 3/60\n",
      "6400/6400 [==============================] - 0s 48us/step - loss: 0.4281 - acc: 0.7942\n",
      "Epoch 4/60\n",
      "6400/6400 [==============================] - 0s 49us/step - loss: 0.4241 - acc: 0.7942\n",
      "Epoch 5/60\n",
      "6400/6400 [==============================] - 0s 50us/step - loss: 0.4197 - acc: 0.8098\n",
      "Epoch 6/60\n",
      "6400/6400 [==============================] - 0s 47us/step - loss: 0.4143 - acc: 0.8317\n",
      "Epoch 7/60\n",
      "6400/6400 [==============================] - 0s 49us/step - loss: 0.4103 - acc: 0.8319\n",
      "Epoch 8/60\n",
      "6400/6400 [==============================] - 0s 47us/step - loss: 0.4070 - acc: 0.8338\n",
      "Epoch 9/60\n",
      "6400/6400 [==============================] - 0s 49us/step - loss: 0.4046 - acc: 0.8342\n",
      "Epoch 10/60\n",
      "6400/6400 [==============================] - 0s 49us/step - loss: 0.4029 - acc: 0.8333\n",
      "Epoch 11/60\n",
      "6400/6400 [==============================] - 0s 47us/step - loss: 0.4016 - acc: 0.8361\n",
      "Epoch 12/60\n",
      "6400/6400 [==============================] - 0s 51us/step - loss: 0.4004 - acc: 0.8352\n",
      "Epoch 13/60\n",
      "6400/6400 [==============================] - 0s 47us/step - loss: 0.4002 - acc: 0.8339\n",
      "Epoch 14/60\n",
      "6400/6400 [==============================] - 0s 49us/step - loss: 0.3988 - acc: 0.8361\n",
      "Epoch 15/60\n",
      "6400/6400 [==============================] - 0s 50us/step - loss: 0.3986 - acc: 0.8344\n",
      "Epoch 16/60\n",
      "6400/6400 [==============================] - 0s 47us/step - loss: 0.3981 - acc: 0.8336\n",
      "Epoch 17/60\n",
      "6400/6400 [==============================] - 0s 50us/step - loss: 0.3976 - acc: 0.8369\n",
      "Epoch 18/60\n",
      "6400/6400 [==============================] - 0s 47us/step - loss: 0.3971 - acc: 0.8375\n",
      "Epoch 19/60\n",
      "6400/6400 [==============================] - 0s 49us/step - loss: 0.3967 - acc: 0.8359\n",
      "Epoch 20/60\n",
      "6400/6400 [==============================] - 0s 48us/step - loss: 0.3964 - acc: 0.8356\n",
      "Epoch 21/60\n",
      "6400/6400 [==============================] - 0s 50us/step - loss: 0.3961 - acc: 0.8363\n",
      "Epoch 22/60\n",
      "6400/6400 [==============================] - 0s 51us/step - loss: 0.3955 - acc: 0.8375\n",
      "Epoch 23/60\n",
      "6400/6400 [==============================] - 0s 47us/step - loss: 0.3953 - acc: 0.8347\n",
      "Epoch 24/60\n",
      "6400/6400 [==============================] - 0s 47us/step - loss: 0.3956 - acc: 0.8342\n",
      "Epoch 25/60\n",
      "6400/6400 [==============================] - 0s 50us/step - loss: 0.3944 - acc: 0.8355\n",
      "Epoch 26/60\n",
      "6400/6400 [==============================] - 0s 51us/step - loss: 0.3945 - acc: 0.8370\n",
      "Epoch 27/60\n",
      "6400/6400 [==============================] - 0s 49us/step - loss: 0.3943 - acc: 0.8363\n",
      "Epoch 28/60\n",
      "6400/6400 [==============================] - 0s 48us/step - loss: 0.3940 - acc: 0.8366\n",
      "Epoch 29/60\n",
      "6400/6400 [==============================] - 0s 49us/step - loss: 0.3939 - acc: 0.8386\n",
      "Epoch 30/60\n",
      "6400/6400 [==============================] - 0s 52us/step - loss: 0.3936 - acc: 0.8384\n",
      "Epoch 31/60\n",
      "6400/6400 [==============================] - 0s 47us/step - loss: 0.3935 - acc: 0.8381\n",
      "Epoch 32/60\n",
      "6400/6400 [==============================] - 0s 51us/step - loss: 0.3935 - acc: 0.8384\n",
      "Epoch 33/60\n",
      "6400/6400 [==============================] - 0s 50us/step - loss: 0.3934 - acc: 0.8377\n",
      "Epoch 34/60\n",
      "6400/6400 [==============================] - 0s 53us/step - loss: 0.3933 - acc: 0.8364\n",
      "Epoch 35/60\n",
      "6400/6400 [==============================] - 0s 49us/step - loss: 0.3929 - acc: 0.8378\n",
      "Epoch 36/60\n",
      "6400/6400 [==============================] - 0s 51us/step - loss: 0.3927 - acc: 0.8388\n",
      "Epoch 37/60\n",
      "6400/6400 [==============================] - 0s 49us/step - loss: 0.3927 - acc: 0.8380\n",
      "Epoch 38/60\n",
      "6400/6400 [==============================] - 0s 49us/step - loss: 0.3925 - acc: 0.8380\n",
      "Epoch 39/60\n",
      "6400/6400 [==============================] - 0s 47us/step - loss: 0.3922 - acc: 0.8395\n",
      "Epoch 40/60\n",
      "6400/6400 [==============================] - 0s 49us/step - loss: 0.3927 - acc: 0.8409\n",
      "Epoch 41/60\n",
      "6400/6400 [==============================] - 0s 47us/step - loss: 0.3923 - acc: 0.8388\n",
      "Epoch 42/60\n",
      "6400/6400 [==============================] - 0s 49us/step - loss: 0.3922 - acc: 0.8388\n",
      "Epoch 43/60\n",
      "6400/6400 [==============================] - 0s 50us/step - loss: 0.3922 - acc: 0.8397\n",
      "Epoch 44/60\n",
      "6400/6400 [==============================] - 0s 51us/step - loss: 0.3919 - acc: 0.8373\n",
      "Epoch 45/60\n",
      "6400/6400 [==============================] - 0s 50us/step - loss: 0.3919 - acc: 0.8391\n",
      "Epoch 46/60\n",
      "6400/6400 [==============================] - 0s 52us/step - loss: 0.3922 - acc: 0.8378\n",
      "Epoch 47/60\n",
      "6400/6400 [==============================] - 0s 48us/step - loss: 0.3918 - acc: 0.8392\n",
      "Epoch 48/60\n",
      "6400/6400 [==============================] - 0s 47us/step - loss: 0.3919 - acc: 0.8388\n",
      "Epoch 49/60\n",
      "6400/6400 [==============================] - 0s 50us/step - loss: 0.3919 - acc: 0.8394\n",
      "Epoch 50/60\n",
      "6400/6400 [==============================] - 0s 47us/step - loss: 0.3913 - acc: 0.8389\n",
      "Epoch 51/60\n",
      "6400/6400 [==============================] - 0s 49us/step - loss: 0.3922 - acc: 0.8391\n",
      "Epoch 52/60\n",
      "6400/6400 [==============================] - 0s 47us/step - loss: 0.3912 - acc: 0.8383\n",
      "Epoch 53/60\n",
      "6400/6400 [==============================] - 0s 46us/step - loss: 0.3915 - acc: 0.8395\n",
      "Epoch 54/60\n",
      "6400/6400 [==============================] - 0s 49us/step - loss: 0.3913 - acc: 0.8391\n",
      "Epoch 55/60\n",
      "6400/6400 [==============================] - 0s 49us/step - loss: 0.3913 - acc: 0.8386\n",
      "Epoch 56/60\n",
      "6400/6400 [==============================] - 0s 46us/step - loss: 0.3908 - acc: 0.8381\n",
      "Epoch 57/60\n",
      "6400/6400 [==============================] - 0s 50us/step - loss: 0.3912 - acc: 0.8394\n",
      "Epoch 58/60\n",
      "6400/6400 [==============================] - 0s 47us/step - loss: 0.3909 - acc: 0.8384\n",
      "Epoch 59/60\n",
      "6400/6400 [==============================] - 0s 49us/step - loss: 0.3908 - acc: 0.8391\n",
      "Epoch 60/60\n",
      "6400/6400 [==============================] - 0s 50us/step - loss: 0.3905 - acc: 0.8392\n"
     ]
    },
    {
     "data": {
      "text/plain": [
       "<keras.callbacks.History at 0x7fd5e98f2ac8>"
      ]
     },
     "execution_count": 22,
     "metadata": {},
     "output_type": "execute_result"
    }
   ],
   "source": [
    "# Fitting ANN to the training set\n",
    "classifier.fit(x_train, y_train, batch_size = 15, epochs = 60)"
   ]
  },
  {
   "cell_type": "markdown",
   "metadata": {},
   "source": [
    "### Save ANN model "
   ]
  },
  {
   "cell_type": "code",
   "execution_count": 23,
   "metadata": {},
   "outputs": [],
   "source": [
    "file = open('ANN_keras.pickle', 'wb')\n",
    "pickle.dump(classifier, file)\n",
    "pickle.dump(sc,file)\n",
    "file.close()"
   ]
  },
  {
   "cell_type": "markdown",
   "metadata": {},
   "source": [
    "#### Testing the ANN\n"
   ]
  },
  {
   "cell_type": "code",
   "execution_count": 24,
   "metadata": {},
   "outputs": [],
   "source": [
    "# Predicting the Test set results\n",
    "y_pred = classifier.predict(x_cv)\n",
    "y_pred = (y_pred > 0.5)"
   ]
  },
  {
   "cell_type": "code",
   "execution_count": 25,
   "metadata": {},
   "outputs": [
    {
     "data": {
      "text/plain": [
       "array([[False],\n",
       "       [False],\n",
       "       [False],\n",
       "       ...,\n",
       "       [False],\n",
       "       [False],\n",
       "       [False]])"
      ]
     },
     "execution_count": 25,
     "metadata": {},
     "output_type": "execute_result"
    }
   ],
   "source": [
    "y_pred"
   ]
  },
  {
   "cell_type": "code",
   "execution_count": 26,
   "metadata": {},
   "outputs": [],
   "source": [
    "# new_prediction = classifier.predict(sc.transform(np.array([[0.0, 0, 500, 1, 40, 3, 50000, 2, 1, 1, 40000]])))\n",
    "new_prediction = classifier.predict(sc.transform(x_cv))\n",
    "new_prediction = (new_prediction > 0.5)"
   ]
  },
  {
   "cell_type": "markdown",
   "metadata": {},
   "source": [
    "Significance of the confusion matrix value:\n",
    "The output should be close to the table below:\n",
    "\n",
    "        Predicted: No  Predicted: Yes\n",
    "    Actual:No 1504             91\n",
    "    Actual:Yes 184           221\n",
    "    \n",
    "This means that we should have about  (1504+221)=1726  \n",
    "correct classifications out of our total testing data size of  2000 . \n",
    "This means that our accuracy for this trial was  1726÷2000=86.3% , which matches the classifier's prediction"
   ]
  },
  {
   "cell_type": "code",
   "execution_count": 27,
   "metadata": {},
   "outputs": [
    {
     "name": "stdout",
     "output_type": "stream",
     "text": [
      "[[1229   33]\n",
      " [ 246   92]]\n"
     ]
    }
   ],
   "source": [
    "from sklearn.metrics import confusion_matrix\n",
    "cm = confusion_matrix(y_cv, new_prediction)\n",
    "print (cm)"
   ]
  },
  {
   "cell_type": "code",
   "execution_count": 28,
   "metadata": {},
   "outputs": [
    {
     "name": "stdout",
     "output_type": "stream",
     "text": [
      "[[1229   33]\n",
      " [ 246   92]]\n"
     ]
    }
   ],
   "source": [
    "cm1 = confusion_matrix(y_cv, y_pred)\n",
    "print (cm)"
   ]
  },
  {
   "cell_type": "code",
   "execution_count": 29,
   "metadata": {},
   "outputs": [
    {
     "name": "stdout",
     "output_type": "stream",
     "text": [
      "82.5625 % of testing data was classified correctly\n"
     ]
    }
   ],
   "source": [
    "# Callculating the accuracy\n",
    "print (((cm[0][0]+cm[1][1])*100)/(cm[0][0]+cm[1][1]+cm[0][1]+cm[1][0]), '% of testing data was classified correctly')"
   ]
  },
  {
   "cell_type": "code",
   "execution_count": 32,
   "metadata": {},
   "outputs": [],
   "source": [
    "from sklearn.metrics import classification_report"
   ]
  },
  {
   "cell_type": "code",
   "execution_count": 34,
   "metadata": {},
   "outputs": [
    {
     "name": "stdout",
     "output_type": "stream",
     "text": [
      "classification report\n",
      "\n",
      "               precision    recall  f1-score   support\n",
      "\n",
      "           0       0.83      0.97      0.90      1262\n",
      "           1       0.74      0.27      0.40       338\n",
      "\n",
      "    accuracy                           0.83      1600\n",
      "   macro avg       0.78      0.62      0.65      1600\n",
      "weighted avg       0.81      0.83      0.79      1600\n",
      "\n"
     ]
    }
   ],
   "source": [
    "print(\"classification report\\n\\n\", classification_report(y_cv,new_prediction))"
   ]
  },
  {
   "cell_type": "code",
   "execution_count": null,
   "metadata": {},
   "outputs": [],
   "source": []
  },
  {
   "cell_type": "code",
   "execution_count": 30,
   "metadata": {},
   "outputs": [
    {
     "name": "stdout",
     "output_type": "stream",
     "text": [
      "80.5\n"
     ]
    }
   ],
   "source": [
    "Accuracy =((1288+0)/1600)*100\n",
    "print(Accuracy)"
   ]
  },
  {
   "cell_type": "code",
   "execution_count": 31,
   "metadata": {},
   "outputs": [
    {
     "data": {
      "text/plain": [
       "1600"
      ]
     },
     "execution_count": 31,
     "metadata": {},
     "output_type": "execute_result"
    }
   ],
   "source": [
    "1288+312"
   ]
  },
  {
   "cell_type": "code",
   "execution_count": null,
   "metadata": {},
   "outputs": [],
   "source": []
  }
 ],
 "metadata": {
  "kernelspec": {
   "display_name": "Python 3",
   "language": "python",
   "name": "python3"
  },
  "language_info": {
   "codemirror_mode": {
    "name": "ipython",
    "version": 3
   },
   "file_extension": ".py",
   "mimetype": "text/x-python",
   "name": "python",
   "nbconvert_exporter": "python",
   "pygments_lexer": "ipython3",
   "version": "3.7.2"
  }
 },
 "nbformat": 4,
 "nbformat_minor": 2
}
